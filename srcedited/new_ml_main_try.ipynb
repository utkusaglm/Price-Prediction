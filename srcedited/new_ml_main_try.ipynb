{
 "cells": [
  {
   "cell_type": "code",
   "execution_count": 67,
   "metadata": {},
   "outputs": [],
   "source": [
    "import warnings\n",
    "warnings.filterwarnings('ignore')\n",
    "from sqlalchemy import create_engine\n",
    "import psycopg2\n",
    "import psycopg2.extras\n",
    "import config\n",
    "import pandas as pd\n",
    "import matplotlib.pyplot as plt\n",
    "import numpy as np\n",
    "from sklearn.linear_model import LinearRegression\n",
    "from sklearn.linear_model import LogisticRegression\n",
    "from sklearn.ensemble import RandomForestClassifier\n",
    "from sklearn.metrics import roc_auc_score\n",
    "from sklearn.metrics import roc_curve\n",
    "import random\n",
    "\n",
    "query = \"\"\"select * from assets ORDER BY date ASC;\"\"\"\n",
    "connection = psycopg2.connect(host=config.DB_HOST, database=config.DB_NAME, user= config.DB_USER, password=config.DB_PASS)\n",
    "cursor = connection.cursor(cursor_factory=psycopg2.extras.DictCursor)\n",
    "engine = create_engine(f'postgresql://{config.DB_USER}:{config.DB_PASS}@{config.DB_HOST}:{config.DB_PORT}/{config.DB_NAME}')\n",
    "\n",
    "df = pd.read_sql_query(query,con=engine)\n",
    "SYMBOLS = ['MSFT','AAPL','NVDA','UBER',]\n",
    "IS_INVESTED = False"
   ]
  },
  {
   "cell_type": "code",
   "execution_count": 30,
   "metadata": {},
   "outputs": [],
   "source": [
    "df['open_high'] = df['open'] + df['high']"
   ]
  },
  {
   "cell_type": "code",
   "execution_count": 31,
   "metadata": {},
   "outputs": [
    {
     "data": {
      "text/plain": [
       "0         601.129883\n",
       "1         535.529999\n",
       "2         331.568893\n",
       "3        5474.000000\n",
       "4         362.727905\n",
       "            ...     \n",
       "13098     304.179993\n",
       "13099     167.094994\n",
       "13100    4522.679932\n",
       "13101      45.939999\n",
       "13102     529.390015\n",
       "Name: open_high, Length: 13103, dtype: float64"
      ]
     },
     "execution_count": 31,
     "metadata": {},
     "output_type": "execute_result"
    }
   ],
   "source": [
    "df['open_high']"
   ]
  },
  {
   "cell_type": "code",
   "execution_count": 53,
   "metadata": {},
   "outputs": [
    {
     "data": {
      "text/html": [
       "<div>\n",
       "<style scoped>\n",
       "    .dataframe tbody tr th:only-of-type {\n",
       "        vertical-align: middle;\n",
       "    }\n",
       "\n",
       "    .dataframe tbody tr th {\n",
       "        vertical-align: top;\n",
       "    }\n",
       "\n",
       "    .dataframe thead th {\n",
       "        text-align: right;\n",
       "    }\n",
       "</style>\n",
       "<table border=\"1\" class=\"dataframe\">\n",
       "  <thead>\n",
       "    <tr style=\"text-align: right;\">\n",
       "      <th></th>\n",
       "      <th>name</th>\n",
       "      <th>date</th>\n",
       "      <th>open</th>\n",
       "      <th>high</th>\n",
       "      <th>low</th>\n",
       "      <th>close</th>\n",
       "      <th>adjclose</th>\n",
       "      <th>volume</th>\n",
       "      <th>open_high</th>\n",
       "    </tr>\n",
       "  </thead>\n",
       "  <tbody>\n",
       "    <tr>\n",
       "      <th>0</th>\n",
       "      <td>MSFT</td>\n",
       "      <td>2022-03-22 13:30:00</td>\n",
       "      <td>299.799988</td>\n",
       "      <td>301.329895</td>\n",
       "      <td>298.769989</td>\n",
       "      <td>300.612213</td>\n",
       "      <td>300.612213</td>\n",
       "      <td>1060686.0</td>\n",
       "      <td>601.129883</td>\n",
       "    </tr>\n",
       "    <tr>\n",
       "      <th>1</th>\n",
       "      <td>NVDA</td>\n",
       "      <td>2022-03-22 13:30:00</td>\n",
       "      <td>267.269989</td>\n",
       "      <td>268.260010</td>\n",
       "      <td>266.260101</td>\n",
       "      <td>266.950012</td>\n",
       "      <td>266.950012</td>\n",
       "      <td>1974152.0</td>\n",
       "      <td>535.529999</td>\n",
       "    </tr>\n",
       "    <tr>\n",
       "      <th>2</th>\n",
       "      <td>AAPL</td>\n",
       "      <td>2022-03-22 13:30:00</td>\n",
       "      <td>165.509995</td>\n",
       "      <td>166.058899</td>\n",
       "      <td>164.910004</td>\n",
       "      <td>166.020004</td>\n",
       "      <td>166.020004</td>\n",
       "      <td>3235766.0</td>\n",
       "      <td>331.568893</td>\n",
       "    </tr>\n",
       "    <tr>\n",
       "      <th>3</th>\n",
       "      <td>GOOG</td>\n",
       "      <td>2022-03-22 13:30:00</td>\n",
       "      <td>2730.000000</td>\n",
       "      <td>2744.000000</td>\n",
       "      <td>2730.000000</td>\n",
       "      <td>2741.392090</td>\n",
       "      <td>2741.392090</td>\n",
       "      <td>47997.0</td>\n",
       "      <td>5474.000000</td>\n",
       "    </tr>\n",
       "    <tr>\n",
       "      <th>4</th>\n",
       "      <td>COIN</td>\n",
       "      <td>2022-03-22 13:30:00</td>\n",
       "      <td>180.498001</td>\n",
       "      <td>182.229904</td>\n",
       "      <td>178.500000</td>\n",
       "      <td>181.884995</td>\n",
       "      <td>181.884995</td>\n",
       "      <td>286568.0</td>\n",
       "      <td>362.727905</td>\n",
       "    </tr>\n",
       "  </tbody>\n",
       "</table>\n",
       "</div>"
      ],
      "text/plain": [
       "   name                date         open         high          low  \\\n",
       "0  MSFT 2022-03-22 13:30:00   299.799988   301.329895   298.769989   \n",
       "1  NVDA 2022-03-22 13:30:00   267.269989   268.260010   266.260101   \n",
       "2  AAPL 2022-03-22 13:30:00   165.509995   166.058899   164.910004   \n",
       "3  GOOG 2022-03-22 13:30:00  2730.000000  2744.000000  2730.000000   \n",
       "4  COIN 2022-03-22 13:30:00   180.498001   182.229904   178.500000   \n",
       "\n",
       "         close     adjclose     volume    open_high  \n",
       "0   300.612213   300.612213  1060686.0   601.129883  \n",
       "1   266.950012   266.950012  1974152.0   535.529999  \n",
       "2   166.020004   166.020004  3235766.0   331.568893  \n",
       "3  2741.392090  2741.392090    47997.0  5474.000000  \n",
       "4   181.884995   181.884995   286568.0   362.727905  "
      ]
     },
     "execution_count": 53,
     "metadata": {},
     "output_type": "execute_result"
    }
   ],
   "source": [
    "df.head()"
   ]
  },
  {
   "cell_type": "code",
   "execution_count": 68,
   "metadata": {},
   "outputs": [],
   "source": [
    "def numbers(element):\n",
    "    return \"\".join(filter(str.isnumeric, element))"
   ]
  },
  {
   "cell_type": "code",
   "execution_count": 70,
   "metadata": {},
   "outputs": [],
   "source": [
    "df.loc[:,'prices_'] = [numbers(x) for x in df.name]\n"
   ]
  },
  {
   "cell_type": "code",
   "execution_count": 73,
   "metadata": {},
   "outputs": [],
   "source": [
    "df['name'] = df['num']"
   ]
  },
  {
   "cell_type": "code",
   "execution_count": 77,
   "metadata": {},
   "outputs": [],
   "source": [
    "ut = \"utku\""
   ]
  },
  {
   "cell_type": "code",
   "execution_count": 78,
   "metadata": {},
   "outputs": [],
   "source": [
    "ku = \"ut\""
   ]
  },
  {
   "cell_type": "code",
   "execution_count": 79,
   "metadata": {},
   "outputs": [
    {
     "data": {
      "text/plain": [
       "True"
      ]
     },
     "execution_count": 79,
     "metadata": {},
     "output_type": "execute_result"
    }
   ],
   "source": [
    "ku == ut[:len(ku)]"
   ]
  },
  {
   "cell_type": "markdown",
   "metadata": {},
   "source": [
    "ut = \"utku\""
   ]
  },
  {
   "cell_type": "code",
   "execution_count": 76,
   "metadata": {},
   "outputs": [
    {
     "ename": "SyntaxError",
     "evalue": "invalid syntax (2392601807.py, line 3)",
     "output_type": "error",
     "traceback": [
      "\u001b[0;36m  Input \u001b[0;32mIn [76]\u001b[0;36m\u001b[0m\n\u001b[0;31m    print stats.ttest_1samp(rvs,5.0)\u001b[0m\n\u001b[0m          ^\u001b[0m\n\u001b[0;31mSyntaxError\u001b[0m\u001b[0;31m:\u001b[0m invalid syntax\n"
     ]
    }
   ],
   "source": [
    "from scipy import stats\n",
    "rvs = stats.norm.rvs(loc = 5, scale = 10, size = (50,2))\n",
    "print stats.ttest_1samp(rvs,5.0)"
   ]
  },
  {
   "cell_type": "code",
   "execution_count": null,
   "metadata": {},
   "outputs": [],
   "source": [
    "for i in enumerate()"
   ]
  },
  {
   "cell_type": "code",
   "execution_count": 75,
   "metadata": {},
   "outputs": [
    {
     "data": {
      "text/html": [
       "<div>\n",
       "<style scoped>\n",
       "    .dataframe tbody tr th:only-of-type {\n",
       "        vertical-align: middle;\n",
       "    }\n",
       "\n",
       "    .dataframe tbody tr th {\n",
       "        vertical-align: top;\n",
       "    }\n",
       "\n",
       "    .dataframe thead th {\n",
       "        text-align: right;\n",
       "    }\n",
       "</style>\n",
       "<table border=\"1\" class=\"dataframe\">\n",
       "  <thead>\n",
       "    <tr style=\"text-align: right;\">\n",
       "      <th></th>\n",
       "      <th>date</th>\n",
       "      <th>open</th>\n",
       "      <th>high</th>\n",
       "      <th>low</th>\n",
       "      <th>close</th>\n",
       "      <th>adjclose</th>\n",
       "      <th>volume</th>\n",
       "      <th>num</th>\n",
       "    </tr>\n",
       "  </thead>\n",
       "  <tbody>\n",
       "    <tr>\n",
       "      <th>0</th>\n",
       "      <td>2022-03-22 13:30:00</td>\n",
       "      <td>299.799988</td>\n",
       "      <td>301.329895</td>\n",
       "      <td>298.769989</td>\n",
       "      <td>300.612213</td>\n",
       "      <td>300.612213</td>\n",
       "      <td>1060686.0</td>\n",
       "      <td></td>\n",
       "    </tr>\n",
       "    <tr>\n",
       "      <th>1</th>\n",
       "      <td>2022-03-22 13:30:00</td>\n",
       "      <td>267.269989</td>\n",
       "      <td>268.260010</td>\n",
       "      <td>266.260101</td>\n",
       "      <td>266.950012</td>\n",
       "      <td>266.950012</td>\n",
       "      <td>1974152.0</td>\n",
       "      <td></td>\n",
       "    </tr>\n",
       "    <tr>\n",
       "      <th>2</th>\n",
       "      <td>2022-03-22 13:30:00</td>\n",
       "      <td>165.509995</td>\n",
       "      <td>166.058899</td>\n",
       "      <td>164.910004</td>\n",
       "      <td>166.020004</td>\n",
       "      <td>166.020004</td>\n",
       "      <td>3235766.0</td>\n",
       "      <td></td>\n",
       "    </tr>\n",
       "    <tr>\n",
       "      <th>3</th>\n",
       "      <td>2022-03-22 13:30:00</td>\n",
       "      <td>2730.000000</td>\n",
       "      <td>2744.000000</td>\n",
       "      <td>2730.000000</td>\n",
       "      <td>2741.392090</td>\n",
       "      <td>2741.392090</td>\n",
       "      <td>47997.0</td>\n",
       "      <td></td>\n",
       "    </tr>\n",
       "    <tr>\n",
       "      <th>4</th>\n",
       "      <td>2022-03-22 13:30:00</td>\n",
       "      <td>180.498001</td>\n",
       "      <td>182.229904</td>\n",
       "      <td>178.500000</td>\n",
       "      <td>181.884995</td>\n",
       "      <td>181.884995</td>\n",
       "      <td>286568.0</td>\n",
       "      <td></td>\n",
       "    </tr>\n",
       "    <tr>\n",
       "      <th>...</th>\n",
       "      <td>...</td>\n",
       "      <td>...</td>\n",
       "      <td>...</td>\n",
       "      <td>...</td>\n",
       "      <td>...</td>\n",
       "      <td>...</td>\n",
       "      <td>...</td>\n",
       "      <td>...</td>\n",
       "    </tr>\n",
       "    <tr>\n",
       "      <th>13098</th>\n",
       "      <td>2022-05-09 19:55:00</td>\n",
       "      <td>151.619995</td>\n",
       "      <td>152.559998</td>\n",
       "      <td>151.589996</td>\n",
       "      <td>152.149994</td>\n",
       "      <td>152.149994</td>\n",
       "      <td>4941577.0</td>\n",
       "      <td></td>\n",
       "    </tr>\n",
       "    <tr>\n",
       "      <th>13099</th>\n",
       "      <td>2022-05-09 19:55:00</td>\n",
       "      <td>83.144997</td>\n",
       "      <td>83.949997</td>\n",
       "      <td>83.089996</td>\n",
       "      <td>83.500000</td>\n",
       "      <td>83.500000</td>\n",
       "      <td>554468.0</td>\n",
       "      <td></td>\n",
       "    </tr>\n",
       "    <tr>\n",
       "      <th>13100</th>\n",
       "      <td>2022-05-09 19:55:00</td>\n",
       "      <td>2254.449951</td>\n",
       "      <td>2268.229980</td>\n",
       "      <td>2254.449951</td>\n",
       "      <td>2261.659912</td>\n",
       "      <td>2261.659912</td>\n",
       "      <td>105542.0</td>\n",
       "      <td></td>\n",
       "    </tr>\n",
       "    <tr>\n",
       "      <th>13101</th>\n",
       "      <td>2022-05-09 19:55:00</td>\n",
       "      <td>22.889999</td>\n",
       "      <td>23.049999</td>\n",
       "      <td>22.889999</td>\n",
       "      <td>23.049999</td>\n",
       "      <td>23.049999</td>\n",
       "      <td>2203397.0</td>\n",
       "      <td></td>\n",
       "    </tr>\n",
       "    <tr>\n",
       "      <th>13102</th>\n",
       "      <td>2022-05-09 19:55:00</td>\n",
       "      <td>264.010010</td>\n",
       "      <td>265.380005</td>\n",
       "      <td>264.000000</td>\n",
       "      <td>264.589996</td>\n",
       "      <td>264.589996</td>\n",
       "      <td>2281843.0</td>\n",
       "      <td></td>\n",
       "    </tr>\n",
       "  </tbody>\n",
       "</table>\n",
       "<p>13103 rows × 8 columns</p>\n",
       "</div>"
      ],
      "text/plain": [
       "                     date         open         high          low        close  \\\n",
       "0     2022-03-22 13:30:00   299.799988   301.329895   298.769989   300.612213   \n",
       "1     2022-03-22 13:30:00   267.269989   268.260010   266.260101   266.950012   \n",
       "2     2022-03-22 13:30:00   165.509995   166.058899   164.910004   166.020004   \n",
       "3     2022-03-22 13:30:00  2730.000000  2744.000000  2730.000000  2741.392090   \n",
       "4     2022-03-22 13:30:00   180.498001   182.229904   178.500000   181.884995   \n",
       "...                   ...          ...          ...          ...          ...   \n",
       "13098 2022-05-09 19:55:00   151.619995   152.559998   151.589996   152.149994   \n",
       "13099 2022-05-09 19:55:00    83.144997    83.949997    83.089996    83.500000   \n",
       "13100 2022-05-09 19:55:00  2254.449951  2268.229980  2254.449951  2261.659912   \n",
       "13101 2022-05-09 19:55:00    22.889999    23.049999    22.889999    23.049999   \n",
       "13102 2022-05-09 19:55:00   264.010010   265.380005   264.000000   264.589996   \n",
       "\n",
       "          adjclose     volume num  \n",
       "0       300.612213  1060686.0      \n",
       "1       266.950012  1974152.0      \n",
       "2       166.020004  3235766.0      \n",
       "3      2741.392090    47997.0      \n",
       "4       181.884995   286568.0      \n",
       "...            ...        ...  ..  \n",
       "13098   152.149994  4941577.0      \n",
       "13099    83.500000   554468.0      \n",
       "13100  2261.659912   105542.0      \n",
       "13101    23.049999  2203397.0      \n",
       "13102   264.589996  2281843.0      \n",
       "\n",
       "[13103 rows x 8 columns]"
      ]
     },
     "execution_count": 75,
     "metadata": {},
     "output_type": "execute_result"
    }
   ],
   "source": [
    "df.drop('name',axis='columns')"
   ]
  },
  {
   "cell_type": "code",
   "execution_count": 55,
   "metadata": {},
   "outputs": [],
   "source": [
    "df =df.sort_values('open_high',ascending=False)"
   ]
  },
  {
   "cell_type": "code",
   "execution_count": 59,
   "metadata": {},
   "outputs": [
    {
     "data": {
      "text/html": [
       "<div>\n",
       "<style scoped>\n",
       "    .dataframe tbody tr th:only-of-type {\n",
       "        vertical-align: middle;\n",
       "    }\n",
       "\n",
       "    .dataframe tbody tr th {\n",
       "        vertical-align: top;\n",
       "    }\n",
       "\n",
       "    .dataframe thead th {\n",
       "        text-align: right;\n",
       "    }\n",
       "</style>\n",
       "<table border=\"1\" class=\"dataframe\">\n",
       "  <thead>\n",
       "    <tr style=\"text-align: right;\">\n",
       "      <th></th>\n",
       "      <th>name</th>\n",
       "      <th>date</th>\n",
       "      <th>open</th>\n",
       "      <th>high</th>\n",
       "      <th>low</th>\n",
       "      <th>close</th>\n",
       "      <th>adjclose</th>\n",
       "      <th>volume</th>\n",
       "      <th>open_high</th>\n",
       "    </tr>\n",
       "  </thead>\n",
       "  <tbody>\n",
       "  </tbody>\n",
       "</table>\n",
       "</div>"
      ],
      "text/plain": [
       "Empty DataFrame\n",
       "Columns: [name, date, open, high, low, close, adjclose, volume, open_high]\n",
       "Index: []"
      ]
     },
     "execution_count": 59,
     "metadata": {},
     "output_type": "execute_result"
    }
   ],
   "source": [
    "df[df['name']=='GOOG'].iloc[:1]\n",
    "\n"
   ]
  },
  {
   "cell_type": "code",
   "execution_count": 60,
   "metadata": {},
   "outputs": [
    {
     "data": {
      "text/html": [
       "<div>\n",
       "<style scoped>\n",
       "    .dataframe tbody tr th:only-of-type {\n",
       "        vertical-align: middle;\n",
       "    }\n",
       "\n",
       "    .dataframe tbody tr th {\n",
       "        vertical-align: top;\n",
       "    }\n",
       "\n",
       "    .dataframe thead th {\n",
       "        text-align: right;\n",
       "    }\n",
       "</style>\n",
       "<table border=\"1\" class=\"dataframe\">\n",
       "  <thead>\n",
       "    <tr style=\"text-align: right;\">\n",
       "      <th></th>\n",
       "      <th>name</th>\n",
       "      <th>date</th>\n",
       "      <th>open</th>\n",
       "      <th>high</th>\n",
       "      <th>low</th>\n",
       "      <th>close</th>\n",
       "      <th>adjclose</th>\n",
       "      <th>volume</th>\n",
       "      <th>open_high</th>\n",
       "    </tr>\n",
       "  </thead>\n",
       "  <tbody>\n",
       "    <tr>\n",
       "      <th>2595</th>\n",
       "      <td>MSFT</td>\n",
       "      <td>2022-03-30 17:00:00</td>\n",
       "      <td>315.660004</td>\n",
       "      <td>315.950012</td>\n",
       "      <td>315.423004</td>\n",
       "      <td>315.745087</td>\n",
       "      <td>315.745087</td>\n",
       "      <td>228643.0</td>\n",
       "      <td>631.610016</td>\n",
       "    </tr>\n",
       "  </tbody>\n",
       "</table>\n",
       "</div>"
      ],
      "text/plain": [
       "      name                date        open        high         low  \\\n",
       "2595  MSFT 2022-03-30 17:00:00  315.660004  315.950012  315.423004   \n",
       "\n",
       "           close    adjclose    volume   open_high  \n",
       "2595  315.745087  315.745087  228643.0  631.610016  "
      ]
     },
     "execution_count": 60,
     "metadata": {},
     "output_type": "execute_result"
    }
   ],
   "source": [
    "df[df['name']=='MSFT'].iloc[:1]"
   ]
  },
  {
   "cell_type": "code",
   "execution_count": null,
   "metadata": {},
   "outputs": [],
   "source": []
  },
  {
   "cell_type": "code",
   "execution_count": 64,
   "metadata": {},
   "outputs": [],
   "source": [
    "def drop_na_bf_fill(df):\n",
    "    \"\"\"drop_na_bf_fill\"\"\"\n",
    "    df.dropna(axis=0,how='all',inplace=True)\n",
    "    # df.dropna(axis=1,how='any',inplace=True)\n",
    "    df.fillna(method='ffill', inplace=True)\n",
    "    df.fillna(method='bfill', inplace=True)\n",
    "    return df\n",
    "\n",
    "def get_close_values_of_df(df):\n",
    "    \"\"\"get_close_values_of_df\"\"\"\n",
    "    symbols = df['name'].unique()\n",
    "    df_msft = df[df['name'] == 'MSFT']\n",
    "    final_df = pd.DataFrame(data=df_msft['close'].to_numpy(), index = df_msft['date'],columns=['MSFT'])\n",
    "    for symbol in symbols:\n",
    "        if symbol != 'MSFT':\n",
    "            df_sym = df[df['name'] == symbol]\n",
    "            df_tmp = pd.DataFrame(data=df_sym['close'].to_numpy(), index = df_sym['date'],columns=[symbol])\n",
    "            final_df =final_df.join(df_tmp)\n",
    "    return drop_na_bf_fill(final_df)\n",
    "\n",
    "def get_returns(df):\n",
    "    \"\"\"get_returns\"\"\"\n",
    "    df = get_close_values_of_df(df)\n",
    "    for symbol in df.columns.values:\n",
    "        df[f'{symbol}_Prev_close']=df[symbol].shift(1)\n",
    "        df[f'{symbol}_Return'] = df[f'{symbol}'] / df[f'{symbol}_Prev_close'] - 1\n",
    "        df[f'{symbol}_Log_Return'] = np.log(df[f'{symbol}_Return'] + 1)\n",
    "    return df\n",
    "\n",
    "def assign_is_invested(buy,sell):\n",
    "    \"\"\"assign_is_invested\"\"\"\n",
    "    global IS_INVESTED\n",
    "    if IS_INVESTED and sell:\n",
    "        IS_INVESTED = False\n",
    "    if not IS_INVESTED and buy:\n",
    "        IS_INVESTED = True\n",
    "    return IS_INVESTED\n",
    "\n",
    "def sma_close(df,slow,fast):\n",
    "    \"\"\" get_close \"\"\"\n",
    "    global SYMBOLS\n",
    "    for symbol in SYMBOLS:\n",
    "        df[f'{symbol}_Slow_SMA'] = df[symbol].rolling(slow).mean()\n",
    "        df[f'{symbol}_Fast_SMA'] = df[symbol].rolling(fast).mean()\n",
    "        df[f'{symbol}_Signal'] = np.where(df[f'{symbol}_Fast_SMA'] >= df[f'{symbol}_Fast_SMA'],1,0)\n",
    "        df[f'{symbol}_Prev_Signal'] = df[f'{symbol}_Signal'].shift(1)\n",
    "        df[f'{symbol}_Buy']= (df[f'{symbol}_Prev_Signal'] == 0) & (df[f'{symbol}_Signal'] == 1) # Fast< Slow --> Fast > Slow\n",
    "        df[f'{symbol}_Sell']= (df[f'{symbol}_Prev_Signal'] == 1) & (df[f'{symbol}_Signal'] == 0) # Fast> Slow --> Fast > \n",
    "        df[f'{symbol}_Is_Invested'] = df.apply(lambda row: assign_is_invested(row[f'{symbol}_Buy'], [f'{symbol}_Sell']),axis=1)\n",
    "    return df\n",
    "def algo_log_return(df):\n",
    "    \"\"\"algo_log_return\"\"\"\n",
    "    global SYMBOLS\n",
    "    for symbol in SYMBOLS:\n",
    "        df[f'{symbol}_Algo_Log_Return'] = df[f'{symbol}_Is_Invested'] * df[f'{symbol}_Log_Return']\n",
    "    return df\n",
    "\n",
    "def shifted_log_return(df):\n",
    "    \"\"\"shifted_log_return\"\"\"\n",
    "    global SYMBOLS\n",
    "    for symbol in SYMBOLS:\n",
    "        df[f'{symbol}_Shifted_Log_Return'] = df[f'{symbol}_Log_Return'].shift(-1)\n",
    "    return df"
   ]
  },
  {
   "cell_type": "code",
   "execution_count": 65,
   "metadata": {},
   "outputs": [],
   "source": [
    "df = get_returns(df)\n",
    "df = sma_close(df,30,10)\n",
    "df = algo_log_return(df)\n",
    "df = shifted_log_return(df)"
   ]
  },
  {
   "cell_type": "code",
   "execution_count": 66,
   "metadata": {},
   "outputs": [],
   "source": [
    "df_msft = df[['MSFT_Slow_SMA', 'MSFT_Fast_SMA']]\n",
    "df_msft_label = df['MSFT_Shifted_Log_Return']"
   ]
  },
  {
   "cell_type": "code",
   "execution_count": 67,
   "metadata": {},
   "outputs": [
    {
     "name": "stdout",
     "output_type": "stream",
     "text": [
      "Train_Score = 1.0, Test_Score = 0.4784071789119462\n"
     ]
    }
   ],
   "source": [
    "Ntest = 400\n",
    "train_msft = df_msft.iloc[30:Ntest]\n",
    "test_msft = df_msft.iloc[Ntest:-1]\n",
    "train_msft_l = df_msft_label.iloc[30:Ntest]\n",
    "test_msft_l = df_msft_label.iloc[Ntest:-1]\n",
    "Ctrain = (train_msft_l>0)\n",
    "Ctest = (test_msft_l>0)\n",
    "model = RandomForestClassifier(random_state=20)\n",
    "model.fit(train_msft, Ctrain)\n",
    "print(f'Train_Score = {model.score(train_msft, Ctrain)}, Test_Score = {model.score(test_msft,Ctest)}')\n"
   ]
  },
  {
   "cell_type": "code",
   "execution_count": 68,
   "metadata": {},
   "outputs": [],
   "source": [
    "Ptrain =model.predict(train_msft)\n",
    "Ptest =model.predict(test_msft)"
   ]
  },
  {
   "cell_type": "code",
   "execution_count": 69,
   "metadata": {},
   "outputs": [
    {
     "data": {
      "text/plain": [
       "date\n",
       "2022-03-30 14:20:00    False\n",
       "2022-03-30 14:25:00    False\n",
       "2022-03-30 14:30:00     True\n",
       "2022-03-30 14:35:00    False\n",
       "2022-03-30 14:40:00    False\n",
       "                       ...  \n",
       "2022-05-09 19:30:00     True\n",
       "2022-05-09 19:35:00    False\n",
       "2022-05-09 19:40:00    False\n",
       "2022-05-09 19:45:00     True\n",
       "2022-05-09 19:50:00     True\n",
       "Name: MSFT_Shifted_Log_Return, Length: 1783, dtype: bool"
      ]
     },
     "execution_count": 69,
     "metadata": {},
     "output_type": "execute_result"
    }
   ],
   "source": [
    "Ctest"
   ]
  },
  {
   "cell_type": "code",
   "execution_count": 70,
   "metadata": {},
   "outputs": [
    {
     "name": "stdout",
     "output_type": "stream",
     "text": [
      "roc_auc_score: 0.5003857732863345\n",
      "[0.         0.00107411 0.00322234 0.00429646 0.00537057 0.72610097\n",
      " 0.72932331 0.73147154 0.73254565 0.73576799 0.73899033 0.74113856\n",
      " 0.74328679 0.7443609  0.74758324 0.75080559 0.7518797  0.75510204\n",
      " 0.75510204 0.75617615 0.75832438 0.76047261 0.76262084 0.76262084\n",
      " 0.76369495 0.81310419 0.81525242 0.81847476 0.81847476 0.82277121\n",
      " 0.82599356 0.8292159  0.83029001 0.83458647 0.83673469 0.84317938\n",
      " 0.85392052 0.85929108 0.86466165 0.867884   0.87325456 0.88077336\n",
      " 0.88292159 0.88721805 0.8990333  0.90225564 0.90655209 0.90870032\n",
      " 0.91621912 0.93555317 0.94092374 0.94414608 0.94844253 0.95166488\n",
      " 0.96455424 0.98603652 0.98711063 0.99033298 0.99033298 0.9924812\n",
      " 0.9924812  0.99355532 0.99570354 0.99677766 0.99785177 0.99785177\n",
      " 0.99892589 0.99892589 1.         1.        ]\n",
      "[0.         0.00352113 0.00352113 0.00352113 0.00469484 0.73122066\n",
      " 0.73239437 0.73474178 0.73591549 0.73591549 0.73826291 0.73826291\n",
      " 0.74178404 0.74178404 0.74295775 0.74647887 0.75       0.75117371\n",
      " 0.75352113 0.75352113 0.75469484 0.75704225 0.75821596 0.75938967\n",
      " 0.76056338 0.81103286 0.81338028 0.8157277  0.81807512 0.82276995\n",
      " 0.82394366 0.82394366 0.8286385  0.83215962 0.83568075 0.83802817\n",
      " 0.85328638 0.85915493 0.86150235 0.86502347 0.86619718 0.86971831\n",
      " 0.87441315 0.87910798 0.89201878 0.89319249 0.89671362 0.90140845\n",
      " 0.9084507  0.92723005 0.93309859 0.93779343 0.94014085 0.94014085\n",
      " 0.96126761 0.98004695 0.98239437 0.98239437 0.98356808 0.98591549\n",
      " 0.9870892  0.99061033 0.99295775 0.99295775 0.99413146 0.99647887\n",
      " 0.99647887 0.99765258 0.99765258 1.        ]\n",
      "[2.   1.   0.99 0.98 0.97 0.96 0.95 0.94 0.93 0.92 0.91 0.9  0.89 0.87\n",
      " 0.86 0.85 0.84 0.83 0.82 0.81 0.8  0.77 0.76 0.75 0.74 0.73 0.72 0.71\n",
      " 0.7  0.69 0.68 0.67 0.66 0.65 0.64 0.63 0.62 0.61 0.6  0.59 0.58 0.57\n",
      " 0.56 0.55 0.54 0.53 0.52 0.51 0.5  0.49 0.48 0.47 0.46 0.45 0.44 0.43\n",
      " 0.42 0.41 0.4  0.39 0.38 0.37 0.34 0.31 0.29 0.26 0.23 0.22 0.17 0.15]\n"
     ]
    },
    {
     "data": {
      "image/png": "[encoded data removed]",
      "text/plain": [
       "<Figure size 432x288 with 1 Axes>"
      ]
     },
     "metadata": {
      "needs_background": "light"
     },
     "output_type": "display_data"
    }
   ],
   "source": [
    "y_test_pp = model.predict_proba(test_msft)\n",
    "print('roc_auc_score:', roc_auc_score(Ctest, y_test_pp[:,1]))\n",
    "fpr, tpr, thres = roc_curve(Ctest, y_test_pp[:,1])\n",
    "print(fpr)\n",
    "print(tpr)\n",
    "print(thres)\n",
    "ax = plt.plot(fpr, tpr)\n",
    "plt.show()"
   ]
  },
  {
   "cell_type": "code",
   "execution_count": 71,
   "metadata": {},
   "outputs": [],
   "source": [
    "import warnings\n",
    "warnings.filterwarnings('ignore')\n",
    "from sqlalchemy import create_engine\n",
    "import psycopg2\n",
    "import psycopg2.extras\n",
    "import config\n",
    "import pandas as pd\n",
    "import matplotlib.pyplot as plt\n",
    "import numpy as np\n",
    "from sklearn.linear_model import LinearRegression\n",
    "from sklearn.linear_model import LogisticRegression\n",
    "from sklearn.ensemble import RandomForestClassifier\n",
    "from sklearn.metrics import roc_auc_score\n",
    "from sklearn.metrics import roc_curve\n",
    "import random\n",
    "\n",
    "query = \"\"\"select * from assets ORDER BY date ASC;\"\"\"\n",
    "connection = psycopg2.connect(host=config.DB_HOST, database=config.DB_NAME, user= config.DB_USER, password=config.DB_PASS)\n",
    "cursor = connection.cursor(cursor_factory=psycopg2.extras.DictCursor)\n",
    "engine = create_engine(f'postgresql://{config.DB_USER}:{config.DB_PASS}@{config.DB_HOST}:{config.DB_PORT}/{config.DB_NAME}')\n",
    "\n",
    "df = pd.read_sql_query(query,con=engine)\n",
    "SYMBOLS = ['MSFT','AAPL','NVDA','UBER','COIN']\n",
    "IS_INVESTED = False"
   ]
  },
  {
   "cell_type": "code",
   "execution_count": 72,
   "metadata": {},
   "outputs": [],
   "source": [
    "def get_rsi(df, rsi_period):\n",
    "    chg = df['close'].diff(1)\n",
    "    gain = chg.mask(chg<0,0)\n",
    "    loss = chg.mask(chg>0,0)\n",
    "    avg_gain = gain.ewm(com=rsi_period-1, min_periods=rsi_period).mean()\n",
    "    avg_loss = loss.ewm(com=rsi_period-1, min_periods=rsi_period).mean()\n",
    "    rs = abs(avg_gain/avg_loss)\n",
    "    rsi = 100 - (100/(1+rs))\n",
    "    return rsi\n",
    "\n",
    "def add_vwap(df):\n",
    "    '''Returns dataframe with additional columns:\n",
    "        vwap (float): Volume Weighted Average Price\n",
    "        vwap_var (float): % variance of close from vwap\n",
    "    Args:\n",
    "        df (pandas.DataFrame): Dataframe with at least columns:\n",
    "            datetime\n",
    "            open\n",
    "            high\n",
    "            low\n",
    "            adj_close\n",
    "            volume\n",
    "    Returns:\n",
    "        df (pandas.DataFrame)\n",
    "    '''\n",
    "    df['vwap'] = (df['volume']*(df['high']+df['low']+df['adjclose'])/3).cumsum()/df['volume'].cumsum()\n",
    "    df['vwap'] = df['vwap'].fillna(df['adjclose'])\n",
    "    df['vwap_var'] = (df['adjclose']/df['vwap'])-1\n",
    "    return df"
   ]
  },
  {
   "cell_type": "code",
   "execution_count": 73,
   "metadata": {},
   "outputs": [],
   "source": [
    "def add_indicators(df):\n",
    "    # relative strength index\n",
    "    df['rsi14'] = get_rsi(df, 14)\n",
    "    # moving averages\n",
    "    df['sma9'] = df['close'].rolling(9).mean()\n",
    "    df['sma180'] = df['close'].rolling(180).mean()\n",
    "    df['sma9_var'] = (df['close']/df['sma9'])-1\n",
    "    df['sma180_var'] = (df['close']/df['sma180'])-1\n",
    "    # spreads\n",
    "    df['spread']=((df['close']/df['open'])-1).abs()\n",
    "    df['spread14_e']=df['spread'].ewm(span=14).mean()\n",
    "    # volume-based indicator\n",
    "    df['volume14'] = df['volume'].rolling(14).mean()\n",
    "    df['volume34'] = df['volume'].rolling(34).mean()\n",
    "    df['volume14_34_var'] = (df['volume14']/df['volume34'])-1\n",
    "    df = add_vwap(df)\n",
    "    return df"
   ]
  },
  {
   "cell_type": "code",
   "execution_count": 74,
   "metadata": {},
   "outputs": [],
   "source": [
    "df = add_indicators(df)"
   ]
  },
  {
   "cell_type": "code",
   "execution_count": 75,
   "metadata": {},
   "outputs": [],
   "source": [
    "def drop_na_bf_fill(df):\n",
    "    \"\"\"drop_na_bf_fill\"\"\"\n",
    "    df.dropna(axis=0,how='all',inplace=True)\n",
    "    # df.dropna(axis=1,how='any',inplace=True)\n",
    "    df.fillna(method='ffill', inplace=True)\n",
    "    df.fillna(method='bfill', inplace=True)\n",
    "    return df"
   ]
  },
  {
   "cell_type": "code",
   "execution_count": 76,
   "metadata": {},
   "outputs": [],
   "source": [
    "def upside_down(df):\n",
    "    symbols = df['name'].unique()\n",
    "    df_msft = df[df['name'] == 'MSFT']\n",
    "    symbol = 'MSFT'\n",
    "    final_df = pd.DataFrame(data=df_msft[['close','rsi14','sma9','sma180','sma9_var','sma180_var','spread','spread14_e','volume14','volume34','volume14_34_var','vwap','vwap_var']].to_numpy(), index = df_msft['date'],columns=[[f'{symbol}_Close',f'{symbol}_Rsi14',f'{symbol}_Sma9',f'{symbol}_Sma180',f'{symbol}_Sma9_var',f'{symbol}_Sma180_var',f'{symbol}_Spread',f'{symbol}_Spread14_e',f'{symbol}_Volume14',f'{symbol}_Volume34',f'{symbol}_Volume14_34_var',f'{symbol}_Vwap',f'{symbol}_vwap_var']])\n",
    "    for symbol in symbols:\n",
    "        if symbol != 'MSFT':\n",
    "            df_sym = df[df['name'] == symbol]\n",
    "            df_tmp = pd.DataFrame(data=df_sym[['close','rsi14','sma9','sma180','sma9_var','sma180_var','spread','spread14_e','volume14','volume34','volume14_34_var','vwap','vwap_var']].to_numpy(), index = df_sym['date'],columns=[[f'{symbol}_Close',f'{symbol}_Rsi14',f'{symbol}_Sma9',f'{symbol}_Sma180',f'{symbol}_Sma9_var',f'{symbol}_Sma180_var',f'{symbol}_Spread',f'{symbol}_Spread14_e',f'{symbol}_Volume14',f'{symbol}_Volume34',f'{symbol}_Volume14_34_var',f'{symbol}_Vwap',f'{symbol}_vwap_var']])\n",
    "            final_df =final_df.join(df_tmp)\n",
    "    return drop_na_bf_fill(final_df)"
   ]
  },
  {
   "cell_type": "code",
   "execution_count": 77,
   "metadata": {},
   "outputs": [],
   "source": [
    "df = upside_down(df)\n"
   ]
  },
  {
   "cell_type": "code",
   "execution_count": 78,
   "metadata": {},
   "outputs": [],
   "source": [
    "def return_prev(df):\n",
    "    for symbol in SYMBOLS:\n",
    "        df[f'{symbol}_Prev_close']=df[f'{symbol}_Close'].shift(1)\n",
    "        df[f'{symbol}_Return'] = np.array(df[f'{symbol}_Close']) / np.array(df[f'{symbol}_Prev_close']) - 1\n",
    "        df[f'{symbol}_Log_Return'] = np.log(df[f'{symbol}_Return'] + 1)\n",
    "    return df"
   ]
  },
  {
   "cell_type": "code",
   "execution_count": 79,
   "metadata": {},
   "outputs": [],
   "source": [
    "def shifted_log_return(df):\n",
    "    for symbol in SYMBOLS:\n",
    "        df[f'{symbol}_Shifted_Log_Return'] = df[f'{symbol}_Log_Return'].shift(-1)\n",
    "    return df"
   ]
  },
  {
   "cell_type": "code",
   "execution_count": 80,
   "metadata": {},
   "outputs": [],
   "source": [
    "df = return_prev(df)\n",
    "df = shifted_log_return(df)"
   ]
  },
  {
   "cell_type": "code",
   "execution_count": 81,
   "metadata": {},
   "outputs": [],
   "source": [
    "symbol='MSFT'"
   ]
  },
  {
   "cell_type": "code",
   "execution_count": 82,
   "metadata": {},
   "outputs": [
    {
     "data": {
      "text/html": [
       "<div>\n",
       "<style scoped>\n",
       "    .dataframe tbody tr th:only-of-type {\n",
       "        vertical-align: middle;\n",
       "    }\n",
       "\n",
       "    .dataframe tbody tr th {\n",
       "        vertical-align: top;\n",
       "    }\n",
       "\n",
       "    .dataframe thead tr th {\n",
       "        text-align: left;\n",
       "    }\n",
       "\n",
       "    .dataframe thead tr:last-of-type th {\n",
       "        text-align: right;\n",
       "    }\n",
       "</style>\n",
       "<table border=\"1\" class=\"dataframe\">\n",
       "  <thead>\n",
       "    <tr>\n",
       "      <th></th>\n",
       "      <th>MSFT_Close</th>\n",
       "      <th>MSFT_Rsi14</th>\n",
       "      <th>MSFT_Sma9</th>\n",
       "      <th>MSFT_Sma180</th>\n",
       "      <th>MSFT_Sma9_var</th>\n",
       "      <th>MSFT_Sma180_var</th>\n",
       "      <th>MSFT_Spread</th>\n",
       "      <th>MSFT_Spread14_e</th>\n",
       "      <th>MSFT_Volume14</th>\n",
       "      <th>MSFT_Volume34</th>\n",
       "      <th>...</th>\n",
       "      <th>UBER_Return</th>\n",
       "      <th>UBER_Log_Return</th>\n",
       "      <th>COIN_Prev_close</th>\n",
       "      <th>COIN_Return</th>\n",
       "      <th>COIN_Log_Return</th>\n",
       "      <th>MSFT_Shifted_Log_Return</th>\n",
       "      <th>AAPL_Shifted_Log_Return</th>\n",
       "      <th>NVDA_Shifted_Log_Return</th>\n",
       "      <th>UBER_Shifted_Log_Return</th>\n",
       "      <th>COIN_Shifted_Log_Return</th>\n",
       "    </tr>\n",
       "    <tr>\n",
       "      <th>date</th>\n",
       "      <th></th>\n",
       "      <th></th>\n",
       "      <th></th>\n",
       "      <th></th>\n",
       "      <th></th>\n",
       "      <th></th>\n",
       "      <th></th>\n",
       "      <th></th>\n",
       "      <th></th>\n",
       "      <th></th>\n",
       "      <th></th>\n",
       "      <th></th>\n",
       "      <th></th>\n",
       "      <th></th>\n",
       "      <th></th>\n",
       "      <th></th>\n",
       "      <th></th>\n",
       "      <th></th>\n",
       "      <th></th>\n",
       "      <th></th>\n",
       "      <th></th>\n",
       "    </tr>\n",
       "  </thead>\n",
       "  <tbody>\n",
       "    <tr>\n",
       "      <th>2022-03-22 13:30:00</th>\n",
       "      <td>300.612213</td>\n",
       "      <td>48.766782</td>\n",
       "      <td>464.715001</td>\n",
       "      <td>625.734044</td>\n",
       "      <td>-0.352205</td>\n",
       "      <td>-0.514698</td>\n",
       "      <td>0.002709</td>\n",
       "      <td>0.002709</td>\n",
       "      <td>6.658724e+05</td>\n",
       "      <td>6.351245e+05</td>\n",
       "      <td>...</td>\n",
       "      <td>NaN</td>\n",
       "      <td>NaN</td>\n",
       "      <td>NaN</td>\n",
       "      <td>NaN</td>\n",
       "      <td>NaN</td>\n",
       "      <td>0.000325</td>\n",
       "      <td>0.003697</td>\n",
       "      <td>0.002639</td>\n",
       "      <td>0.003661</td>\n",
       "      <td>0.013055</td>\n",
       "    </tr>\n",
       "    <tr>\n",
       "      <th>2022-03-22 13:35:00</th>\n",
       "      <td>300.709991</td>\n",
       "      <td>48.766782</td>\n",
       "      <td>464.715001</td>\n",
       "      <td>625.734044</td>\n",
       "      <td>-0.352205</td>\n",
       "      <td>-0.514698</td>\n",
       "      <td>0.000366</td>\n",
       "      <td>0.005896</td>\n",
       "      <td>6.658724e+05</td>\n",
       "      <td>6.351245e+05</td>\n",
       "      <td>...</td>\n",
       "      <td>0.003668</td>\n",
       "      <td>0.003661</td>\n",
       "      <td>181.884995</td>\n",
       "      <td>0.013140</td>\n",
       "      <td>0.013055</td>\n",
       "      <td>0.001097</td>\n",
       "      <td>0.000265</td>\n",
       "      <td>-0.003764</td>\n",
       "      <td>-0.008790</td>\n",
       "      <td>-0.005469</td>\n",
       "    </tr>\n",
       "    <tr>\n",
       "      <th>2022-03-22 13:40:00</th>\n",
       "      <td>301.040100</td>\n",
       "      <td>48.766782</td>\n",
       "      <td>464.715001</td>\n",
       "      <td>625.734044</td>\n",
       "      <td>-0.352205</td>\n",
       "      <td>-0.514698</td>\n",
       "      <td>0.000965</td>\n",
       "      <td>0.003999</td>\n",
       "      <td>6.658724e+05</td>\n",
       "      <td>6.351245e+05</td>\n",
       "      <td>...</td>\n",
       "      <td>-0.008751</td>\n",
       "      <td>-0.008790</td>\n",
       "      <td>184.274994</td>\n",
       "      <td>-0.005454</td>\n",
       "      <td>-0.005469</td>\n",
       "      <td>-0.003561</td>\n",
       "      <td>-0.002578</td>\n",
       "      <td>-0.000600</td>\n",
       "      <td>-0.004525</td>\n",
       "      <td>-0.002677</td>\n",
       "    </tr>\n",
       "    <tr>\n",
       "      <th>2022-03-22 13:45:00</th>\n",
       "      <td>299.970001</td>\n",
       "      <td>48.760684</td>\n",
       "      <td>479.530001</td>\n",
       "      <td>625.734044</td>\n",
       "      <td>-0.374450</td>\n",
       "      <td>-0.514698</td>\n",
       "      <td>0.003621</td>\n",
       "      <td>0.003945</td>\n",
       "      <td>6.788922e+05</td>\n",
       "      <td>6.351245e+05</td>\n",
       "      <td>...</td>\n",
       "      <td>-0.004515</td>\n",
       "      <td>-0.004525</td>\n",
       "      <td>183.270004</td>\n",
       "      <td>-0.002674</td>\n",
       "      <td>-0.002677</td>\n",
       "      <td>-0.001903</td>\n",
       "      <td>-0.001444</td>\n",
       "      <td>-0.000901</td>\n",
       "      <td>0.014391</td>\n",
       "      <td>-0.003503</td>\n",
       "    </tr>\n",
       "    <tr>\n",
       "      <th>2022-03-22 13:50:00</th>\n",
       "      <td>299.399689</td>\n",
       "      <td>48.661779</td>\n",
       "      <td>768.270079</td>\n",
       "      <td>625.734044</td>\n",
       "      <td>-0.610294</td>\n",
       "      <td>-0.514698</td>\n",
       "      <td>0.001801</td>\n",
       "      <td>0.002519</td>\n",
       "      <td>6.065889e+05</td>\n",
       "      <td>6.351245e+05</td>\n",
       "      <td>...</td>\n",
       "      <td>0.014495</td>\n",
       "      <td>0.014391</td>\n",
       "      <td>182.779999</td>\n",
       "      <td>-0.003497</td>\n",
       "      <td>-0.003503</td>\n",
       "      <td>0.001703</td>\n",
       "      <td>0.000782</td>\n",
       "      <td>0.001576</td>\n",
       "      <td>0.006279</td>\n",
       "      <td>0.007025</td>\n",
       "    </tr>\n",
       "    <tr>\n",
       "      <th>...</th>\n",
       "      <td>...</td>\n",
       "      <td>...</td>\n",
       "      <td>...</td>\n",
       "      <td>...</td>\n",
       "      <td>...</td>\n",
       "      <td>...</td>\n",
       "      <td>...</td>\n",
       "      <td>...</td>\n",
       "      <td>...</td>\n",
       "      <td>...</td>\n",
       "      <td>...</td>\n",
       "      <td>...</td>\n",
       "      <td>...</td>\n",
       "      <td>...</td>\n",
       "      <td>...</td>\n",
       "      <td>...</td>\n",
       "      <td>...</td>\n",
       "      <td>...</td>\n",
       "      <td>...</td>\n",
       "      <td>...</td>\n",
       "      <td>...</td>\n",
       "    </tr>\n",
       "    <tr>\n",
       "      <th>2022-05-09 19:35:00</th>\n",
       "      <td>264.910004</td>\n",
       "      <td>48.985945</td>\n",
       "      <td>370.491942</td>\n",
       "      <td>496.751940</td>\n",
       "      <td>-0.284978</td>\n",
       "      <td>-0.466716</td>\n",
       "      <td>0.000000</td>\n",
       "      <td>0.002467</td>\n",
       "      <td>6.456458e+05</td>\n",
       "      <td>5.205829e+05</td>\n",
       "      <td>...</td>\n",
       "      <td>0.000000</td>\n",
       "      <td>0.000000</td>\n",
       "      <td>83.300003</td>\n",
       "      <td>0.001439</td>\n",
       "      <td>0.001438</td>\n",
       "      <td>-0.002495</td>\n",
       "      <td>-0.003349</td>\n",
       "      <td>-0.001769</td>\n",
       "      <td>-0.007142</td>\n",
       "      <td>-0.002640</td>\n",
       "    </tr>\n",
       "    <tr>\n",
       "      <th>2022-05-09 19:40:00</th>\n",
       "      <td>264.250000</td>\n",
       "      <td>49.229044</td>\n",
       "      <td>367.598323</td>\n",
       "      <td>484.142657</td>\n",
       "      <td>-0.281145</td>\n",
       "      <td>-0.454190</td>\n",
       "      <td>0.002454</td>\n",
       "      <td>0.002454</td>\n",
       "      <td>7.184594e+05</td>\n",
       "      <td>6.045602e+05</td>\n",
       "      <td>...</td>\n",
       "      <td>-0.007117</td>\n",
       "      <td>-0.007142</td>\n",
       "      <td>83.419899</td>\n",
       "      <td>-0.002636</td>\n",
       "      <td>-0.002640</td>\n",
       "      <td>-0.001666</td>\n",
       "      <td>-0.000987</td>\n",
       "      <td>-0.003677</td>\n",
       "      <td>-0.004354</td>\n",
       "      <td>-0.014284</td>\n",
       "    </tr>\n",
       "    <tr>\n",
       "      <th>2022-05-09 19:45:00</th>\n",
       "      <td>263.809998</td>\n",
       "      <td>49.094719</td>\n",
       "      <td>377.631668</td>\n",
       "      <td>496.377695</td>\n",
       "      <td>-0.301409</td>\n",
       "      <td>-0.468530</td>\n",
       "      <td>0.001665</td>\n",
       "      <td>0.002318</td>\n",
       "      <td>8.040694e+05</td>\n",
       "      <td>6.607576e+05</td>\n",
       "      <td>...</td>\n",
       "      <td>-0.004344</td>\n",
       "      <td>-0.004354</td>\n",
       "      <td>83.199997</td>\n",
       "      <td>-0.014183</td>\n",
       "      <td>-0.014284</td>\n",
       "      <td>0.000644</td>\n",
       "      <td>-0.001656</td>\n",
       "      <td>0.001018</td>\n",
       "      <td>-0.001310</td>\n",
       "      <td>0.013683</td>\n",
       "    </tr>\n",
       "    <tr>\n",
       "      <th>2022-05-09 19:50:00</th>\n",
       "      <td>263.980011</td>\n",
       "      <td>48.921142</td>\n",
       "      <td>617.919224</td>\n",
       "      <td>496.257079</td>\n",
       "      <td>-0.572792</td>\n",
       "      <td>-0.468058</td>\n",
       "      <td>0.000834</td>\n",
       "      <td>0.003751</td>\n",
       "      <td>8.516622e+05</td>\n",
       "      <td>6.934828e+05</td>\n",
       "      <td>...</td>\n",
       "      <td>-0.001309</td>\n",
       "      <td>-0.001310</td>\n",
       "      <td>82.019997</td>\n",
       "      <td>0.013777</td>\n",
       "      <td>0.013683</td>\n",
       "      <td>0.002308</td>\n",
       "      <td>0.003498</td>\n",
       "      <td>0.003544</td>\n",
       "      <td>0.006966</td>\n",
       "      <td>0.004200</td>\n",
       "    </tr>\n",
       "    <tr>\n",
       "      <th>2022-05-09 19:55:00</th>\n",
       "      <td>264.589996</td>\n",
       "      <td>48.935909</td>\n",
       "      <td>358.843323</td>\n",
       "      <td>495.213787</td>\n",
       "      <td>-0.262659</td>\n",
       "      <td>-0.465706</td>\n",
       "      <td>0.002197</td>\n",
       "      <td>0.004085</td>\n",
       "      <td>1.568694e+06</td>\n",
       "      <td>1.068804e+06</td>\n",
       "      <td>...</td>\n",
       "      <td>0.006990</td>\n",
       "      <td>0.006966</td>\n",
       "      <td>83.150002</td>\n",
       "      <td>0.004209</td>\n",
       "      <td>0.004200</td>\n",
       "      <td>NaN</td>\n",
       "      <td>NaN</td>\n",
       "      <td>NaN</td>\n",
       "      <td>NaN</td>\n",
       "      <td>NaN</td>\n",
       "    </tr>\n",
       "  </tbody>\n",
       "</table>\n",
       "<p>2184 rows × 98 columns</p>\n",
       "</div>"
      ],
      "text/plain": [
       "                     MSFT_Close MSFT_Rsi14   MSFT_Sma9 MSFT_Sma180  \\\n",
       "date                                                                 \n",
       "2022-03-22 13:30:00  300.612213  48.766782  464.715001  625.734044   \n",
       "2022-03-22 13:35:00  300.709991  48.766782  464.715001  625.734044   \n",
       "2022-03-22 13:40:00  301.040100  48.766782  464.715001  625.734044   \n",
       "2022-03-22 13:45:00  299.970001  48.760684  479.530001  625.734044   \n",
       "2022-03-22 13:50:00  299.399689  48.661779  768.270079  625.734044   \n",
       "...                         ...        ...         ...         ...   \n",
       "2022-05-09 19:35:00  264.910004  48.985945  370.491942  496.751940   \n",
       "2022-05-09 19:40:00  264.250000  49.229044  367.598323  484.142657   \n",
       "2022-05-09 19:45:00  263.809998  49.094719  377.631668  496.377695   \n",
       "2022-05-09 19:50:00  263.980011  48.921142  617.919224  496.257079   \n",
       "2022-05-09 19:55:00  264.589996  48.935909  358.843323  495.213787   \n",
       "\n",
       "                    MSFT_Sma9_var MSFT_Sma180_var MSFT_Spread MSFT_Spread14_e  \\\n",
       "date                                                                            \n",
       "2022-03-22 13:30:00     -0.352205       -0.514698    0.002709        0.002709   \n",
       "2022-03-22 13:35:00     -0.352205       -0.514698    0.000366        0.005896   \n",
       "2022-03-22 13:40:00     -0.352205       -0.514698    0.000965        0.003999   \n",
       "2022-03-22 13:45:00     -0.374450       -0.514698    0.003621        0.003945   \n",
       "2022-03-22 13:50:00     -0.610294       -0.514698    0.001801        0.002519   \n",
       "...                           ...             ...         ...             ...   \n",
       "2022-05-09 19:35:00     -0.284978       -0.466716    0.000000        0.002467   \n",
       "2022-05-09 19:40:00     -0.281145       -0.454190    0.002454        0.002454   \n",
       "2022-05-09 19:45:00     -0.301409       -0.468530    0.001665        0.002318   \n",
       "2022-05-09 19:50:00     -0.572792       -0.468058    0.000834        0.003751   \n",
       "2022-05-09 19:55:00     -0.262659       -0.465706    0.002197        0.004085   \n",
       "\n",
       "                    MSFT_Volume14 MSFT_Volume34  ... UBER_Return  \\\n",
       "date                                             ...               \n",
       "2022-03-22 13:30:00  6.658724e+05  6.351245e+05  ...         NaN   \n",
       "2022-03-22 13:35:00  6.658724e+05  6.351245e+05  ...    0.003668   \n",
       "2022-03-22 13:40:00  6.658724e+05  6.351245e+05  ...   -0.008751   \n",
       "2022-03-22 13:45:00  6.788922e+05  6.351245e+05  ...   -0.004515   \n",
       "2022-03-22 13:50:00  6.065889e+05  6.351245e+05  ...    0.014495   \n",
       "...                           ...           ...  ...         ...   \n",
       "2022-05-09 19:35:00  6.456458e+05  5.205829e+05  ...    0.000000   \n",
       "2022-05-09 19:40:00  7.184594e+05  6.045602e+05  ...   -0.007117   \n",
       "2022-05-09 19:45:00  8.040694e+05  6.607576e+05  ...   -0.004344   \n",
       "2022-05-09 19:50:00  8.516622e+05  6.934828e+05  ...   -0.001309   \n",
       "2022-05-09 19:55:00  1.568694e+06  1.068804e+06  ...    0.006990   \n",
       "\n",
       "                    UBER_Log_Return COIN_Prev_close COIN_Return  \\\n",
       "date                                                              \n",
       "2022-03-22 13:30:00             NaN             NaN         NaN   \n",
       "2022-03-22 13:35:00        0.003661      181.884995    0.013140   \n",
       "2022-03-22 13:40:00       -0.008790      184.274994   -0.005454   \n",
       "2022-03-22 13:45:00       -0.004525      183.270004   -0.002674   \n",
       "2022-03-22 13:50:00        0.014391      182.779999   -0.003497   \n",
       "...                             ...             ...         ...   \n",
       "2022-05-09 19:35:00        0.000000       83.300003    0.001439   \n",
       "2022-05-09 19:40:00       -0.007142       83.419899   -0.002636   \n",
       "2022-05-09 19:45:00       -0.004354       83.199997   -0.014183   \n",
       "2022-05-09 19:50:00       -0.001310       82.019997    0.013777   \n",
       "2022-05-09 19:55:00        0.006966       83.150002    0.004209   \n",
       "\n",
       "                    COIN_Log_Return MSFT_Shifted_Log_Return  \\\n",
       "date                                                          \n",
       "2022-03-22 13:30:00             NaN                0.000325   \n",
       "2022-03-22 13:35:00        0.013055                0.001097   \n",
       "2022-03-22 13:40:00       -0.005469               -0.003561   \n",
       "2022-03-22 13:45:00       -0.002677               -0.001903   \n",
       "2022-03-22 13:50:00       -0.003503                0.001703   \n",
       "...                             ...                     ...   \n",
       "2022-05-09 19:35:00        0.001438               -0.002495   \n",
       "2022-05-09 19:40:00       -0.002640               -0.001666   \n",
       "2022-05-09 19:45:00       -0.014284                0.000644   \n",
       "2022-05-09 19:50:00        0.013683                0.002308   \n",
       "2022-05-09 19:55:00        0.004200                     NaN   \n",
       "\n",
       "                    AAPL_Shifted_Log_Return NVDA_Shifted_Log_Return  \\\n",
       "date                                                                  \n",
       "2022-03-22 13:30:00                0.003697                0.002639   \n",
       "2022-03-22 13:35:00                0.000265               -0.003764   \n",
       "2022-03-22 13:40:00               -0.002578               -0.000600   \n",
       "2022-03-22 13:45:00               -0.001444               -0.000901   \n",
       "2022-03-22 13:50:00                0.000782                0.001576   \n",
       "...                                     ...                     ...   \n",
       "2022-05-09 19:35:00               -0.003349               -0.001769   \n",
       "2022-05-09 19:40:00               -0.000987               -0.003677   \n",
       "2022-05-09 19:45:00               -0.001656                0.001018   \n",
       "2022-05-09 19:50:00                0.003498                0.003544   \n",
       "2022-05-09 19:55:00                     NaN                     NaN   \n",
       "\n",
       "                    UBER_Shifted_Log_Return COIN_Shifted_Log_Return  \n",
       "date                                                                 \n",
       "2022-03-22 13:30:00                0.003661                0.013055  \n",
       "2022-03-22 13:35:00               -0.008790               -0.005469  \n",
       "2022-03-22 13:40:00               -0.004525               -0.002677  \n",
       "2022-03-22 13:45:00                0.014391               -0.003503  \n",
       "2022-03-22 13:50:00                0.006279                0.007025  \n",
       "...                                     ...                     ...  \n",
       "2022-05-09 19:35:00               -0.007142               -0.002640  \n",
       "2022-05-09 19:40:00               -0.004354               -0.014284  \n",
       "2022-05-09 19:45:00               -0.001310                0.013683  \n",
       "2022-05-09 19:50:00                0.006966                0.004200  \n",
       "2022-05-09 19:55:00                     NaN                     NaN  \n",
       "\n",
       "[2184 rows x 98 columns]"
      ]
     },
     "execution_count": 82,
     "metadata": {},
     "output_type": "execute_result"
    }
   ],
   "source": [
    "df"
   ]
  },
  {
   "cell_type": "code",
   "execution_count": 83,
   "metadata": {},
   "outputs": [],
   "source": [
    "train_columns = [list(c)[0] for c in df.columns.values if 'MSFT' in str(c)]"
   ]
  },
  {
   "cell_type": "code",
   "execution_count": 84,
   "metadata": {},
   "outputs": [],
   "source": [
    "train_columns.append('UBER_Shifted_Log_Return')\n",
    "train_columns.append('AAPL_Shifted_Log_Return')"
   ]
  },
  {
   "cell_type": "code",
   "execution_count": 85,
   "metadata": {},
   "outputs": [],
   "source": [
    "# train_columns.remove('MSFT_Rsi14')\n",
    "# train_columns.remove('MSFT_Sma9')\n",
    "# train_columns.remove('MSFT_Sma180')\n",
    "# train_columns.remove('MSFT_Vwap')\n",
    "# train_columns.remove('MSFT_Spread')\n",
    "# train_columns.remove('MSFT_Close')\n",
    "# train_columns.remove('MSFT_Log_Return')\n",
    "# # train_columns.remove('MSFT_Return')\n",
    "train_columns.remove('MSFT_Shifted_Log_Return')"
   ]
  },
  {
   "cell_type": "code",
   "execution_count": 86,
   "metadata": {},
   "outputs": [
    {
     "name": "stdout",
     "output_type": "stream",
     "text": [
      "Train_Score = 1.0, Test_Score = 0.7530017152658662\n"
     ]
    }
   ],
   "source": [
    "# train_colums = []\n",
    "\n",
    "# train_colums.extend([f'{symbol}_Sma9_var',f'{symbol}_Sma180_var',f'{symbol}_Spread14_e'])\n",
    "\n",
    "\n",
    "df_v = df[train_columns]\n",
    "df_l =df[f'{symbol}_Shifted_Log_Return']\n",
    "\n",
    "Ntest = 1600\n",
    "train_msft = df_v.iloc[1:Ntest]\n",
    "test_msft = df_v.iloc[Ntest:-1]\n",
    "train_msft_l = df_l.iloc[1:Ntest]\n",
    "test_msft_l = df_l.iloc[Ntest:-1]\n",
    "Ctrain = (train_msft_l>0)\n",
    "Ctest = (test_msft_l>0)\n",
    "model = RandomForestClassifier(random_state=10)\n",
    "model.fit(train_msft, Ctrain)\n",
    "print(f'Train_Score = {model.score(train_msft, Ctrain)}, Test_Score = {model.score(test_msft,Ctest)}')\n",
    "\n",
    "Ptrain =model.predict(train_msft)\n",
    "Ptest =model.predict(test_msft)\n"
   ]
  },
  {
   "cell_type": "markdown",
   "metadata": {},
   "source": [
    "save model\n"
   ]
  },
  {
   "cell_type": "code",
   "execution_count": 118,
   "metadata": {},
   "outputs": [],
   "source": [
    "import time\n",
    "from sklearn.pipeline import Pipeline\n",
    "from sklearn.preprocessing import StandardScaler\n",
    "import mlflow\n",
    "from mlflow.tracking import MlflowClient\n",
    "from mlflow.entities.model_registry.model_version_status import ModelVersionStatus"
   ]
  },
  {
   "cell_type": "code",
   "execution_count": 132,
   "metadata": {},
   "outputs": [],
   "source": []
  },
  {
   "cell_type": "code",
   "execution_count": 106,
   "metadata": {},
   "outputs": [],
   "source": [
    "preprocessor = Pipeline(steps=[('scaler', StandardScaler())])\n",
    "p_model = Pipeline(steps=[('preprocessor', preprocessor),\n",
    "                            ('randomforestclassifier', model)])"
   ]
  },
  {
   "cell_type": "code",
   "execution_count": 108,
   "metadata": {},
   "outputs": [],
   "source": [
    "mlflow.sklearn.save_model(model, './existed_models')"
   ]
  },
  {
   "cell_type": "code",
   "execution_count": 114,
   "metadata": {},
   "outputs": [],
   "source": [
    "client = MlflowClient()"
   ]
  },
  {
   "cell_type": "code",
   "execution_count": 133,
   "metadata": {},
   "outputs": [
    {
     "name": "stderr",
     "output_type": "stream",
     "text": [
      "2022/05/17 00:42:37 INFO mlflow.tracking.fluent: Experiment with name 'my-experiment' does not exist. Creating a new experiment.\n"
     ]
    },
    {
     "data": {
      "text/plain": [
       "<Experiment: artifact_location='./mlflow-artifact-root/1', experiment_id='1', lifecycle_stage='active', name='my-experiment', tags={}>"
      ]
     },
     "execution_count": 133,
     "metadata": {},
     "output_type": "execute_result"
    }
   ],
   "source": [
    "mlflow.set_tracking_uri(tracking_uri)\n",
    "mlflow.set_experiment(\"my-experiment\")"
   ]
  },
  {
   "cell_type": "code",
   "execution_count": 134,
   "metadata": {},
   "outputs": [],
   "source": [
    "def wait_model_transition(model_name, model_version, stage):\n",
    "    client = MlflowClient()\n",
    "    for _ in range(10):\n",
    "        model_version_details = client.get_model_version(name=model_name,\n",
    "                                                         version=model_version,\n",
    "                                                         )\n",
    "        status = ModelVersionStatus.from_string(model_version_details.status)\n",
    "        print(\"Model status: %s\" % ModelVersionStatus.to_string(status))\n",
    "        if status == ModelVersionStatus.READY:\n",
    "            client.transition_model_version_stage(\n",
    "              name=model_name,\n",
    "              version=model_version,\n",
    "              stage=stage,\n",
    "            )\n",
    "            break\n",
    "        time.sleep(1)\n"
   ]
  },
  {
   "cell_type": "code",
   "execution_count": 135,
   "metadata": {},
   "outputs": [],
   "source": [
    "accuracy_train = model.score(train_msft, Ctrain)\n",
    "accuracy_test = model.score(test_msft, Ctest)"
   ]
  },
  {
   "cell_type": "code",
   "execution_count": 140,
   "metadata": {},
   "outputs": [],
   "source": [
    "! export MLFLOW_TRACKING_URI='http://localhost:5000'"
   ]
  },
  {
   "cell_type": "code",
   "execution_count": 82,
   "metadata": {},
   "outputs": [],
   "source": [
    "import mlflow"
   ]
  },
  {
   "cell_type": "code",
   "execution_count": 83,
   "metadata": {},
   "outputs": [
    {
     "ename": "NameError",
     "evalue": "name 'artifact_path' is not defined",
     "output_type": "error",
     "traceback": [
      "\u001b[0;31m---------------------------------------------------------------------------\u001b[0m",
      "\u001b[0;31mNameError\u001b[0m                                 Traceback (most recent call last)",
      "\u001b[1;32m/Users/utkusaglam/Desktop/projects/senioryrproject/srcedited/new_ml_main_try.ipynb Cell 53'\u001b[0m in \u001b[0;36m<cell line: 2>\u001b[0;34m()\u001b[0m\n\u001b[1;32m      <a href='vscode-notebook-cell:/Users/utkusaglam/Desktop/projects/senioryrproject/srcedited/new_ml_main_try.ipynb#ch0000070?line=1'>2</a>\u001b[0m \u001b[39mwith\u001b[39;00m mlflow\u001b[39m.\u001b[39mstart_run() \u001b[39mas\u001b[39;00m run:\n\u001b[1;32m      <a href='vscode-notebook-cell:/Users/utkusaglam/Desktop/projects/senioryrproject/srcedited/new_ml_main_try.ipynb#ch0000070?line=2'>3</a>\u001b[0m     run_num \u001b[39m=\u001b[39m run\u001b[39m.\u001b[39minfo\u001b[39m.\u001b[39mrun_id\n\u001b[0;32m----> <a href='vscode-notebook-cell:/Users/utkusaglam/Desktop/projects/senioryrproject/srcedited/new_ml_main_try.ipynb#ch0000070?line=3'>4</a>\u001b[0m     model_uri \u001b[39m=\u001b[39m \u001b[39m\"\u001b[39m\u001b[39mruns:/\u001b[39m\u001b[39m{run_id}\u001b[39;00m\u001b[39m/\u001b[39m\u001b[39m{artifact_path}\u001b[39;00m\u001b[39m\"\u001b[39m\u001b[39m.\u001b[39mformat(run_id\u001b[39m=\u001b[39mrun_num, artifact_path\u001b[39m=\u001b[39martifact_path)\n\u001b[1;32m      <a href='vscode-notebook-cell:/Users/utkusaglam/Desktop/projects/senioryrproject/srcedited/new_ml_main_try.ipynb#ch0000070?line=4'>5</a>\u001b[0m     m\u001b[39m.\u001b[39mappend(model_uri)\n",
      "\u001b[0;31mNameError\u001b[0m: name 'artifact_path' is not defined"
     ]
    }
   ],
   "source": [
    "m =[]\n",
    "with mlflow.start_run() as run:\n",
    "    run_num = run.info.run_id\n",
    "    model_uri = \"runs:/{run_id}/{artifact_path}\".format(run_id=run_num, artifact_path=artifact_path)\n",
    "    m.append(model_uri)"
   ]
  },
  {
   "cell_type": "code",
   "execution_count": null,
   "metadata": {},
   "outputs": [],
   "source": [
    "with mlflow.start_run() as run:\n",
    "    run_num = run.info.run_id\n",
    "    model_uri = \"runs:/{run_id}/{artifact_path}\".format(run_id=run_num, artifact_path=artifact_path)\n",
    "\n",
    "    mlflow.log_metric('accuracy_train', accuracy_train)\n",
    "    mlflow.log_metric('accuracy_test', accuracy_test)\n",
    "\n",
    "    mlflow.sklearn.log_model(model, artifact_path)\n",
    "\n",
    "    mlflow.register_model(model_uri=model_uri,\n",
    "                              name=artifact_path)\n",
    "\n",
    "    # Grab this latest model version\n",
    "model_version_infos = client.search_model_versions(\"name = '%s'\" % artifact_path)\n",
    "new_model_version = max([model_version_info.version for model_version_info in model_version_infos])\n",
    "\n",
    "    # Add a description\n",
    "client.update_model_version(\n",
    "name=artifact_path,\n",
    "version=new_model_version,\n",
    "description=\"Random forest scikit-learn model with 100 decision trees.\"\n",
    ")\n",
    "\n",
    "    # Necessary to wait to version models\n",
    "try:\n",
    "    # Move the previous model to None version\n",
    "    wait_model_transition(artifact_path, int(new_model_version)-1, \"None\")\n",
    "except:\n",
    "    pass\n",
    "    # Move the latest model to Staging (could also be Production)\n",
    "    wait_model_transition(artifact_path, new_model_version, \"Staging\")\n"
   ]
  },
  {
   "cell_type": "code",
   "execution_count": null,
   "metadata": {},
   "outputs": [],
   "source": [
    "import seaborn as sns"
   ]
  },
  {
   "cell_type": "code",
   "execution_count": 90,
   "metadata": {},
   "outputs": [
    {
     "data": {
      "image/png": "[encoded data removed]",
      "text/plain": [
       "<Figure size 864x864 with 2 Axes>"
      ]
     },
     "metadata": {
      "needs_background": "light"
     },
     "output_type": "display_data"
    }
   ],
   "source": [
    "df_corr = df_v.corr().round(2)\n",
    "fig, ax = plt.subplots(figsize=(12,12))\n",
    "ax = sns.heatmap(df_corr, vmin=-.8, vmax=.8, square=1, annot=True)"
   ]
  },
  {
   "cell_type": "code",
   "execution_count": 98,
   "metadata": {},
   "outputs": [
    {
     "ename": "SyntaxError",
     "evalue": "cannot assign to comparison (414965262.py, line 1)",
     "output_type": "error",
     "traceback": [
      "\u001b[0;36m  Input \u001b[0;32mIn [98]\u001b[0;36m\u001b[0m\n\u001b[0;31m    df_l['MSFT_Shifted_Log_Return']>0 = True\u001b[0m\n\u001b[0m    ^\u001b[0m\n\u001b[0;31mSyntaxError\u001b[0m\u001b[0;31m:\u001b[0m cannot assign to comparison\n"
     ]
    }
   ],
   "source": [
    "df_l['MSFT_Shifted_Log_Return'] = True"
   ]
  },
  {
   "cell_type": "code",
   "execution_count": null,
   "metadata": {},
   "outputs": [],
   "source": [
    "fig = plt.figure(figsize = (20, 25))\n",
    "for i, col in enumerate(df_v.columns):\n",
    "    print(i, end=' ')\n",
    "    plt.subplot(((df_v.shape[1]-1)//4)+1, 4, i+1)\n",
    "    sns.boxplot(x='MSFT_Shifted_Log_Return', y=col, data=df_l)\n",
    "plt.show()"
   ]
  },
  {
   "cell_type": "code",
   "execution_count": 99,
   "metadata": {},
   "outputs": [
    {
     "data": {
      "image/png": "[encoded data removed]",
      "text/plain": [
       "<Figure size 1440x1080 with 20 Axes>"
      ]
     },
     "metadata": {
      "needs_background": "light"
     },
     "output_type": "display_data"
    }
   ],
   "source": [
    "df_e = df_v.copy()\n",
    "df_e.hist(bins=50, figsize=(20,15))\n",
    "plt.show()"
   ]
  },
  {
   "cell_type": "code",
   "execution_count": null,
   "metadata": {},
   "outputs": [
    {
     "data": {
      "text/plain": [
       "(MSFT_Shifted_Log_Return,)\n",
       "False                         827\n",
       "True                          772\n",
       "dtype: int64"
      ]
     },
     "execution_count": 53,
     "metadata": {},
     "output_type": "execute_result"
    }
   ],
   "source": [
    "Ctrain.value_counts()"
   ]
  },
  {
   "cell_type": "code",
   "execution_count": null,
   "metadata": {},
   "outputs": [],
   "source": [
    "from sklearn.model_selection import StratifiedKFold\n",
    "from sklearn.model_selection import RandomizedSearchCV"
   ]
  },
  {
   "cell_type": "code",
   "execution_count": null,
   "metadata": {},
   "outputs": [],
   "source": [
    "random_grid = {\n",
    "    'n_estimators': [800], # Number of trees in random forest\n",
    "    'max_depth': [2048, None],\n",
    "    'max_features': [2, 3, 4, 5],\n",
    "    'min_samples_leaf': [1, 2, 4],\n",
    "    'min_samples_split': [2, 4, 8],\n",
    "}\n",
    "\n",
    "model_random_cv = RandomizedSearchCV(\n",
    "    estimator = model,\n",
    "    param_distributions = random_grid,\n",
    "    n_iter = 10,\n",
    "    cv = StratifiedKFold(n_splits=5, random_state=42, shuffle=True),\n",
    "    verbose=2,\n",
    "    random_state=42,\n",
    "    n_jobs = -1,\n",
    "    scoring = 'roc_auc',\n",
    "    refit=False,\n",
    ")\n",
    "model_random_cv.fit(train_msft, Ctrain)\n",
    "# print(f'Train_Score = {model.score(train_msft, Ctrain)}, Test_Score = {model.score(test_msft,Ctest)}')\n",
    "\n",
    "# Ptrain =model.predict(train_msft)\n",
    "# Ptest =model.predict(test_msft)"
   ]
  },
  {
   "cell_type": "code",
   "execution_count": null,
   "metadata": {},
   "outputs": [],
   "source": [
    "import pprint"
   ]
  },
  {
   "cell_type": "code",
   "execution_count": null,
   "metadata": {},
   "outputs": [
    {
     "name": "stdout",
     "output_type": "stream",
     "text": [
      "{'max_depth': 2048,\n",
      " 'max_features': 5,\n",
      " 'min_samples_leaf': 4,\n",
      " 'min_samples_split': 4,\n",
      " 'n_estimators': 800}\n",
      "0.85951\n",
      "\n",
      "{'max_depth': None,\n",
      " 'max_features': 4,\n",
      " 'min_samples_leaf': 4,\n",
      " 'min_samples_split': 8,\n",
      " 'n_estimators': 800}\n",
      "0.85905\n",
      "\n",
      "{'max_depth': 2048,\n",
      " 'max_features': 5,\n",
      " 'min_samples_leaf': 1,\n",
      " 'min_samples_split': 4,\n",
      " 'n_estimators': 800}\n",
      "0.85747\n",
      "\n",
      "{'max_depth': 2048,\n",
      " 'max_features': 4,\n",
      " 'min_samples_leaf': 1,\n",
      " 'min_samples_split': 2,\n",
      " 'n_estimators': 800}\n",
      "0.85699\n",
      "\n",
      "{'max_depth': None,\n",
      " 'max_features': 4,\n",
      " 'min_samples_leaf': 1,\n",
      " 'min_samples_split': 2,\n",
      " 'n_estimators': 800}\n",
      "0.85699\n",
      "\n",
      "{'max_depth': 2048,\n",
      " 'max_features': 3,\n",
      " 'min_samples_leaf': 2,\n",
      " 'min_samples_split': 2,\n",
      " 'n_estimators': 800}\n",
      "0.85608\n",
      "\n",
      "{'max_depth': None,\n",
      " 'max_features': 3,\n",
      " 'min_samples_leaf': 2,\n",
      " 'min_samples_split': 8,\n",
      " 'n_estimators': 800}\n",
      "0.85529\n",
      "\n",
      "{'max_depth': 2048,\n",
      " 'max_features': 3,\n",
      " 'min_samples_leaf': 1,\n",
      " 'min_samples_split': 4,\n",
      " 'n_estimators': 800}\n",
      "0.85516\n",
      "\n",
      "{'max_depth': 2048,\n",
      " 'max_features': 2,\n",
      " 'min_samples_leaf': 2,\n",
      " 'min_samples_split': 4,\n",
      " 'n_estimators': 800}\n",
      "0.85083\n",
      "\n",
      "{'max_depth': 2048,\n",
      " 'max_features': 2,\n",
      " 'min_samples_leaf': 1,\n",
      " 'min_samples_split': 2,\n",
      " 'n_estimators': 800}\n",
      "0.84991\n",
      "\n"
     ]
    }
   ],
   "source": [
    "# Print results\n",
    "for tup in sorted(zip(model_random_cv.cv_results_['params'], model_random_cv.cv_results_['mean_test_score']), key = lambda x: x[1], reverse=1):\n",
    "    pprint.pprint(tup[0])\n",
    "    print(round(tup[1], 5))\n",
    "    print()"
   ]
  },
  {
   "cell_type": "code",
   "execution_count": null,
   "metadata": {},
   "outputs": [
    {
     "name": "stdout",
     "output_type": "stream",
     "text": [
      "roc_auc_score: 0.8361577931553924\n",
      "[0.         0.         0.         0.         0.         0.\n",
      " 0.         0.         0.         0.00343643 0.00343643 0.00687285\n",
      " 0.01030928 0.01030928 0.0137457  0.01718213 0.02061856 0.02749141\n",
      " 0.03092784 0.03780069 0.04810997 0.05841924 0.07560137 0.0790378\n",
      " 0.08934708 0.08934708 0.10309278 0.10996564 0.11340206 0.11683849\n",
      " 0.12027491 0.12714777 0.13058419 0.14089347 0.14776632 0.15463918\n",
      " 0.17525773 0.17869416 0.18556701 0.18900344 0.20962199 0.22680412\n",
      " 0.24742268 0.25429553 0.26804124 0.28865979 0.29553265 0.3024055\n",
      " 0.31958763 0.33333333 0.34707904 0.36426117 0.38831615 0.39862543\n",
      " 0.41237113 0.42611684 0.45360825 0.46735395 0.51546392 0.54295533\n",
      " 0.56013746 0.56701031 0.60137457 0.6185567  0.62886598 0.66323024\n",
      " 0.68728522 0.71134021 0.73539519 0.79037801 0.81786942 0.83505155\n",
      " 0.84536082 0.87628866 0.90034364 0.91752577 0.93814433 0.95189003\n",
      " 0.96219931 0.97938144 0.98281787 0.99656357 1.        ]\n",
      "[0.         0.00342466 0.01369863 0.03082192 0.04452055 0.05821918\n",
      " 0.08219178 0.13013699 0.17465753 0.19520548 0.22260274 0.23630137\n",
      " 0.26712329 0.28767123 0.32876712 0.34931507 0.3630137  0.38356164\n",
      " 0.41438356 0.41780822 0.43835616 0.46917808 0.50342466 0.53082192\n",
      " 0.54452055 0.55821918 0.58561644 0.60616438 0.6130137  0.62328767\n",
      " 0.6369863  0.6369863  0.64383562 0.65068493 0.67123288 0.67465753\n",
      " 0.68150685 0.69520548 0.70547945 0.71575342 0.7260274  0.74657534\n",
      " 0.75684932 0.76027397 0.77739726 0.79109589 0.80479452 0.82191781\n",
      " 0.82876712 0.8390411  0.84246575 0.85273973 0.8630137  0.86643836\n",
      " 0.87328767 0.87671233 0.88356164 0.8869863  0.90068493 0.90068493\n",
      " 0.90410959 0.92123288 0.92808219 0.93150685 0.93150685 0.93835616\n",
      " 0.94520548 0.94863014 0.95547945 0.96232877 0.96917808 0.97260274\n",
      " 0.9760274  0.98972603 0.99315068 0.99315068 0.99315068 0.99315068\n",
      " 0.99657534 0.99657534 1.         1.         1.        ]\n",
      "[1.96 0.96 0.95 0.94 0.93 0.91 0.9  0.89 0.88 0.87 0.86 0.85 0.84 0.83\n",
      " 0.82 0.81 0.8  0.79 0.78 0.77 0.76 0.75 0.74 0.73 0.72 0.71 0.69 0.68\n",
      " 0.67 0.66 0.65 0.64 0.63 0.62 0.6  0.59 0.58 0.57 0.56 0.55 0.54 0.53\n",
      " 0.52 0.51 0.5  0.49 0.48 0.47 0.46 0.45 0.44 0.43 0.42 0.41 0.4  0.39\n",
      " 0.38 0.37 0.35 0.34 0.33 0.32 0.31 0.3  0.29 0.28 0.27 0.26 0.25 0.23\n",
      " 0.22 0.21 0.2  0.19 0.18 0.17 0.16 0.15 0.14 0.13 0.12 0.1  0.06]\n"
     ]
    },
    {
     "data": {
      "image/png": "[encoded data removed]",
      "text/plain": [
       "<Figure size 432x288 with 1 Axes>"
      ]
     },
     "metadata": {
      "needs_background": "light"
     },
     "output_type": "display_data"
    }
   ],
   "source": [
    "y_test_pp = model.predict_proba(test_msft)\n",
    "print('roc_auc_score:', roc_auc_score(Ctest, y_test_pp[:,1]))\n",
    "fpr, tpr, thres = roc_curve(Ctest, y_test_pp[:,1])\n",
    "print(fpr)\n",
    "print(tpr)\n",
    "print(thres)\n",
    "ax = plt.plot(fpr, tpr)\n",
    "plt.show()"
   ]
  }
 ],
 "metadata": {
  "interpreter": {
   "hash": "98118ddd61f7a6802961398b1191dbb61641adafe3032adf6c32df1b58912416"
  },
  "kernelspec": {
   "display_name": "Python 3.9.10 ('venv': venv)",
   "language": "python",
   "name": "python3"
  },
  "language_info": {
   "codemirror_mode": {
    "name": "ipython",
    "version": 3
   },
   "file_extension": ".py",
   "mimetype": "text/x-python",
   "name": "python",
   "nbconvert_exporter": "python",
   "pygments_lexer": "ipython3",
   "version": "3.9.10"
  },
  "orig_nbformat": 4
 },
 "nbformat": 4,
 "nbformat_minor": 2
}
