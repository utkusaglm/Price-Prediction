{
 "cells": [
  {
   "cell_type": "code",
   "execution_count": 23,
   "metadata": {},
   "outputs": [],
   "source": [
    "import pandas as pd\n",
    "import numpy as np\n",
    "import matplotlib.pyplot as plt"
   ]
  },
  {
   "cell_type": "code",
   "execution_count": 6,
   "metadata": {},
   "outputs": [
    {
     "data": {
      "text/html": [
       "<div>\n",
       "<style scoped>\n",
       "    .dataframe tbody tr th:only-of-type {\n",
       "        vertical-align: middle;\n",
       "    }\n",
       "\n",
       "    .dataframe tbody tr th {\n",
       "        vertical-align: top;\n",
       "    }\n",
       "\n",
       "    .dataframe thead th {\n",
       "        text-align: right;\n",
       "    }\n",
       "</style>\n",
       "<table border=\"1\" class=\"dataframe\">\n",
       "  <thead>\n",
       "    <tr style=\"text-align: right;\">\n",
       "      <th></th>\n",
       "      <th>Date</th>\n",
       "      <th>Open</th>\n",
       "      <th>High</th>\n",
       "      <th>Low</th>\n",
       "      <th>Close</th>\n",
       "      <th>Adj Close</th>\n",
       "      <th>Volume</th>\n",
       "      <th>Name</th>\n",
       "    </tr>\n",
       "  </thead>\n",
       "  <tbody>\n",
       "    <tr>\n",
       "      <th>0</th>\n",
       "      <td>2009-12-31</td>\n",
       "      <td>24.100000</td>\n",
       "      <td>24.17</td>\n",
       "      <td>23.940001</td>\n",
       "      <td>23.940001</td>\n",
       "      <td>17.312853</td>\n",
       "      <td>25208100</td>\n",
       "      <td>CSCO</td>\n",
       "    </tr>\n",
       "    <tr>\n",
       "      <th>1</th>\n",
       "      <td>2010-01-04</td>\n",
       "      <td>24.110001</td>\n",
       "      <td>24.84</td>\n",
       "      <td>24.010000</td>\n",
       "      <td>24.690001</td>\n",
       "      <td>17.855236</td>\n",
       "      <td>59853700</td>\n",
       "      <td>CSCO</td>\n",
       "    </tr>\n",
       "    <tr>\n",
       "      <th>2</th>\n",
       "      <td>2010-01-05</td>\n",
       "      <td>24.600000</td>\n",
       "      <td>24.73</td>\n",
       "      <td>24.379999</td>\n",
       "      <td>24.580000</td>\n",
       "      <td>17.775690</td>\n",
       "      <td>45124500</td>\n",
       "      <td>CSCO</td>\n",
       "    </tr>\n",
       "    <tr>\n",
       "      <th>3</th>\n",
       "      <td>2010-01-06</td>\n",
       "      <td>24.540001</td>\n",
       "      <td>24.74</td>\n",
       "      <td>24.340000</td>\n",
       "      <td>24.420000</td>\n",
       "      <td>17.659983</td>\n",
       "      <td>35715700</td>\n",
       "      <td>CSCO</td>\n",
       "    </tr>\n",
       "    <tr>\n",
       "      <th>4</th>\n",
       "      <td>2010-01-07</td>\n",
       "      <td>24.299999</td>\n",
       "      <td>24.57</td>\n",
       "      <td>24.170000</td>\n",
       "      <td>24.530001</td>\n",
       "      <td>17.739532</td>\n",
       "      <td>31531200</td>\n",
       "      <td>CSCO</td>\n",
       "    </tr>\n",
       "  </tbody>\n",
       "</table>\n",
       "</div>"
      ],
      "text/plain": [
       "         Date       Open   High        Low      Close  Adj Close    Volume  \\\n",
       "0  2009-12-31  24.100000  24.17  23.940001  23.940001  17.312853  25208100   \n",
       "1  2010-01-04  24.110001  24.84  24.010000  24.690001  17.855236  59853700   \n",
       "2  2010-01-05  24.600000  24.73  24.379999  24.580000  17.775690  45124500   \n",
       "3  2010-01-06  24.540001  24.74  24.340000  24.420000  17.659983  35715700   \n",
       "4  2010-01-07  24.299999  24.57  24.170000  24.530001  17.739532  31531200   \n",
       "\n",
       "   Name  \n",
       "0  CSCO  \n",
       "1  CSCO  \n",
       "2  CSCO  \n",
       "3  CSCO  \n",
       "4  CSCO  "
      ]
     },
     "execution_count": 6,
     "metadata": {},
     "output_type": "execute_result"
    }
   ],
   "source": [
    "data = pd.read_csv('sp500full.csv',parse_dates=True)\n",
    "data.head()"
   ]
  },
  {
   "cell_type": "code",
   "execution_count": 9,
   "metadata": {},
   "outputs": [
    {
     "data": {
      "text/html": [
       "<div>\n",
       "<style scoped>\n",
       "    .dataframe tbody tr th:only-of-type {\n",
       "        vertical-align: middle;\n",
       "    }\n",
       "\n",
       "    .dataframe tbody tr th {\n",
       "        vertical-align: top;\n",
       "    }\n",
       "\n",
       "    .dataframe thead th {\n",
       "        text-align: right;\n",
       "    }\n",
       "</style>\n",
       "<table border=\"1\" class=\"dataframe\">\n",
       "  <thead>\n",
       "    <tr style=\"text-align: right;\">\n",
       "      <th></th>\n",
       "      <th>Date</th>\n",
       "      <th>Open</th>\n",
       "      <th>High</th>\n",
       "      <th>Low</th>\n",
       "      <th>Close</th>\n",
       "      <th>Adj Close</th>\n",
       "      <th>Volume</th>\n",
       "      <th>Name</th>\n",
       "    </tr>\n",
       "  </thead>\n",
       "  <tbody>\n",
       "    <tr>\n",
       "      <th>466550</th>\n",
       "      <td>2009-12-31</td>\n",
       "      <td>126.586998</td>\n",
       "      <td>127.007645</td>\n",
       "      <td>125.000000</td>\n",
       "      <td>125.143402</td>\n",
       "      <td>82.345871</td>\n",
       "      <td>4417676</td>\n",
       "      <td>IBM</td>\n",
       "    </tr>\n",
       "    <tr>\n",
       "      <th>466551</th>\n",
       "      <td>2010-01-04</td>\n",
       "      <td>125.411087</td>\n",
       "      <td>127.122368</td>\n",
       "      <td>125.095604</td>\n",
       "      <td>126.625237</td>\n",
       "      <td>83.320961</td>\n",
       "      <td>6438444</td>\n",
       "      <td>IBM</td>\n",
       "    </tr>\n",
       "    <tr>\n",
       "      <th>466552</th>\n",
       "      <td>2010-01-05</td>\n",
       "      <td>125.889099</td>\n",
       "      <td>126.051628</td>\n",
       "      <td>124.378586</td>\n",
       "      <td>125.095604</td>\n",
       "      <td>82.314423</td>\n",
       "      <td>7156104</td>\n",
       "      <td>IBM</td>\n",
       "    </tr>\n",
       "    <tr>\n",
       "      <th>466553</th>\n",
       "      <td>2010-01-06</td>\n",
       "      <td>124.933075</td>\n",
       "      <td>125.707458</td>\n",
       "      <td>124.101341</td>\n",
       "      <td>124.282982</td>\n",
       "      <td>81.779747</td>\n",
       "      <td>5863144</td>\n",
       "      <td>IBM</td>\n",
       "    </tr>\n",
       "    <tr>\n",
       "      <th>466554</th>\n",
       "      <td>2010-01-07</td>\n",
       "      <td>124.158699</td>\n",
       "      <td>124.521988</td>\n",
       "      <td>123.240921</td>\n",
       "      <td>123.852776</td>\n",
       "      <td>81.496628</td>\n",
       "      <td>6109268</td>\n",
       "      <td>IBM</td>\n",
       "    </tr>\n",
       "  </tbody>\n",
       "</table>\n",
       "</div>"
      ],
      "text/plain": [
       "              Date        Open        High         Low       Close  Adj Close  \\\n",
       "466550  2009-12-31  126.586998  127.007645  125.000000  125.143402  82.345871   \n",
       "466551  2010-01-04  125.411087  127.122368  125.095604  126.625237  83.320961   \n",
       "466552  2010-01-05  125.889099  126.051628  124.378586  125.095604  82.314423   \n",
       "466553  2010-01-06  124.933075  125.707458  124.101341  124.282982  81.779747   \n",
       "466554  2010-01-07  124.158699  124.521988  123.240921  123.852776  81.496628   \n",
       "\n",
       "         Volume Name  \n",
       "466550  4417676  IBM  \n",
       "466551  6438444  IBM  \n",
       "466552  7156104  IBM  \n",
       "466553  5863144  IBM  \n",
       "466554  6109268  IBM  "
      ]
     },
     "execution_count": 9,
     "metadata": {},
     "output_type": "execute_result"
    }
   ],
   "source": [
    "ibm = data[data['Name']=='IBM'].copy()\n",
    "ibm.head()"
   ]
  },
  {
   "cell_type": "code",
   "execution_count": 12,
   "metadata": {},
   "outputs": [
    {
     "data": {
      "text/plain": [
       "<AxesSubplot:>"
      ]
     },
     "execution_count": 12,
     "metadata": {},
     "output_type": "execute_result"
    },
    {
     "data": {
      "image/png": "[encoded data removed]",
      "text/plain": [
       "<Figure size 432x288 with 1 Axes>"
      ]
     },
     "metadata": {
      "needs_background": "light"
     },
     "output_type": "display_data"
    }
   ],
   "source": [
    "ibm['Close'].plot()"
   ]
  },
  {
   "cell_type": "code",
   "execution_count": 18,
   "metadata": {},
   "outputs": [
    {
     "data": {
      "text/html": [
       "<div>\n",
       "<style scoped>\n",
       "    .dataframe tbody tr th:only-of-type {\n",
       "        vertical-align: middle;\n",
       "    }\n",
       "\n",
       "    .dataframe tbody tr th {\n",
       "        vertical-align: top;\n",
       "    }\n",
       "\n",
       "    .dataframe thead th {\n",
       "        text-align: right;\n",
       "    }\n",
       "</style>\n",
       "<table border=\"1\" class=\"dataframe\">\n",
       "  <thead>\n",
       "    <tr style=\"text-align: right;\">\n",
       "      <th></th>\n",
       "      <th>Date</th>\n",
       "      <th>Open</th>\n",
       "      <th>High</th>\n",
       "      <th>Low</th>\n",
       "      <th>Close</th>\n",
       "      <th>Adj Close</th>\n",
       "      <th>Volume</th>\n",
       "      <th>Name</th>\n",
       "      <th>Prev_close</th>\n",
       "    </tr>\n",
       "  </thead>\n",
       "  <tbody>\n",
       "    <tr>\n",
       "      <th>466550</th>\n",
       "      <td>2009-12-31</td>\n",
       "      <td>126.586998</td>\n",
       "      <td>127.007645</td>\n",
       "      <td>125.000000</td>\n",
       "      <td>125.143402</td>\n",
       "      <td>82.345871</td>\n",
       "      <td>4417676</td>\n",
       "      <td>IBM</td>\n",
       "      <td>NaN</td>\n",
       "    </tr>\n",
       "    <tr>\n",
       "      <th>466551</th>\n",
       "      <td>2010-01-04</td>\n",
       "      <td>125.411087</td>\n",
       "      <td>127.122368</td>\n",
       "      <td>125.095604</td>\n",
       "      <td>126.625237</td>\n",
       "      <td>83.320961</td>\n",
       "      <td>6438444</td>\n",
       "      <td>IBM</td>\n",
       "      <td>125.143402</td>\n",
       "    </tr>\n",
       "    <tr>\n",
       "      <th>466552</th>\n",
       "      <td>2010-01-05</td>\n",
       "      <td>125.889099</td>\n",
       "      <td>126.051628</td>\n",
       "      <td>124.378586</td>\n",
       "      <td>125.095604</td>\n",
       "      <td>82.314423</td>\n",
       "      <td>7156104</td>\n",
       "      <td>IBM</td>\n",
       "      <td>126.625237</td>\n",
       "    </tr>\n",
       "    <tr>\n",
       "      <th>466553</th>\n",
       "      <td>2010-01-06</td>\n",
       "      <td>124.933075</td>\n",
       "      <td>125.707458</td>\n",
       "      <td>124.101341</td>\n",
       "      <td>124.282982</td>\n",
       "      <td>81.779747</td>\n",
       "      <td>5863144</td>\n",
       "      <td>IBM</td>\n",
       "      <td>125.095604</td>\n",
       "    </tr>\n",
       "    <tr>\n",
       "      <th>466554</th>\n",
       "      <td>2010-01-07</td>\n",
       "      <td>124.158699</td>\n",
       "      <td>124.521988</td>\n",
       "      <td>123.240921</td>\n",
       "      <td>123.852776</td>\n",
       "      <td>81.496628</td>\n",
       "      <td>6109268</td>\n",
       "      <td>IBM</td>\n",
       "      <td>124.282982</td>\n",
       "    </tr>\n",
       "  </tbody>\n",
       "</table>\n",
       "</div>"
      ],
      "text/plain": [
       "              Date        Open        High         Low       Close  Adj Close  \\\n",
       "466550  2009-12-31  126.586998  127.007645  125.000000  125.143402  82.345871   \n",
       "466551  2010-01-04  125.411087  127.122368  125.095604  126.625237  83.320961   \n",
       "466552  2010-01-05  125.889099  126.051628  124.378586  125.095604  82.314423   \n",
       "466553  2010-01-06  124.933075  125.707458  124.101341  124.282982  81.779747   \n",
       "466554  2010-01-07  124.158699  124.521988  123.240921  123.852776  81.496628   \n",
       "\n",
       "         Volume Name  Prev_close  \n",
       "466550  4417676  IBM         NaN  \n",
       "466551  6438444  IBM  125.143402  \n",
       "466552  7156104  IBM  126.625237  \n",
       "466553  5863144  IBM  125.095604  \n",
       "466554  6109268  IBM  124.282982  "
      ]
     },
     "execution_count": 18,
     "metadata": {},
     "output_type": "execute_result"
    }
   ],
   "source": [
    "ibm['Prev_close']=ibm['Close'].shift(1)\n",
    "ibm.head()"
   ]
  },
  {
   "cell_type": "code",
   "execution_count": 19,
   "metadata": {},
   "outputs": [
    {
     "data": {
      "text/html": [
       "<div>\n",
       "<style scoped>\n",
       "    .dataframe tbody tr th:only-of-type {\n",
       "        vertical-align: middle;\n",
       "    }\n",
       "\n",
       "    .dataframe tbody tr th {\n",
       "        vertical-align: top;\n",
       "    }\n",
       "\n",
       "    .dataframe thead th {\n",
       "        text-align: right;\n",
       "    }\n",
       "</style>\n",
       "<table border=\"1\" class=\"dataframe\">\n",
       "  <thead>\n",
       "    <tr style=\"text-align: right;\">\n",
       "      <th></th>\n",
       "      <th>Date</th>\n",
       "      <th>Open</th>\n",
       "      <th>High</th>\n",
       "      <th>Low</th>\n",
       "      <th>Close</th>\n",
       "      <th>Adj Close</th>\n",
       "      <th>Volume</th>\n",
       "      <th>Name</th>\n",
       "      <th>Prev_close</th>\n",
       "      <th>Return</th>\n",
       "    </tr>\n",
       "  </thead>\n",
       "  <tbody>\n",
       "    <tr>\n",
       "      <th>466550</th>\n",
       "      <td>2009-12-31</td>\n",
       "      <td>126.586998</td>\n",
       "      <td>127.007645</td>\n",
       "      <td>125.000000</td>\n",
       "      <td>125.143402</td>\n",
       "      <td>82.345871</td>\n",
       "      <td>4417676</td>\n",
       "      <td>IBM</td>\n",
       "      <td>NaN</td>\n",
       "      <td>NaN</td>\n",
       "    </tr>\n",
       "    <tr>\n",
       "      <th>466551</th>\n",
       "      <td>2010-01-04</td>\n",
       "      <td>125.411087</td>\n",
       "      <td>127.122368</td>\n",
       "      <td>125.095604</td>\n",
       "      <td>126.625237</td>\n",
       "      <td>83.320961</td>\n",
       "      <td>6438444</td>\n",
       "      <td>IBM</td>\n",
       "      <td>125.143402</td>\n",
       "      <td>0.011841</td>\n",
       "    </tr>\n",
       "    <tr>\n",
       "      <th>466552</th>\n",
       "      <td>2010-01-05</td>\n",
       "      <td>125.889099</td>\n",
       "      <td>126.051628</td>\n",
       "      <td>124.378586</td>\n",
       "      <td>125.095604</td>\n",
       "      <td>82.314423</td>\n",
       "      <td>7156104</td>\n",
       "      <td>IBM</td>\n",
       "      <td>126.625237</td>\n",
       "      <td>-0.012080</td>\n",
       "    </tr>\n",
       "    <tr>\n",
       "      <th>466553</th>\n",
       "      <td>2010-01-06</td>\n",
       "      <td>124.933075</td>\n",
       "      <td>125.707458</td>\n",
       "      <td>124.101341</td>\n",
       "      <td>124.282982</td>\n",
       "      <td>81.779747</td>\n",
       "      <td>5863144</td>\n",
       "      <td>IBM</td>\n",
       "      <td>125.095604</td>\n",
       "      <td>-0.006496</td>\n",
       "    </tr>\n",
       "    <tr>\n",
       "      <th>466554</th>\n",
       "      <td>2010-01-07</td>\n",
       "      <td>124.158699</td>\n",
       "      <td>124.521988</td>\n",
       "      <td>123.240921</td>\n",
       "      <td>123.852776</td>\n",
       "      <td>81.496628</td>\n",
       "      <td>6109268</td>\n",
       "      <td>IBM</td>\n",
       "      <td>124.282982</td>\n",
       "      <td>-0.003462</td>\n",
       "    </tr>\n",
       "  </tbody>\n",
       "</table>\n",
       "</div>"
      ],
      "text/plain": [
       "              Date        Open        High         Low       Close  Adj Close  \\\n",
       "466550  2009-12-31  126.586998  127.007645  125.000000  125.143402  82.345871   \n",
       "466551  2010-01-04  125.411087  127.122368  125.095604  126.625237  83.320961   \n",
       "466552  2010-01-05  125.889099  126.051628  124.378586  125.095604  82.314423   \n",
       "466553  2010-01-06  124.933075  125.707458  124.101341  124.282982  81.779747   \n",
       "466554  2010-01-07  124.158699  124.521988  123.240921  123.852776  81.496628   \n",
       "\n",
       "         Volume Name  Prev_close    Return  \n",
       "466550  4417676  IBM         NaN       NaN  \n",
       "466551  6438444  IBM  125.143402  0.011841  \n",
       "466552  7156104  IBM  126.625237 -0.012080  \n",
       "466553  5863144  IBM  125.095604 -0.006496  \n",
       "466554  6109268  IBM  124.282982 -0.003462  "
      ]
     },
     "execution_count": 19,
     "metadata": {},
     "output_type": "execute_result"
    }
   ],
   "source": [
    "ibm['Return'] = ibm['Close'] / ibm['Prev_close'] - 1\n",
    "ibm.head()"
   ]
  },
  {
   "cell_type": "code",
   "execution_count": null,
   "metadata": {},
   "outputs": [],
   "source": [
    "ibm['Return_fast'] = ibm['Close'].pct_change(1)"
   ]
  },
  {
   "cell_type": "code",
   "execution_count": 21,
   "metadata": {},
   "outputs": [
    {
     "data": {
      "text/plain": [
       "<AxesSubplot:>"
      ]
     },
     "execution_count": 21,
     "metadata": {},
     "output_type": "execute_result"
    },
    {
     "data": {
      "image/png": "[encoded data removed]",
      "text/plain": [
       "<Figure size 432x288 with 1 Axes>"
      ]
     },
     "metadata": {
      "needs_background": "light"
     },
     "output_type": "display_data"
    }
   ],
   "source": [
    "#histogram of the returns\n",
    "ibm['Return'].hist(bins=100)"
   ]
  },
  {
   "cell_type": "code",
   "execution_count": 22,
   "metadata": {},
   "outputs": [
    {
     "data": {
      "text/plain": [
       "(1.1289341896529357e-05, 0.012312219852453121)"
      ]
     },
     "execution_count": 22,
     "metadata": {},
     "output_type": "execute_result"
    }
   ],
   "source": [
    "ibm['Return'].mean(),ibm['Return'].std()"
   ]
  },
  {
   "cell_type": "code",
   "execution_count": 24,
   "metadata": {},
   "outputs": [
    {
     "data": {
      "text/html": [
       "<div>\n",
       "<style scoped>\n",
       "    .dataframe tbody tr th:only-of-type {\n",
       "        vertical-align: middle;\n",
       "    }\n",
       "\n",
       "    .dataframe tbody tr th {\n",
       "        vertical-align: top;\n",
       "    }\n",
       "\n",
       "    .dataframe thead th {\n",
       "        text-align: right;\n",
       "    }\n",
       "</style>\n",
       "<table border=\"1\" class=\"dataframe\">\n",
       "  <thead>\n",
       "    <tr style=\"text-align: right;\">\n",
       "      <th></th>\n",
       "      <th>Date</th>\n",
       "      <th>Open</th>\n",
       "      <th>High</th>\n",
       "      <th>Low</th>\n",
       "      <th>Close</th>\n",
       "      <th>Adj Close</th>\n",
       "      <th>Volume</th>\n",
       "      <th>Name</th>\n",
       "      <th>Prev_close</th>\n",
       "      <th>Return</th>\n",
       "      <th>Log_return</th>\n",
       "    </tr>\n",
       "  </thead>\n",
       "  <tbody>\n",
       "    <tr>\n",
       "      <th>466550</th>\n",
       "      <td>2009-12-31</td>\n",
       "      <td>126.586998</td>\n",
       "      <td>127.007645</td>\n",
       "      <td>125.000000</td>\n",
       "      <td>125.143402</td>\n",
       "      <td>82.345871</td>\n",
       "      <td>4417676</td>\n",
       "      <td>IBM</td>\n",
       "      <td>NaN</td>\n",
       "      <td>NaN</td>\n",
       "      <td>NaN</td>\n",
       "    </tr>\n",
       "    <tr>\n",
       "      <th>466551</th>\n",
       "      <td>2010-01-04</td>\n",
       "      <td>125.411087</td>\n",
       "      <td>127.122368</td>\n",
       "      <td>125.095604</td>\n",
       "      <td>126.625237</td>\n",
       "      <td>83.320961</td>\n",
       "      <td>6438444</td>\n",
       "      <td>IBM</td>\n",
       "      <td>125.143402</td>\n",
       "      <td>0.011841</td>\n",
       "      <td>0.011772</td>\n",
       "    </tr>\n",
       "    <tr>\n",
       "      <th>466552</th>\n",
       "      <td>2010-01-05</td>\n",
       "      <td>125.889099</td>\n",
       "      <td>126.051628</td>\n",
       "      <td>124.378586</td>\n",
       "      <td>125.095604</td>\n",
       "      <td>82.314423</td>\n",
       "      <td>7156104</td>\n",
       "      <td>IBM</td>\n",
       "      <td>126.625237</td>\n",
       "      <td>-0.012080</td>\n",
       "      <td>-0.012154</td>\n",
       "    </tr>\n",
       "    <tr>\n",
       "      <th>466553</th>\n",
       "      <td>2010-01-06</td>\n",
       "      <td>124.933075</td>\n",
       "      <td>125.707458</td>\n",
       "      <td>124.101341</td>\n",
       "      <td>124.282982</td>\n",
       "      <td>81.779747</td>\n",
       "      <td>5863144</td>\n",
       "      <td>IBM</td>\n",
       "      <td>125.095604</td>\n",
       "      <td>-0.006496</td>\n",
       "      <td>-0.006517</td>\n",
       "    </tr>\n",
       "    <tr>\n",
       "      <th>466554</th>\n",
       "      <td>2010-01-07</td>\n",
       "      <td>124.158699</td>\n",
       "      <td>124.521988</td>\n",
       "      <td>123.240921</td>\n",
       "      <td>123.852776</td>\n",
       "      <td>81.496628</td>\n",
       "      <td>6109268</td>\n",
       "      <td>IBM</td>\n",
       "      <td>124.282982</td>\n",
       "      <td>-0.003462</td>\n",
       "      <td>-0.003468</td>\n",
       "    </tr>\n",
       "  </tbody>\n",
       "</table>\n",
       "</div>"
      ],
      "text/plain": [
       "              Date        Open        High         Low       Close  Adj Close  \\\n",
       "466550  2009-12-31  126.586998  127.007645  125.000000  125.143402  82.345871   \n",
       "466551  2010-01-04  125.411087  127.122368  125.095604  126.625237  83.320961   \n",
       "466552  2010-01-05  125.889099  126.051628  124.378586  125.095604  82.314423   \n",
       "466553  2010-01-06  124.933075  125.707458  124.101341  124.282982  81.779747   \n",
       "466554  2010-01-07  124.158699  124.521988  123.240921  123.852776  81.496628   \n",
       "\n",
       "         Volume Name  Prev_close    Return  Log_return  \n",
       "466550  4417676  IBM         NaN       NaN         NaN  \n",
       "466551  6438444  IBM  125.143402  0.011841    0.011772  \n",
       "466552  7156104  IBM  126.625237 -0.012080   -0.012154  \n",
       "466553  5863144  IBM  125.095604 -0.006496   -0.006517  \n",
       "466554  6109268  IBM  124.282982 -0.003462   -0.003468  "
      ]
     },
     "execution_count": 24,
     "metadata": {},
     "output_type": "execute_result"
    }
   ],
   "source": [
    "ibm['Log_return'] = np.log(ibm['Return'] + 1)\n",
    "ibm.head()"
   ]
  },
  {
   "cell_type": "code",
   "execution_count": 25,
   "metadata": {},
   "outputs": [
    {
     "data": {
      "text/plain": [
       "<AxesSubplot:>"
      ]
     },
     "execution_count": 25,
     "metadata": {},
     "output_type": "execute_result"
    },
    {
     "data": {
      "image/png": "[encoded data removed]",
      "text/plain": [
       "<Figure size 432x288 with 1 Axes>"
      ]
     },
     "metadata": {
      "needs_background": "light"
     },
     "output_type": "display_data"
    }
   ],
   "source": [
    "ibm['Log_return'].hist(bins=100)"
   ]
  },
  {
   "cell_type": "code",
   "execution_count": 26,
   "metadata": {},
   "outputs": [
    {
     "data": {
      "text/plain": [
       "(-6.486098014309617e-05, 0.01236072790462744)"
      ]
     },
     "execution_count": 26,
     "metadata": {},
     "output_type": "execute_result"
    }
   ],
   "source": [
    "ibm['Log_return'].mean(),ibm['Log_return'].std()"
   ]
  }
 ],
 "metadata": {
  "interpreter": {
   "hash": "98118ddd61f7a6802961398b1191dbb61641adafe3032adf6c32df1b58912416"
  },
  "kernelspec": {
   "display_name": "Python 3.9.10 ('venv': venv)",
   "language": "python",
   "name": "python3"
  },
  "language_info": {
   "codemirror_mode": {
    "name": "ipython",
    "version": 3
   },
   "file_extension": ".py",
   "mimetype": "text/x-python",
   "name": "python",
   "nbconvert_exporter": "python",
   "pygments_lexer": "ipython3",
   "version": "3.9.10"
  },
  "orig_nbformat": 4
 },
 "nbformat": 4,
 "nbformat_minor": 2
}
