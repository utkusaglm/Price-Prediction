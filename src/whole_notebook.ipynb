{
 "cells": [
  {
   "cell_type": "markdown",
   "metadata": {},
   "source": [
    "FINANCIAL DATA UNDERSTAND"
   ]
  },
  {
   "cell_type": "code",
   "execution_count": 1,
   "metadata": {},
   "outputs": [],
   "source": [
    "import pandas as pd"
   ]
  },
  {
   "cell_type": "code",
   "execution_count": 2,
   "metadata": {},
   "outputs": [],
   "source": [
    "df = pd.read_csv('sp500full.csv')"
   ]
  },
  {
   "cell_type": "code",
   "execution_count": 3,
   "metadata": {},
   "outputs": [
    {
     "data": {
      "text/html": [
       "<div>\n",
       "<style scoped>\n",
       "    .dataframe tbody tr th:only-of-type {\n",
       "        vertical-align: middle;\n",
       "    }\n",
       "\n",
       "    .dataframe tbody tr th {\n",
       "        vertical-align: top;\n",
       "    }\n",
       "\n",
       "    .dataframe thead th {\n",
       "        text-align: right;\n",
       "    }\n",
       "</style>\n",
       "<table border=\"1\" class=\"dataframe\">\n",
       "  <thead>\n",
       "    <tr style=\"text-align: right;\">\n",
       "      <th></th>\n",
       "      <th>Date</th>\n",
       "      <th>Open</th>\n",
       "      <th>High</th>\n",
       "      <th>Low</th>\n",
       "      <th>Close</th>\n",
       "      <th>Adj Close</th>\n",
       "      <th>Volume</th>\n",
       "      <th>Name</th>\n",
       "    </tr>\n",
       "  </thead>\n",
       "  <tbody>\n",
       "    <tr>\n",
       "      <th>0</th>\n",
       "      <td>2009-12-31</td>\n",
       "      <td>24.100000</td>\n",
       "      <td>24.17</td>\n",
       "      <td>23.940001</td>\n",
       "      <td>23.940001</td>\n",
       "      <td>17.312853</td>\n",
       "      <td>25208100</td>\n",
       "      <td>CSCO</td>\n",
       "    </tr>\n",
       "    <tr>\n",
       "      <th>1</th>\n",
       "      <td>2010-01-04</td>\n",
       "      <td>24.110001</td>\n",
       "      <td>24.84</td>\n",
       "      <td>24.010000</td>\n",
       "      <td>24.690001</td>\n",
       "      <td>17.855236</td>\n",
       "      <td>59853700</td>\n",
       "      <td>CSCO</td>\n",
       "    </tr>\n",
       "    <tr>\n",
       "      <th>2</th>\n",
       "      <td>2010-01-05</td>\n",
       "      <td>24.600000</td>\n",
       "      <td>24.73</td>\n",
       "      <td>24.379999</td>\n",
       "      <td>24.580000</td>\n",
       "      <td>17.775690</td>\n",
       "      <td>45124500</td>\n",
       "      <td>CSCO</td>\n",
       "    </tr>\n",
       "    <tr>\n",
       "      <th>3</th>\n",
       "      <td>2010-01-06</td>\n",
       "      <td>24.540001</td>\n",
       "      <td>24.74</td>\n",
       "      <td>24.340000</td>\n",
       "      <td>24.420000</td>\n",
       "      <td>17.659983</td>\n",
       "      <td>35715700</td>\n",
       "      <td>CSCO</td>\n",
       "    </tr>\n",
       "    <tr>\n",
       "      <th>4</th>\n",
       "      <td>2010-01-07</td>\n",
       "      <td>24.299999</td>\n",
       "      <td>24.57</td>\n",
       "      <td>24.170000</td>\n",
       "      <td>24.530001</td>\n",
       "      <td>17.739532</td>\n",
       "      <td>31531200</td>\n",
       "      <td>CSCO</td>\n",
       "    </tr>\n",
       "  </tbody>\n",
       "</table>\n",
       "</div>"
      ],
      "text/plain": [
       "         Date       Open   High        Low      Close  Adj Close    Volume  \\\n",
       "0  2009-12-31  24.100000  24.17  23.940001  23.940001  17.312853  25208100   \n",
       "1  2010-01-04  24.110001  24.84  24.010000  24.690001  17.855236  59853700   \n",
       "2  2010-01-05  24.600000  24.73  24.379999  24.580000  17.775690  45124500   \n",
       "3  2010-01-06  24.540001  24.74  24.340000  24.420000  17.659983  35715700   \n",
       "4  2010-01-07  24.299999  24.57  24.170000  24.530001  17.739532  31531200   \n",
       "\n",
       "   Name  \n",
       "0  CSCO  \n",
       "1  CSCO  \n",
       "2  CSCO  \n",
       "3  CSCO  \n",
       "4  CSCO  "
      ]
     },
     "execution_count": 3,
     "metadata": {},
     "output_type": "execute_result"
    }
   ],
   "source": [
    "df.head()"
   ]
  },
  {
   "cell_type": "code",
   "execution_count": 4,
   "metadata": {},
   "outputs": [
    {
     "name": "stdout",
     "output_type": "stream",
     "text": [
      "<class 'pandas.core.frame.DataFrame'>\n",
      "RangeIndex: 832640 entries, 0 to 832639\n",
      "Data columns (total 8 columns):\n",
      " #   Column     Non-Null Count   Dtype  \n",
      "---  ------     --------------   -----  \n",
      " 0   Date       832640 non-null  object \n",
      " 1   Open       832640 non-null  float64\n",
      " 2   High       832640 non-null  float64\n",
      " 3   Low        832640 non-null  float64\n",
      " 4   Close      832640 non-null  float64\n",
      " 5   Adj Close  832640 non-null  float64\n",
      " 6   Volume     832640 non-null  int64  \n",
      " 7   Name       832640 non-null  object \n",
      "dtypes: float64(5), int64(1), object(2)\n",
      "memory usage: 50.8+ MB\n"
     ]
    }
   ],
   "source": [
    "df.info()"
   ]
  },
  {
   "cell_type": "code",
   "execution_count": 5,
   "metadata": {},
   "outputs": [
    {
     "data": {
      "text/plain": [
       "array(['CSCO', 'ISRG', 'PRGO', 'DVN', 'MRO', 'BA', 'GILD', 'NLSN', 'EQIX',\n",
       "       'MDT', 'QRVO', 'A', 'MO', 'MCHP', 'CDNS', 'CHTR', 'EIX', 'BBY',\n",
       "       'HCA', 'AJG', 'DTE', 'C', 'T', 'CF', 'DISH', 'MGM', 'HUM', 'CBOE',\n",
       "       'CFG', 'APH', 'MSI', 'FCX', 'ADM', 'LH', 'PKI', 'LNT', 'BAC',\n",
       "       'LNC', 'PSX', 'GPN', 'PPG', 'IRM', 'IQV', 'ESS', 'NOV', 'NAVI',\n",
       "       'HAL', 'STZ', 'FLS', 'DXC', 'ADI', 'F', 'HOG', 'ADBE', 'ARE', 'CB',\n",
       "       'FLR', 'PEP', 'PEG', 'LLY', 'COST', 'REG', 'NWS', 'LLL', 'LOW',\n",
       "       'MDLZ', 'FMC', 'AIZ', 'PDCO', 'CERN', 'MET', 'FTV', 'DLR', 'XRAY',\n",
       "       'SCG', 'FAST', 'MPC', 'D', 'CA', 'MRK', 'STX', 'NOC', 'BXP', 'KHC',\n",
       "       'IPG', 'ALLE', 'ABBV', 'ORCL', 'ECL', 'ETR', 'EBAY', 'IR', 'AMT',\n",
       "       'INTU', 'DRE', 'CMA', 'PG', 'CAT', 'MCD', 'MNST', 'AMZN', 'INTC',\n",
       "       'PNR', 'GLW', 'BDX', 'KMI', 'PWR', 'APTV', 'EXR', 'HOLX', 'EXPD',\n",
       "       'GM', 'SJM', 'OXY', 'RL', 'CCI', 'MMM', 'MOS', 'HSY', 'JNPR',\n",
       "       'DHI', 'ED', 'ES', 'ADSK', 'IP', 'EXPE', 'KO', 'PCAR', 'PYPL',\n",
       "       'NEE', 'LEG', 'EMR', 'MSFT', 'ANSS', 'CTAS', 'AME', 'HP', 'IT',\n",
       "       'ACN', 'EW', 'FL', 'CMG', 'AWK', 'COO', 'SHW', 'HPQ', 'AMAT',\n",
       "       'CCL', 'MLM', 'AVY', 'AAP', 'ATVI', 'EA', 'DE', 'AMD', 'KLAC',\n",
       "       'NDAQ', 'PNC', 'KMX', 'BIIB', 'NVDA', 'CHRW', 'ROP', 'IDXX', 'EXC',\n",
       "       'HES', 'HD', 'ALB', 'AON', 'FDX', 'DG', 'HIG', 'SIG', 'CMS', 'COL',\n",
       "       'CAG', 'INCY', 'SCHW', 'HSIC', 'AZO', 'AXP', 'HPE', 'DFS', 'SEE',\n",
       "       'HRL', 'FRT', 'CME', 'XOM', 'AMP', 'AMG', 'CVX', 'CMCSA', 'PCG',\n",
       "       'CSRA', 'PNW', 'ICE', 'NFX', 'CTXS', 'BEN', 'DISCK', 'EMN', 'SBAC',\n",
       "       'ROK', 'NRG', 'NSC', 'NKE', 'FIS', 'MAS', 'RF', 'TAP', 'MAR',\n",
       "       'CMI', 'FB', 'MTD', 'KR', 'PLD', 'IBM', 'BSX', 'LKQ', 'FBHS',\n",
       "       'ITW', 'EOG', 'PVH', 'KMB', 'NEM', 'ANDV', 'EL', 'GS', 'GD', 'CNP',\n",
       "       'PM', 'RE', 'MCO', 'CLX', 'CAH', 'HRB', 'DGX', 'AVB', 'GE', 'HII',\n",
       "       'ALL', 'ETN', 'ALGN', 'NFLX', 'LEN', 'BHF', 'FITB', 'GWW', 'NTRS',\n",
       "       'CVS', 'AOS', 'FE', 'ABC', 'JPM', 'ABT', 'OMC', 'COF', 'PH', 'HST',\n",
       "       'AYI', 'JBHT', 'MAC', 'COP', 'DHR', 'MAT', 'CNC', 'MCK', 'MTB',\n",
       "       'DISCA', 'AKAM', 'RMD', 'GOOGL', 'PAYX', 'ALK', 'DRI', 'ILMN',\n",
       "       'AAL', 'MAA', 'MMC', 'EVHC', 'GT', 'FFIV', 'CINF', 'SRE', 'ORLY',\n",
       "       'IVZ', 'RCL', 'PXD', 'COTY', 'GOOG', 'EQT', 'KSS', 'PFE', 'AIV',\n",
       "       'AVGO', 'DUK', 'REGN', 'CL', 'JCI', 'ESRX', 'AMGN', 'ADP', 'AET',\n",
       "       'RRC', 'RSG', 'IFF', 'ANTM', 'GPS', 'BLL', 'QCOM', 'LYB', 'GIS',\n",
       "       'PHM', 'ROST', 'MS', 'CPB', 'OKE', 'BK', 'CHD', 'MHK', 'DAL',\n",
       "       'APA', 'K', 'JWN', 'AFL', 'ADS', 'CSX', 'NI', 'PFG', 'NCLH', 'RJF',\n",
       "       'HBAN', 'PRU', 'GPC', 'FISV', 'EQR', 'PBCT', 'DVA', 'AIG', 'MA',\n",
       "       'HBI', 'HON', 'O', 'NWSA', 'AES', 'SLB', 'AAPL', 'MKC', 'APD',\n",
       "       'GRMN', 'AEE', 'HLT', 'DLTR', 'HAS', 'NTAP', 'KIM', 'BAX', 'LMT',\n",
       "       'KEY', 'BMY', 'PSA', 'RHI', 'EFX', 'NUE', 'PKG', 'CTSH', 'MU', 'L',\n",
       "       'AEP', 'CI', 'SNI', 'JNJ', 'DOV', 'M', 'CRM', 'PGR', 'BWA', 'LRCX',\n",
       "       'NWL', 'BLK', 'PPL'], dtype=object)"
      ]
     },
     "execution_count": 5,
     "metadata": {},
     "output_type": "execute_result"
    }
   ],
   "source": [
    "df['Name'].unique()"
   ]
  },
  {
   "cell_type": "code",
   "execution_count": 6,
   "metadata": {},
   "outputs": [
    {
     "data": {
      "text/plain": [
       "(381,)"
      ]
     },
     "execution_count": 6,
     "metadata": {},
     "output_type": "execute_result"
    }
   ],
   "source": [
    "df['Name'].unique().shape"
   ]
  },
  {
   "cell_type": "code",
   "execution_count": 7,
   "metadata": {},
   "outputs": [
    {
     "data": {
      "text/html": [
       "<div>\n",
       "<style scoped>\n",
       "    .dataframe tbody tr th:only-of-type {\n",
       "        vertical-align: middle;\n",
       "    }\n",
       "\n",
       "    .dataframe tbody tr th {\n",
       "        vertical-align: top;\n",
       "    }\n",
       "\n",
       "    .dataframe thead th {\n",
       "        text-align: right;\n",
       "    }\n",
       "</style>\n",
       "<table border=\"1\" class=\"dataframe\">\n",
       "  <thead>\n",
       "    <tr style=\"text-align: right;\">\n",
       "      <th></th>\n",
       "      <th>Date</th>\n",
       "      <th>Open</th>\n",
       "      <th>High</th>\n",
       "      <th>Low</th>\n",
       "      <th>Close</th>\n",
       "      <th>Adj Close</th>\n",
       "      <th>Volume</th>\n",
       "      <th>Name</th>\n",
       "    </tr>\n",
       "  </thead>\n",
       "  <tbody>\n",
       "    <tr>\n",
       "      <th>466550</th>\n",
       "      <td>2009-12-31</td>\n",
       "      <td>126.586998</td>\n",
       "      <td>127.007645</td>\n",
       "      <td>125.000000</td>\n",
       "      <td>125.143402</td>\n",
       "      <td>82.345871</td>\n",
       "      <td>4417676</td>\n",
       "      <td>IBM</td>\n",
       "    </tr>\n",
       "    <tr>\n",
       "      <th>466551</th>\n",
       "      <td>2010-01-04</td>\n",
       "      <td>125.411087</td>\n",
       "      <td>127.122368</td>\n",
       "      <td>125.095604</td>\n",
       "      <td>126.625237</td>\n",
       "      <td>83.320961</td>\n",
       "      <td>6438444</td>\n",
       "      <td>IBM</td>\n",
       "    </tr>\n",
       "    <tr>\n",
       "      <th>466552</th>\n",
       "      <td>2010-01-05</td>\n",
       "      <td>125.889099</td>\n",
       "      <td>126.051628</td>\n",
       "      <td>124.378586</td>\n",
       "      <td>125.095604</td>\n",
       "      <td>82.314423</td>\n",
       "      <td>7156104</td>\n",
       "      <td>IBM</td>\n",
       "    </tr>\n",
       "    <tr>\n",
       "      <th>466553</th>\n",
       "      <td>2010-01-06</td>\n",
       "      <td>124.933075</td>\n",
       "      <td>125.707458</td>\n",
       "      <td>124.101341</td>\n",
       "      <td>124.282982</td>\n",
       "      <td>81.779747</td>\n",
       "      <td>5863144</td>\n",
       "      <td>IBM</td>\n",
       "    </tr>\n",
       "    <tr>\n",
       "      <th>466554</th>\n",
       "      <td>2010-01-07</td>\n",
       "      <td>124.158699</td>\n",
       "      <td>124.521988</td>\n",
       "      <td>123.240921</td>\n",
       "      <td>123.852776</td>\n",
       "      <td>81.496628</td>\n",
       "      <td>6109268</td>\n",
       "      <td>IBM</td>\n",
       "    </tr>\n",
       "    <tr>\n",
       "      <th>...</th>\n",
       "      <td>...</td>\n",
       "      <td>...</td>\n",
       "      <td>...</td>\n",
       "      <td>...</td>\n",
       "      <td>...</td>\n",
       "      <td>...</td>\n",
       "      <td>...</td>\n",
       "      <td>...</td>\n",
       "    </tr>\n",
       "    <tr>\n",
       "      <th>468809</th>\n",
       "      <td>2018-12-21</td>\n",
       "      <td>107.552582</td>\n",
       "      <td>110.210327</td>\n",
       "      <td>105.583176</td>\n",
       "      <td>106.061188</td>\n",
       "      <td>89.383278</td>\n",
       "      <td>10864279</td>\n",
       "      <td>IBM</td>\n",
       "    </tr>\n",
       "    <tr>\n",
       "      <th>468810</th>\n",
       "      <td>2018-12-24</td>\n",
       "      <td>105.066925</td>\n",
       "      <td>106.118546</td>\n",
       "      <td>102.772469</td>\n",
       "      <td>102.839386</td>\n",
       "      <td>86.668076</td>\n",
       "      <td>3997184</td>\n",
       "      <td>IBM</td>\n",
       "    </tr>\n",
       "    <tr>\n",
       "      <th>468811</th>\n",
       "      <td>2018-12-26</td>\n",
       "      <td>103.250481</td>\n",
       "      <td>106.491394</td>\n",
       "      <td>101.281075</td>\n",
       "      <td>106.491394</td>\n",
       "      <td>89.745827</td>\n",
       "      <td>6951507</td>\n",
       "      <td>IBM</td>\n",
       "    </tr>\n",
       "    <tr>\n",
       "      <th>468812</th>\n",
       "      <td>2018-12-27</td>\n",
       "      <td>105.152962</td>\n",
       "      <td>108.776291</td>\n",
       "      <td>104.655830</td>\n",
       "      <td>108.776291</td>\n",
       "      <td>91.671440</td>\n",
       "      <td>6323698</td>\n",
       "      <td>IBM</td>\n",
       "    </tr>\n",
       "    <tr>\n",
       "      <th>468813</th>\n",
       "      <td>2018-12-28</td>\n",
       "      <td>109.196938</td>\n",
       "      <td>109.751434</td>\n",
       "      <td>107.552582</td>\n",
       "      <td>108.059273</td>\n",
       "      <td>91.067162</td>\n",
       "      <td>5352905</td>\n",
       "      <td>IBM</td>\n",
       "    </tr>\n",
       "  </tbody>\n",
       "</table>\n",
       "<p>2264 rows × 8 columns</p>\n",
       "</div>"
      ],
      "text/plain": [
       "              Date        Open        High         Low       Close  Adj Close  \\\n",
       "466550  2009-12-31  126.586998  127.007645  125.000000  125.143402  82.345871   \n",
       "466551  2010-01-04  125.411087  127.122368  125.095604  126.625237  83.320961   \n",
       "466552  2010-01-05  125.889099  126.051628  124.378586  125.095604  82.314423   \n",
       "466553  2010-01-06  124.933075  125.707458  124.101341  124.282982  81.779747   \n",
       "466554  2010-01-07  124.158699  124.521988  123.240921  123.852776  81.496628   \n",
       "...            ...         ...         ...         ...         ...        ...   \n",
       "468809  2018-12-21  107.552582  110.210327  105.583176  106.061188  89.383278   \n",
       "468810  2018-12-24  105.066925  106.118546  102.772469  102.839386  86.668076   \n",
       "468811  2018-12-26  103.250481  106.491394  101.281075  106.491394  89.745827   \n",
       "468812  2018-12-27  105.152962  108.776291  104.655830  108.776291  91.671440   \n",
       "468813  2018-12-28  109.196938  109.751434  107.552582  108.059273  91.067162   \n",
       "\n",
       "          Volume Name  \n",
       "466550   4417676  IBM  \n",
       "466551   6438444  IBM  \n",
       "466552   7156104  IBM  \n",
       "466553   5863144  IBM  \n",
       "466554   6109268  IBM  \n",
       "...          ...  ...  \n",
       "468809  10864279  IBM  \n",
       "468810   3997184  IBM  \n",
       "468811   6951507  IBM  \n",
       "468812   6323698  IBM  \n",
       "468813   5352905  IBM  \n",
       "\n",
       "[2264 rows x 8 columns]"
      ]
     },
     "execution_count": 7,
     "metadata": {},
     "output_type": "execute_result"
    }
   ],
   "source": [
    "df[df['Name'] == 'IBM']"
   ]
  },
  {
   "cell_type": "code",
   "execution_count": 8,
   "metadata": {},
   "outputs": [
    {
     "data": {
      "text/plain": [
       "466550    125.143402\n",
       "466551    126.625237\n",
       "466552    125.095604\n",
       "466553    124.282982\n",
       "466554    123.852776\n",
       "             ...    \n",
       "468809    106.061188\n",
       "468810    102.839386\n",
       "468811    106.491394\n",
       "468812    108.776291\n",
       "468813    108.059273\n",
       "Name: Close, Length: 2264, dtype: float64"
      ]
     },
     "execution_count": 8,
     "metadata": {},
     "output_type": "execute_result"
    }
   ],
   "source": [
    "ibm =df[df['Name'] == 'IBM']\n",
    "ibm['Close']"
   ]
  },
  {
   "cell_type": "code",
   "execution_count": 9,
   "metadata": {},
   "outputs": [
    {
     "data": {
      "text/plain": [
       "<AxesSubplot:>"
      ]
     },
     "execution_count": 9,
     "metadata": {},
     "output_type": "execute_result"
    },
    {
     "data": {
      "image/png": "[encoded data removed]",
      "text/plain": [
       "<Figure size 432x288 with 1 Axes>"
      ]
     },
     "metadata": {
      "needs_background": "light"
     },
     "output_type": "display_data"
    }
   ],
   "source": [
    "ibm['Close'].plot()"
   ]
  },
  {
   "cell_type": "code",
   "execution_count": 10,
   "metadata": {},
   "outputs": [
    {
     "data": {
      "text/plain": [
       "('2009-12-31', '2018-12-28')"
      ]
     },
     "execution_count": 10,
     "metadata": {},
     "output_type": "execute_result"
    }
   ],
   "source": [
    "df['Date'].min(), df['Date'].max()"
   ]
  },
  {
   "cell_type": "code",
   "execution_count": 11,
   "metadata": {},
   "outputs": [
    {
     "data": {
      "text/plain": [
       "DatetimeIndex(['2009-12-31', '2010-01-01', '2010-01-02', '2010-01-03',\n",
       "               '2010-01-04', '2010-01-05', '2010-01-06', '2010-01-07',\n",
       "               '2010-01-08', '2010-01-09',\n",
       "               ...\n",
       "               '2018-12-19', '2018-12-20', '2018-12-21', '2018-12-22',\n",
       "               '2018-12-23', '2018-12-24', '2018-12-25', '2018-12-26',\n",
       "               '2018-12-27', '2018-12-28'],\n",
       "              dtype='datetime64[ns]', length=3285, freq='D')"
      ]
     },
     "execution_count": 11,
     "metadata": {},
     "output_type": "execute_result"
    }
   ],
   "source": [
    "dates=pd.date_range(df['Date'].min(), df['Date'].max())\n",
    "dates"
   ]
  },
  {
   "cell_type": "code",
   "execution_count": 12,
   "metadata": {},
   "outputs": [],
   "source": [
    "symbols =df['Name'].unique()"
   ]
  },
  {
   "cell_type": "code",
   "execution_count": 13,
   "metadata": {},
   "outputs": [],
   "source": [
    "df2 = pd.DataFrame(data=ibm['Close'].to_numpy(), index = ibm['Date'],columns=['IBM'])"
   ]
  },
  {
   "cell_type": "code",
   "execution_count": 14,
   "metadata": {},
   "outputs": [],
   "source": [
    "close_prices = pd.DataFrame(index=dates)"
   ]
  },
  {
   "cell_type": "code",
   "execution_count": 15,
   "metadata": {},
   "outputs": [
    {
     "data": {
      "text/html": [
       "<div>\n",
       "<style scoped>\n",
       "    .dataframe tbody tr th:only-of-type {\n",
       "        vertical-align: middle;\n",
       "    }\n",
       "\n",
       "    .dataframe tbody tr th {\n",
       "        vertical-align: top;\n",
       "    }\n",
       "\n",
       "    .dataframe thead th {\n",
       "        text-align: right;\n",
       "    }\n",
       "</style>\n",
       "<table border=\"1\" class=\"dataframe\">\n",
       "  <thead>\n",
       "    <tr style=\"text-align: right;\">\n",
       "      <th></th>\n",
       "      <th>Date</th>\n",
       "      <th>Open</th>\n",
       "      <th>High</th>\n",
       "      <th>Low</th>\n",
       "      <th>Close</th>\n",
       "      <th>Adj Close</th>\n",
       "      <th>Volume</th>\n",
       "      <th>Name</th>\n",
       "    </tr>\n",
       "  </thead>\n",
       "  <tbody>\n",
       "    <tr>\n",
       "      <th>466550</th>\n",
       "      <td>2009-12-31</td>\n",
       "      <td>126.586998</td>\n",
       "      <td>127.007645</td>\n",
       "      <td>125.000000</td>\n",
       "      <td>125.143402</td>\n",
       "      <td>82.345871</td>\n",
       "      <td>4417676</td>\n",
       "      <td>IBM</td>\n",
       "    </tr>\n",
       "    <tr>\n",
       "      <th>466551</th>\n",
       "      <td>2010-01-04</td>\n",
       "      <td>125.411087</td>\n",
       "      <td>127.122368</td>\n",
       "      <td>125.095604</td>\n",
       "      <td>126.625237</td>\n",
       "      <td>83.320961</td>\n",
       "      <td>6438444</td>\n",
       "      <td>IBM</td>\n",
       "    </tr>\n",
       "    <tr>\n",
       "      <th>466552</th>\n",
       "      <td>2010-01-05</td>\n",
       "      <td>125.889099</td>\n",
       "      <td>126.051628</td>\n",
       "      <td>124.378586</td>\n",
       "      <td>125.095604</td>\n",
       "      <td>82.314423</td>\n",
       "      <td>7156104</td>\n",
       "      <td>IBM</td>\n",
       "    </tr>\n",
       "    <tr>\n",
       "      <th>466553</th>\n",
       "      <td>2010-01-06</td>\n",
       "      <td>124.933075</td>\n",
       "      <td>125.707458</td>\n",
       "      <td>124.101341</td>\n",
       "      <td>124.282982</td>\n",
       "      <td>81.779747</td>\n",
       "      <td>5863144</td>\n",
       "      <td>IBM</td>\n",
       "    </tr>\n",
       "    <tr>\n",
       "      <th>466554</th>\n",
       "      <td>2010-01-07</td>\n",
       "      <td>124.158699</td>\n",
       "      <td>124.521988</td>\n",
       "      <td>123.240921</td>\n",
       "      <td>123.852776</td>\n",
       "      <td>81.496628</td>\n",
       "      <td>6109268</td>\n",
       "      <td>IBM</td>\n",
       "    </tr>\n",
       "  </tbody>\n",
       "</table>\n",
       "</div>"
      ],
      "text/plain": [
       "              Date        Open        High         Low       Close  Adj Close  \\\n",
       "466550  2009-12-31  126.586998  127.007645  125.000000  125.143402  82.345871   \n",
       "466551  2010-01-04  125.411087  127.122368  125.095604  126.625237  83.320961   \n",
       "466552  2010-01-05  125.889099  126.051628  124.378586  125.095604  82.314423   \n",
       "466553  2010-01-06  124.933075  125.707458  124.101341  124.282982  81.779747   \n",
       "466554  2010-01-07  124.158699  124.521988  123.240921  123.852776  81.496628   \n",
       "\n",
       "         Volume Name  \n",
       "466550  4417676  IBM  \n",
       "466551  6438444  IBM  \n",
       "466552  7156104  IBM  \n",
       "466553  5863144  IBM  \n",
       "466554  6109268  IBM  "
      ]
     },
     "execution_count": 15,
     "metadata": {},
     "output_type": "execute_result"
    }
   ],
   "source": [
    "df_sym = df[df['Name'] == 'IBM']\n",
    "df_sym.head()"
   ]
  },
  {
   "cell_type": "code",
   "execution_count": 16,
   "metadata": {},
   "outputs": [],
   "source": [
    "final_df = pd.DataFrame(data=df_sym['Close'].to_numpy(), index = df_sym['Date'],columns=['IBM'])"
   ]
  },
  {
   "cell_type": "code",
   "execution_count": 17,
   "metadata": {},
   "outputs": [],
   "source": [
    "for symbol in symbols:\n",
    "    if symbol != 'IBM':\n",
    "        df_sym = df[df['Name'] == symbol]\n",
    "        df_tmp = pd.DataFrame(data=df_sym['Close'].to_numpy(), index = df_sym['Date'],columns=[symbol])\n",
    "        final_df =final_df.join(df_tmp)"
   ]
  },
  {
   "cell_type": "code",
   "execution_count": 18,
   "metadata": {},
   "outputs": [
    {
     "data": {
      "text/html": [
       "<div>\n",
       "<style scoped>\n",
       "    .dataframe tbody tr th:only-of-type {\n",
       "        vertical-align: middle;\n",
       "    }\n",
       "\n",
       "    .dataframe tbody tr th {\n",
       "        vertical-align: top;\n",
       "    }\n",
       "\n",
       "    .dataframe thead th {\n",
       "        text-align: right;\n",
       "    }\n",
       "</style>\n",
       "<table border=\"1\" class=\"dataframe\">\n",
       "  <thead>\n",
       "    <tr style=\"text-align: right;\">\n",
       "      <th></th>\n",
       "      <th>IBM</th>\n",
       "      <th>CSCO</th>\n",
       "      <th>ISRG</th>\n",
       "      <th>PRGO</th>\n",
       "      <th>DVN</th>\n",
       "      <th>MRO</th>\n",
       "      <th>BA</th>\n",
       "      <th>GILD</th>\n",
       "      <th>NLSN</th>\n",
       "      <th>EQIX</th>\n",
       "      <th>...</th>\n",
       "      <th>JNJ</th>\n",
       "      <th>DOV</th>\n",
       "      <th>M</th>\n",
       "      <th>CRM</th>\n",
       "      <th>PGR</th>\n",
       "      <th>BWA</th>\n",
       "      <th>LRCX</th>\n",
       "      <th>NWL</th>\n",
       "      <th>BLK</th>\n",
       "      <th>PPL</th>\n",
       "    </tr>\n",
       "    <tr>\n",
       "      <th>Date</th>\n",
       "      <th></th>\n",
       "      <th></th>\n",
       "      <th></th>\n",
       "      <th></th>\n",
       "      <th></th>\n",
       "      <th></th>\n",
       "      <th></th>\n",
       "      <th></th>\n",
       "      <th></th>\n",
       "      <th></th>\n",
       "      <th></th>\n",
       "      <th></th>\n",
       "      <th></th>\n",
       "      <th></th>\n",
       "      <th></th>\n",
       "      <th></th>\n",
       "      <th></th>\n",
       "      <th></th>\n",
       "      <th></th>\n",
       "      <th></th>\n",
       "      <th></th>\n",
       "    </tr>\n",
       "  </thead>\n",
       "  <tbody>\n",
       "    <tr>\n",
       "      <th>2009-12-31</th>\n",
       "      <td>125.143402</td>\n",
       "      <td>23.940001</td>\n",
       "      <td>33.714443</td>\n",
       "      <td>39.830002</td>\n",
       "      <td>73.500000</td>\n",
       "      <td>18.622730</td>\n",
       "      <td>54.130001</td>\n",
       "      <td>21.635000</td>\n",
       "      <td>NaN</td>\n",
       "      <td>106.150002</td>\n",
       "      <td>...</td>\n",
       "      <td>64.410004</td>\n",
       "      <td>27.892666</td>\n",
       "      <td>16.760000</td>\n",
       "      <td>18.442499</td>\n",
       "      <td>17.990000</td>\n",
       "      <td>16.610001</td>\n",
       "      <td>39.209999</td>\n",
       "      <td>15.010000</td>\n",
       "      <td>232.199997</td>\n",
       "      <td>30.093534</td>\n",
       "    </tr>\n",
       "    <tr>\n",
       "      <th>2010-01-04</th>\n",
       "      <td>126.625237</td>\n",
       "      <td>24.690001</td>\n",
       "      <td>34.307777</td>\n",
       "      <td>40.349998</td>\n",
       "      <td>76.570000</td>\n",
       "      <td>19.153616</td>\n",
       "      <td>56.180000</td>\n",
       "      <td>21.650000</td>\n",
       "      <td>NaN</td>\n",
       "      <td>109.559998</td>\n",
       "      <td>...</td>\n",
       "      <td>64.680000</td>\n",
       "      <td>28.395418</td>\n",
       "      <td>17.059999</td>\n",
       "      <td>18.705000</td>\n",
       "      <td>18.030001</td>\n",
       "      <td>16.889999</td>\n",
       "      <td>39.880001</td>\n",
       "      <td>15.200000</td>\n",
       "      <td>238.580002</td>\n",
       "      <td>30.242558</td>\n",
       "    </tr>\n",
       "    <tr>\n",
       "      <th>2010-01-05</th>\n",
       "      <td>125.095604</td>\n",
       "      <td>24.580000</td>\n",
       "      <td>34.153332</td>\n",
       "      <td>38.790001</td>\n",
       "      <td>76.650002</td>\n",
       "      <td>19.171511</td>\n",
       "      <td>58.020000</td>\n",
       "      <td>21.629999</td>\n",
       "      <td>NaN</td>\n",
       "      <td>108.540001</td>\n",
       "      <td>...</td>\n",
       "      <td>63.930000</td>\n",
       "      <td>28.261351</td>\n",
       "      <td>16.860001</td>\n",
       "      <td>18.625000</td>\n",
       "      <td>17.969999</td>\n",
       "      <td>17.695000</td>\n",
       "      <td>39.610001</td>\n",
       "      <td>15.110000</td>\n",
       "      <td>239.610001</td>\n",
       "      <td>29.851370</td>\n",
       "    </tr>\n",
       "    <tr>\n",
       "      <th>2010-01-06</th>\n",
       "      <td>124.282982</td>\n",
       "      <td>24.420000</td>\n",
       "      <td>34.648888</td>\n",
       "      <td>38.299999</td>\n",
       "      <td>76.419998</td>\n",
       "      <td>19.595024</td>\n",
       "      <td>59.779999</td>\n",
       "      <td>22.379999</td>\n",
       "      <td>NaN</td>\n",
       "      <td>109.529999</td>\n",
       "      <td>...</td>\n",
       "      <td>64.449997</td>\n",
       "      <td>28.596518</td>\n",
       "      <td>17.100000</td>\n",
       "      <td>18.592501</td>\n",
       "      <td>17.790001</td>\n",
       "      <td>18.344999</td>\n",
       "      <td>39.430000</td>\n",
       "      <td>15.380000</td>\n",
       "      <td>234.669998</td>\n",
       "      <td>29.916569</td>\n",
       "    </tr>\n",
       "    <tr>\n",
       "      <th>2010-01-07</th>\n",
       "      <td>123.852776</td>\n",
       "      <td>24.530001</td>\n",
       "      <td>34.518890</td>\n",
       "      <td>37.990002</td>\n",
       "      <td>75.970001</td>\n",
       "      <td>19.475725</td>\n",
       "      <td>62.200001</td>\n",
       "      <td>22.434999</td>\n",
       "      <td>NaN</td>\n",
       "      <td>107.290001</td>\n",
       "      <td>...</td>\n",
       "      <td>63.990002</td>\n",
       "      <td>29.226633</td>\n",
       "      <td>17.490000</td>\n",
       "      <td>18.510000</td>\n",
       "      <td>17.549999</td>\n",
       "      <td>18.594999</td>\n",
       "      <td>39.360001</td>\n",
       "      <td>15.820000</td>\n",
       "      <td>237.250000</td>\n",
       "      <td>29.627834</td>\n",
       "    </tr>\n",
       "    <tr>\n",
       "      <th>...</th>\n",
       "      <td>...</td>\n",
       "      <td>...</td>\n",
       "      <td>...</td>\n",
       "      <td>...</td>\n",
       "      <td>...</td>\n",
       "      <td>...</td>\n",
       "      <td>...</td>\n",
       "      <td>...</td>\n",
       "      <td>...</td>\n",
       "      <td>...</td>\n",
       "      <td>...</td>\n",
       "      <td>...</td>\n",
       "      <td>...</td>\n",
       "      <td>...</td>\n",
       "      <td>...</td>\n",
       "      <td>...</td>\n",
       "      <td>...</td>\n",
       "      <td>...</td>\n",
       "      <td>...</td>\n",
       "      <td>...</td>\n",
       "      <td>...</td>\n",
       "    </tr>\n",
       "    <tr>\n",
       "      <th>2018-12-21</th>\n",
       "      <td>106.061188</td>\n",
       "      <td>41.849998</td>\n",
       "      <td>148.673340</td>\n",
       "      <td>37.029999</td>\n",
       "      <td>21.910000</td>\n",
       "      <td>13.450000</td>\n",
       "      <td>304.549988</td>\n",
       "      <td>62.619999</td>\n",
       "      <td>22.990000</td>\n",
       "      <td>350.309998</td>\n",
       "      <td>...</td>\n",
       "      <td>128.089996</td>\n",
       "      <td>68.989998</td>\n",
       "      <td>28.200001</td>\n",
       "      <td>122.910004</td>\n",
       "      <td>59.419998</td>\n",
       "      <td>33.770000</td>\n",
       "      <td>127.160004</td>\n",
       "      <td>18.860001</td>\n",
       "      <td>369.160004</td>\n",
       "      <td>28.400000</td>\n",
       "    </tr>\n",
       "    <tr>\n",
       "      <th>2018-12-24</th>\n",
       "      <td>102.839386</td>\n",
       "      <td>40.279999</td>\n",
       "      <td>144.963333</td>\n",
       "      <td>36.500000</td>\n",
       "      <td>20.980000</td>\n",
       "      <td>12.660000</td>\n",
       "      <td>294.160004</td>\n",
       "      <td>60.540001</td>\n",
       "      <td>22.110001</td>\n",
       "      <td>339.019989</td>\n",
       "      <td>...</td>\n",
       "      <td>122.839996</td>\n",
       "      <td>66.529999</td>\n",
       "      <td>28.150000</td>\n",
       "      <td>121.330002</td>\n",
       "      <td>57.070000</td>\n",
       "      <td>33.200001</td>\n",
       "      <td>123.279999</td>\n",
       "      <td>17.950001</td>\n",
       "      <td>361.769989</td>\n",
       "      <td>27.590000</td>\n",
       "    </tr>\n",
       "    <tr>\n",
       "      <th>2018-12-26</th>\n",
       "      <td>106.491394</td>\n",
       "      <td>42.470001</td>\n",
       "      <td>153.993332</td>\n",
       "      <td>40.700001</td>\n",
       "      <td>22.709999</td>\n",
       "      <td>14.170000</td>\n",
       "      <td>313.929993</td>\n",
       "      <td>63.220001</td>\n",
       "      <td>23.530001</td>\n",
       "      <td>349.269989</td>\n",
       "      <td>...</td>\n",
       "      <td>126.709999</td>\n",
       "      <td>68.610001</td>\n",
       "      <td>30.129999</td>\n",
       "      <td>130.839996</td>\n",
       "      <td>59.330002</td>\n",
       "      <td>34.400002</td>\n",
       "      <td>130.839996</td>\n",
       "      <td>18.910000</td>\n",
       "      <td>381.230011</td>\n",
       "      <td>28.309999</td>\n",
       "    </tr>\n",
       "    <tr>\n",
       "      <th>2018-12-27</th>\n",
       "      <td>108.776291</td>\n",
       "      <td>42.910000</td>\n",
       "      <td>156.233337</td>\n",
       "      <td>39.619999</td>\n",
       "      <td>22.900000</td>\n",
       "      <td>14.290000</td>\n",
       "      <td>317.140015</td>\n",
       "      <td>62.939999</td>\n",
       "      <td>23.190001</td>\n",
       "      <td>346.390015</td>\n",
       "      <td>...</td>\n",
       "      <td>127.410004</td>\n",
       "      <td>70.110001</td>\n",
       "      <td>30.040001</td>\n",
       "      <td>135.199997</td>\n",
       "      <td>60.200001</td>\n",
       "      <td>34.770000</td>\n",
       "      <td>133.279999</td>\n",
       "      <td>18.400000</td>\n",
       "      <td>387.799988</td>\n",
       "      <td>28.340000</td>\n",
       "    </tr>\n",
       "    <tr>\n",
       "      <th>2018-12-28</th>\n",
       "      <td>108.059273</td>\n",
       "      <td>42.770000</td>\n",
       "      <td>157.066666</td>\n",
       "      <td>39.919998</td>\n",
       "      <td>22.459999</td>\n",
       "      <td>14.080000</td>\n",
       "      <td>316.380005</td>\n",
       "      <td>61.880001</td>\n",
       "      <td>23.260000</td>\n",
       "      <td>352.850006</td>\n",
       "      <td>...</td>\n",
       "      <td>127.269997</td>\n",
       "      <td>69.800003</td>\n",
       "      <td>30.020000</td>\n",
       "      <td>134.679993</td>\n",
       "      <td>59.650002</td>\n",
       "      <td>34.509998</td>\n",
       "      <td>135.419998</td>\n",
       "      <td>18.379999</td>\n",
       "      <td>388.230011</td>\n",
       "      <td>28.350000</td>\n",
       "    </tr>\n",
       "  </tbody>\n",
       "</table>\n",
       "<p>2264 rows × 381 columns</p>\n",
       "</div>"
      ],
      "text/plain": [
       "                   IBM       CSCO        ISRG       PRGO        DVN  \\\n",
       "Date                                                                  \n",
       "2009-12-31  125.143402  23.940001   33.714443  39.830002  73.500000   \n",
       "2010-01-04  126.625237  24.690001   34.307777  40.349998  76.570000   \n",
       "2010-01-05  125.095604  24.580000   34.153332  38.790001  76.650002   \n",
       "2010-01-06  124.282982  24.420000   34.648888  38.299999  76.419998   \n",
       "2010-01-07  123.852776  24.530001   34.518890  37.990002  75.970001   \n",
       "...                ...        ...         ...        ...        ...   \n",
       "2018-12-21  106.061188  41.849998  148.673340  37.029999  21.910000   \n",
       "2018-12-24  102.839386  40.279999  144.963333  36.500000  20.980000   \n",
       "2018-12-26  106.491394  42.470001  153.993332  40.700001  22.709999   \n",
       "2018-12-27  108.776291  42.910000  156.233337  39.619999  22.900000   \n",
       "2018-12-28  108.059273  42.770000  157.066666  39.919998  22.459999   \n",
       "\n",
       "                  MRO          BA       GILD       NLSN        EQIX  ...  \\\n",
       "Date                                                                 ...   \n",
       "2009-12-31  18.622730   54.130001  21.635000        NaN  106.150002  ...   \n",
       "2010-01-04  19.153616   56.180000  21.650000        NaN  109.559998  ...   \n",
       "2010-01-05  19.171511   58.020000  21.629999        NaN  108.540001  ...   \n",
       "2010-01-06  19.595024   59.779999  22.379999        NaN  109.529999  ...   \n",
       "2010-01-07  19.475725   62.200001  22.434999        NaN  107.290001  ...   \n",
       "...               ...         ...        ...        ...         ...  ...   \n",
       "2018-12-21  13.450000  304.549988  62.619999  22.990000  350.309998  ...   \n",
       "2018-12-24  12.660000  294.160004  60.540001  22.110001  339.019989  ...   \n",
       "2018-12-26  14.170000  313.929993  63.220001  23.530001  349.269989  ...   \n",
       "2018-12-27  14.290000  317.140015  62.939999  23.190001  346.390015  ...   \n",
       "2018-12-28  14.080000  316.380005  61.880001  23.260000  352.850006  ...   \n",
       "\n",
       "                   JNJ        DOV          M         CRM        PGR  \\\n",
       "Date                                                                  \n",
       "2009-12-31   64.410004  27.892666  16.760000   18.442499  17.990000   \n",
       "2010-01-04   64.680000  28.395418  17.059999   18.705000  18.030001   \n",
       "2010-01-05   63.930000  28.261351  16.860001   18.625000  17.969999   \n",
       "2010-01-06   64.449997  28.596518  17.100000   18.592501  17.790001   \n",
       "2010-01-07   63.990002  29.226633  17.490000   18.510000  17.549999   \n",
       "...                ...        ...        ...         ...        ...   \n",
       "2018-12-21  128.089996  68.989998  28.200001  122.910004  59.419998   \n",
       "2018-12-24  122.839996  66.529999  28.150000  121.330002  57.070000   \n",
       "2018-12-26  126.709999  68.610001  30.129999  130.839996  59.330002   \n",
       "2018-12-27  127.410004  70.110001  30.040001  135.199997  60.200001   \n",
       "2018-12-28  127.269997  69.800003  30.020000  134.679993  59.650002   \n",
       "\n",
       "                  BWA        LRCX        NWL         BLK        PPL  \n",
       "Date                                                                 \n",
       "2009-12-31  16.610001   39.209999  15.010000  232.199997  30.093534  \n",
       "2010-01-04  16.889999   39.880001  15.200000  238.580002  30.242558  \n",
       "2010-01-05  17.695000   39.610001  15.110000  239.610001  29.851370  \n",
       "2010-01-06  18.344999   39.430000  15.380000  234.669998  29.916569  \n",
       "2010-01-07  18.594999   39.360001  15.820000  237.250000  29.627834  \n",
       "...               ...         ...        ...         ...        ...  \n",
       "2018-12-21  33.770000  127.160004  18.860001  369.160004  28.400000  \n",
       "2018-12-24  33.200001  123.279999  17.950001  361.769989  27.590000  \n",
       "2018-12-26  34.400002  130.839996  18.910000  381.230011  28.309999  \n",
       "2018-12-27  34.770000  133.279999  18.400000  387.799988  28.340000  \n",
       "2018-12-28  34.509998  135.419998  18.379999  388.230011  28.350000  \n",
       "\n",
       "[2264 rows x 381 columns]"
      ]
     },
     "execution_count": 18,
     "metadata": {},
     "output_type": "execute_result"
    }
   ],
   "source": [
    "final_df"
   ]
  },
  {
   "cell_type": "code",
   "execution_count": 19,
   "metadata": {},
   "outputs": [
    {
     "name": "stdout",
     "output_type": "stream",
     "text": [
      "<class 'pandas.core.frame.DataFrame'>\n",
      "Index: 2264 entries, 2009-12-31 to 2018-12-28\n",
      "Columns: 381 entries, IBM to PPL\n",
      "dtypes: float64(381)\n",
      "memory usage: 6.7+ MB\n"
     ]
    }
   ],
   "source": [
    "final_df.info()"
   ]
  },
  {
   "cell_type": "code",
   "execution_count": 20,
   "metadata": {},
   "outputs": [],
   "source": [
    "final_df.to_csv('sp500_close.csv')"
   ]
  },
  {
   "cell_type": "code",
   "execution_count": 21,
   "metadata": {},
   "outputs": [
    {
     "data": {
      "text/html": [
       "<div>\n",
       "<style scoped>\n",
       "    .dataframe tbody tr th:only-of-type {\n",
       "        vertical-align: middle;\n",
       "    }\n",
       "\n",
       "    .dataframe tbody tr th {\n",
       "        vertical-align: top;\n",
       "    }\n",
       "\n",
       "    .dataframe thead th {\n",
       "        text-align: right;\n",
       "    }\n",
       "</style>\n",
       "<table border=\"1\" class=\"dataframe\">\n",
       "  <thead>\n",
       "    <tr style=\"text-align: right;\">\n",
       "      <th></th>\n",
       "      <th>IBM</th>\n",
       "      <th>CSCO</th>\n",
       "      <th>ISRG</th>\n",
       "      <th>PRGO</th>\n",
       "      <th>DVN</th>\n",
       "      <th>MRO</th>\n",
       "      <th>BA</th>\n",
       "      <th>GILD</th>\n",
       "      <th>NLSN</th>\n",
       "      <th>EQIX</th>\n",
       "      <th>...</th>\n",
       "      <th>JNJ</th>\n",
       "      <th>DOV</th>\n",
       "      <th>M</th>\n",
       "      <th>CRM</th>\n",
       "      <th>PGR</th>\n",
       "      <th>BWA</th>\n",
       "      <th>LRCX</th>\n",
       "      <th>NWL</th>\n",
       "      <th>BLK</th>\n",
       "      <th>PPL</th>\n",
       "    </tr>\n",
       "    <tr>\n",
       "      <th>Date</th>\n",
       "      <th></th>\n",
       "      <th></th>\n",
       "      <th></th>\n",
       "      <th></th>\n",
       "      <th></th>\n",
       "      <th></th>\n",
       "      <th></th>\n",
       "      <th></th>\n",
       "      <th></th>\n",
       "      <th></th>\n",
       "      <th></th>\n",
       "      <th></th>\n",
       "      <th></th>\n",
       "      <th></th>\n",
       "      <th></th>\n",
       "      <th></th>\n",
       "      <th></th>\n",
       "      <th></th>\n",
       "      <th></th>\n",
       "      <th></th>\n",
       "      <th></th>\n",
       "    </tr>\n",
       "  </thead>\n",
       "  <tbody>\n",
       "    <tr>\n",
       "      <th>2009-12-31</th>\n",
       "      <td>125.143402</td>\n",
       "      <td>23.940001</td>\n",
       "      <td>33.714443</td>\n",
       "      <td>39.830002</td>\n",
       "      <td>73.500000</td>\n",
       "      <td>18.622730</td>\n",
       "      <td>54.130001</td>\n",
       "      <td>21.635000</td>\n",
       "      <td>NaN</td>\n",
       "      <td>106.150002</td>\n",
       "      <td>...</td>\n",
       "      <td>64.410004</td>\n",
       "      <td>27.892666</td>\n",
       "      <td>16.760000</td>\n",
       "      <td>18.442499</td>\n",
       "      <td>17.990000</td>\n",
       "      <td>16.610001</td>\n",
       "      <td>39.209999</td>\n",
       "      <td>15.01</td>\n",
       "      <td>232.199997</td>\n",
       "      <td>30.093534</td>\n",
       "    </tr>\n",
       "    <tr>\n",
       "      <th>2010-01-04</th>\n",
       "      <td>126.625237</td>\n",
       "      <td>24.690001</td>\n",
       "      <td>34.307777</td>\n",
       "      <td>40.349998</td>\n",
       "      <td>76.570000</td>\n",
       "      <td>19.153616</td>\n",
       "      <td>56.180000</td>\n",
       "      <td>21.650000</td>\n",
       "      <td>NaN</td>\n",
       "      <td>109.559998</td>\n",
       "      <td>...</td>\n",
       "      <td>64.680000</td>\n",
       "      <td>28.395418</td>\n",
       "      <td>17.059999</td>\n",
       "      <td>18.705000</td>\n",
       "      <td>18.030001</td>\n",
       "      <td>16.889999</td>\n",
       "      <td>39.880001</td>\n",
       "      <td>15.20</td>\n",
       "      <td>238.580002</td>\n",
       "      <td>30.242558</td>\n",
       "    </tr>\n",
       "    <tr>\n",
       "      <th>2010-01-05</th>\n",
       "      <td>125.095604</td>\n",
       "      <td>24.580000</td>\n",
       "      <td>34.153332</td>\n",
       "      <td>38.790001</td>\n",
       "      <td>76.650002</td>\n",
       "      <td>19.171511</td>\n",
       "      <td>58.020000</td>\n",
       "      <td>21.629999</td>\n",
       "      <td>NaN</td>\n",
       "      <td>108.540001</td>\n",
       "      <td>...</td>\n",
       "      <td>63.930000</td>\n",
       "      <td>28.261351</td>\n",
       "      <td>16.860001</td>\n",
       "      <td>18.625000</td>\n",
       "      <td>17.969999</td>\n",
       "      <td>17.695000</td>\n",
       "      <td>39.610001</td>\n",
       "      <td>15.11</td>\n",
       "      <td>239.610001</td>\n",
       "      <td>29.851370</td>\n",
       "    </tr>\n",
       "    <tr>\n",
       "      <th>2010-01-06</th>\n",
       "      <td>124.282982</td>\n",
       "      <td>24.420000</td>\n",
       "      <td>34.648888</td>\n",
       "      <td>38.299999</td>\n",
       "      <td>76.419998</td>\n",
       "      <td>19.595024</td>\n",
       "      <td>59.779999</td>\n",
       "      <td>22.379999</td>\n",
       "      <td>NaN</td>\n",
       "      <td>109.529999</td>\n",
       "      <td>...</td>\n",
       "      <td>64.449997</td>\n",
       "      <td>28.596518</td>\n",
       "      <td>17.100000</td>\n",
       "      <td>18.592501</td>\n",
       "      <td>17.790001</td>\n",
       "      <td>18.344999</td>\n",
       "      <td>39.430000</td>\n",
       "      <td>15.38</td>\n",
       "      <td>234.669998</td>\n",
       "      <td>29.916569</td>\n",
       "    </tr>\n",
       "    <tr>\n",
       "      <th>2010-01-07</th>\n",
       "      <td>123.852776</td>\n",
       "      <td>24.530001</td>\n",
       "      <td>34.518890</td>\n",
       "      <td>37.990002</td>\n",
       "      <td>75.970001</td>\n",
       "      <td>19.475725</td>\n",
       "      <td>62.200001</td>\n",
       "      <td>22.434999</td>\n",
       "      <td>NaN</td>\n",
       "      <td>107.290001</td>\n",
       "      <td>...</td>\n",
       "      <td>63.990002</td>\n",
       "      <td>29.226633</td>\n",
       "      <td>17.490000</td>\n",
       "      <td>18.510000</td>\n",
       "      <td>17.549999</td>\n",
       "      <td>18.594999</td>\n",
       "      <td>39.360001</td>\n",
       "      <td>15.82</td>\n",
       "      <td>237.250000</td>\n",
       "      <td>29.627834</td>\n",
       "    </tr>\n",
       "  </tbody>\n",
       "</table>\n",
       "<p>5 rows × 381 columns</p>\n",
       "</div>"
      ],
      "text/plain": [
       "                   IBM       CSCO       ISRG       PRGO        DVN        MRO  \\\n",
       "Date                                                                            \n",
       "2009-12-31  125.143402  23.940001  33.714443  39.830002  73.500000  18.622730   \n",
       "2010-01-04  126.625237  24.690001  34.307777  40.349998  76.570000  19.153616   \n",
       "2010-01-05  125.095604  24.580000  34.153332  38.790001  76.650002  19.171511   \n",
       "2010-01-06  124.282982  24.420000  34.648888  38.299999  76.419998  19.595024   \n",
       "2010-01-07  123.852776  24.530001  34.518890  37.990002  75.970001  19.475725   \n",
       "\n",
       "                   BA       GILD  NLSN        EQIX  ...        JNJ        DOV  \\\n",
       "Date                                                ...                         \n",
       "2009-12-31  54.130001  21.635000   NaN  106.150002  ...  64.410004  27.892666   \n",
       "2010-01-04  56.180000  21.650000   NaN  109.559998  ...  64.680000  28.395418   \n",
       "2010-01-05  58.020000  21.629999   NaN  108.540001  ...  63.930000  28.261351   \n",
       "2010-01-06  59.779999  22.379999   NaN  109.529999  ...  64.449997  28.596518   \n",
       "2010-01-07  62.200001  22.434999   NaN  107.290001  ...  63.990002  29.226633   \n",
       "\n",
       "                    M        CRM        PGR        BWA       LRCX    NWL  \\\n",
       "Date                                                                       \n",
       "2009-12-31  16.760000  18.442499  17.990000  16.610001  39.209999  15.01   \n",
       "2010-01-04  17.059999  18.705000  18.030001  16.889999  39.880001  15.20   \n",
       "2010-01-05  16.860001  18.625000  17.969999  17.695000  39.610001  15.11   \n",
       "2010-01-06  17.100000  18.592501  17.790001  18.344999  39.430000  15.38   \n",
       "2010-01-07  17.490000  18.510000  17.549999  18.594999  39.360001  15.82   \n",
       "\n",
       "                   BLK        PPL  \n",
       "Date                               \n",
       "2009-12-31  232.199997  30.093534  \n",
       "2010-01-04  238.580002  30.242558  \n",
       "2010-01-05  239.610001  29.851370  \n",
       "2010-01-06  234.669998  29.916569  \n",
       "2010-01-07  237.250000  29.627834  \n",
       "\n",
       "[5 rows x 381 columns]"
      ]
     },
     "execution_count": 21,
     "metadata": {},
     "output_type": "execute_result"
    }
   ],
   "source": [
    "final_df = pd.read_csv('sp500_close.csv', index_col=0,parse_dates=True)\n",
    "final_df.head()"
   ]
  },
  {
   "cell_type": "code",
   "execution_count": 22,
   "metadata": {},
   "outputs": [
    {
     "name": "stdout",
     "output_type": "stream",
     "text": [
      "<class 'pandas.core.frame.DataFrame'>\n",
      "DatetimeIndex: 2264 entries, 2009-12-31 to 2018-12-28\n",
      "Columns: 381 entries, IBM to PPL\n",
      "dtypes: float64(381)\n",
      "memory usage: 6.6 MB\n"
     ]
    }
   ],
   "source": [
    "final_df.info()"
   ]
  },
  {
   "cell_type": "markdown",
   "metadata": {},
   "source": [
    "Missing data"
   ]
  },
  {
   "cell_type": "code",
   "execution_count": 23,
   "metadata": {},
   "outputs": [],
   "source": [
    "#linear interpolation - not a good idea!\n",
    "# using future data for past data.\n",
    "# signal like this extremaly usefal.\n",
    "\n",
    "\n",
    "# forward filling for good random walking\n",
    "# backward fliing use fillna(method ='ffill')\n",
    "\n",
    "#weekends and holidays are not missing drop the row."
   ]
  },
  {
   "cell_type": "code",
   "execution_count": 24,
   "metadata": {},
   "outputs": [],
   "source": [
    "final_df.dropna(axis=0,how='all',inplace=True)"
   ]
  },
  {
   "cell_type": "code",
   "execution_count": 25,
   "metadata": {},
   "outputs": [
    {
     "data": {
      "text/plain": [
       "<AxesSubplot:xlabel='Date'>"
      ]
     },
     "execution_count": 25,
     "metadata": {},
     "output_type": "execute_result"
    },
    {
     "data": {
      "image/png": "[encoded data removed]",
      "text/plain": [
       "<Figure size 432x288 with 1 Axes>"
      ]
     },
     "metadata": {
      "needs_background": "light"
     },
     "output_type": "display_data"
    }
   ],
   "source": [
    "final_df['IBM'].plot()"
   ]
  },
  {
   "cell_type": "code",
   "execution_count": 26,
   "metadata": {},
   "outputs": [
    {
     "data": {
      "text/plain": [
       "IBM     0\n",
       "CSCO    0\n",
       "ISRG    0\n",
       "PRGO    0\n",
       "DVN     0\n",
       "       ..\n",
       "BWA     0\n",
       "LRCX    0\n",
       "NWL     0\n",
       "BLK     0\n",
       "PPL     0\n",
       "Length: 381, dtype: int64"
      ]
     },
     "execution_count": 26,
     "metadata": {},
     "output_type": "execute_result"
    }
   ],
   "source": [
    "final_df.isna().sum()"
   ]
  },
  {
   "cell_type": "code",
   "execution_count": 27,
   "metadata": {},
   "outputs": [
    {
     "data": {
      "text/plain": [
       "29944"
      ]
     },
     "execution_count": 27,
     "metadata": {},
     "output_type": "execute_result"
    }
   ],
   "source": [
    "final_df.isna().sum().sum()"
   ]
  },
  {
   "cell_type": "code",
   "execution_count": 28,
   "metadata": {},
   "outputs": [
    {
     "data": {
      "text/plain": [
       "IBM     125.143402\n",
       "CSCO     23.940001\n",
       "ISRG     33.714443\n",
       "PRGO     39.830002\n",
       "DVN      73.500000\n",
       "           ...    \n",
       "BWA      16.610001\n",
       "LRCX     39.209999\n",
       "NWL      15.010000\n",
       "BLK     232.199997\n",
       "PPL      30.093534\n",
       "Name: 2009-12-31 00:00:00, Length: 381, dtype: float64"
      ]
     },
     "execution_count": 28,
     "metadata": {},
     "output_type": "execute_result"
    }
   ],
   "source": [
    "final_df.iloc[0,:]"
   ]
  },
  {
   "cell_type": "code",
   "execution_count": 29,
   "metadata": {},
   "outputs": [
    {
     "data": {
      "text/plain": [
       "35"
      ]
     },
     "execution_count": 29,
     "metadata": {},
     "output_type": "execute_result"
    }
   ],
   "source": [
    "final_df.iloc[0,:].isna().sum()"
   ]
  },
  {
   "cell_type": "code",
   "execution_count": 30,
   "metadata": {},
   "outputs": [],
   "source": [
    "final_df.fillna(method='ffill', inplace=True)"
   ]
  },
  {
   "cell_type": "code",
   "execution_count": 31,
   "metadata": {},
   "outputs": [
    {
     "data": {
      "text/plain": [
       "35"
      ]
     },
     "execution_count": 31,
     "metadata": {},
     "output_type": "execute_result"
    }
   ],
   "source": [
    "final_df.iloc[0,:].isna().sum()"
   ]
  },
  {
   "cell_type": "code",
   "execution_count": 32,
   "metadata": {},
   "outputs": [],
   "source": [
    "final_df.fillna(method='bfill', inplace=True)"
   ]
  },
  {
   "cell_type": "code",
   "execution_count": 33,
   "metadata": {},
   "outputs": [
    {
     "data": {
      "text/plain": [
       "<AxesSubplot:xlabel='Date'>"
      ]
     },
     "execution_count": 33,
     "metadata": {},
     "output_type": "execute_result"
    },
    {
     "data": {
      "image/png": "[encoded data removed]",
      "text/plain": [
       "<Figure size 720x720 with 1 Axes>"
      ]
     },
     "metadata": {
      "needs_background": "light"
     },
     "output_type": "display_data"
    }
   ],
   "source": [
    "final_df.plot(legend=False, figsize =(10,10))"
   ]
  },
  {
   "cell_type": "code",
   "execution_count": 34,
   "metadata": {},
   "outputs": [],
   "source": [
    "#plot relative stock price"
   ]
  },
  {
   "cell_type": "code",
   "execution_count": 35,
   "metadata": {},
   "outputs": [],
   "source": [
    "final_df_normalized = final_df /final_df.iloc[0]"
   ]
  },
  {
   "cell_type": "code",
   "execution_count": 36,
   "metadata": {},
   "outputs": [
    {
     "data": {
      "text/plain": [
       "<AxesSubplot:xlabel='Date'>"
      ]
     },
     "execution_count": 36,
     "metadata": {},
     "output_type": "execute_result"
    },
    {
     "data": {
      "image/png": "[encoded data removed]",
      "text/plain": [
       "<Figure size 720x720 with 1 Axes>"
      ]
     },
     "metadata": {
      "needs_background": "light"
     },
     "output_type": "display_data"
    }
   ],
   "source": [
    "final_df_normalized.plot(legend=False, figsize =(10,10))"
   ]
  },
  {
   "cell_type": "markdown",
   "metadata": {},
   "source": [
    "#RETURNS"
   ]
  },
  {
   "cell_type": "code",
   "execution_count": 66,
   "metadata": {},
   "outputs": [
    {
     "data": {
      "text/html": [
       "<div>\n",
       "<style scoped>\n",
       "    .dataframe tbody tr th:only-of-type {\n",
       "        vertical-align: middle;\n",
       "    }\n",
       "\n",
       "    .dataframe tbody tr th {\n",
       "        vertical-align: top;\n",
       "    }\n",
       "\n",
       "    .dataframe thead th {\n",
       "        text-align: right;\n",
       "    }\n",
       "</style>\n",
       "<table border=\"1\" class=\"dataframe\">\n",
       "  <thead>\n",
       "    <tr style=\"text-align: right;\">\n",
       "      <th></th>\n",
       "      <th>Date</th>\n",
       "      <th>Open</th>\n",
       "      <th>High</th>\n",
       "      <th>Low</th>\n",
       "      <th>Close</th>\n",
       "      <th>Adj Close</th>\n",
       "      <th>Volume</th>\n",
       "      <th>Name</th>\n",
       "      <th>Prev_close</th>\n",
       "      <th>Return</th>\n",
       "      <th>Log_return</th>\n",
       "    </tr>\n",
       "  </thead>\n",
       "  <tbody>\n",
       "    <tr>\n",
       "      <th>466550</th>\n",
       "      <td>2009-12-31</td>\n",
       "      <td>126.586998</td>\n",
       "      <td>127.007645</td>\n",
       "      <td>125.000000</td>\n",
       "      <td>125.143402</td>\n",
       "      <td>82.345871</td>\n",
       "      <td>4417676</td>\n",
       "      <td>IBM</td>\n",
       "      <td>NaN</td>\n",
       "      <td>NaN</td>\n",
       "      <td>NaN</td>\n",
       "    </tr>\n",
       "    <tr>\n",
       "      <th>466551</th>\n",
       "      <td>2010-01-04</td>\n",
       "      <td>125.411087</td>\n",
       "      <td>127.122368</td>\n",
       "      <td>125.095604</td>\n",
       "      <td>126.625237</td>\n",
       "      <td>83.320961</td>\n",
       "      <td>6438444</td>\n",
       "      <td>IBM</td>\n",
       "      <td>125.143402</td>\n",
       "      <td>0.011841</td>\n",
       "      <td>0.011772</td>\n",
       "    </tr>\n",
       "    <tr>\n",
       "      <th>466552</th>\n",
       "      <td>2010-01-05</td>\n",
       "      <td>125.889099</td>\n",
       "      <td>126.051628</td>\n",
       "      <td>124.378586</td>\n",
       "      <td>125.095604</td>\n",
       "      <td>82.314423</td>\n",
       "      <td>7156104</td>\n",
       "      <td>IBM</td>\n",
       "      <td>126.625237</td>\n",
       "      <td>-0.012080</td>\n",
       "      <td>-0.012154</td>\n",
       "    </tr>\n",
       "    <tr>\n",
       "      <th>466553</th>\n",
       "      <td>2010-01-06</td>\n",
       "      <td>124.933075</td>\n",
       "      <td>125.707458</td>\n",
       "      <td>124.101341</td>\n",
       "      <td>124.282982</td>\n",
       "      <td>81.779747</td>\n",
       "      <td>5863144</td>\n",
       "      <td>IBM</td>\n",
       "      <td>125.095604</td>\n",
       "      <td>-0.006496</td>\n",
       "      <td>-0.006517</td>\n",
       "    </tr>\n",
       "    <tr>\n",
       "      <th>466554</th>\n",
       "      <td>2010-01-07</td>\n",
       "      <td>124.158699</td>\n",
       "      <td>124.521988</td>\n",
       "      <td>123.240921</td>\n",
       "      <td>123.852776</td>\n",
       "      <td>81.496628</td>\n",
       "      <td>6109268</td>\n",
       "      <td>IBM</td>\n",
       "      <td>124.282982</td>\n",
       "      <td>-0.003462</td>\n",
       "      <td>-0.003468</td>\n",
       "    </tr>\n",
       "    <tr>\n",
       "      <th>...</th>\n",
       "      <td>...</td>\n",
       "      <td>...</td>\n",
       "      <td>...</td>\n",
       "      <td>...</td>\n",
       "      <td>...</td>\n",
       "      <td>...</td>\n",
       "      <td>...</td>\n",
       "      <td>...</td>\n",
       "      <td>...</td>\n",
       "      <td>...</td>\n",
       "      <td>...</td>\n",
       "    </tr>\n",
       "    <tr>\n",
       "      <th>468809</th>\n",
       "      <td>2018-12-21</td>\n",
       "      <td>107.552582</td>\n",
       "      <td>110.210327</td>\n",
       "      <td>105.583176</td>\n",
       "      <td>106.061188</td>\n",
       "      <td>89.383278</td>\n",
       "      <td>10864279</td>\n",
       "      <td>IBM</td>\n",
       "      <td>108.049713</td>\n",
       "      <td>-0.018404</td>\n",
       "      <td>-0.018575</td>\n",
       "    </tr>\n",
       "    <tr>\n",
       "      <th>468810</th>\n",
       "      <td>2018-12-24</td>\n",
       "      <td>105.066925</td>\n",
       "      <td>106.118546</td>\n",
       "      <td>102.772469</td>\n",
       "      <td>102.839386</td>\n",
       "      <td>86.668076</td>\n",
       "      <td>3997184</td>\n",
       "      <td>IBM</td>\n",
       "      <td>106.061188</td>\n",
       "      <td>-0.030377</td>\n",
       "      <td>-0.030848</td>\n",
       "    </tr>\n",
       "    <tr>\n",
       "      <th>468811</th>\n",
       "      <td>2018-12-26</td>\n",
       "      <td>103.250481</td>\n",
       "      <td>106.491394</td>\n",
       "      <td>101.281075</td>\n",
       "      <td>106.491394</td>\n",
       "      <td>89.745827</td>\n",
       "      <td>6951507</td>\n",
       "      <td>IBM</td>\n",
       "      <td>102.839386</td>\n",
       "      <td>0.035512</td>\n",
       "      <td>0.034896</td>\n",
       "    </tr>\n",
       "    <tr>\n",
       "      <th>468812</th>\n",
       "      <td>2018-12-27</td>\n",
       "      <td>105.152962</td>\n",
       "      <td>108.776291</td>\n",
       "      <td>104.655830</td>\n",
       "      <td>108.776291</td>\n",
       "      <td>91.671440</td>\n",
       "      <td>6323698</td>\n",
       "      <td>IBM</td>\n",
       "      <td>106.491394</td>\n",
       "      <td>0.021456</td>\n",
       "      <td>0.021229</td>\n",
       "    </tr>\n",
       "    <tr>\n",
       "      <th>468813</th>\n",
       "      <td>2018-12-28</td>\n",
       "      <td>109.196938</td>\n",
       "      <td>109.751434</td>\n",
       "      <td>107.552582</td>\n",
       "      <td>108.059273</td>\n",
       "      <td>91.067162</td>\n",
       "      <td>5352905</td>\n",
       "      <td>IBM</td>\n",
       "      <td>108.776291</td>\n",
       "      <td>-0.006592</td>\n",
       "      <td>-0.006613</td>\n",
       "    </tr>\n",
       "  </tbody>\n",
       "</table>\n",
       "<p>2264 rows × 11 columns</p>\n",
       "</div>"
      ],
      "text/plain": [
       "              Date        Open        High         Low       Close  Adj Close  \\\n",
       "466550  2009-12-31  126.586998  127.007645  125.000000  125.143402  82.345871   \n",
       "466551  2010-01-04  125.411087  127.122368  125.095604  126.625237  83.320961   \n",
       "466552  2010-01-05  125.889099  126.051628  124.378586  125.095604  82.314423   \n",
       "466553  2010-01-06  124.933075  125.707458  124.101341  124.282982  81.779747   \n",
       "466554  2010-01-07  124.158699  124.521988  123.240921  123.852776  81.496628   \n",
       "...            ...         ...         ...         ...         ...        ...   \n",
       "468809  2018-12-21  107.552582  110.210327  105.583176  106.061188  89.383278   \n",
       "468810  2018-12-24  105.066925  106.118546  102.772469  102.839386  86.668076   \n",
       "468811  2018-12-26  103.250481  106.491394  101.281075  106.491394  89.745827   \n",
       "468812  2018-12-27  105.152962  108.776291  104.655830  108.776291  91.671440   \n",
       "468813  2018-12-28  109.196938  109.751434  107.552582  108.059273  91.067162   \n",
       "\n",
       "          Volume Name  Prev_close    Return  Log_return  \n",
       "466550   4417676  IBM         NaN       NaN         NaN  \n",
       "466551   6438444  IBM  125.143402  0.011841    0.011772  \n",
       "466552   7156104  IBM  126.625237 -0.012080   -0.012154  \n",
       "466553   5863144  IBM  125.095604 -0.006496   -0.006517  \n",
       "466554   6109268  IBM  124.282982 -0.003462   -0.003468  \n",
       "...          ...  ...         ...       ...         ...  \n",
       "468809  10864279  IBM  108.049713 -0.018404   -0.018575  \n",
       "468810   3997184  IBM  106.061188 -0.030377   -0.030848  \n",
       "468811   6951507  IBM  102.839386  0.035512    0.034896  \n",
       "468812   6323698  IBM  106.491394  0.021456    0.021229  \n",
       "468813   5352905  IBM  108.776291 -0.006592   -0.006613  \n",
       "\n",
       "[2264 rows x 11 columns]"
      ]
     },
     "execution_count": 66,
     "metadata": {},
     "output_type": "execute_result"
    }
   ],
   "source": [
    "ibm"
   ]
  },
  {
   "cell_type": "code",
   "execution_count": 37,
   "metadata": {},
   "outputs": [
    {
     "name": "stderr",
     "output_type": "stream",
     "text": [
      "/var/folders/6z/zfrlwktn1ls42xz760mlmp880000gn/T/ipykernel_34933/651713847.py:1: SettingWithCopyWarning: \n",
      "A value is trying to be set on a copy of a slice from a DataFrame.\n",
      "Try using .loc[row_indexer,col_indexer] = value instead\n",
      "\n",
      "See the caveats in the documentation: https://pandas.pydata.org/pandas-docs/stable/user_guide/indexing.html#returning-a-view-versus-a-copy\n",
      "  ibm['Prev_close']=ibm['Close'].shift(1)\n"
     ]
    },
    {
     "data": {
      "text/html": [
       "<div>\n",
       "<style scoped>\n",
       "    .dataframe tbody tr th:only-of-type {\n",
       "        vertical-align: middle;\n",
       "    }\n",
       "\n",
       "    .dataframe tbody tr th {\n",
       "        vertical-align: top;\n",
       "    }\n",
       "\n",
       "    .dataframe thead th {\n",
       "        text-align: right;\n",
       "    }\n",
       "</style>\n",
       "<table border=\"1\" class=\"dataframe\">\n",
       "  <thead>\n",
       "    <tr style=\"text-align: right;\">\n",
       "      <th></th>\n",
       "      <th>Date</th>\n",
       "      <th>Open</th>\n",
       "      <th>High</th>\n",
       "      <th>Low</th>\n",
       "      <th>Close</th>\n",
       "      <th>Adj Close</th>\n",
       "      <th>Volume</th>\n",
       "      <th>Name</th>\n",
       "      <th>Prev_close</th>\n",
       "    </tr>\n",
       "  </thead>\n",
       "  <tbody>\n",
       "    <tr>\n",
       "      <th>466550</th>\n",
       "      <td>2009-12-31</td>\n",
       "      <td>126.586998</td>\n",
       "      <td>127.007645</td>\n",
       "      <td>125.000000</td>\n",
       "      <td>125.143402</td>\n",
       "      <td>82.345871</td>\n",
       "      <td>4417676</td>\n",
       "      <td>IBM</td>\n",
       "      <td>NaN</td>\n",
       "    </tr>\n",
       "    <tr>\n",
       "      <th>466551</th>\n",
       "      <td>2010-01-04</td>\n",
       "      <td>125.411087</td>\n",
       "      <td>127.122368</td>\n",
       "      <td>125.095604</td>\n",
       "      <td>126.625237</td>\n",
       "      <td>83.320961</td>\n",
       "      <td>6438444</td>\n",
       "      <td>IBM</td>\n",
       "      <td>125.143402</td>\n",
       "    </tr>\n",
       "    <tr>\n",
       "      <th>466552</th>\n",
       "      <td>2010-01-05</td>\n",
       "      <td>125.889099</td>\n",
       "      <td>126.051628</td>\n",
       "      <td>124.378586</td>\n",
       "      <td>125.095604</td>\n",
       "      <td>82.314423</td>\n",
       "      <td>7156104</td>\n",
       "      <td>IBM</td>\n",
       "      <td>126.625237</td>\n",
       "    </tr>\n",
       "    <tr>\n",
       "      <th>466553</th>\n",
       "      <td>2010-01-06</td>\n",
       "      <td>124.933075</td>\n",
       "      <td>125.707458</td>\n",
       "      <td>124.101341</td>\n",
       "      <td>124.282982</td>\n",
       "      <td>81.779747</td>\n",
       "      <td>5863144</td>\n",
       "      <td>IBM</td>\n",
       "      <td>125.095604</td>\n",
       "    </tr>\n",
       "    <tr>\n",
       "      <th>466554</th>\n",
       "      <td>2010-01-07</td>\n",
       "      <td>124.158699</td>\n",
       "      <td>124.521988</td>\n",
       "      <td>123.240921</td>\n",
       "      <td>123.852776</td>\n",
       "      <td>81.496628</td>\n",
       "      <td>6109268</td>\n",
       "      <td>IBM</td>\n",
       "      <td>124.282982</td>\n",
       "    </tr>\n",
       "  </tbody>\n",
       "</table>\n",
       "</div>"
      ],
      "text/plain": [
       "              Date        Open        High         Low       Close  Adj Close  \\\n",
       "466550  2009-12-31  126.586998  127.007645  125.000000  125.143402  82.345871   \n",
       "466551  2010-01-04  125.411087  127.122368  125.095604  126.625237  83.320961   \n",
       "466552  2010-01-05  125.889099  126.051628  124.378586  125.095604  82.314423   \n",
       "466553  2010-01-06  124.933075  125.707458  124.101341  124.282982  81.779747   \n",
       "466554  2010-01-07  124.158699  124.521988  123.240921  123.852776  81.496628   \n",
       "\n",
       "         Volume Name  Prev_close  \n",
       "466550  4417676  IBM         NaN  \n",
       "466551  6438444  IBM  125.143402  \n",
       "466552  7156104  IBM  126.625237  \n",
       "466553  5863144  IBM  125.095604  \n",
       "466554  6109268  IBM  124.282982  "
      ]
     },
     "execution_count": 37,
     "metadata": {},
     "output_type": "execute_result"
    }
   ],
   "source": [
    "ibm['Prev_close']=ibm['Close'].shift(1)\n",
    "ibm.head()"
   ]
  },
  {
   "cell_type": "code",
   "execution_count": 38,
   "metadata": {},
   "outputs": [
    {
     "name": "stderr",
     "output_type": "stream",
     "text": [
      "/var/folders/6z/zfrlwktn1ls42xz760mlmp880000gn/T/ipykernel_34933/3364450949.py:1: SettingWithCopyWarning: \n",
      "A value is trying to be set on a copy of a slice from a DataFrame.\n",
      "Try using .loc[row_indexer,col_indexer] = value instead\n",
      "\n",
      "See the caveats in the documentation: https://pandas.pydata.org/pandas-docs/stable/user_guide/indexing.html#returning-a-view-versus-a-copy\n",
      "  ibm['Return'] = ibm['Close'] / ibm['Prev_close'] - 1\n"
     ]
    },
    {
     "data": {
      "text/html": [
       "<div>\n",
       "<style scoped>\n",
       "    .dataframe tbody tr th:only-of-type {\n",
       "        vertical-align: middle;\n",
       "    }\n",
       "\n",
       "    .dataframe tbody tr th {\n",
       "        vertical-align: top;\n",
       "    }\n",
       "\n",
       "    .dataframe thead th {\n",
       "        text-align: right;\n",
       "    }\n",
       "</style>\n",
       "<table border=\"1\" class=\"dataframe\">\n",
       "  <thead>\n",
       "    <tr style=\"text-align: right;\">\n",
       "      <th></th>\n",
       "      <th>Date</th>\n",
       "      <th>Open</th>\n",
       "      <th>High</th>\n",
       "      <th>Low</th>\n",
       "      <th>Close</th>\n",
       "      <th>Adj Close</th>\n",
       "      <th>Volume</th>\n",
       "      <th>Name</th>\n",
       "      <th>Prev_close</th>\n",
       "      <th>Return</th>\n",
       "    </tr>\n",
       "  </thead>\n",
       "  <tbody>\n",
       "    <tr>\n",
       "      <th>466550</th>\n",
       "      <td>2009-12-31</td>\n",
       "      <td>126.586998</td>\n",
       "      <td>127.007645</td>\n",
       "      <td>125.000000</td>\n",
       "      <td>125.143402</td>\n",
       "      <td>82.345871</td>\n",
       "      <td>4417676</td>\n",
       "      <td>IBM</td>\n",
       "      <td>NaN</td>\n",
       "      <td>NaN</td>\n",
       "    </tr>\n",
       "    <tr>\n",
       "      <th>466551</th>\n",
       "      <td>2010-01-04</td>\n",
       "      <td>125.411087</td>\n",
       "      <td>127.122368</td>\n",
       "      <td>125.095604</td>\n",
       "      <td>126.625237</td>\n",
       "      <td>83.320961</td>\n",
       "      <td>6438444</td>\n",
       "      <td>IBM</td>\n",
       "      <td>125.143402</td>\n",
       "      <td>0.011841</td>\n",
       "    </tr>\n",
       "    <tr>\n",
       "      <th>466552</th>\n",
       "      <td>2010-01-05</td>\n",
       "      <td>125.889099</td>\n",
       "      <td>126.051628</td>\n",
       "      <td>124.378586</td>\n",
       "      <td>125.095604</td>\n",
       "      <td>82.314423</td>\n",
       "      <td>7156104</td>\n",
       "      <td>IBM</td>\n",
       "      <td>126.625237</td>\n",
       "      <td>-0.012080</td>\n",
       "    </tr>\n",
       "    <tr>\n",
       "      <th>466553</th>\n",
       "      <td>2010-01-06</td>\n",
       "      <td>124.933075</td>\n",
       "      <td>125.707458</td>\n",
       "      <td>124.101341</td>\n",
       "      <td>124.282982</td>\n",
       "      <td>81.779747</td>\n",
       "      <td>5863144</td>\n",
       "      <td>IBM</td>\n",
       "      <td>125.095604</td>\n",
       "      <td>-0.006496</td>\n",
       "    </tr>\n",
       "    <tr>\n",
       "      <th>466554</th>\n",
       "      <td>2010-01-07</td>\n",
       "      <td>124.158699</td>\n",
       "      <td>124.521988</td>\n",
       "      <td>123.240921</td>\n",
       "      <td>123.852776</td>\n",
       "      <td>81.496628</td>\n",
       "      <td>6109268</td>\n",
       "      <td>IBM</td>\n",
       "      <td>124.282982</td>\n",
       "      <td>-0.003462</td>\n",
       "    </tr>\n",
       "  </tbody>\n",
       "</table>\n",
       "</div>"
      ],
      "text/plain": [
       "              Date        Open        High         Low       Close  Adj Close  \\\n",
       "466550  2009-12-31  126.586998  127.007645  125.000000  125.143402  82.345871   \n",
       "466551  2010-01-04  125.411087  127.122368  125.095604  126.625237  83.320961   \n",
       "466552  2010-01-05  125.889099  126.051628  124.378586  125.095604  82.314423   \n",
       "466553  2010-01-06  124.933075  125.707458  124.101341  124.282982  81.779747   \n",
       "466554  2010-01-07  124.158699  124.521988  123.240921  123.852776  81.496628   \n",
       "\n",
       "         Volume Name  Prev_close    Return  \n",
       "466550  4417676  IBM         NaN       NaN  \n",
       "466551  6438444  IBM  125.143402  0.011841  \n",
       "466552  7156104  IBM  126.625237 -0.012080  \n",
       "466553  5863144  IBM  125.095604 -0.006496  \n",
       "466554  6109268  IBM  124.282982 -0.003462  "
      ]
     },
     "execution_count": 38,
     "metadata": {},
     "output_type": "execute_result"
    }
   ],
   "source": [
    "ibm['Return'] = ibm['Close'] / ibm['Prev_close'] - 1\n",
    "ibm.head()"
   ]
  },
  {
   "cell_type": "code",
   "execution_count": 39,
   "metadata": {},
   "outputs": [
    {
     "data": {
      "text/plain": [
       "<AxesSubplot:>"
      ]
     },
     "execution_count": 39,
     "metadata": {},
     "output_type": "execute_result"
    },
    {
     "data": {
      "image/png": "[encoded data removed]",
      "text/plain": [
       "<Figure size 432x288 with 1 Axes>"
      ]
     },
     "metadata": {
      "needs_background": "light"
     },
     "output_type": "display_data"
    }
   ],
   "source": [
    "#histogram of the returns\n",
    "ibm['Return'].hist(bins=100)\n"
   ]
  },
  {
   "cell_type": "code",
   "execution_count": 40,
   "metadata": {},
   "outputs": [
    {
     "data": {
      "text/plain": [
       "(1.1289341896529357e-05, 0.012312219852453121)"
      ]
     },
     "execution_count": 40,
     "metadata": {},
     "output_type": "execute_result"
    }
   ],
   "source": [
    "ibm['Return'].mean(),ibm['Return'].std()"
   ]
  },
  {
   "cell_type": "code",
   "execution_count": 41,
   "metadata": {},
   "outputs": [],
   "source": [
    "import numpy as np"
   ]
  },
  {
   "cell_type": "code",
   "execution_count": 42,
   "metadata": {},
   "outputs": [
    {
     "name": "stderr",
     "output_type": "stream",
     "text": [
      "/var/folders/6z/zfrlwktn1ls42xz760mlmp880000gn/T/ipykernel_34933/3901611927.py:1: SettingWithCopyWarning: \n",
      "A value is trying to be set on a copy of a slice from a DataFrame.\n",
      "Try using .loc[row_indexer,col_indexer] = value instead\n",
      "\n",
      "See the caveats in the documentation: https://pandas.pydata.org/pandas-docs/stable/user_guide/indexing.html#returning-a-view-versus-a-copy\n",
      "  ibm['Log_return'] = np.log(ibm['Return'] + 1)\n"
     ]
    },
    {
     "data": {
      "text/html": [
       "<div>\n",
       "<style scoped>\n",
       "    .dataframe tbody tr th:only-of-type {\n",
       "        vertical-align: middle;\n",
       "    }\n",
       "\n",
       "    .dataframe tbody tr th {\n",
       "        vertical-align: top;\n",
       "    }\n",
       "\n",
       "    .dataframe thead th {\n",
       "        text-align: right;\n",
       "    }\n",
       "</style>\n",
       "<table border=\"1\" class=\"dataframe\">\n",
       "  <thead>\n",
       "    <tr style=\"text-align: right;\">\n",
       "      <th></th>\n",
       "      <th>Date</th>\n",
       "      <th>Open</th>\n",
       "      <th>High</th>\n",
       "      <th>Low</th>\n",
       "      <th>Close</th>\n",
       "      <th>Adj Close</th>\n",
       "      <th>Volume</th>\n",
       "      <th>Name</th>\n",
       "      <th>Prev_close</th>\n",
       "      <th>Return</th>\n",
       "      <th>Log_return</th>\n",
       "    </tr>\n",
       "  </thead>\n",
       "  <tbody>\n",
       "    <tr>\n",
       "      <th>466550</th>\n",
       "      <td>2009-12-31</td>\n",
       "      <td>126.586998</td>\n",
       "      <td>127.007645</td>\n",
       "      <td>125.000000</td>\n",
       "      <td>125.143402</td>\n",
       "      <td>82.345871</td>\n",
       "      <td>4417676</td>\n",
       "      <td>IBM</td>\n",
       "      <td>NaN</td>\n",
       "      <td>NaN</td>\n",
       "      <td>NaN</td>\n",
       "    </tr>\n",
       "    <tr>\n",
       "      <th>466551</th>\n",
       "      <td>2010-01-04</td>\n",
       "      <td>125.411087</td>\n",
       "      <td>127.122368</td>\n",
       "      <td>125.095604</td>\n",
       "      <td>126.625237</td>\n",
       "      <td>83.320961</td>\n",
       "      <td>6438444</td>\n",
       "      <td>IBM</td>\n",
       "      <td>125.143402</td>\n",
       "      <td>0.011841</td>\n",
       "      <td>0.011772</td>\n",
       "    </tr>\n",
       "    <tr>\n",
       "      <th>466552</th>\n",
       "      <td>2010-01-05</td>\n",
       "      <td>125.889099</td>\n",
       "      <td>126.051628</td>\n",
       "      <td>124.378586</td>\n",
       "      <td>125.095604</td>\n",
       "      <td>82.314423</td>\n",
       "      <td>7156104</td>\n",
       "      <td>IBM</td>\n",
       "      <td>126.625237</td>\n",
       "      <td>-0.012080</td>\n",
       "      <td>-0.012154</td>\n",
       "    </tr>\n",
       "    <tr>\n",
       "      <th>466553</th>\n",
       "      <td>2010-01-06</td>\n",
       "      <td>124.933075</td>\n",
       "      <td>125.707458</td>\n",
       "      <td>124.101341</td>\n",
       "      <td>124.282982</td>\n",
       "      <td>81.779747</td>\n",
       "      <td>5863144</td>\n",
       "      <td>IBM</td>\n",
       "      <td>125.095604</td>\n",
       "      <td>-0.006496</td>\n",
       "      <td>-0.006517</td>\n",
       "    </tr>\n",
       "    <tr>\n",
       "      <th>466554</th>\n",
       "      <td>2010-01-07</td>\n",
       "      <td>124.158699</td>\n",
       "      <td>124.521988</td>\n",
       "      <td>123.240921</td>\n",
       "      <td>123.852776</td>\n",
       "      <td>81.496628</td>\n",
       "      <td>6109268</td>\n",
       "      <td>IBM</td>\n",
       "      <td>124.282982</td>\n",
       "      <td>-0.003462</td>\n",
       "      <td>-0.003468</td>\n",
       "    </tr>\n",
       "  </tbody>\n",
       "</table>\n",
       "</div>"
      ],
      "text/plain": [
       "              Date        Open        High         Low       Close  Adj Close  \\\n",
       "466550  2009-12-31  126.586998  127.007645  125.000000  125.143402  82.345871   \n",
       "466551  2010-01-04  125.411087  127.122368  125.095604  126.625237  83.320961   \n",
       "466552  2010-01-05  125.889099  126.051628  124.378586  125.095604  82.314423   \n",
       "466553  2010-01-06  124.933075  125.707458  124.101341  124.282982  81.779747   \n",
       "466554  2010-01-07  124.158699  124.521988  123.240921  123.852776  81.496628   \n",
       "\n",
       "         Volume Name  Prev_close    Return  Log_return  \n",
       "466550  4417676  IBM         NaN       NaN         NaN  \n",
       "466551  6438444  IBM  125.143402  0.011841    0.011772  \n",
       "466552  7156104  IBM  126.625237 -0.012080   -0.012154  \n",
       "466553  5863144  IBM  125.095604 -0.006496   -0.006517  \n",
       "466554  6109268  IBM  124.282982 -0.003462   -0.003468  "
      ]
     },
     "execution_count": 42,
     "metadata": {},
     "output_type": "execute_result"
    }
   ],
   "source": [
    "ibm['Log_return'] = np.log(ibm['Return'] + 1)\n",
    "ibm.head()\n"
   ]
  },
  {
   "cell_type": "code",
   "execution_count": 43,
   "metadata": {},
   "outputs": [
    {
     "data": {
      "text/plain": [
       "<AxesSubplot:>"
      ]
     },
     "execution_count": 43,
     "metadata": {},
     "output_type": "execute_result"
    },
    {
     "data": {
      "image/png": "[encoded data removed]",
      "text/plain": [
       "<Figure size 432x288 with 1 Axes>"
      ]
     },
     "metadata": {
      "needs_background": "light"
     },
     "output_type": "display_data"
    }
   ],
   "source": [
    "ibm['Log_return'].hist(bins=100)"
   ]
  },
  {
   "cell_type": "code",
   "execution_count": 44,
   "metadata": {},
   "outputs": [
    {
     "data": {
      "text/plain": [
       "(-6.486098014309617e-05, 0.01236072790462744)"
      ]
     },
     "execution_count": 44,
     "metadata": {},
     "output_type": "execute_result"
    }
   ],
   "source": [
    "ibm['Log_return'].mean(),ibm['Log_return'].std()"
   ]
  },
  {
   "cell_type": "markdown",
   "metadata": {},
   "source": [
    "QQ-PLOT"
   ]
  },
  {
   "cell_type": "code",
   "execution_count": 45,
   "metadata": {},
   "outputs": [],
   "source": [
    "from scipy.stats import norm"
   ]
  },
  {
   "cell_type": "code",
   "execution_count": 46,
   "metadata": {},
   "outputs": [],
   "source": [
    "x_list =np.linspace(\n",
    "    ibm['Return'].min(),    \n",
    "    ibm['Return'].max(),\n",
    "    100\n",
    ")\n",
    "# distiribution cotrol\n",
    "# span x coordinates from min to max return\n"
   ]
  },
  {
   "cell_type": "code",
   "execution_count": 47,
   "metadata": {},
   "outputs": [],
   "source": [
    "y_list =norm.pdf(x_list,loc=ibm['Return'].mean(), scale=ibm['Return'].std())\n",
    "#prob d func with mean and std ev\n"
   ]
  },
  {
   "cell_type": "code",
   "execution_count": 48,
   "metadata": {},
   "outputs": [],
   "source": [
    "import matplotlib.pyplot as plt"
   ]
  },
  {
   "cell_type": "code",
   "execution_count": 49,
   "metadata": {},
   "outputs": [
    {
     "data": {
      "text/plain": [
       "<AxesSubplot:>"
      ]
     },
     "execution_count": 49,
     "metadata": {},
     "output_type": "execute_result"
    },
    {
     "data": {
      "image/png": "[encoded data removed]",
      "text/plain": [
       "<Figure size 432x288 with 1 Axes>"
      ]
     },
     "metadata": {
      "needs_background": "light"
     },
     "output_type": "display_data"
    }
   ],
   "source": [
    "plt.plot(x_list,y_list);\n",
    "ibm['Return'].hist(bins=100,density=True)"
   ]
  },
  {
   "cell_type": "code",
   "execution_count": 50,
   "metadata": {},
   "outputs": [],
   "source": [
    "# center data has higher freq than predicted by nr dst\n",
    "# pretty sig gaps in the shoulder of func."
   ]
  },
  {
   "cell_type": "code",
   "execution_count": 51,
   "metadata": {},
   "outputs": [],
   "source": [
    "from scipy.stats import probplot"
   ]
  },
  {
   "cell_type": "code",
   "execution_count": 52,
   "metadata": {},
   "outputs": [
    {
     "data": {
      "image/png": "[encoded data removed]",
      "text/plain": [
       "<Figure size 432x288 with 1 Axes>"
      ]
     },
     "metadata": {
      "needs_background": "light"
     },
     "output_type": "display_data"
    }
   ],
   "source": [
    "probplot(ibm['Return'].dropna(),dist='norm',fit=True,plot=plt);"
   ]
  },
  {
   "cell_type": "code",
   "execution_count": 53,
   "metadata": {},
   "outputs": [],
   "source": [
    "import statsmodels.api as sm"
   ]
  },
  {
   "cell_type": "code",
   "execution_count": 54,
   "metadata": {},
   "outputs": [
    {
     "data": {
      "image/png": "[encoded data removed]",
      "text/plain": [
       "<Figure size 432x288 with 1 Axes>"
      ]
     },
     "metadata": {
      "needs_background": "light"
     },
     "output_type": "display_data"
    }
   ],
   "source": [
    "sm.qqplot(ibm['Return'].dropna(), line= 's');\n",
    "# line is standardized fit the regresion line.\n"
   ]
  },
  {
   "cell_type": "code",
   "execution_count": 55,
   "metadata": {},
   "outputs": [],
   "source": [
    "#log value is not changed a lot x+1 is almost equal\n"
   ]
  },
  {
   "cell_type": "markdown",
   "metadata": {},
   "source": [
    "T-DIST"
   ]
  },
  {
   "cell_type": "code",
   "execution_count": 56,
   "metadata": {},
   "outputs": [],
   "source": [
    "from scipy.stats import t"
   ]
  },
  {
   "cell_type": "code",
   "execution_count": 57,
   "metadata": {},
   "outputs": [],
   "source": [
    "params = t.fit(ibm['Return'].dropna())"
   ]
  },
  {
   "cell_type": "code",
   "execution_count": 58,
   "metadata": {},
   "outputs": [
    {
     "data": {
      "text/plain": [
       "(3.451018487031018, 0.00022409015216253027, 0.008252991277798553)"
      ]
     },
     "execution_count": 58,
     "metadata": {},
     "output_type": "execute_result"
    }
   ],
   "source": [
    "params"
   ]
  },
  {
   "cell_type": "code",
   "execution_count": 59,
   "metadata": {},
   "outputs": [],
   "source": [
    "df, loc, scale =params"
   ]
  },
  {
   "cell_type": "code",
   "execution_count": 60,
   "metadata": {},
   "outputs": [],
   "source": [
    "y_list =t.pdf(x_list,df,loc,scale)"
   ]
  },
  {
   "cell_type": "code",
   "execution_count": 61,
   "metadata": {},
   "outputs": [
    {
     "data": {
      "text/plain": [
       "<AxesSubplot:>"
      ]
     },
     "execution_count": 61,
     "metadata": {},
     "output_type": "execute_result"
    },
    {
     "data": {
      "image/png": "[encoded data removed]",
      "text/plain": [
       "<Figure size 432x288 with 1 Axes>"
      ]
     },
     "metadata": {
      "needs_background": "light"
     },
     "output_type": "display_data"
    }
   ],
   "source": [
    "plt.plot(x_list,y_list)\n",
    "ibm['Return'].hist(bins=100,density=True)"
   ]
  },
  {
   "cell_type": "code",
   "execution_count": 62,
   "metadata": {},
   "outputs": [],
   "source": [
    "#weight is being distributed across the tables and the head.\n"
   ]
  },
  {
   "cell_type": "code",
   "execution_count": 63,
   "metadata": {},
   "outputs": [],
   "source": [
    "import statsmodels.api as sm"
   ]
  },
  {
   "cell_type": "code",
   "execution_count": 64,
   "metadata": {},
   "outputs": [],
   "source": [
    "class myt:\n",
    "    def __init__(self,df):\n",
    "        self.df =df\n",
    "    def fit(self,x):\n",
    "        return t.fit(x)\n",
    "    def ppf(self,x,loc=0,scale=1):\n",
    "        return t.ppf(x,self.df,loc,scale)"
   ]
  },
  {
   "cell_type": "code",
   "execution_count": 65,
   "metadata": {},
   "outputs": [
    {
     "data": {
      "image/png": "[encoded data removed]",
      "text/plain": [
       "<Figure size 432x288 with 1 Axes>"
      ]
     },
     "metadata": {
      "needs_background": "light"
     },
     "output_type": "display_data"
    }
   ],
   "source": [
    "sm.qqplot(ibm['Return'].dropna(), dist=myt(df), line='s');\n",
    "# line is standardized fit the regresion line.\n"
   ]
  },
  {
   "cell_type": "code",
   "execution_count": null,
   "metadata": {},
   "outputs": [],
   "source": []
  }
 ],
 "metadata": {
  "interpreter": {
   "hash": "98118ddd61f7a6802961398b1191dbb61641adafe3032adf6c32df1b58912416"
  },
  "kernelspec": {
   "display_name": "Python 3.9.10 ('venv': venv)",
   "language": "python",
   "name": "python3"
  },
  "language_info": {
   "codemirror_mode": {
    "name": "ipython",
    "version": 3
   },
   "file_extension": ".py",
   "mimetype": "text/x-python",
   "name": "python",
   "nbconvert_exporter": "python",
   "pygments_lexer": "ipython3",
   "version": "3.9.10"
  },
  "orig_nbformat": 4
 },
 "nbformat": 4,
 "nbformat_minor": 2
}
