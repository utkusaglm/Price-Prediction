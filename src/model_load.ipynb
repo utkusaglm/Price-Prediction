{
 "cells": [
  {
   "cell_type": "code",
   "execution_count": 1,
   "metadata": {},
   "outputs": [],
   "source": [
    "from feature_engineering import get_features_df_and_train_columns"
   ]
  },
  {
   "cell_type": "code",
   "execution_count": 4,
   "metadata": {},
   "outputs": [],
   "source": [
    "new_df,t_columns = get_features_df_and_train_columns()"
   ]
  },
  {
   "cell_type": "code",
   "execution_count": 7,
   "metadata": {},
   "outputs": [
    {
     "data": {
      "text/plain": [
       "{'MSFT': ['MSFT_Spread',\n",
       "  'MSFT_Spread14_e',\n",
       "  'MSFT_Vwap',\n",
       "  'MSFT_vwap_var',\n",
       "  'AAPL_Shifted_Log_Return',\n",
       "  'NVDA_Shifted_Log_Return',\n",
       "  'UBER_Shifted_Log_Return'],\n",
       " 'AAPL': ['AAPL_Spread',\n",
       "  'AAPL_Spread14_e',\n",
       "  'AAPL_Vwap',\n",
       "  'AAPL_vwap_var',\n",
       "  'MSFT_Shifted_Log_Return',\n",
       "  'NVDA_Shifted_Log_Return',\n",
       "  'UBER_Shifted_Log_Return'],\n",
       " 'NVDA': ['NVDA_Spread',\n",
       "  'NVDA_Spread14_e',\n",
       "  'NVDA_Vwap',\n",
       "  'NVDA_vwap_var',\n",
       "  'MSFT_Shifted_Log_Return',\n",
       "  'AAPL_Shifted_Log_Return',\n",
       "  'UBER_Shifted_Log_Return'],\n",
       " 'UBER': ['UBER_Spread',\n",
       "  'UBER_Spread14_e',\n",
       "  'UBER_Vwap',\n",
       "  'UBER_vwap_var',\n",
       "  'MSFT_Shifted_Log_Return',\n",
       "  'AAPL_Shifted_Log_Return',\n",
       "  'NVDA_Shifted_Log_Return']}"
      ]
     },
     "execution_count": 7,
     "metadata": {},
     "output_type": "execute_result"
    }
   ],
   "source": []
  }
 ],
 "metadata": {
  "interpreter": {
   "hash": "98118ddd61f7a6802961398b1191dbb61641adafe3032adf6c32df1b58912416"
  },
  "kernelspec": {
   "display_name": "Python 3.9.10 ('venv': venv)",
   "language": "python",
   "name": "python3"
  },
  "language_info": {
   "codemirror_mode": {
    "name": "ipython",
    "version": 3
   },
   "file_extension": ".py",
   "mimetype": "text/x-python",
   "name": "python",
   "nbconvert_exporter": "python",
   "pygments_lexer": "ipython3",
   "version": "3.9.10"
  },
  "orig_nbformat": 4
 },
 "nbformat": 4,
 "nbformat_minor": 2
}
