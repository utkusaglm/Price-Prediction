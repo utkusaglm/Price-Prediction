{
 "cells": [
  {
   "cell_type": "code",
   "execution_count": 127,
   "metadata": {},
   "outputs": [],
   "source": [
    "import pandas as pd\n",
    "import numpy as np\n",
    "import matplotlib.pyplot as plt\n",
    "from sklearn.metrics import roc_auc_score\n",
    "from sklearn.metrics import roc_curve"
   ]
  },
  {
   "cell_type": "code",
   "execution_count": 226,
   "metadata": {},
   "outputs": [],
   "source": [
    "df =pd.read_csv('sp500_closefull.csv',index_col=0,parse_dates=True)"
   ]
  },
  {
   "cell_type": "code",
   "execution_count": 227,
   "metadata": {},
   "outputs": [
    {
     "data": {
      "text/html": [
       "<div>\n",
       "<style scoped>\n",
       "    .dataframe tbody tr th:only-of-type {\n",
       "        vertical-align: middle;\n",
       "    }\n",
       "\n",
       "    .dataframe tbody tr th {\n",
       "        vertical-align: top;\n",
       "    }\n",
       "\n",
       "    .dataframe thead th {\n",
       "        text-align: right;\n",
       "    }\n",
       "</style>\n",
       "<table border=\"1\" class=\"dataframe\">\n",
       "  <thead>\n",
       "    <tr style=\"text-align: right;\">\n",
       "      <th></th>\n",
       "      <th>CSCO</th>\n",
       "      <th>UAL</th>\n",
       "      <th>TROW</th>\n",
       "      <th>ISRG</th>\n",
       "      <th>PRGO</th>\n",
       "      <th>TPR</th>\n",
       "      <th>DVN</th>\n",
       "      <th>MRO</th>\n",
       "      <th>BA</th>\n",
       "      <th>VRTX</th>\n",
       "      <th>...</th>\n",
       "      <th>M</th>\n",
       "      <th>CRM</th>\n",
       "      <th>PGR</th>\n",
       "      <th>WAT</th>\n",
       "      <th>BWA</th>\n",
       "      <th>LRCX</th>\n",
       "      <th>NWL</th>\n",
       "      <th>UAA</th>\n",
       "      <th>BLK</th>\n",
       "      <th>PPL</th>\n",
       "    </tr>\n",
       "    <tr>\n",
       "      <th>Date</th>\n",
       "      <th></th>\n",
       "      <th></th>\n",
       "      <th></th>\n",
       "      <th></th>\n",
       "      <th></th>\n",
       "      <th></th>\n",
       "      <th></th>\n",
       "      <th></th>\n",
       "      <th></th>\n",
       "      <th></th>\n",
       "      <th></th>\n",
       "      <th></th>\n",
       "      <th></th>\n",
       "      <th></th>\n",
       "      <th></th>\n",
       "      <th></th>\n",
       "      <th></th>\n",
       "      <th></th>\n",
       "      <th></th>\n",
       "      <th></th>\n",
       "      <th></th>\n",
       "    </tr>\n",
       "  </thead>\n",
       "  <tbody>\n",
       "    <tr>\n",
       "      <th>2010-01-04</th>\n",
       "      <td>24.690001</td>\n",
       "      <td>12.800000</td>\n",
       "      <td>54.400002</td>\n",
       "      <td>102.923332</td>\n",
       "      <td>40.349998</td>\n",
       "      <td>36.310001</td>\n",
       "      <td>76.570000</td>\n",
       "      <td>19.153616</td>\n",
       "      <td>56.180000</td>\n",
       "      <td>44.240002</td>\n",
       "      <td>...</td>\n",
       "      <td>17.059999</td>\n",
       "      <td>18.705000</td>\n",
       "      <td>18.030001</td>\n",
       "      <td>61.630001</td>\n",
       "      <td>16.889999</td>\n",
       "      <td>39.880001</td>\n",
       "      <td>15.200000</td>\n",
       "      <td>3.51000</td>\n",
       "      <td>238.580002</td>\n",
       "      <td>30.242558</td>\n",
       "    </tr>\n",
       "    <tr>\n",
       "      <th>2010-01-05</th>\n",
       "      <td>24.580000</td>\n",
       "      <td>13.910000</td>\n",
       "      <td>55.009998</td>\n",
       "      <td>102.459999</td>\n",
       "      <td>38.790001</td>\n",
       "      <td>36.750000</td>\n",
       "      <td>76.650002</td>\n",
       "      <td>19.171511</td>\n",
       "      <td>58.020000</td>\n",
       "      <td>42.779999</td>\n",
       "      <td>...</td>\n",
       "      <td>16.860001</td>\n",
       "      <td>18.625000</td>\n",
       "      <td>17.969999</td>\n",
       "      <td>60.790001</td>\n",
       "      <td>17.695000</td>\n",
       "      <td>39.610001</td>\n",
       "      <td>15.110000</td>\n",
       "      <td>3.61500</td>\n",
       "      <td>239.610001</td>\n",
       "      <td>29.851370</td>\n",
       "    </tr>\n",
       "    <tr>\n",
       "      <th>2010-01-06</th>\n",
       "      <td>24.420000</td>\n",
       "      <td>13.270000</td>\n",
       "      <td>54.150002</td>\n",
       "      <td>103.946663</td>\n",
       "      <td>38.299999</td>\n",
       "      <td>37.470001</td>\n",
       "      <td>76.419998</td>\n",
       "      <td>19.595024</td>\n",
       "      <td>59.779999</td>\n",
       "      <td>42.029999</td>\n",
       "      <td>...</td>\n",
       "      <td>17.100000</td>\n",
       "      <td>18.592501</td>\n",
       "      <td>17.790001</td>\n",
       "      <td>60.900002</td>\n",
       "      <td>18.344999</td>\n",
       "      <td>39.430000</td>\n",
       "      <td>15.380000</td>\n",
       "      <td>3.69500</td>\n",
       "      <td>234.669998</td>\n",
       "      <td>29.916569</td>\n",
       "    </tr>\n",
       "    <tr>\n",
       "      <th>2010-01-07</th>\n",
       "      <td>24.530001</td>\n",
       "      <td>13.550000</td>\n",
       "      <td>54.110001</td>\n",
       "      <td>103.556664</td>\n",
       "      <td>37.990002</td>\n",
       "      <td>37.490002</td>\n",
       "      <td>75.970001</td>\n",
       "      <td>19.475725</td>\n",
       "      <td>62.200001</td>\n",
       "      <td>41.500000</td>\n",
       "      <td>...</td>\n",
       "      <td>17.490000</td>\n",
       "      <td>18.510000</td>\n",
       "      <td>17.549999</td>\n",
       "      <td>61.160000</td>\n",
       "      <td>18.594999</td>\n",
       "      <td>39.360001</td>\n",
       "      <td>15.820000</td>\n",
       "      <td>3.65125</td>\n",
       "      <td>237.250000</td>\n",
       "      <td>29.627834</td>\n",
       "    </tr>\n",
       "    <tr>\n",
       "      <th>2010-01-08</th>\n",
       "      <td>24.660000</td>\n",
       "      <td>13.330000</td>\n",
       "      <td>53.900002</td>\n",
       "      <td>102.986664</td>\n",
       "      <td>37.779999</td>\n",
       "      <td>37.270000</td>\n",
       "      <td>76.120003</td>\n",
       "      <td>19.505550</td>\n",
       "      <td>61.599998</td>\n",
       "      <td>40.669998</td>\n",
       "      <td>...</td>\n",
       "      <td>16.920000</td>\n",
       "      <td>18.537500</td>\n",
       "      <td>17.709999</td>\n",
       "      <td>61.209999</td>\n",
       "      <td>18.254999</td>\n",
       "      <td>40.349998</td>\n",
       "      <td>15.770000</td>\n",
       "      <td>3.64375</td>\n",
       "      <td>238.919998</td>\n",
       "      <td>29.534695</td>\n",
       "    </tr>\n",
       "    <tr>\n",
       "      <th>...</th>\n",
       "      <td>...</td>\n",
       "      <td>...</td>\n",
       "      <td>...</td>\n",
       "      <td>...</td>\n",
       "      <td>...</td>\n",
       "      <td>...</td>\n",
       "      <td>...</td>\n",
       "      <td>...</td>\n",
       "      <td>...</td>\n",
       "      <td>...</td>\n",
       "      <td>...</td>\n",
       "      <td>...</td>\n",
       "      <td>...</td>\n",
       "      <td>...</td>\n",
       "      <td>...</td>\n",
       "      <td>...</td>\n",
       "      <td>...</td>\n",
       "      <td>...</td>\n",
       "      <td>...</td>\n",
       "      <td>...</td>\n",
       "      <td>...</td>\n",
       "    </tr>\n",
       "    <tr>\n",
       "      <th>2018-12-24</th>\n",
       "      <td>40.279999</td>\n",
       "      <td>79.120003</td>\n",
       "      <td>84.949997</td>\n",
       "      <td>434.890015</td>\n",
       "      <td>36.500000</td>\n",
       "      <td>32.299999</td>\n",
       "      <td>20.980000</td>\n",
       "      <td>12.660000</td>\n",
       "      <td>294.160004</td>\n",
       "      <td>151.910004</td>\n",
       "      <td>...</td>\n",
       "      <td>28.150000</td>\n",
       "      <td>121.330002</td>\n",
       "      <td>57.070000</td>\n",
       "      <td>173.539993</td>\n",
       "      <td>33.200001</td>\n",
       "      <td>123.279999</td>\n",
       "      <td>17.950001</td>\n",
       "      <td>16.75000</td>\n",
       "      <td>361.769989</td>\n",
       "      <td>27.590000</td>\n",
       "    </tr>\n",
       "    <tr>\n",
       "      <th>2018-12-26</th>\n",
       "      <td>42.470001</td>\n",
       "      <td>83.800003</td>\n",
       "      <td>89.650002</td>\n",
       "      <td>461.980011</td>\n",
       "      <td>40.700001</td>\n",
       "      <td>33.889999</td>\n",
       "      <td>22.709999</td>\n",
       "      <td>14.170000</td>\n",
       "      <td>313.929993</td>\n",
       "      <td>161.839996</td>\n",
       "      <td>...</td>\n",
       "      <td>30.129999</td>\n",
       "      <td>130.839996</td>\n",
       "      <td>59.330002</td>\n",
       "      <td>181.190002</td>\n",
       "      <td>34.400002</td>\n",
       "      <td>130.839996</td>\n",
       "      <td>18.910000</td>\n",
       "      <td>17.82000</td>\n",
       "      <td>381.230011</td>\n",
       "      <td>28.309999</td>\n",
       "    </tr>\n",
       "    <tr>\n",
       "      <th>2018-12-27</th>\n",
       "      <td>42.910000</td>\n",
       "      <td>83.040001</td>\n",
       "      <td>91.309998</td>\n",
       "      <td>468.700012</td>\n",
       "      <td>39.619999</td>\n",
       "      <td>34.150002</td>\n",
       "      <td>22.900000</td>\n",
       "      <td>14.290000</td>\n",
       "      <td>317.140015</td>\n",
       "      <td>162.369995</td>\n",
       "      <td>...</td>\n",
       "      <td>30.040001</td>\n",
       "      <td>135.199997</td>\n",
       "      <td>60.200001</td>\n",
       "      <td>185.179993</td>\n",
       "      <td>34.770000</td>\n",
       "      <td>133.279999</td>\n",
       "      <td>18.400000</td>\n",
       "      <td>17.91000</td>\n",
       "      <td>387.799988</td>\n",
       "      <td>28.340000</td>\n",
       "    </tr>\n",
       "    <tr>\n",
       "      <th>2018-12-28</th>\n",
       "      <td>42.770000</td>\n",
       "      <td>83.169998</td>\n",
       "      <td>91.339996</td>\n",
       "      <td>471.200012</td>\n",
       "      <td>39.919998</td>\n",
       "      <td>33.810001</td>\n",
       "      <td>22.459999</td>\n",
       "      <td>14.080000</td>\n",
       "      <td>316.380005</td>\n",
       "      <td>161.419998</td>\n",
       "      <td>...</td>\n",
       "      <td>30.020000</td>\n",
       "      <td>134.679993</td>\n",
       "      <td>59.650002</td>\n",
       "      <td>184.759995</td>\n",
       "      <td>34.509998</td>\n",
       "      <td>135.419998</td>\n",
       "      <td>18.379999</td>\n",
       "      <td>17.52000</td>\n",
       "      <td>388.230011</td>\n",
       "      <td>28.350000</td>\n",
       "    </tr>\n",
       "    <tr>\n",
       "      <th>2018-12-31</th>\n",
       "      <td>NaN</td>\n",
       "      <td>NaN</td>\n",
       "      <td>NaN</td>\n",
       "      <td>NaN</td>\n",
       "      <td>NaN</td>\n",
       "      <td>NaN</td>\n",
       "      <td>NaN</td>\n",
       "      <td>NaN</td>\n",
       "      <td>NaN</td>\n",
       "      <td>NaN</td>\n",
       "      <td>...</td>\n",
       "      <td>NaN</td>\n",
       "      <td>NaN</td>\n",
       "      <td>NaN</td>\n",
       "      <td>NaN</td>\n",
       "      <td>NaN</td>\n",
       "      <td>NaN</td>\n",
       "      <td>NaN</td>\n",
       "      <td>NaN</td>\n",
       "      <td>NaN</td>\n",
       "      <td>NaN</td>\n",
       "    </tr>\n",
       "  </tbody>\n",
       "</table>\n",
       "<p>2270 rows × 480 columns</p>\n",
       "</div>"
      ],
      "text/plain": [
       "                 CSCO        UAL       TROW        ISRG       PRGO        TPR  \\\n",
       "Date                                                                            \n",
       "2010-01-04  24.690001  12.800000  54.400002  102.923332  40.349998  36.310001   \n",
       "2010-01-05  24.580000  13.910000  55.009998  102.459999  38.790001  36.750000   \n",
       "2010-01-06  24.420000  13.270000  54.150002  103.946663  38.299999  37.470001   \n",
       "2010-01-07  24.530001  13.550000  54.110001  103.556664  37.990002  37.490002   \n",
       "2010-01-08  24.660000  13.330000  53.900002  102.986664  37.779999  37.270000   \n",
       "...               ...        ...        ...         ...        ...        ...   \n",
       "2018-12-24  40.279999  79.120003  84.949997  434.890015  36.500000  32.299999   \n",
       "2018-12-26  42.470001  83.800003  89.650002  461.980011  40.700001  33.889999   \n",
       "2018-12-27  42.910000  83.040001  91.309998  468.700012  39.619999  34.150002   \n",
       "2018-12-28  42.770000  83.169998  91.339996  471.200012  39.919998  33.810001   \n",
       "2018-12-31        NaN        NaN        NaN         NaN        NaN        NaN   \n",
       "\n",
       "                  DVN        MRO          BA        VRTX  ...          M  \\\n",
       "Date                                                      ...              \n",
       "2010-01-04  76.570000  19.153616   56.180000   44.240002  ...  17.059999   \n",
       "2010-01-05  76.650002  19.171511   58.020000   42.779999  ...  16.860001   \n",
       "2010-01-06  76.419998  19.595024   59.779999   42.029999  ...  17.100000   \n",
       "2010-01-07  75.970001  19.475725   62.200001   41.500000  ...  17.490000   \n",
       "2010-01-08  76.120003  19.505550   61.599998   40.669998  ...  16.920000   \n",
       "...               ...        ...         ...         ...  ...        ...   \n",
       "2018-12-24  20.980000  12.660000  294.160004  151.910004  ...  28.150000   \n",
       "2018-12-26  22.709999  14.170000  313.929993  161.839996  ...  30.129999   \n",
       "2018-12-27  22.900000  14.290000  317.140015  162.369995  ...  30.040001   \n",
       "2018-12-28  22.459999  14.080000  316.380005  161.419998  ...  30.020000   \n",
       "2018-12-31        NaN        NaN         NaN         NaN  ...        NaN   \n",
       "\n",
       "                   CRM        PGR         WAT        BWA        LRCX  \\\n",
       "Date                                                                   \n",
       "2010-01-04   18.705000  18.030001   61.630001  16.889999   39.880001   \n",
       "2010-01-05   18.625000  17.969999   60.790001  17.695000   39.610001   \n",
       "2010-01-06   18.592501  17.790001   60.900002  18.344999   39.430000   \n",
       "2010-01-07   18.510000  17.549999   61.160000  18.594999   39.360001   \n",
       "2010-01-08   18.537500  17.709999   61.209999  18.254999   40.349998   \n",
       "...                ...        ...         ...        ...         ...   \n",
       "2018-12-24  121.330002  57.070000  173.539993  33.200001  123.279999   \n",
       "2018-12-26  130.839996  59.330002  181.190002  34.400002  130.839996   \n",
       "2018-12-27  135.199997  60.200001  185.179993  34.770000  133.279999   \n",
       "2018-12-28  134.679993  59.650002  184.759995  34.509998  135.419998   \n",
       "2018-12-31         NaN        NaN         NaN        NaN         NaN   \n",
       "\n",
       "                  NWL       UAA         BLK        PPL  \n",
       "Date                                                    \n",
       "2010-01-04  15.200000   3.51000  238.580002  30.242558  \n",
       "2010-01-05  15.110000   3.61500  239.610001  29.851370  \n",
       "2010-01-06  15.380000   3.69500  234.669998  29.916569  \n",
       "2010-01-07  15.820000   3.65125  237.250000  29.627834  \n",
       "2010-01-08  15.770000   3.64375  238.919998  29.534695  \n",
       "...               ...       ...         ...        ...  \n",
       "2018-12-24  17.950001  16.75000  361.769989  27.590000  \n",
       "2018-12-26  18.910000  17.82000  381.230011  28.309999  \n",
       "2018-12-27  18.400000  17.91000  387.799988  28.340000  \n",
       "2018-12-28  18.379999  17.52000  388.230011  28.350000  \n",
       "2018-12-31        NaN       NaN         NaN        NaN  \n",
       "\n",
       "[2270 rows x 480 columns]"
      ]
     },
     "execution_count": 227,
     "metadata": {},
     "output_type": "execute_result"
    }
   ],
   "source": [
    "df"
   ]
  },
  {
   "cell_type": "code",
   "execution_count": 228,
   "metadata": {},
   "outputs": [],
   "source": [
    "import time\n",
    "import numpy as np\n",
    "from requests.sessions import InvalidSchema\n",
    "import yfinance as yf\n",
    "import time\n",
    "import datetime\n",
    "import psycopg2\n",
    "import psycopg2.extras\n",
    "from sqlalchemy import create_engine"
   ]
  },
  {
   "cell_type": "code",
   "execution_count": 229,
   "metadata": {},
   "outputs": [],
   "source": [
    "class Config:\n",
    "    DB_HOST ='localhost'\n",
    "    DB_USER ='postgres'\n",
    "    DB_PASS ='password'\n",
    "    DB_NAME ='prices'\n",
    "    API_URL = \"https://paper-api.alpaca.markets\"\n",
    "    API_KEY  = \"PKTE1915P0HLD2R6B8E6\"\n",
    "    API_SECRET =\"OtIa186qJPsGCPzYTryYJI74dkMq5xEEhs0bJNZP\"\n",
    "    DB_PORT =\"5432\"\n",
    "config = Config()"
   ]
  },
  {
   "cell_type": "code",
   "execution_count": 247,
   "metadata": {},
   "outputs": [],
   "source": [
    "query =\"\"\"select * from assets ORDER BY date ASC;\"\"\"\n",
    "connection=psycopg2.connect(host=config.DB_HOST, database=config.DB_NAME, user= config.DB_USER, password=config.DB_PASS)\n",
    "cursor = connection.cursor(cursor_factory=psycopg2.extras.DictCursor)\n",
    "engine = create_engine(f'postgresql://{config.DB_USER}:{config.DB_PASS}@{config.DB_HOST}:{config.DB_PORT}/{config.DB_NAME}')\n",
    "\n",
    "df = pd.read_sql_query(query,con=engine)\n",
    "\n",
    "def drop_na_bf_fill(df):\n",
    "    \"\"\"drop_na_bf_fill\"\"\"\n",
    "    df.dropna(axis=0,how='all',inplace=True)\n",
    "    df.dropna(axis=1,how='any',inplace=True)\n",
    "    df.fillna(method='ffill', inplace=True)\n",
    "    df.fillna(method='bfill', inplace=True)\n",
    "    return df\n",
    "\n",
    "def get_close_values_of_df(df):\n",
    "    \"\"\"get_close_values_of_df\"\"\"\n",
    "    symbols = df['name'].unique()\n",
    "    df_msft = df[df['name'] == 'MSFT']\n",
    "    final_df = pd.DataFrame(data=df_msft['close'].to_numpy(), index = df_msft['date'],columns=['MSFT'])\n",
    "    for symbol in symbols:\n",
    "        if symbol != 'MSFT':\n",
    "            df_sym = df[df['name'] == symbol]\n",
    "            df_tmp = pd.DataFrame(data=df_sym['close'].to_numpy(), index = df_sym['date'],columns=[symbol])\n",
    "            final_df =final_df.join(df_tmp)\n",
    "    return drop_na_bf_fill(final_df)\n",
    "\n",
    "def get_returns(df):\n",
    "    \"\"\"get_returns\"\"\"\n",
    "    df = get_close_values_of_df(df)\n",
    "    for symbol in df.columns.values:\n",
    "        df[f'{symbol}_Prev_close']=df[symbol].shift(1)\n",
    "        df[f'{symbol}_Return'] = df[f'{symbol}'] / df[f'{symbol}_Prev_close'] - 1\n",
    "        df[f'{symbol}_Log_Return'] = np.log(df[f'{symbol}_Return'] + 1)\n",
    "    return df\n",
    "\n",
    "df = get_returns(df)\n",
    "log_return_list= ['MSFT_Log_Return','AAPL_Log_Return','NVDA_Log_Return','UBER_Log_Return','COIN_Log_Return']\n",
    "df=df[log_return_list]"
   ]
  },
  {
   "cell_type": "code",
   "execution_count": 248,
   "metadata": {},
   "outputs": [
    {
     "name": "stdout",
     "output_type": "stream",
     "text": [
      "roc_auc_score: 1.0\n",
      "[0. 0. 0. 1.]\n",
      "[0.         0.00980392 1.         1.        ]\n",
      "[1.54002683 0.54002683 0.50002465 0.44128762]\n"
     ]
    },
    {
     "data": {
      "image/png": "[encoded data removed]",
      "text/plain": [
       "<Figure size 432x288 with 1 Axes>"
      ]
     },
     "metadata": {
      "needs_background": "light"
     },
     "output_type": "display_data"
    },
    {
     "name": "stdout",
     "output_type": "stream",
     "text": [
      "0.35138155369064955\n",
      "0\n"
     ]
    }
   ],
   "source": [
    "df['MSFT_Log_Return']=df['MSFT_Log_Return'].shift(-1)\n",
    "df['MSFT_Log_Return'].tail()\n",
    "\n",
    "Ntest=1000\n",
    "train =df.iloc[1:-Ntest]\n",
    "test =df.iloc[-Ntest:-1]\n",
    "\n",
    "Xtrain =train[log_return_list]\n",
    "Ytrain =train['MSFT_Log_Return']\n",
    "Xtest = test[log_return_list]\n",
    "Ytest = test['MSFT_Log_Return']\n",
    "\n",
    "# from sklearn.linear_model import LinearRegression\n",
    "# model =LinearRegression()\n",
    "# model.fit(Xtrain, Ytrain)\n",
    "# model.score(Xtrain, Ytrain), model.score(Xtest,Ytest)\n",
    "\n",
    "# #Direction\n",
    "# Ptrain =model.predict(Xtrain)\n",
    "# Ptest =model.predict(Xtest)\n",
    "# np.mean( np.sign(Ptrain) == np.sign(Ytrain)), np.mean(np.sign(Ptest) == np.sign(Ytest))\n",
    "\n",
    "\n",
    "from sklearn.linear_model import LogisticRegression\n",
    "#reg penality, prevent the weight fro becoming too large\n",
    "model =LogisticRegression(C=10)\n",
    "Ctrain = (Ytrain>0)\n",
    "Ctest = (Ytest>0)\n",
    "model.fit(Xtrain, Ctrain)\n",
    "model.score(Xtrain, Ctrain) , model.score(Xtest, Ctest)\n",
    "\n",
    "Ptrain =model.predict(Xtrain)\n",
    "Ptest =model.predict(Xtest)\n",
    "set(Ptrain), set(Ptest)\n",
    "\n",
    "y_test_pp = model.predict_proba(Xtest)\n",
    "print('roc_auc_score:', roc_auc_score(Ptest, y_test_pp[:,1]))\n",
    "fpr, tpr, thres = roc_curve(Ptest, y_test_pp[:,1])\n",
    "print(fpr)\n",
    "print(tpr)\n",
    "print(thres)\n",
    "ax = plt.plot(fpr, tpr)\n",
    "plt.show()\n",
    "\n",
    "df.loc[1:-Ntest,'Position'] = Ptrain\n",
    "df.loc[-Ntest:-1,'Position'] = Ptest \n",
    "df['AlgoReturn'] = df['Position'] *  df['MSFT_Log_Return']\n",
    "#Total algo log return test\n",
    "print(df.iloc[-Ntest:-1]['AlgoReturn'].sum())\n",
    "#Total algo log return test\n",
    "print(df.iloc[-1:-Ntest]['AlgoReturn'].sum())\n",
    "#Total return buy-and-hold train\n",
    "# Ytrain.sum(), Ytest.sum()\n"
   ]
  },
  {
   "cell_type": "code",
   "execution_count": null,
   "metadata": {},
   "outputs": [],
   "source": []
  },
  {
   "cell_type": "code",
   "execution_count": 130,
   "metadata": {},
   "outputs": [],
   "source": [
    "df.dropna(axis=0,how='all',inplace=True)"
   ]
  },
  {
   "cell_type": "code",
   "execution_count": 131,
   "metadata": {},
   "outputs": [
    {
     "data": {
      "text/plain": [
       "(2263, 480)"
      ]
     },
     "execution_count": 131,
     "metadata": {},
     "output_type": "execute_result"
    }
   ],
   "source": [
    "df.shape"
   ]
  },
  {
   "cell_type": "code",
   "execution_count": 132,
   "metadata": {},
   "outputs": [],
   "source": [
    "df.dropna(axis=1,how='any',inplace=True)"
   ]
  },
  {
   "cell_type": "code",
   "execution_count": 133,
   "metadata": {},
   "outputs": [
    {
     "data": {
      "text/plain": [
       "(2263, 429)"
      ]
     },
     "execution_count": 133,
     "metadata": {},
     "output_type": "execute_result"
    }
   ],
   "source": [
    "df.shape"
   ]
  },
  {
   "cell_type": "code",
   "execution_count": 134,
   "metadata": {},
   "outputs": [
    {
     "data": {
      "text/plain": [
       "0"
      ]
     },
     "execution_count": 134,
     "metadata": {},
     "output_type": "execute_result"
    }
   ],
   "source": [
    "df.isna().sum().sum()"
   ]
  },
  {
   "cell_type": "code",
   "execution_count": 135,
   "metadata": {},
   "outputs": [],
   "source": [
    "df_returns = pd.DataFrame()"
   ]
  },
  {
   "cell_type": "code",
   "execution_count": 136,
   "metadata": {},
   "outputs": [
    {
     "name": "stderr",
     "output_type": "stream",
     "text": [
      "/var/folders/6z/zfrlwktn1ls42xz760mlmp880000gn/T/ipykernel_38121/3684760641.py:2: PerformanceWarning: DataFrame is highly fragmented.  This is usually the result of calling `frame.insert` many times, which has poor performance.  Consider joining all columns at once using pd.concat(axis=1) instead. To get a de-fragmented frame, use `newframe = frame.copy()`\n",
      "  df_returns[name] = np.log(df[name]).diff()\n",
      "/var/folders/6z/zfrlwktn1ls42xz760mlmp880000gn/T/ipykernel_38121/3684760641.py:2: PerformanceWarning: DataFrame is highly fragmented.  This is usually the result of calling `frame.insert` many times, which has poor performance.  Consider joining all columns at once using pd.concat(axis=1) instead. To get a de-fragmented frame, use `newframe = frame.copy()`\n",
      "  df_returns[name] = np.log(df[name]).diff()\n",
      "/var/folders/6z/zfrlwktn1ls42xz760mlmp880000gn/T/ipykernel_38121/3684760641.py:2: PerformanceWarning: DataFrame is highly fragmented.  This is usually the result of calling `frame.insert` many times, which has poor performance.  Consider joining all columns at once using pd.concat(axis=1) instead. To get a de-fragmented frame, use `newframe = frame.copy()`\n",
      "  df_returns[name] = np.log(df[name]).diff()\n",
      "/var/folders/6z/zfrlwktn1ls42xz760mlmp880000gn/T/ipykernel_38121/3684760641.py:2: PerformanceWarning: DataFrame is highly fragmented.  This is usually the result of calling `frame.insert` many times, which has poor performance.  Consider joining all columns at once using pd.concat(axis=1) instead. To get a de-fragmented frame, use `newframe = frame.copy()`\n",
      "  df_returns[name] = np.log(df[name]).diff()\n",
      "/var/folders/6z/zfrlwktn1ls42xz760mlmp880000gn/T/ipykernel_38121/3684760641.py:2: PerformanceWarning: DataFrame is highly fragmented.  This is usually the result of calling `frame.insert` many times, which has poor performance.  Consider joining all columns at once using pd.concat(axis=1) instead. To get a de-fragmented frame, use `newframe = frame.copy()`\n",
      "  df_returns[name] = np.log(df[name]).diff()\n",
      "/var/folders/6z/zfrlwktn1ls42xz760mlmp880000gn/T/ipykernel_38121/3684760641.py:2: PerformanceWarning: DataFrame is highly fragmented.  This is usually the result of calling `frame.insert` many times, which has poor performance.  Consider joining all columns at once using pd.concat(axis=1) instead. To get a de-fragmented frame, use `newframe = frame.copy()`\n",
      "  df_returns[name] = np.log(df[name]).diff()\n",
      "/var/folders/6z/zfrlwktn1ls42xz760mlmp880000gn/T/ipykernel_38121/3684760641.py:2: PerformanceWarning: DataFrame is highly fragmented.  This is usually the result of calling `frame.insert` many times, which has poor performance.  Consider joining all columns at once using pd.concat(axis=1) instead. To get a de-fragmented frame, use `newframe = frame.copy()`\n",
      "  df_returns[name] = np.log(df[name]).diff()\n",
      "/var/folders/6z/zfrlwktn1ls42xz760mlmp880000gn/T/ipykernel_38121/3684760641.py:2: PerformanceWarning: DataFrame is highly fragmented.  This is usually the result of calling `frame.insert` many times, which has poor performance.  Consider joining all columns at once using pd.concat(axis=1) instead. To get a de-fragmented frame, use `newframe = frame.copy()`\n",
      "  df_returns[name] = np.log(df[name]).diff()\n",
      "/var/folders/6z/zfrlwktn1ls42xz760mlmp880000gn/T/ipykernel_38121/3684760641.py:2: PerformanceWarning: DataFrame is highly fragmented.  This is usually the result of calling `frame.insert` many times, which has poor performance.  Consider joining all columns at once using pd.concat(axis=1) instead. To get a de-fragmented frame, use `newframe = frame.copy()`\n",
      "  df_returns[name] = np.log(df[name]).diff()\n",
      "/var/folders/6z/zfrlwktn1ls42xz760mlmp880000gn/T/ipykernel_38121/3684760641.py:2: PerformanceWarning: DataFrame is highly fragmented.  This is usually the result of calling `frame.insert` many times, which has poor performance.  Consider joining all columns at once using pd.concat(axis=1) instead. To get a de-fragmented frame, use `newframe = frame.copy()`\n",
      "  df_returns[name] = np.log(df[name]).diff()\n",
      "/var/folders/6z/zfrlwktn1ls42xz760mlmp880000gn/T/ipykernel_38121/3684760641.py:2: PerformanceWarning: DataFrame is highly fragmented.  This is usually the result of calling `frame.insert` many times, which has poor performance.  Consider joining all columns at once using pd.concat(axis=1) instead. To get a de-fragmented frame, use `newframe = frame.copy()`\n",
      "  df_returns[name] = np.log(df[name]).diff()\n",
      "/var/folders/6z/zfrlwktn1ls42xz760mlmp880000gn/T/ipykernel_38121/3684760641.py:2: PerformanceWarning: DataFrame is highly fragmented.  This is usually the result of calling `frame.insert` many times, which has poor performance.  Consider joining all columns at once using pd.concat(axis=1) instead. To get a de-fragmented frame, use `newframe = frame.copy()`\n",
      "  df_returns[name] = np.log(df[name]).diff()\n",
      "/var/folders/6z/zfrlwktn1ls42xz760mlmp880000gn/T/ipykernel_38121/3684760641.py:2: PerformanceWarning: DataFrame is highly fragmented.  This is usually the result of calling `frame.insert` many times, which has poor performance.  Consider joining all columns at once using pd.concat(axis=1) instead. To get a de-fragmented frame, use `newframe = frame.copy()`\n",
      "  df_returns[name] = np.log(df[name]).diff()\n",
      "/var/folders/6z/zfrlwktn1ls42xz760mlmp880000gn/T/ipykernel_38121/3684760641.py:2: PerformanceWarning: DataFrame is highly fragmented.  This is usually the result of calling `frame.insert` many times, which has poor performance.  Consider joining all columns at once using pd.concat(axis=1) instead. To get a de-fragmented frame, use `newframe = frame.copy()`\n",
      "  df_returns[name] = np.log(df[name]).diff()\n",
      "/var/folders/6z/zfrlwktn1ls42xz760mlmp880000gn/T/ipykernel_38121/3684760641.py:2: PerformanceWarning: DataFrame is highly fragmented.  This is usually the result of calling `frame.insert` many times, which has poor performance.  Consider joining all columns at once using pd.concat(axis=1) instead. To get a de-fragmented frame, use `newframe = frame.copy()`\n",
      "  df_returns[name] = np.log(df[name]).diff()\n",
      "/var/folders/6z/zfrlwktn1ls42xz760mlmp880000gn/T/ipykernel_38121/3684760641.py:2: PerformanceWarning: DataFrame is highly fragmented.  This is usually the result of calling `frame.insert` many times, which has poor performance.  Consider joining all columns at once using pd.concat(axis=1) instead. To get a de-fragmented frame, use `newframe = frame.copy()`\n",
      "  df_returns[name] = np.log(df[name]).diff()\n",
      "/var/folders/6z/zfrlwktn1ls42xz760mlmp880000gn/T/ipykernel_38121/3684760641.py:2: PerformanceWarning: DataFrame is highly fragmented.  This is usually the result of calling `frame.insert` many times, which has poor performance.  Consider joining all columns at once using pd.concat(axis=1) instead. To get a de-fragmented frame, use `newframe = frame.copy()`\n",
      "  df_returns[name] = np.log(df[name]).diff()\n",
      "/var/folders/6z/zfrlwktn1ls42xz760mlmp880000gn/T/ipykernel_38121/3684760641.py:2: PerformanceWarning: DataFrame is highly fragmented.  This is usually the result of calling `frame.insert` many times, which has poor performance.  Consider joining all columns at once using pd.concat(axis=1) instead. To get a de-fragmented frame, use `newframe = frame.copy()`\n",
      "  df_returns[name] = np.log(df[name]).diff()\n",
      "/var/folders/6z/zfrlwktn1ls42xz760mlmp880000gn/T/ipykernel_38121/3684760641.py:2: PerformanceWarning: DataFrame is highly fragmented.  This is usually the result of calling `frame.insert` many times, which has poor performance.  Consider joining all columns at once using pd.concat(axis=1) instead. To get a de-fragmented frame, use `newframe = frame.copy()`\n",
      "  df_returns[name] = np.log(df[name]).diff()\n",
      "/var/folders/6z/zfrlwktn1ls42xz760mlmp880000gn/T/ipykernel_38121/3684760641.py:2: PerformanceWarning: DataFrame is highly fragmented.  This is usually the result of calling `frame.insert` many times, which has poor performance.  Consider joining all columns at once using pd.concat(axis=1) instead. To get a de-fragmented frame, use `newframe = frame.copy()`\n",
      "  df_returns[name] = np.log(df[name]).diff()\n",
      "/var/folders/6z/zfrlwktn1ls42xz760mlmp880000gn/T/ipykernel_38121/3684760641.py:2: PerformanceWarning: DataFrame is highly fragmented.  This is usually the result of calling `frame.insert` many times, which has poor performance.  Consider joining all columns at once using pd.concat(axis=1) instead. To get a de-fragmented frame, use `newframe = frame.copy()`\n",
      "  df_returns[name] = np.log(df[name]).diff()\n",
      "/var/folders/6z/zfrlwktn1ls42xz760mlmp880000gn/T/ipykernel_38121/3684760641.py:2: PerformanceWarning: DataFrame is highly fragmented.  This is usually the result of calling `frame.insert` many times, which has poor performance.  Consider joining all columns at once using pd.concat(axis=1) instead. To get a de-fragmented frame, use `newframe = frame.copy()`\n",
      "  df_returns[name] = np.log(df[name]).diff()\n",
      "/var/folders/6z/zfrlwktn1ls42xz760mlmp880000gn/T/ipykernel_38121/3684760641.py:2: PerformanceWarning: DataFrame is highly fragmented.  This is usually the result of calling `frame.insert` many times, which has poor performance.  Consider joining all columns at once using pd.concat(axis=1) instead. To get a de-fragmented frame, use `newframe = frame.copy()`\n",
      "  df_returns[name] = np.log(df[name]).diff()\n",
      "/var/folders/6z/zfrlwktn1ls42xz760mlmp880000gn/T/ipykernel_38121/3684760641.py:2: PerformanceWarning: DataFrame is highly fragmented.  This is usually the result of calling `frame.insert` many times, which has poor performance.  Consider joining all columns at once using pd.concat(axis=1) instead. To get a de-fragmented frame, use `newframe = frame.copy()`\n",
      "  df_returns[name] = np.log(df[name]).diff()\n",
      "/var/folders/6z/zfrlwktn1ls42xz760mlmp880000gn/T/ipykernel_38121/3684760641.py:2: PerformanceWarning: DataFrame is highly fragmented.  This is usually the result of calling `frame.insert` many times, which has poor performance.  Consider joining all columns at once using pd.concat(axis=1) instead. To get a de-fragmented frame, use `newframe = frame.copy()`\n",
      "  df_returns[name] = np.log(df[name]).diff()\n",
      "/var/folders/6z/zfrlwktn1ls42xz760mlmp880000gn/T/ipykernel_38121/3684760641.py:2: PerformanceWarning: DataFrame is highly fragmented.  This is usually the result of calling `frame.insert` many times, which has poor performance.  Consider joining all columns at once using pd.concat(axis=1) instead. To get a de-fragmented frame, use `newframe = frame.copy()`\n",
      "  df_returns[name] = np.log(df[name]).diff()\n",
      "/var/folders/6z/zfrlwktn1ls42xz760mlmp880000gn/T/ipykernel_38121/3684760641.py:2: PerformanceWarning: DataFrame is highly fragmented.  This is usually the result of calling `frame.insert` many times, which has poor performance.  Consider joining all columns at once using pd.concat(axis=1) instead. To get a de-fragmented frame, use `newframe = frame.copy()`\n",
      "  df_returns[name] = np.log(df[name]).diff()\n",
      "/var/folders/6z/zfrlwktn1ls42xz760mlmp880000gn/T/ipykernel_38121/3684760641.py:2: PerformanceWarning: DataFrame is highly fragmented.  This is usually the result of calling `frame.insert` many times, which has poor performance.  Consider joining all columns at once using pd.concat(axis=1) instead. To get a de-fragmented frame, use `newframe = frame.copy()`\n",
      "  df_returns[name] = np.log(df[name]).diff()\n",
      "/var/folders/6z/zfrlwktn1ls42xz760mlmp880000gn/T/ipykernel_38121/3684760641.py:2: PerformanceWarning: DataFrame is highly fragmented.  This is usually the result of calling `frame.insert` many times, which has poor performance.  Consider joining all columns at once using pd.concat(axis=1) instead. To get a de-fragmented frame, use `newframe = frame.copy()`\n",
      "  df_returns[name] = np.log(df[name]).diff()\n",
      "/var/folders/6z/zfrlwktn1ls42xz760mlmp880000gn/T/ipykernel_38121/3684760641.py:2: PerformanceWarning: DataFrame is highly fragmented.  This is usually the result of calling `frame.insert` many times, which has poor performance.  Consider joining all columns at once using pd.concat(axis=1) instead. To get a de-fragmented frame, use `newframe = frame.copy()`\n",
      "  df_returns[name] = np.log(df[name]).diff()\n",
      "/var/folders/6z/zfrlwktn1ls42xz760mlmp880000gn/T/ipykernel_38121/3684760641.py:2: PerformanceWarning: DataFrame is highly fragmented.  This is usually the result of calling `frame.insert` many times, which has poor performance.  Consider joining all columns at once using pd.concat(axis=1) instead. To get a de-fragmented frame, use `newframe = frame.copy()`\n",
      "  df_returns[name] = np.log(df[name]).diff()\n",
      "/var/folders/6z/zfrlwktn1ls42xz760mlmp880000gn/T/ipykernel_38121/3684760641.py:2: PerformanceWarning: DataFrame is highly fragmented.  This is usually the result of calling `frame.insert` many times, which has poor performance.  Consider joining all columns at once using pd.concat(axis=1) instead. To get a de-fragmented frame, use `newframe = frame.copy()`\n",
      "  df_returns[name] = np.log(df[name]).diff()\n",
      "/var/folders/6z/zfrlwktn1ls42xz760mlmp880000gn/T/ipykernel_38121/3684760641.py:2: PerformanceWarning: DataFrame is highly fragmented.  This is usually the result of calling `frame.insert` many times, which has poor performance.  Consider joining all columns at once using pd.concat(axis=1) instead. To get a de-fragmented frame, use `newframe = frame.copy()`\n",
      "  df_returns[name] = np.log(df[name]).diff()\n",
      "/var/folders/6z/zfrlwktn1ls42xz760mlmp880000gn/T/ipykernel_38121/3684760641.py:2: PerformanceWarning: DataFrame is highly fragmented.  This is usually the result of calling `frame.insert` many times, which has poor performance.  Consider joining all columns at once using pd.concat(axis=1) instead. To get a de-fragmented frame, use `newframe = frame.copy()`\n",
      "  df_returns[name] = np.log(df[name]).diff()\n",
      "/var/folders/6z/zfrlwktn1ls42xz760mlmp880000gn/T/ipykernel_38121/3684760641.py:2: PerformanceWarning: DataFrame is highly fragmented.  This is usually the result of calling `frame.insert` many times, which has poor performance.  Consider joining all columns at once using pd.concat(axis=1) instead. To get a de-fragmented frame, use `newframe = frame.copy()`\n",
      "  df_returns[name] = np.log(df[name]).diff()\n",
      "/var/folders/6z/zfrlwktn1ls42xz760mlmp880000gn/T/ipykernel_38121/3684760641.py:2: PerformanceWarning: DataFrame is highly fragmented.  This is usually the result of calling `frame.insert` many times, which has poor performance.  Consider joining all columns at once using pd.concat(axis=1) instead. To get a de-fragmented frame, use `newframe = frame.copy()`\n",
      "  df_returns[name] = np.log(df[name]).diff()\n",
      "/var/folders/6z/zfrlwktn1ls42xz760mlmp880000gn/T/ipykernel_38121/3684760641.py:2: PerformanceWarning: DataFrame is highly fragmented.  This is usually the result of calling `frame.insert` many times, which has poor performance.  Consider joining all columns at once using pd.concat(axis=1) instead. To get a de-fragmented frame, use `newframe = frame.copy()`\n",
      "  df_returns[name] = np.log(df[name]).diff()\n",
      "/var/folders/6z/zfrlwktn1ls42xz760mlmp880000gn/T/ipykernel_38121/3684760641.py:2: PerformanceWarning: DataFrame is highly fragmented.  This is usually the result of calling `frame.insert` many times, which has poor performance.  Consider joining all columns at once using pd.concat(axis=1) instead. To get a de-fragmented frame, use `newframe = frame.copy()`\n",
      "  df_returns[name] = np.log(df[name]).diff()\n",
      "/var/folders/6z/zfrlwktn1ls42xz760mlmp880000gn/T/ipykernel_38121/3684760641.py:2: PerformanceWarning: DataFrame is highly fragmented.  This is usually the result of calling `frame.insert` many times, which has poor performance.  Consider joining all columns at once using pd.concat(axis=1) instead. To get a de-fragmented frame, use `newframe = frame.copy()`\n",
      "  df_returns[name] = np.log(df[name]).diff()\n",
      "/var/folders/6z/zfrlwktn1ls42xz760mlmp880000gn/T/ipykernel_38121/3684760641.py:2: PerformanceWarning: DataFrame is highly fragmented.  This is usually the result of calling `frame.insert` many times, which has poor performance.  Consider joining all columns at once using pd.concat(axis=1) instead. To get a de-fragmented frame, use `newframe = frame.copy()`\n",
      "  df_returns[name] = np.log(df[name]).diff()\n",
      "/var/folders/6z/zfrlwktn1ls42xz760mlmp880000gn/T/ipykernel_38121/3684760641.py:2: PerformanceWarning: DataFrame is highly fragmented.  This is usually the result of calling `frame.insert` many times, which has poor performance.  Consider joining all columns at once using pd.concat(axis=1) instead. To get a de-fragmented frame, use `newframe = frame.copy()`\n",
      "  df_returns[name] = np.log(df[name]).diff()\n",
      "/var/folders/6z/zfrlwktn1ls42xz760mlmp880000gn/T/ipykernel_38121/3684760641.py:2: PerformanceWarning: DataFrame is highly fragmented.  This is usually the result of calling `frame.insert` many times, which has poor performance.  Consider joining all columns at once using pd.concat(axis=1) instead. To get a de-fragmented frame, use `newframe = frame.copy()`\n",
      "  df_returns[name] = np.log(df[name]).diff()\n",
      "/var/folders/6z/zfrlwktn1ls42xz760mlmp880000gn/T/ipykernel_38121/3684760641.py:2: PerformanceWarning: DataFrame is highly fragmented.  This is usually the result of calling `frame.insert` many times, which has poor performance.  Consider joining all columns at once using pd.concat(axis=1) instead. To get a de-fragmented frame, use `newframe = frame.copy()`\n",
      "  df_returns[name] = np.log(df[name]).diff()\n",
      "/var/folders/6z/zfrlwktn1ls42xz760mlmp880000gn/T/ipykernel_38121/3684760641.py:2: PerformanceWarning: DataFrame is highly fragmented.  This is usually the result of calling `frame.insert` many times, which has poor performance.  Consider joining all columns at once using pd.concat(axis=1) instead. To get a de-fragmented frame, use `newframe = frame.copy()`\n",
      "  df_returns[name] = np.log(df[name]).diff()\n",
      "/var/folders/6z/zfrlwktn1ls42xz760mlmp880000gn/T/ipykernel_38121/3684760641.py:2: PerformanceWarning: DataFrame is highly fragmented.  This is usually the result of calling `frame.insert` many times, which has poor performance.  Consider joining all columns at once using pd.concat(axis=1) instead. To get a de-fragmented frame, use `newframe = frame.copy()`\n",
      "  df_returns[name] = np.log(df[name]).diff()\n",
      "/var/folders/6z/zfrlwktn1ls42xz760mlmp880000gn/T/ipykernel_38121/3684760641.py:2: PerformanceWarning: DataFrame is highly fragmented.  This is usually the result of calling `frame.insert` many times, which has poor performance.  Consider joining all columns at once using pd.concat(axis=1) instead. To get a de-fragmented frame, use `newframe = frame.copy()`\n",
      "  df_returns[name] = np.log(df[name]).diff()\n",
      "/var/folders/6z/zfrlwktn1ls42xz760mlmp880000gn/T/ipykernel_38121/3684760641.py:2: PerformanceWarning: DataFrame is highly fragmented.  This is usually the result of calling `frame.insert` many times, which has poor performance.  Consider joining all columns at once using pd.concat(axis=1) instead. To get a de-fragmented frame, use `newframe = frame.copy()`\n",
      "  df_returns[name] = np.log(df[name]).diff()\n",
      "/var/folders/6z/zfrlwktn1ls42xz760mlmp880000gn/T/ipykernel_38121/3684760641.py:2: PerformanceWarning: DataFrame is highly fragmented.  This is usually the result of calling `frame.insert` many times, which has poor performance.  Consider joining all columns at once using pd.concat(axis=1) instead. To get a de-fragmented frame, use `newframe = frame.copy()`\n",
      "  df_returns[name] = np.log(df[name]).diff()\n",
      "/var/folders/6z/zfrlwktn1ls42xz760mlmp880000gn/T/ipykernel_38121/3684760641.py:2: PerformanceWarning: DataFrame is highly fragmented.  This is usually the result of calling `frame.insert` many times, which has poor performance.  Consider joining all columns at once using pd.concat(axis=1) instead. To get a de-fragmented frame, use `newframe = frame.copy()`\n",
      "  df_returns[name] = np.log(df[name]).diff()\n",
      "/var/folders/6z/zfrlwktn1ls42xz760mlmp880000gn/T/ipykernel_38121/3684760641.py:2: PerformanceWarning: DataFrame is highly fragmented.  This is usually the result of calling `frame.insert` many times, which has poor performance.  Consider joining all columns at once using pd.concat(axis=1) instead. To get a de-fragmented frame, use `newframe = frame.copy()`\n",
      "  df_returns[name] = np.log(df[name]).diff()\n",
      "/var/folders/6z/zfrlwktn1ls42xz760mlmp880000gn/T/ipykernel_38121/3684760641.py:2: PerformanceWarning: DataFrame is highly fragmented.  This is usually the result of calling `frame.insert` many times, which has poor performance.  Consider joining all columns at once using pd.concat(axis=1) instead. To get a de-fragmented frame, use `newframe = frame.copy()`\n",
      "  df_returns[name] = np.log(df[name]).diff()\n",
      "/var/folders/6z/zfrlwktn1ls42xz760mlmp880000gn/T/ipykernel_38121/3684760641.py:2: PerformanceWarning: DataFrame is highly fragmented.  This is usually the result of calling `frame.insert` many times, which has poor performance.  Consider joining all columns at once using pd.concat(axis=1) instead. To get a de-fragmented frame, use `newframe = frame.copy()`\n",
      "  df_returns[name] = np.log(df[name]).diff()\n",
      "/var/folders/6z/zfrlwktn1ls42xz760mlmp880000gn/T/ipykernel_38121/3684760641.py:2: PerformanceWarning: DataFrame is highly fragmented.  This is usually the result of calling `frame.insert` many times, which has poor performance.  Consider joining all columns at once using pd.concat(axis=1) instead. To get a de-fragmented frame, use `newframe = frame.copy()`\n",
      "  df_returns[name] = np.log(df[name]).diff()\n",
      "/var/folders/6z/zfrlwktn1ls42xz760mlmp880000gn/T/ipykernel_38121/3684760641.py:2: PerformanceWarning: DataFrame is highly fragmented.  This is usually the result of calling `frame.insert` many times, which has poor performance.  Consider joining all columns at once using pd.concat(axis=1) instead. To get a de-fragmented frame, use `newframe = frame.copy()`\n",
      "  df_returns[name] = np.log(df[name]).diff()\n",
      "/var/folders/6z/zfrlwktn1ls42xz760mlmp880000gn/T/ipykernel_38121/3684760641.py:2: PerformanceWarning: DataFrame is highly fragmented.  This is usually the result of calling `frame.insert` many times, which has poor performance.  Consider joining all columns at once using pd.concat(axis=1) instead. To get a de-fragmented frame, use `newframe = frame.copy()`\n",
      "  df_returns[name] = np.log(df[name]).diff()\n",
      "/var/folders/6z/zfrlwktn1ls42xz760mlmp880000gn/T/ipykernel_38121/3684760641.py:2: PerformanceWarning: DataFrame is highly fragmented.  This is usually the result of calling `frame.insert` many times, which has poor performance.  Consider joining all columns at once using pd.concat(axis=1) instead. To get a de-fragmented frame, use `newframe = frame.copy()`\n",
      "  df_returns[name] = np.log(df[name]).diff()\n",
      "/var/folders/6z/zfrlwktn1ls42xz760mlmp880000gn/T/ipykernel_38121/3684760641.py:2: PerformanceWarning: DataFrame is highly fragmented.  This is usually the result of calling `frame.insert` many times, which has poor performance.  Consider joining all columns at once using pd.concat(axis=1) instead. To get a de-fragmented frame, use `newframe = frame.copy()`\n",
      "  df_returns[name] = np.log(df[name]).diff()\n",
      "/var/folders/6z/zfrlwktn1ls42xz760mlmp880000gn/T/ipykernel_38121/3684760641.py:2: PerformanceWarning: DataFrame is highly fragmented.  This is usually the result of calling `frame.insert` many times, which has poor performance.  Consider joining all columns at once using pd.concat(axis=1) instead. To get a de-fragmented frame, use `newframe = frame.copy()`\n",
      "  df_returns[name] = np.log(df[name]).diff()\n",
      "/var/folders/6z/zfrlwktn1ls42xz760mlmp880000gn/T/ipykernel_38121/3684760641.py:2: PerformanceWarning: DataFrame is highly fragmented.  This is usually the result of calling `frame.insert` many times, which has poor performance.  Consider joining all columns at once using pd.concat(axis=1) instead. To get a de-fragmented frame, use `newframe = frame.copy()`\n",
      "  df_returns[name] = np.log(df[name]).diff()\n",
      "/var/folders/6z/zfrlwktn1ls42xz760mlmp880000gn/T/ipykernel_38121/3684760641.py:2: PerformanceWarning: DataFrame is highly fragmented.  This is usually the result of calling `frame.insert` many times, which has poor performance.  Consider joining all columns at once using pd.concat(axis=1) instead. To get a de-fragmented frame, use `newframe = frame.copy()`\n",
      "  df_returns[name] = np.log(df[name]).diff()\n",
      "/var/folders/6z/zfrlwktn1ls42xz760mlmp880000gn/T/ipykernel_38121/3684760641.py:2: PerformanceWarning: DataFrame is highly fragmented.  This is usually the result of calling `frame.insert` many times, which has poor performance.  Consider joining all columns at once using pd.concat(axis=1) instead. To get a de-fragmented frame, use `newframe = frame.copy()`\n",
      "  df_returns[name] = np.log(df[name]).diff()\n",
      "/var/folders/6z/zfrlwktn1ls42xz760mlmp880000gn/T/ipykernel_38121/3684760641.py:2: PerformanceWarning: DataFrame is highly fragmented.  This is usually the result of calling `frame.insert` many times, which has poor performance.  Consider joining all columns at once using pd.concat(axis=1) instead. To get a de-fragmented frame, use `newframe = frame.copy()`\n",
      "  df_returns[name] = np.log(df[name]).diff()\n",
      "/var/folders/6z/zfrlwktn1ls42xz760mlmp880000gn/T/ipykernel_38121/3684760641.py:2: PerformanceWarning: DataFrame is highly fragmented.  This is usually the result of calling `frame.insert` many times, which has poor performance.  Consider joining all columns at once using pd.concat(axis=1) instead. To get a de-fragmented frame, use `newframe = frame.copy()`\n",
      "  df_returns[name] = np.log(df[name]).diff()\n",
      "/var/folders/6z/zfrlwktn1ls42xz760mlmp880000gn/T/ipykernel_38121/3684760641.py:2: PerformanceWarning: DataFrame is highly fragmented.  This is usually the result of calling `frame.insert` many times, which has poor performance.  Consider joining all columns at once using pd.concat(axis=1) instead. To get a de-fragmented frame, use `newframe = frame.copy()`\n",
      "  df_returns[name] = np.log(df[name]).diff()\n",
      "/var/folders/6z/zfrlwktn1ls42xz760mlmp880000gn/T/ipykernel_38121/3684760641.py:2: PerformanceWarning: DataFrame is highly fragmented.  This is usually the result of calling `frame.insert` many times, which has poor performance.  Consider joining all columns at once using pd.concat(axis=1) instead. To get a de-fragmented frame, use `newframe = frame.copy()`\n",
      "  df_returns[name] = np.log(df[name]).diff()\n",
      "/var/folders/6z/zfrlwktn1ls42xz760mlmp880000gn/T/ipykernel_38121/3684760641.py:2: PerformanceWarning: DataFrame is highly fragmented.  This is usually the result of calling `frame.insert` many times, which has poor performance.  Consider joining all columns at once using pd.concat(axis=1) instead. To get a de-fragmented frame, use `newframe = frame.copy()`\n",
      "  df_returns[name] = np.log(df[name]).diff()\n",
      "/var/folders/6z/zfrlwktn1ls42xz760mlmp880000gn/T/ipykernel_38121/3684760641.py:2: PerformanceWarning: DataFrame is highly fragmented.  This is usually the result of calling `frame.insert` many times, which has poor performance.  Consider joining all columns at once using pd.concat(axis=1) instead. To get a de-fragmented frame, use `newframe = frame.copy()`\n",
      "  df_returns[name] = np.log(df[name]).diff()\n",
      "/var/folders/6z/zfrlwktn1ls42xz760mlmp880000gn/T/ipykernel_38121/3684760641.py:2: PerformanceWarning: DataFrame is highly fragmented.  This is usually the result of calling `frame.insert` many times, which has poor performance.  Consider joining all columns at once using pd.concat(axis=1) instead. To get a de-fragmented frame, use `newframe = frame.copy()`\n",
      "  df_returns[name] = np.log(df[name]).diff()\n",
      "/var/folders/6z/zfrlwktn1ls42xz760mlmp880000gn/T/ipykernel_38121/3684760641.py:2: PerformanceWarning: DataFrame is highly fragmented.  This is usually the result of calling `frame.insert` many times, which has poor performance.  Consider joining all columns at once using pd.concat(axis=1) instead. To get a de-fragmented frame, use `newframe = frame.copy()`\n",
      "  df_returns[name] = np.log(df[name]).diff()\n",
      "/var/folders/6z/zfrlwktn1ls42xz760mlmp880000gn/T/ipykernel_38121/3684760641.py:2: PerformanceWarning: DataFrame is highly fragmented.  This is usually the result of calling `frame.insert` many times, which has poor performance.  Consider joining all columns at once using pd.concat(axis=1) instead. To get a de-fragmented frame, use `newframe = frame.copy()`\n",
      "  df_returns[name] = np.log(df[name]).diff()\n",
      "/var/folders/6z/zfrlwktn1ls42xz760mlmp880000gn/T/ipykernel_38121/3684760641.py:2: PerformanceWarning: DataFrame is highly fragmented.  This is usually the result of calling `frame.insert` many times, which has poor performance.  Consider joining all columns at once using pd.concat(axis=1) instead. To get a de-fragmented frame, use `newframe = frame.copy()`\n",
      "  df_returns[name] = np.log(df[name]).diff()\n",
      "/var/folders/6z/zfrlwktn1ls42xz760mlmp880000gn/T/ipykernel_38121/3684760641.py:2: PerformanceWarning: DataFrame is highly fragmented.  This is usually the result of calling `frame.insert` many times, which has poor performance.  Consider joining all columns at once using pd.concat(axis=1) instead. To get a de-fragmented frame, use `newframe = frame.copy()`\n",
      "  df_returns[name] = np.log(df[name]).diff()\n",
      "/var/folders/6z/zfrlwktn1ls42xz760mlmp880000gn/T/ipykernel_38121/3684760641.py:2: PerformanceWarning: DataFrame is highly fragmented.  This is usually the result of calling `frame.insert` many times, which has poor performance.  Consider joining all columns at once using pd.concat(axis=1) instead. To get a de-fragmented frame, use `newframe = frame.copy()`\n",
      "  df_returns[name] = np.log(df[name]).diff()\n",
      "/var/folders/6z/zfrlwktn1ls42xz760mlmp880000gn/T/ipykernel_38121/3684760641.py:2: PerformanceWarning: DataFrame is highly fragmented.  This is usually the result of calling `frame.insert` many times, which has poor performance.  Consider joining all columns at once using pd.concat(axis=1) instead. To get a de-fragmented frame, use `newframe = frame.copy()`\n",
      "  df_returns[name] = np.log(df[name]).diff()\n",
      "/var/folders/6z/zfrlwktn1ls42xz760mlmp880000gn/T/ipykernel_38121/3684760641.py:2: PerformanceWarning: DataFrame is highly fragmented.  This is usually the result of calling `frame.insert` many times, which has poor performance.  Consider joining all columns at once using pd.concat(axis=1) instead. To get a de-fragmented frame, use `newframe = frame.copy()`\n",
      "  df_returns[name] = np.log(df[name]).diff()\n",
      "/var/folders/6z/zfrlwktn1ls42xz760mlmp880000gn/T/ipykernel_38121/3684760641.py:2: PerformanceWarning: DataFrame is highly fragmented.  This is usually the result of calling `frame.insert` many times, which has poor performance.  Consider joining all columns at once using pd.concat(axis=1) instead. To get a de-fragmented frame, use `newframe = frame.copy()`\n",
      "  df_returns[name] = np.log(df[name]).diff()\n",
      "/var/folders/6z/zfrlwktn1ls42xz760mlmp880000gn/T/ipykernel_38121/3684760641.py:2: PerformanceWarning: DataFrame is highly fragmented.  This is usually the result of calling `frame.insert` many times, which has poor performance.  Consider joining all columns at once using pd.concat(axis=1) instead. To get a de-fragmented frame, use `newframe = frame.copy()`\n",
      "  df_returns[name] = np.log(df[name]).diff()\n",
      "/var/folders/6z/zfrlwktn1ls42xz760mlmp880000gn/T/ipykernel_38121/3684760641.py:2: PerformanceWarning: DataFrame is highly fragmented.  This is usually the result of calling `frame.insert` many times, which has poor performance.  Consider joining all columns at once using pd.concat(axis=1) instead. To get a de-fragmented frame, use `newframe = frame.copy()`\n",
      "  df_returns[name] = np.log(df[name]).diff()\n",
      "/var/folders/6z/zfrlwktn1ls42xz760mlmp880000gn/T/ipykernel_38121/3684760641.py:2: PerformanceWarning: DataFrame is highly fragmented.  This is usually the result of calling `frame.insert` many times, which has poor performance.  Consider joining all columns at once using pd.concat(axis=1) instead. To get a de-fragmented frame, use `newframe = frame.copy()`\n",
      "  df_returns[name] = np.log(df[name]).diff()\n",
      "/var/folders/6z/zfrlwktn1ls42xz760mlmp880000gn/T/ipykernel_38121/3684760641.py:2: PerformanceWarning: DataFrame is highly fragmented.  This is usually the result of calling `frame.insert` many times, which has poor performance.  Consider joining all columns at once using pd.concat(axis=1) instead. To get a de-fragmented frame, use `newframe = frame.copy()`\n",
      "  df_returns[name] = np.log(df[name]).diff()\n",
      "/var/folders/6z/zfrlwktn1ls42xz760mlmp880000gn/T/ipykernel_38121/3684760641.py:2: PerformanceWarning: DataFrame is highly fragmented.  This is usually the result of calling `frame.insert` many times, which has poor performance.  Consider joining all columns at once using pd.concat(axis=1) instead. To get a de-fragmented frame, use `newframe = frame.copy()`\n",
      "  df_returns[name] = np.log(df[name]).diff()\n",
      "/var/folders/6z/zfrlwktn1ls42xz760mlmp880000gn/T/ipykernel_38121/3684760641.py:2: PerformanceWarning: DataFrame is highly fragmented.  This is usually the result of calling `frame.insert` many times, which has poor performance.  Consider joining all columns at once using pd.concat(axis=1) instead. To get a de-fragmented frame, use `newframe = frame.copy()`\n",
      "  df_returns[name] = np.log(df[name]).diff()\n",
      "/var/folders/6z/zfrlwktn1ls42xz760mlmp880000gn/T/ipykernel_38121/3684760641.py:2: PerformanceWarning: DataFrame is highly fragmented.  This is usually the result of calling `frame.insert` many times, which has poor performance.  Consider joining all columns at once using pd.concat(axis=1) instead. To get a de-fragmented frame, use `newframe = frame.copy()`\n",
      "  df_returns[name] = np.log(df[name]).diff()\n",
      "/var/folders/6z/zfrlwktn1ls42xz760mlmp880000gn/T/ipykernel_38121/3684760641.py:2: PerformanceWarning: DataFrame is highly fragmented.  This is usually the result of calling `frame.insert` many times, which has poor performance.  Consider joining all columns at once using pd.concat(axis=1) instead. To get a de-fragmented frame, use `newframe = frame.copy()`\n",
      "  df_returns[name] = np.log(df[name]).diff()\n",
      "/var/folders/6z/zfrlwktn1ls42xz760mlmp880000gn/T/ipykernel_38121/3684760641.py:2: PerformanceWarning: DataFrame is highly fragmented.  This is usually the result of calling `frame.insert` many times, which has poor performance.  Consider joining all columns at once using pd.concat(axis=1) instead. To get a de-fragmented frame, use `newframe = frame.copy()`\n",
      "  df_returns[name] = np.log(df[name]).diff()\n",
      "/var/folders/6z/zfrlwktn1ls42xz760mlmp880000gn/T/ipykernel_38121/3684760641.py:2: PerformanceWarning: DataFrame is highly fragmented.  This is usually the result of calling `frame.insert` many times, which has poor performance.  Consider joining all columns at once using pd.concat(axis=1) instead. To get a de-fragmented frame, use `newframe = frame.copy()`\n",
      "  df_returns[name] = np.log(df[name]).diff()\n",
      "/var/folders/6z/zfrlwktn1ls42xz760mlmp880000gn/T/ipykernel_38121/3684760641.py:2: PerformanceWarning: DataFrame is highly fragmented.  This is usually the result of calling `frame.insert` many times, which has poor performance.  Consider joining all columns at once using pd.concat(axis=1) instead. To get a de-fragmented frame, use `newframe = frame.copy()`\n",
      "  df_returns[name] = np.log(df[name]).diff()\n",
      "/var/folders/6z/zfrlwktn1ls42xz760mlmp880000gn/T/ipykernel_38121/3684760641.py:2: PerformanceWarning: DataFrame is highly fragmented.  This is usually the result of calling `frame.insert` many times, which has poor performance.  Consider joining all columns at once using pd.concat(axis=1) instead. To get a de-fragmented frame, use `newframe = frame.copy()`\n",
      "  df_returns[name] = np.log(df[name]).diff()\n",
      "/var/folders/6z/zfrlwktn1ls42xz760mlmp880000gn/T/ipykernel_38121/3684760641.py:2: PerformanceWarning: DataFrame is highly fragmented.  This is usually the result of calling `frame.insert` many times, which has poor performance.  Consider joining all columns at once using pd.concat(axis=1) instead. To get a de-fragmented frame, use `newframe = frame.copy()`\n",
      "  df_returns[name] = np.log(df[name]).diff()\n",
      "/var/folders/6z/zfrlwktn1ls42xz760mlmp880000gn/T/ipykernel_38121/3684760641.py:2: PerformanceWarning: DataFrame is highly fragmented.  This is usually the result of calling `frame.insert` many times, which has poor performance.  Consider joining all columns at once using pd.concat(axis=1) instead. To get a de-fragmented frame, use `newframe = frame.copy()`\n",
      "  df_returns[name] = np.log(df[name]).diff()\n",
      "/var/folders/6z/zfrlwktn1ls42xz760mlmp880000gn/T/ipykernel_38121/3684760641.py:2: PerformanceWarning: DataFrame is highly fragmented.  This is usually the result of calling `frame.insert` many times, which has poor performance.  Consider joining all columns at once using pd.concat(axis=1) instead. To get a de-fragmented frame, use `newframe = frame.copy()`\n",
      "  df_returns[name] = np.log(df[name]).diff()\n",
      "/var/folders/6z/zfrlwktn1ls42xz760mlmp880000gn/T/ipykernel_38121/3684760641.py:2: PerformanceWarning: DataFrame is highly fragmented.  This is usually the result of calling `frame.insert` many times, which has poor performance.  Consider joining all columns at once using pd.concat(axis=1) instead. To get a de-fragmented frame, use `newframe = frame.copy()`\n",
      "  df_returns[name] = np.log(df[name]).diff()\n",
      "/var/folders/6z/zfrlwktn1ls42xz760mlmp880000gn/T/ipykernel_38121/3684760641.py:2: PerformanceWarning: DataFrame is highly fragmented.  This is usually the result of calling `frame.insert` many times, which has poor performance.  Consider joining all columns at once using pd.concat(axis=1) instead. To get a de-fragmented frame, use `newframe = frame.copy()`\n",
      "  df_returns[name] = np.log(df[name]).diff()\n",
      "/var/folders/6z/zfrlwktn1ls42xz760mlmp880000gn/T/ipykernel_38121/3684760641.py:2: PerformanceWarning: DataFrame is highly fragmented.  This is usually the result of calling `frame.insert` many times, which has poor performance.  Consider joining all columns at once using pd.concat(axis=1) instead. To get a de-fragmented frame, use `newframe = frame.copy()`\n",
      "  df_returns[name] = np.log(df[name]).diff()\n",
      "/var/folders/6z/zfrlwktn1ls42xz760mlmp880000gn/T/ipykernel_38121/3684760641.py:2: PerformanceWarning: DataFrame is highly fragmented.  This is usually the result of calling `frame.insert` many times, which has poor performance.  Consider joining all columns at once using pd.concat(axis=1) instead. To get a de-fragmented frame, use `newframe = frame.copy()`\n",
      "  df_returns[name] = np.log(df[name]).diff()\n",
      "/var/folders/6z/zfrlwktn1ls42xz760mlmp880000gn/T/ipykernel_38121/3684760641.py:2: PerformanceWarning: DataFrame is highly fragmented.  This is usually the result of calling `frame.insert` many times, which has poor performance.  Consider joining all columns at once using pd.concat(axis=1) instead. To get a de-fragmented frame, use `newframe = frame.copy()`\n",
      "  df_returns[name] = np.log(df[name]).diff()\n",
      "/var/folders/6z/zfrlwktn1ls42xz760mlmp880000gn/T/ipykernel_38121/3684760641.py:2: PerformanceWarning: DataFrame is highly fragmented.  This is usually the result of calling `frame.insert` many times, which has poor performance.  Consider joining all columns at once using pd.concat(axis=1) instead. To get a de-fragmented frame, use `newframe = frame.copy()`\n",
      "  df_returns[name] = np.log(df[name]).diff()\n",
      "/var/folders/6z/zfrlwktn1ls42xz760mlmp880000gn/T/ipykernel_38121/3684760641.py:2: PerformanceWarning: DataFrame is highly fragmented.  This is usually the result of calling `frame.insert` many times, which has poor performance.  Consider joining all columns at once using pd.concat(axis=1) instead. To get a de-fragmented frame, use `newframe = frame.copy()`\n",
      "  df_returns[name] = np.log(df[name]).diff()\n",
      "/var/folders/6z/zfrlwktn1ls42xz760mlmp880000gn/T/ipykernel_38121/3684760641.py:2: PerformanceWarning: DataFrame is highly fragmented.  This is usually the result of calling `frame.insert` many times, which has poor performance.  Consider joining all columns at once using pd.concat(axis=1) instead. To get a de-fragmented frame, use `newframe = frame.copy()`\n",
      "  df_returns[name] = np.log(df[name]).diff()\n",
      "/var/folders/6z/zfrlwktn1ls42xz760mlmp880000gn/T/ipykernel_38121/3684760641.py:2: PerformanceWarning: DataFrame is highly fragmented.  This is usually the result of calling `frame.insert` many times, which has poor performance.  Consider joining all columns at once using pd.concat(axis=1) instead. To get a de-fragmented frame, use `newframe = frame.copy()`\n",
      "  df_returns[name] = np.log(df[name]).diff()\n",
      "/var/folders/6z/zfrlwktn1ls42xz760mlmp880000gn/T/ipykernel_38121/3684760641.py:2: PerformanceWarning: DataFrame is highly fragmented.  This is usually the result of calling `frame.insert` many times, which has poor performance.  Consider joining all columns at once using pd.concat(axis=1) instead. To get a de-fragmented frame, use `newframe = frame.copy()`\n",
      "  df_returns[name] = np.log(df[name]).diff()\n",
      "/var/folders/6z/zfrlwktn1ls42xz760mlmp880000gn/T/ipykernel_38121/3684760641.py:2: PerformanceWarning: DataFrame is highly fragmented.  This is usually the result of calling `frame.insert` many times, which has poor performance.  Consider joining all columns at once using pd.concat(axis=1) instead. To get a de-fragmented frame, use `newframe = frame.copy()`\n",
      "  df_returns[name] = np.log(df[name]).diff()\n",
      "/var/folders/6z/zfrlwktn1ls42xz760mlmp880000gn/T/ipykernel_38121/3684760641.py:2: PerformanceWarning: DataFrame is highly fragmented.  This is usually the result of calling `frame.insert` many times, which has poor performance.  Consider joining all columns at once using pd.concat(axis=1) instead. To get a de-fragmented frame, use `newframe = frame.copy()`\n",
      "  df_returns[name] = np.log(df[name]).diff()\n",
      "/var/folders/6z/zfrlwktn1ls42xz760mlmp880000gn/T/ipykernel_38121/3684760641.py:2: PerformanceWarning: DataFrame is highly fragmented.  This is usually the result of calling `frame.insert` many times, which has poor performance.  Consider joining all columns at once using pd.concat(axis=1) instead. To get a de-fragmented frame, use `newframe = frame.copy()`\n",
      "  df_returns[name] = np.log(df[name]).diff()\n",
      "/var/folders/6z/zfrlwktn1ls42xz760mlmp880000gn/T/ipykernel_38121/3684760641.py:2: PerformanceWarning: DataFrame is highly fragmented.  This is usually the result of calling `frame.insert` many times, which has poor performance.  Consider joining all columns at once using pd.concat(axis=1) instead. To get a de-fragmented frame, use `newframe = frame.copy()`\n",
      "  df_returns[name] = np.log(df[name]).diff()\n",
      "/var/folders/6z/zfrlwktn1ls42xz760mlmp880000gn/T/ipykernel_38121/3684760641.py:2: PerformanceWarning: DataFrame is highly fragmented.  This is usually the result of calling `frame.insert` many times, which has poor performance.  Consider joining all columns at once using pd.concat(axis=1) instead. To get a de-fragmented frame, use `newframe = frame.copy()`\n",
      "  df_returns[name] = np.log(df[name]).diff()\n",
      "/var/folders/6z/zfrlwktn1ls42xz760mlmp880000gn/T/ipykernel_38121/3684760641.py:2: PerformanceWarning: DataFrame is highly fragmented.  This is usually the result of calling `frame.insert` many times, which has poor performance.  Consider joining all columns at once using pd.concat(axis=1) instead. To get a de-fragmented frame, use `newframe = frame.copy()`\n",
      "  df_returns[name] = np.log(df[name]).diff()\n",
      "/var/folders/6z/zfrlwktn1ls42xz760mlmp880000gn/T/ipykernel_38121/3684760641.py:2: PerformanceWarning: DataFrame is highly fragmented.  This is usually the result of calling `frame.insert` many times, which has poor performance.  Consider joining all columns at once using pd.concat(axis=1) instead. To get a de-fragmented frame, use `newframe = frame.copy()`\n",
      "  df_returns[name] = np.log(df[name]).diff()\n",
      "/var/folders/6z/zfrlwktn1ls42xz760mlmp880000gn/T/ipykernel_38121/3684760641.py:2: PerformanceWarning: DataFrame is highly fragmented.  This is usually the result of calling `frame.insert` many times, which has poor performance.  Consider joining all columns at once using pd.concat(axis=1) instead. To get a de-fragmented frame, use `newframe = frame.copy()`\n",
      "  df_returns[name] = np.log(df[name]).diff()\n",
      "/var/folders/6z/zfrlwktn1ls42xz760mlmp880000gn/T/ipykernel_38121/3684760641.py:2: PerformanceWarning: DataFrame is highly fragmented.  This is usually the result of calling `frame.insert` many times, which has poor performance.  Consider joining all columns at once using pd.concat(axis=1) instead. To get a de-fragmented frame, use `newframe = frame.copy()`\n",
      "  df_returns[name] = np.log(df[name]).diff()\n",
      "/var/folders/6z/zfrlwktn1ls42xz760mlmp880000gn/T/ipykernel_38121/3684760641.py:2: PerformanceWarning: DataFrame is highly fragmented.  This is usually the result of calling `frame.insert` many times, which has poor performance.  Consider joining all columns at once using pd.concat(axis=1) instead. To get a de-fragmented frame, use `newframe = frame.copy()`\n",
      "  df_returns[name] = np.log(df[name]).diff()\n",
      "/var/folders/6z/zfrlwktn1ls42xz760mlmp880000gn/T/ipykernel_38121/3684760641.py:2: PerformanceWarning: DataFrame is highly fragmented.  This is usually the result of calling `frame.insert` many times, which has poor performance.  Consider joining all columns at once using pd.concat(axis=1) instead. To get a de-fragmented frame, use `newframe = frame.copy()`\n",
      "  df_returns[name] = np.log(df[name]).diff()\n",
      "/var/folders/6z/zfrlwktn1ls42xz760mlmp880000gn/T/ipykernel_38121/3684760641.py:2: PerformanceWarning: DataFrame is highly fragmented.  This is usually the result of calling `frame.insert` many times, which has poor performance.  Consider joining all columns at once using pd.concat(axis=1) instead. To get a de-fragmented frame, use `newframe = frame.copy()`\n",
      "  df_returns[name] = np.log(df[name]).diff()\n",
      "/var/folders/6z/zfrlwktn1ls42xz760mlmp880000gn/T/ipykernel_38121/3684760641.py:2: PerformanceWarning: DataFrame is highly fragmented.  This is usually the result of calling `frame.insert` many times, which has poor performance.  Consider joining all columns at once using pd.concat(axis=1) instead. To get a de-fragmented frame, use `newframe = frame.copy()`\n",
      "  df_returns[name] = np.log(df[name]).diff()\n",
      "/var/folders/6z/zfrlwktn1ls42xz760mlmp880000gn/T/ipykernel_38121/3684760641.py:2: PerformanceWarning: DataFrame is highly fragmented.  This is usually the result of calling `frame.insert` many times, which has poor performance.  Consider joining all columns at once using pd.concat(axis=1) instead. To get a de-fragmented frame, use `newframe = frame.copy()`\n",
      "  df_returns[name] = np.log(df[name]).diff()\n",
      "/var/folders/6z/zfrlwktn1ls42xz760mlmp880000gn/T/ipykernel_38121/3684760641.py:2: PerformanceWarning: DataFrame is highly fragmented.  This is usually the result of calling `frame.insert` many times, which has poor performance.  Consider joining all columns at once using pd.concat(axis=1) instead. To get a de-fragmented frame, use `newframe = frame.copy()`\n",
      "  df_returns[name] = np.log(df[name]).diff()\n",
      "/var/folders/6z/zfrlwktn1ls42xz760mlmp880000gn/T/ipykernel_38121/3684760641.py:2: PerformanceWarning: DataFrame is highly fragmented.  This is usually the result of calling `frame.insert` many times, which has poor performance.  Consider joining all columns at once using pd.concat(axis=1) instead. To get a de-fragmented frame, use `newframe = frame.copy()`\n",
      "  df_returns[name] = np.log(df[name]).diff()\n",
      "/var/folders/6z/zfrlwktn1ls42xz760mlmp880000gn/T/ipykernel_38121/3684760641.py:2: PerformanceWarning: DataFrame is highly fragmented.  This is usually the result of calling `frame.insert` many times, which has poor performance.  Consider joining all columns at once using pd.concat(axis=1) instead. To get a de-fragmented frame, use `newframe = frame.copy()`\n",
      "  df_returns[name] = np.log(df[name]).diff()\n",
      "/var/folders/6z/zfrlwktn1ls42xz760mlmp880000gn/T/ipykernel_38121/3684760641.py:2: PerformanceWarning: DataFrame is highly fragmented.  This is usually the result of calling `frame.insert` many times, which has poor performance.  Consider joining all columns at once using pd.concat(axis=1) instead. To get a de-fragmented frame, use `newframe = frame.copy()`\n",
      "  df_returns[name] = np.log(df[name]).diff()\n",
      "/var/folders/6z/zfrlwktn1ls42xz760mlmp880000gn/T/ipykernel_38121/3684760641.py:2: PerformanceWarning: DataFrame is highly fragmented.  This is usually the result of calling `frame.insert` many times, which has poor performance.  Consider joining all columns at once using pd.concat(axis=1) instead. To get a de-fragmented frame, use `newframe = frame.copy()`\n",
      "  df_returns[name] = np.log(df[name]).diff()\n",
      "/var/folders/6z/zfrlwktn1ls42xz760mlmp880000gn/T/ipykernel_38121/3684760641.py:2: PerformanceWarning: DataFrame is highly fragmented.  This is usually the result of calling `frame.insert` many times, which has poor performance.  Consider joining all columns at once using pd.concat(axis=1) instead. To get a de-fragmented frame, use `newframe = frame.copy()`\n",
      "  df_returns[name] = np.log(df[name]).diff()\n",
      "/var/folders/6z/zfrlwktn1ls42xz760mlmp880000gn/T/ipykernel_38121/3684760641.py:2: PerformanceWarning: DataFrame is highly fragmented.  This is usually the result of calling `frame.insert` many times, which has poor performance.  Consider joining all columns at once using pd.concat(axis=1) instead. To get a de-fragmented frame, use `newframe = frame.copy()`\n",
      "  df_returns[name] = np.log(df[name]).diff()\n",
      "/var/folders/6z/zfrlwktn1ls42xz760mlmp880000gn/T/ipykernel_38121/3684760641.py:2: PerformanceWarning: DataFrame is highly fragmented.  This is usually the result of calling `frame.insert` many times, which has poor performance.  Consider joining all columns at once using pd.concat(axis=1) instead. To get a de-fragmented frame, use `newframe = frame.copy()`\n",
      "  df_returns[name] = np.log(df[name]).diff()\n",
      "/var/folders/6z/zfrlwktn1ls42xz760mlmp880000gn/T/ipykernel_38121/3684760641.py:2: PerformanceWarning: DataFrame is highly fragmented.  This is usually the result of calling `frame.insert` many times, which has poor performance.  Consider joining all columns at once using pd.concat(axis=1) instead. To get a de-fragmented frame, use `newframe = frame.copy()`\n",
      "  df_returns[name] = np.log(df[name]).diff()\n",
      "/var/folders/6z/zfrlwktn1ls42xz760mlmp880000gn/T/ipykernel_38121/3684760641.py:2: PerformanceWarning: DataFrame is highly fragmented.  This is usually the result of calling `frame.insert` many times, which has poor performance.  Consider joining all columns at once using pd.concat(axis=1) instead. To get a de-fragmented frame, use `newframe = frame.copy()`\n",
      "  df_returns[name] = np.log(df[name]).diff()\n",
      "/var/folders/6z/zfrlwktn1ls42xz760mlmp880000gn/T/ipykernel_38121/3684760641.py:2: PerformanceWarning: DataFrame is highly fragmented.  This is usually the result of calling `frame.insert` many times, which has poor performance.  Consider joining all columns at once using pd.concat(axis=1) instead. To get a de-fragmented frame, use `newframe = frame.copy()`\n",
      "  df_returns[name] = np.log(df[name]).diff()\n",
      "/var/folders/6z/zfrlwktn1ls42xz760mlmp880000gn/T/ipykernel_38121/3684760641.py:2: PerformanceWarning: DataFrame is highly fragmented.  This is usually the result of calling `frame.insert` many times, which has poor performance.  Consider joining all columns at once using pd.concat(axis=1) instead. To get a de-fragmented frame, use `newframe = frame.copy()`\n",
      "  df_returns[name] = np.log(df[name]).diff()\n",
      "/var/folders/6z/zfrlwktn1ls42xz760mlmp880000gn/T/ipykernel_38121/3684760641.py:2: PerformanceWarning: DataFrame is highly fragmented.  This is usually the result of calling `frame.insert` many times, which has poor performance.  Consider joining all columns at once using pd.concat(axis=1) instead. To get a de-fragmented frame, use `newframe = frame.copy()`\n",
      "  df_returns[name] = np.log(df[name]).diff()\n",
      "/var/folders/6z/zfrlwktn1ls42xz760mlmp880000gn/T/ipykernel_38121/3684760641.py:2: PerformanceWarning: DataFrame is highly fragmented.  This is usually the result of calling `frame.insert` many times, which has poor performance.  Consider joining all columns at once using pd.concat(axis=1) instead. To get a de-fragmented frame, use `newframe = frame.copy()`\n",
      "  df_returns[name] = np.log(df[name]).diff()\n",
      "/var/folders/6z/zfrlwktn1ls42xz760mlmp880000gn/T/ipykernel_38121/3684760641.py:2: PerformanceWarning: DataFrame is highly fragmented.  This is usually the result of calling `frame.insert` many times, which has poor performance.  Consider joining all columns at once using pd.concat(axis=1) instead. To get a de-fragmented frame, use `newframe = frame.copy()`\n",
      "  df_returns[name] = np.log(df[name]).diff()\n",
      "/var/folders/6z/zfrlwktn1ls42xz760mlmp880000gn/T/ipykernel_38121/3684760641.py:2: PerformanceWarning: DataFrame is highly fragmented.  This is usually the result of calling `frame.insert` many times, which has poor performance.  Consider joining all columns at once using pd.concat(axis=1) instead. To get a de-fragmented frame, use `newframe = frame.copy()`\n",
      "  df_returns[name] = np.log(df[name]).diff()\n",
      "/var/folders/6z/zfrlwktn1ls42xz760mlmp880000gn/T/ipykernel_38121/3684760641.py:2: PerformanceWarning: DataFrame is highly fragmented.  This is usually the result of calling `frame.insert` many times, which has poor performance.  Consider joining all columns at once using pd.concat(axis=1) instead. To get a de-fragmented frame, use `newframe = frame.copy()`\n",
      "  df_returns[name] = np.log(df[name]).diff()\n",
      "/var/folders/6z/zfrlwktn1ls42xz760mlmp880000gn/T/ipykernel_38121/3684760641.py:2: PerformanceWarning: DataFrame is highly fragmented.  This is usually the result of calling `frame.insert` many times, which has poor performance.  Consider joining all columns at once using pd.concat(axis=1) instead. To get a de-fragmented frame, use `newframe = frame.copy()`\n",
      "  df_returns[name] = np.log(df[name]).diff()\n",
      "/var/folders/6z/zfrlwktn1ls42xz760mlmp880000gn/T/ipykernel_38121/3684760641.py:2: PerformanceWarning: DataFrame is highly fragmented.  This is usually the result of calling `frame.insert` many times, which has poor performance.  Consider joining all columns at once using pd.concat(axis=1) instead. To get a de-fragmented frame, use `newframe = frame.copy()`\n",
      "  df_returns[name] = np.log(df[name]).diff()\n",
      "/var/folders/6z/zfrlwktn1ls42xz760mlmp880000gn/T/ipykernel_38121/3684760641.py:2: PerformanceWarning: DataFrame is highly fragmented.  This is usually the result of calling `frame.insert` many times, which has poor performance.  Consider joining all columns at once using pd.concat(axis=1) instead. To get a de-fragmented frame, use `newframe = frame.copy()`\n",
      "  df_returns[name] = np.log(df[name]).diff()\n",
      "/var/folders/6z/zfrlwktn1ls42xz760mlmp880000gn/T/ipykernel_38121/3684760641.py:2: PerformanceWarning: DataFrame is highly fragmented.  This is usually the result of calling `frame.insert` many times, which has poor performance.  Consider joining all columns at once using pd.concat(axis=1) instead. To get a de-fragmented frame, use `newframe = frame.copy()`\n",
      "  df_returns[name] = np.log(df[name]).diff()\n",
      "/var/folders/6z/zfrlwktn1ls42xz760mlmp880000gn/T/ipykernel_38121/3684760641.py:2: PerformanceWarning: DataFrame is highly fragmented.  This is usually the result of calling `frame.insert` many times, which has poor performance.  Consider joining all columns at once using pd.concat(axis=1) instead. To get a de-fragmented frame, use `newframe = frame.copy()`\n",
      "  df_returns[name] = np.log(df[name]).diff()\n",
      "/var/folders/6z/zfrlwktn1ls42xz760mlmp880000gn/T/ipykernel_38121/3684760641.py:2: PerformanceWarning: DataFrame is highly fragmented.  This is usually the result of calling `frame.insert` many times, which has poor performance.  Consider joining all columns at once using pd.concat(axis=1) instead. To get a de-fragmented frame, use `newframe = frame.copy()`\n",
      "  df_returns[name] = np.log(df[name]).diff()\n",
      "/var/folders/6z/zfrlwktn1ls42xz760mlmp880000gn/T/ipykernel_38121/3684760641.py:2: PerformanceWarning: DataFrame is highly fragmented.  This is usually the result of calling `frame.insert` many times, which has poor performance.  Consider joining all columns at once using pd.concat(axis=1) instead. To get a de-fragmented frame, use `newframe = frame.copy()`\n",
      "  df_returns[name] = np.log(df[name]).diff()\n",
      "/var/folders/6z/zfrlwktn1ls42xz760mlmp880000gn/T/ipykernel_38121/3684760641.py:2: PerformanceWarning: DataFrame is highly fragmented.  This is usually the result of calling `frame.insert` many times, which has poor performance.  Consider joining all columns at once using pd.concat(axis=1) instead. To get a de-fragmented frame, use `newframe = frame.copy()`\n",
      "  df_returns[name] = np.log(df[name]).diff()\n",
      "/var/folders/6z/zfrlwktn1ls42xz760mlmp880000gn/T/ipykernel_38121/3684760641.py:2: PerformanceWarning: DataFrame is highly fragmented.  This is usually the result of calling `frame.insert` many times, which has poor performance.  Consider joining all columns at once using pd.concat(axis=1) instead. To get a de-fragmented frame, use `newframe = frame.copy()`\n",
      "  df_returns[name] = np.log(df[name]).diff()\n",
      "/var/folders/6z/zfrlwktn1ls42xz760mlmp880000gn/T/ipykernel_38121/3684760641.py:2: PerformanceWarning: DataFrame is highly fragmented.  This is usually the result of calling `frame.insert` many times, which has poor performance.  Consider joining all columns at once using pd.concat(axis=1) instead. To get a de-fragmented frame, use `newframe = frame.copy()`\n",
      "  df_returns[name] = np.log(df[name]).diff()\n",
      "/var/folders/6z/zfrlwktn1ls42xz760mlmp880000gn/T/ipykernel_38121/3684760641.py:2: PerformanceWarning: DataFrame is highly fragmented.  This is usually the result of calling `frame.insert` many times, which has poor performance.  Consider joining all columns at once using pd.concat(axis=1) instead. To get a de-fragmented frame, use `newframe = frame.copy()`\n",
      "  df_returns[name] = np.log(df[name]).diff()\n",
      "/var/folders/6z/zfrlwktn1ls42xz760mlmp880000gn/T/ipykernel_38121/3684760641.py:2: PerformanceWarning: DataFrame is highly fragmented.  This is usually the result of calling `frame.insert` many times, which has poor performance.  Consider joining all columns at once using pd.concat(axis=1) instead. To get a de-fragmented frame, use `newframe = frame.copy()`\n",
      "  df_returns[name] = np.log(df[name]).diff()\n",
      "/var/folders/6z/zfrlwktn1ls42xz760mlmp880000gn/T/ipykernel_38121/3684760641.py:2: PerformanceWarning: DataFrame is highly fragmented.  This is usually the result of calling `frame.insert` many times, which has poor performance.  Consider joining all columns at once using pd.concat(axis=1) instead. To get a de-fragmented frame, use `newframe = frame.copy()`\n",
      "  df_returns[name] = np.log(df[name]).diff()\n",
      "/var/folders/6z/zfrlwktn1ls42xz760mlmp880000gn/T/ipykernel_38121/3684760641.py:2: PerformanceWarning: DataFrame is highly fragmented.  This is usually the result of calling `frame.insert` many times, which has poor performance.  Consider joining all columns at once using pd.concat(axis=1) instead. To get a de-fragmented frame, use `newframe = frame.copy()`\n",
      "  df_returns[name] = np.log(df[name]).diff()\n",
      "/var/folders/6z/zfrlwktn1ls42xz760mlmp880000gn/T/ipykernel_38121/3684760641.py:2: PerformanceWarning: DataFrame is highly fragmented.  This is usually the result of calling `frame.insert` many times, which has poor performance.  Consider joining all columns at once using pd.concat(axis=1) instead. To get a de-fragmented frame, use `newframe = frame.copy()`\n",
      "  df_returns[name] = np.log(df[name]).diff()\n",
      "/var/folders/6z/zfrlwktn1ls42xz760mlmp880000gn/T/ipykernel_38121/3684760641.py:2: PerformanceWarning: DataFrame is highly fragmented.  This is usually the result of calling `frame.insert` many times, which has poor performance.  Consider joining all columns at once using pd.concat(axis=1) instead. To get a de-fragmented frame, use `newframe = frame.copy()`\n",
      "  df_returns[name] = np.log(df[name]).diff()\n",
      "/var/folders/6z/zfrlwktn1ls42xz760mlmp880000gn/T/ipykernel_38121/3684760641.py:2: PerformanceWarning: DataFrame is highly fragmented.  This is usually the result of calling `frame.insert` many times, which has poor performance.  Consider joining all columns at once using pd.concat(axis=1) instead. To get a de-fragmented frame, use `newframe = frame.copy()`\n",
      "  df_returns[name] = np.log(df[name]).diff()\n",
      "/var/folders/6z/zfrlwktn1ls42xz760mlmp880000gn/T/ipykernel_38121/3684760641.py:2: PerformanceWarning: DataFrame is highly fragmented.  This is usually the result of calling `frame.insert` many times, which has poor performance.  Consider joining all columns at once using pd.concat(axis=1) instead. To get a de-fragmented frame, use `newframe = frame.copy()`\n",
      "  df_returns[name] = np.log(df[name]).diff()\n",
      "/var/folders/6z/zfrlwktn1ls42xz760mlmp880000gn/T/ipykernel_38121/3684760641.py:2: PerformanceWarning: DataFrame is highly fragmented.  This is usually the result of calling `frame.insert` many times, which has poor performance.  Consider joining all columns at once using pd.concat(axis=1) instead. To get a de-fragmented frame, use `newframe = frame.copy()`\n",
      "  df_returns[name] = np.log(df[name]).diff()\n",
      "/var/folders/6z/zfrlwktn1ls42xz760mlmp880000gn/T/ipykernel_38121/3684760641.py:2: PerformanceWarning: DataFrame is highly fragmented.  This is usually the result of calling `frame.insert` many times, which has poor performance.  Consider joining all columns at once using pd.concat(axis=1) instead. To get a de-fragmented frame, use `newframe = frame.copy()`\n",
      "  df_returns[name] = np.log(df[name]).diff()\n",
      "/var/folders/6z/zfrlwktn1ls42xz760mlmp880000gn/T/ipykernel_38121/3684760641.py:2: PerformanceWarning: DataFrame is highly fragmented.  This is usually the result of calling `frame.insert` many times, which has poor performance.  Consider joining all columns at once using pd.concat(axis=1) instead. To get a de-fragmented frame, use `newframe = frame.copy()`\n",
      "  df_returns[name] = np.log(df[name]).diff()\n",
      "/var/folders/6z/zfrlwktn1ls42xz760mlmp880000gn/T/ipykernel_38121/3684760641.py:2: PerformanceWarning: DataFrame is highly fragmented.  This is usually the result of calling `frame.insert` many times, which has poor performance.  Consider joining all columns at once using pd.concat(axis=1) instead. To get a de-fragmented frame, use `newframe = frame.copy()`\n",
      "  df_returns[name] = np.log(df[name]).diff()\n",
      "/var/folders/6z/zfrlwktn1ls42xz760mlmp880000gn/T/ipykernel_38121/3684760641.py:2: PerformanceWarning: DataFrame is highly fragmented.  This is usually the result of calling `frame.insert` many times, which has poor performance.  Consider joining all columns at once using pd.concat(axis=1) instead. To get a de-fragmented frame, use `newframe = frame.copy()`\n",
      "  df_returns[name] = np.log(df[name]).diff()\n",
      "/var/folders/6z/zfrlwktn1ls42xz760mlmp880000gn/T/ipykernel_38121/3684760641.py:2: PerformanceWarning: DataFrame is highly fragmented.  This is usually the result of calling `frame.insert` many times, which has poor performance.  Consider joining all columns at once using pd.concat(axis=1) instead. To get a de-fragmented frame, use `newframe = frame.copy()`\n",
      "  df_returns[name] = np.log(df[name]).diff()\n",
      "/var/folders/6z/zfrlwktn1ls42xz760mlmp880000gn/T/ipykernel_38121/3684760641.py:2: PerformanceWarning: DataFrame is highly fragmented.  This is usually the result of calling `frame.insert` many times, which has poor performance.  Consider joining all columns at once using pd.concat(axis=1) instead. To get a de-fragmented frame, use `newframe = frame.copy()`\n",
      "  df_returns[name] = np.log(df[name]).diff()\n",
      "/var/folders/6z/zfrlwktn1ls42xz760mlmp880000gn/T/ipykernel_38121/3684760641.py:2: PerformanceWarning: DataFrame is highly fragmented.  This is usually the result of calling `frame.insert` many times, which has poor performance.  Consider joining all columns at once using pd.concat(axis=1) instead. To get a de-fragmented frame, use `newframe = frame.copy()`\n",
      "  df_returns[name] = np.log(df[name]).diff()\n",
      "/var/folders/6z/zfrlwktn1ls42xz760mlmp880000gn/T/ipykernel_38121/3684760641.py:2: PerformanceWarning: DataFrame is highly fragmented.  This is usually the result of calling `frame.insert` many times, which has poor performance.  Consider joining all columns at once using pd.concat(axis=1) instead. To get a de-fragmented frame, use `newframe = frame.copy()`\n",
      "  df_returns[name] = np.log(df[name]).diff()\n",
      "/var/folders/6z/zfrlwktn1ls42xz760mlmp880000gn/T/ipykernel_38121/3684760641.py:2: PerformanceWarning: DataFrame is highly fragmented.  This is usually the result of calling `frame.insert` many times, which has poor performance.  Consider joining all columns at once using pd.concat(axis=1) instead. To get a de-fragmented frame, use `newframe = frame.copy()`\n",
      "  df_returns[name] = np.log(df[name]).diff()\n",
      "/var/folders/6z/zfrlwktn1ls42xz760mlmp880000gn/T/ipykernel_38121/3684760641.py:2: PerformanceWarning: DataFrame is highly fragmented.  This is usually the result of calling `frame.insert` many times, which has poor performance.  Consider joining all columns at once using pd.concat(axis=1) instead. To get a de-fragmented frame, use `newframe = frame.copy()`\n",
      "  df_returns[name] = np.log(df[name]).diff()\n",
      "/var/folders/6z/zfrlwktn1ls42xz760mlmp880000gn/T/ipykernel_38121/3684760641.py:2: PerformanceWarning: DataFrame is highly fragmented.  This is usually the result of calling `frame.insert` many times, which has poor performance.  Consider joining all columns at once using pd.concat(axis=1) instead. To get a de-fragmented frame, use `newframe = frame.copy()`\n",
      "  df_returns[name] = np.log(df[name]).diff()\n",
      "/var/folders/6z/zfrlwktn1ls42xz760mlmp880000gn/T/ipykernel_38121/3684760641.py:2: PerformanceWarning: DataFrame is highly fragmented.  This is usually the result of calling `frame.insert` many times, which has poor performance.  Consider joining all columns at once using pd.concat(axis=1) instead. To get a de-fragmented frame, use `newframe = frame.copy()`\n",
      "  df_returns[name] = np.log(df[name]).diff()\n",
      "/var/folders/6z/zfrlwktn1ls42xz760mlmp880000gn/T/ipykernel_38121/3684760641.py:2: PerformanceWarning: DataFrame is highly fragmented.  This is usually the result of calling `frame.insert` many times, which has poor performance.  Consider joining all columns at once using pd.concat(axis=1) instead. To get a de-fragmented frame, use `newframe = frame.copy()`\n",
      "  df_returns[name] = np.log(df[name]).diff()\n",
      "/var/folders/6z/zfrlwktn1ls42xz760mlmp880000gn/T/ipykernel_38121/3684760641.py:2: PerformanceWarning: DataFrame is highly fragmented.  This is usually the result of calling `frame.insert` many times, which has poor performance.  Consider joining all columns at once using pd.concat(axis=1) instead. To get a de-fragmented frame, use `newframe = frame.copy()`\n",
      "  df_returns[name] = np.log(df[name]).diff()\n",
      "/var/folders/6z/zfrlwktn1ls42xz760mlmp880000gn/T/ipykernel_38121/3684760641.py:2: PerformanceWarning: DataFrame is highly fragmented.  This is usually the result of calling `frame.insert` many times, which has poor performance.  Consider joining all columns at once using pd.concat(axis=1) instead. To get a de-fragmented frame, use `newframe = frame.copy()`\n",
      "  df_returns[name] = np.log(df[name]).diff()\n",
      "/var/folders/6z/zfrlwktn1ls42xz760mlmp880000gn/T/ipykernel_38121/3684760641.py:2: PerformanceWarning: DataFrame is highly fragmented.  This is usually the result of calling `frame.insert` many times, which has poor performance.  Consider joining all columns at once using pd.concat(axis=1) instead. To get a de-fragmented frame, use `newframe = frame.copy()`\n",
      "  df_returns[name] = np.log(df[name]).diff()\n",
      "/var/folders/6z/zfrlwktn1ls42xz760mlmp880000gn/T/ipykernel_38121/3684760641.py:2: PerformanceWarning: DataFrame is highly fragmented.  This is usually the result of calling `frame.insert` many times, which has poor performance.  Consider joining all columns at once using pd.concat(axis=1) instead. To get a de-fragmented frame, use `newframe = frame.copy()`\n",
      "  df_returns[name] = np.log(df[name]).diff()\n",
      "/var/folders/6z/zfrlwktn1ls42xz760mlmp880000gn/T/ipykernel_38121/3684760641.py:2: PerformanceWarning: DataFrame is highly fragmented.  This is usually the result of calling `frame.insert` many times, which has poor performance.  Consider joining all columns at once using pd.concat(axis=1) instead. To get a de-fragmented frame, use `newframe = frame.copy()`\n",
      "  df_returns[name] = np.log(df[name]).diff()\n",
      "/var/folders/6z/zfrlwktn1ls42xz760mlmp880000gn/T/ipykernel_38121/3684760641.py:2: PerformanceWarning: DataFrame is highly fragmented.  This is usually the result of calling `frame.insert` many times, which has poor performance.  Consider joining all columns at once using pd.concat(axis=1) instead. To get a de-fragmented frame, use `newframe = frame.copy()`\n",
      "  df_returns[name] = np.log(df[name]).diff()\n",
      "/var/folders/6z/zfrlwktn1ls42xz760mlmp880000gn/T/ipykernel_38121/3684760641.py:2: PerformanceWarning: DataFrame is highly fragmented.  This is usually the result of calling `frame.insert` many times, which has poor performance.  Consider joining all columns at once using pd.concat(axis=1) instead. To get a de-fragmented frame, use `newframe = frame.copy()`\n",
      "  df_returns[name] = np.log(df[name]).diff()\n",
      "/var/folders/6z/zfrlwktn1ls42xz760mlmp880000gn/T/ipykernel_38121/3684760641.py:2: PerformanceWarning: DataFrame is highly fragmented.  This is usually the result of calling `frame.insert` many times, which has poor performance.  Consider joining all columns at once using pd.concat(axis=1) instead. To get a de-fragmented frame, use `newframe = frame.copy()`\n",
      "  df_returns[name] = np.log(df[name]).diff()\n",
      "/var/folders/6z/zfrlwktn1ls42xz760mlmp880000gn/T/ipykernel_38121/3684760641.py:2: PerformanceWarning: DataFrame is highly fragmented.  This is usually the result of calling `frame.insert` many times, which has poor performance.  Consider joining all columns at once using pd.concat(axis=1) instead. To get a de-fragmented frame, use `newframe = frame.copy()`\n",
      "  df_returns[name] = np.log(df[name]).diff()\n",
      "/var/folders/6z/zfrlwktn1ls42xz760mlmp880000gn/T/ipykernel_38121/3684760641.py:2: PerformanceWarning: DataFrame is highly fragmented.  This is usually the result of calling `frame.insert` many times, which has poor performance.  Consider joining all columns at once using pd.concat(axis=1) instead. To get a de-fragmented frame, use `newframe = frame.copy()`\n",
      "  df_returns[name] = np.log(df[name]).diff()\n",
      "/var/folders/6z/zfrlwktn1ls42xz760mlmp880000gn/T/ipykernel_38121/3684760641.py:2: PerformanceWarning: DataFrame is highly fragmented.  This is usually the result of calling `frame.insert` many times, which has poor performance.  Consider joining all columns at once using pd.concat(axis=1) instead. To get a de-fragmented frame, use `newframe = frame.copy()`\n",
      "  df_returns[name] = np.log(df[name]).diff()\n",
      "/var/folders/6z/zfrlwktn1ls42xz760mlmp880000gn/T/ipykernel_38121/3684760641.py:2: PerformanceWarning: DataFrame is highly fragmented.  This is usually the result of calling `frame.insert` many times, which has poor performance.  Consider joining all columns at once using pd.concat(axis=1) instead. To get a de-fragmented frame, use `newframe = frame.copy()`\n",
      "  df_returns[name] = np.log(df[name]).diff()\n",
      "/var/folders/6z/zfrlwktn1ls42xz760mlmp880000gn/T/ipykernel_38121/3684760641.py:2: PerformanceWarning: DataFrame is highly fragmented.  This is usually the result of calling `frame.insert` many times, which has poor performance.  Consider joining all columns at once using pd.concat(axis=1) instead. To get a de-fragmented frame, use `newframe = frame.copy()`\n",
      "  df_returns[name] = np.log(df[name]).diff()\n",
      "/var/folders/6z/zfrlwktn1ls42xz760mlmp880000gn/T/ipykernel_38121/3684760641.py:2: PerformanceWarning: DataFrame is highly fragmented.  This is usually the result of calling `frame.insert` many times, which has poor performance.  Consider joining all columns at once using pd.concat(axis=1) instead. To get a de-fragmented frame, use `newframe = frame.copy()`\n",
      "  df_returns[name] = np.log(df[name]).diff()\n",
      "/var/folders/6z/zfrlwktn1ls42xz760mlmp880000gn/T/ipykernel_38121/3684760641.py:2: PerformanceWarning: DataFrame is highly fragmented.  This is usually the result of calling `frame.insert` many times, which has poor performance.  Consider joining all columns at once using pd.concat(axis=1) instead. To get a de-fragmented frame, use `newframe = frame.copy()`\n",
      "  df_returns[name] = np.log(df[name]).diff()\n",
      "/var/folders/6z/zfrlwktn1ls42xz760mlmp880000gn/T/ipykernel_38121/3684760641.py:2: PerformanceWarning: DataFrame is highly fragmented.  This is usually the result of calling `frame.insert` many times, which has poor performance.  Consider joining all columns at once using pd.concat(axis=1) instead. To get a de-fragmented frame, use `newframe = frame.copy()`\n",
      "  df_returns[name] = np.log(df[name]).diff()\n",
      "/var/folders/6z/zfrlwktn1ls42xz760mlmp880000gn/T/ipykernel_38121/3684760641.py:2: PerformanceWarning: DataFrame is highly fragmented.  This is usually the result of calling `frame.insert` many times, which has poor performance.  Consider joining all columns at once using pd.concat(axis=1) instead. To get a de-fragmented frame, use `newframe = frame.copy()`\n",
      "  df_returns[name] = np.log(df[name]).diff()\n",
      "/var/folders/6z/zfrlwktn1ls42xz760mlmp880000gn/T/ipykernel_38121/3684760641.py:2: PerformanceWarning: DataFrame is highly fragmented.  This is usually the result of calling `frame.insert` many times, which has poor performance.  Consider joining all columns at once using pd.concat(axis=1) instead. To get a de-fragmented frame, use `newframe = frame.copy()`\n",
      "  df_returns[name] = np.log(df[name]).diff()\n",
      "/var/folders/6z/zfrlwktn1ls42xz760mlmp880000gn/T/ipykernel_38121/3684760641.py:2: PerformanceWarning: DataFrame is highly fragmented.  This is usually the result of calling `frame.insert` many times, which has poor performance.  Consider joining all columns at once using pd.concat(axis=1) instead. To get a de-fragmented frame, use `newframe = frame.copy()`\n",
      "  df_returns[name] = np.log(df[name]).diff()\n",
      "/var/folders/6z/zfrlwktn1ls42xz760mlmp880000gn/T/ipykernel_38121/3684760641.py:2: PerformanceWarning: DataFrame is highly fragmented.  This is usually the result of calling `frame.insert` many times, which has poor performance.  Consider joining all columns at once using pd.concat(axis=1) instead. To get a de-fragmented frame, use `newframe = frame.copy()`\n",
      "  df_returns[name] = np.log(df[name]).diff()\n",
      "/var/folders/6z/zfrlwktn1ls42xz760mlmp880000gn/T/ipykernel_38121/3684760641.py:2: PerformanceWarning: DataFrame is highly fragmented.  This is usually the result of calling `frame.insert` many times, which has poor performance.  Consider joining all columns at once using pd.concat(axis=1) instead. To get a de-fragmented frame, use `newframe = frame.copy()`\n",
      "  df_returns[name] = np.log(df[name]).diff()\n",
      "/var/folders/6z/zfrlwktn1ls42xz760mlmp880000gn/T/ipykernel_38121/3684760641.py:2: PerformanceWarning: DataFrame is highly fragmented.  This is usually the result of calling `frame.insert` many times, which has poor performance.  Consider joining all columns at once using pd.concat(axis=1) instead. To get a de-fragmented frame, use `newframe = frame.copy()`\n",
      "  df_returns[name] = np.log(df[name]).diff()\n",
      "/var/folders/6z/zfrlwktn1ls42xz760mlmp880000gn/T/ipykernel_38121/3684760641.py:2: PerformanceWarning: DataFrame is highly fragmented.  This is usually the result of calling `frame.insert` many times, which has poor performance.  Consider joining all columns at once using pd.concat(axis=1) instead. To get a de-fragmented frame, use `newframe = frame.copy()`\n",
      "  df_returns[name] = np.log(df[name]).diff()\n",
      "/var/folders/6z/zfrlwktn1ls42xz760mlmp880000gn/T/ipykernel_38121/3684760641.py:2: PerformanceWarning: DataFrame is highly fragmented.  This is usually the result of calling `frame.insert` many times, which has poor performance.  Consider joining all columns at once using pd.concat(axis=1) instead. To get a de-fragmented frame, use `newframe = frame.copy()`\n",
      "  df_returns[name] = np.log(df[name]).diff()\n",
      "/var/folders/6z/zfrlwktn1ls42xz760mlmp880000gn/T/ipykernel_38121/3684760641.py:2: PerformanceWarning: DataFrame is highly fragmented.  This is usually the result of calling `frame.insert` many times, which has poor performance.  Consider joining all columns at once using pd.concat(axis=1) instead. To get a de-fragmented frame, use `newframe = frame.copy()`\n",
      "  df_returns[name] = np.log(df[name]).diff()\n",
      "/var/folders/6z/zfrlwktn1ls42xz760mlmp880000gn/T/ipykernel_38121/3684760641.py:2: PerformanceWarning: DataFrame is highly fragmented.  This is usually the result of calling `frame.insert` many times, which has poor performance.  Consider joining all columns at once using pd.concat(axis=1) instead. To get a de-fragmented frame, use `newframe = frame.copy()`\n",
      "  df_returns[name] = np.log(df[name]).diff()\n",
      "/var/folders/6z/zfrlwktn1ls42xz760mlmp880000gn/T/ipykernel_38121/3684760641.py:2: PerformanceWarning: DataFrame is highly fragmented.  This is usually the result of calling `frame.insert` many times, which has poor performance.  Consider joining all columns at once using pd.concat(axis=1) instead. To get a de-fragmented frame, use `newframe = frame.copy()`\n",
      "  df_returns[name] = np.log(df[name]).diff()\n",
      "/var/folders/6z/zfrlwktn1ls42xz760mlmp880000gn/T/ipykernel_38121/3684760641.py:2: PerformanceWarning: DataFrame is highly fragmented.  This is usually the result of calling `frame.insert` many times, which has poor performance.  Consider joining all columns at once using pd.concat(axis=1) instead. To get a de-fragmented frame, use `newframe = frame.copy()`\n",
      "  df_returns[name] = np.log(df[name]).diff()\n",
      "/var/folders/6z/zfrlwktn1ls42xz760mlmp880000gn/T/ipykernel_38121/3684760641.py:2: PerformanceWarning: DataFrame is highly fragmented.  This is usually the result of calling `frame.insert` many times, which has poor performance.  Consider joining all columns at once using pd.concat(axis=1) instead. To get a de-fragmented frame, use `newframe = frame.copy()`\n",
      "  df_returns[name] = np.log(df[name]).diff()\n",
      "/var/folders/6z/zfrlwktn1ls42xz760mlmp880000gn/T/ipykernel_38121/3684760641.py:2: PerformanceWarning: DataFrame is highly fragmented.  This is usually the result of calling `frame.insert` many times, which has poor performance.  Consider joining all columns at once using pd.concat(axis=1) instead. To get a de-fragmented frame, use `newframe = frame.copy()`\n",
      "  df_returns[name] = np.log(df[name]).diff()\n",
      "/var/folders/6z/zfrlwktn1ls42xz760mlmp880000gn/T/ipykernel_38121/3684760641.py:2: PerformanceWarning: DataFrame is highly fragmented.  This is usually the result of calling `frame.insert` many times, which has poor performance.  Consider joining all columns at once using pd.concat(axis=1) instead. To get a de-fragmented frame, use `newframe = frame.copy()`\n",
      "  df_returns[name] = np.log(df[name]).diff()\n",
      "/var/folders/6z/zfrlwktn1ls42xz760mlmp880000gn/T/ipykernel_38121/3684760641.py:2: PerformanceWarning: DataFrame is highly fragmented.  This is usually the result of calling `frame.insert` many times, which has poor performance.  Consider joining all columns at once using pd.concat(axis=1) instead. To get a de-fragmented frame, use `newframe = frame.copy()`\n",
      "  df_returns[name] = np.log(df[name]).diff()\n",
      "/var/folders/6z/zfrlwktn1ls42xz760mlmp880000gn/T/ipykernel_38121/3684760641.py:2: PerformanceWarning: DataFrame is highly fragmented.  This is usually the result of calling `frame.insert` many times, which has poor performance.  Consider joining all columns at once using pd.concat(axis=1) instead. To get a de-fragmented frame, use `newframe = frame.copy()`\n",
      "  df_returns[name] = np.log(df[name]).diff()\n",
      "/var/folders/6z/zfrlwktn1ls42xz760mlmp880000gn/T/ipykernel_38121/3684760641.py:2: PerformanceWarning: DataFrame is highly fragmented.  This is usually the result of calling `frame.insert` many times, which has poor performance.  Consider joining all columns at once using pd.concat(axis=1) instead. To get a de-fragmented frame, use `newframe = frame.copy()`\n",
      "  df_returns[name] = np.log(df[name]).diff()\n",
      "/var/folders/6z/zfrlwktn1ls42xz760mlmp880000gn/T/ipykernel_38121/3684760641.py:2: PerformanceWarning: DataFrame is highly fragmented.  This is usually the result of calling `frame.insert` many times, which has poor performance.  Consider joining all columns at once using pd.concat(axis=1) instead. To get a de-fragmented frame, use `newframe = frame.copy()`\n",
      "  df_returns[name] = np.log(df[name]).diff()\n",
      "/var/folders/6z/zfrlwktn1ls42xz760mlmp880000gn/T/ipykernel_38121/3684760641.py:2: PerformanceWarning: DataFrame is highly fragmented.  This is usually the result of calling `frame.insert` many times, which has poor performance.  Consider joining all columns at once using pd.concat(axis=1) instead. To get a de-fragmented frame, use `newframe = frame.copy()`\n",
      "  df_returns[name] = np.log(df[name]).diff()\n",
      "/var/folders/6z/zfrlwktn1ls42xz760mlmp880000gn/T/ipykernel_38121/3684760641.py:2: PerformanceWarning: DataFrame is highly fragmented.  This is usually the result of calling `frame.insert` many times, which has poor performance.  Consider joining all columns at once using pd.concat(axis=1) instead. To get a de-fragmented frame, use `newframe = frame.copy()`\n",
      "  df_returns[name] = np.log(df[name]).diff()\n",
      "/var/folders/6z/zfrlwktn1ls42xz760mlmp880000gn/T/ipykernel_38121/3684760641.py:2: PerformanceWarning: DataFrame is highly fragmented.  This is usually the result of calling `frame.insert` many times, which has poor performance.  Consider joining all columns at once using pd.concat(axis=1) instead. To get a de-fragmented frame, use `newframe = frame.copy()`\n",
      "  df_returns[name] = np.log(df[name]).diff()\n",
      "/var/folders/6z/zfrlwktn1ls42xz760mlmp880000gn/T/ipykernel_38121/3684760641.py:2: PerformanceWarning: DataFrame is highly fragmented.  This is usually the result of calling `frame.insert` many times, which has poor performance.  Consider joining all columns at once using pd.concat(axis=1) instead. To get a de-fragmented frame, use `newframe = frame.copy()`\n",
      "  df_returns[name] = np.log(df[name]).diff()\n",
      "/var/folders/6z/zfrlwktn1ls42xz760mlmp880000gn/T/ipykernel_38121/3684760641.py:2: PerformanceWarning: DataFrame is highly fragmented.  This is usually the result of calling `frame.insert` many times, which has poor performance.  Consider joining all columns at once using pd.concat(axis=1) instead. To get a de-fragmented frame, use `newframe = frame.copy()`\n",
      "  df_returns[name] = np.log(df[name]).diff()\n",
      "/var/folders/6z/zfrlwktn1ls42xz760mlmp880000gn/T/ipykernel_38121/3684760641.py:2: PerformanceWarning: DataFrame is highly fragmented.  This is usually the result of calling `frame.insert` many times, which has poor performance.  Consider joining all columns at once using pd.concat(axis=1) instead. To get a de-fragmented frame, use `newframe = frame.copy()`\n",
      "  df_returns[name] = np.log(df[name]).diff()\n",
      "/var/folders/6z/zfrlwktn1ls42xz760mlmp880000gn/T/ipykernel_38121/3684760641.py:2: PerformanceWarning: DataFrame is highly fragmented.  This is usually the result of calling `frame.insert` many times, which has poor performance.  Consider joining all columns at once using pd.concat(axis=1) instead. To get a de-fragmented frame, use `newframe = frame.copy()`\n",
      "  df_returns[name] = np.log(df[name]).diff()\n",
      "/var/folders/6z/zfrlwktn1ls42xz760mlmp880000gn/T/ipykernel_38121/3684760641.py:2: PerformanceWarning: DataFrame is highly fragmented.  This is usually the result of calling `frame.insert` many times, which has poor performance.  Consider joining all columns at once using pd.concat(axis=1) instead. To get a de-fragmented frame, use `newframe = frame.copy()`\n",
      "  df_returns[name] = np.log(df[name]).diff()\n",
      "/var/folders/6z/zfrlwktn1ls42xz760mlmp880000gn/T/ipykernel_38121/3684760641.py:2: PerformanceWarning: DataFrame is highly fragmented.  This is usually the result of calling `frame.insert` many times, which has poor performance.  Consider joining all columns at once using pd.concat(axis=1) instead. To get a de-fragmented frame, use `newframe = frame.copy()`\n",
      "  df_returns[name] = np.log(df[name]).diff()\n",
      "/var/folders/6z/zfrlwktn1ls42xz760mlmp880000gn/T/ipykernel_38121/3684760641.py:2: PerformanceWarning: DataFrame is highly fragmented.  This is usually the result of calling `frame.insert` many times, which has poor performance.  Consider joining all columns at once using pd.concat(axis=1) instead. To get a de-fragmented frame, use `newframe = frame.copy()`\n",
      "  df_returns[name] = np.log(df[name]).diff()\n",
      "/var/folders/6z/zfrlwktn1ls42xz760mlmp880000gn/T/ipykernel_38121/3684760641.py:2: PerformanceWarning: DataFrame is highly fragmented.  This is usually the result of calling `frame.insert` many times, which has poor performance.  Consider joining all columns at once using pd.concat(axis=1) instead. To get a de-fragmented frame, use `newframe = frame.copy()`\n",
      "  df_returns[name] = np.log(df[name]).diff()\n",
      "/var/folders/6z/zfrlwktn1ls42xz760mlmp880000gn/T/ipykernel_38121/3684760641.py:2: PerformanceWarning: DataFrame is highly fragmented.  This is usually the result of calling `frame.insert` many times, which has poor performance.  Consider joining all columns at once using pd.concat(axis=1) instead. To get a de-fragmented frame, use `newframe = frame.copy()`\n",
      "  df_returns[name] = np.log(df[name]).diff()\n",
      "/var/folders/6z/zfrlwktn1ls42xz760mlmp880000gn/T/ipykernel_38121/3684760641.py:2: PerformanceWarning: DataFrame is highly fragmented.  This is usually the result of calling `frame.insert` many times, which has poor performance.  Consider joining all columns at once using pd.concat(axis=1) instead. To get a de-fragmented frame, use `newframe = frame.copy()`\n",
      "  df_returns[name] = np.log(df[name]).diff()\n",
      "/var/folders/6z/zfrlwktn1ls42xz760mlmp880000gn/T/ipykernel_38121/3684760641.py:2: PerformanceWarning: DataFrame is highly fragmented.  This is usually the result of calling `frame.insert` many times, which has poor performance.  Consider joining all columns at once using pd.concat(axis=1) instead. To get a de-fragmented frame, use `newframe = frame.copy()`\n",
      "  df_returns[name] = np.log(df[name]).diff()\n",
      "/var/folders/6z/zfrlwktn1ls42xz760mlmp880000gn/T/ipykernel_38121/3684760641.py:2: PerformanceWarning: DataFrame is highly fragmented.  This is usually the result of calling `frame.insert` many times, which has poor performance.  Consider joining all columns at once using pd.concat(axis=1) instead. To get a de-fragmented frame, use `newframe = frame.copy()`\n",
      "  df_returns[name] = np.log(df[name]).diff()\n",
      "/var/folders/6z/zfrlwktn1ls42xz760mlmp880000gn/T/ipykernel_38121/3684760641.py:2: PerformanceWarning: DataFrame is highly fragmented.  This is usually the result of calling `frame.insert` many times, which has poor performance.  Consider joining all columns at once using pd.concat(axis=1) instead. To get a de-fragmented frame, use `newframe = frame.copy()`\n",
      "  df_returns[name] = np.log(df[name]).diff()\n",
      "/var/folders/6z/zfrlwktn1ls42xz760mlmp880000gn/T/ipykernel_38121/3684760641.py:2: PerformanceWarning: DataFrame is highly fragmented.  This is usually the result of calling `frame.insert` many times, which has poor performance.  Consider joining all columns at once using pd.concat(axis=1) instead. To get a de-fragmented frame, use `newframe = frame.copy()`\n",
      "  df_returns[name] = np.log(df[name]).diff()\n",
      "/var/folders/6z/zfrlwktn1ls42xz760mlmp880000gn/T/ipykernel_38121/3684760641.py:2: PerformanceWarning: DataFrame is highly fragmented.  This is usually the result of calling `frame.insert` many times, which has poor performance.  Consider joining all columns at once using pd.concat(axis=1) instead. To get a de-fragmented frame, use `newframe = frame.copy()`\n",
      "  df_returns[name] = np.log(df[name]).diff()\n",
      "/var/folders/6z/zfrlwktn1ls42xz760mlmp880000gn/T/ipykernel_38121/3684760641.py:2: PerformanceWarning: DataFrame is highly fragmented.  This is usually the result of calling `frame.insert` many times, which has poor performance.  Consider joining all columns at once using pd.concat(axis=1) instead. To get a de-fragmented frame, use `newframe = frame.copy()`\n",
      "  df_returns[name] = np.log(df[name]).diff()\n",
      "/var/folders/6z/zfrlwktn1ls42xz760mlmp880000gn/T/ipykernel_38121/3684760641.py:2: PerformanceWarning: DataFrame is highly fragmented.  This is usually the result of calling `frame.insert` many times, which has poor performance.  Consider joining all columns at once using pd.concat(axis=1) instead. To get a de-fragmented frame, use `newframe = frame.copy()`\n",
      "  df_returns[name] = np.log(df[name]).diff()\n",
      "/var/folders/6z/zfrlwktn1ls42xz760mlmp880000gn/T/ipykernel_38121/3684760641.py:2: PerformanceWarning: DataFrame is highly fragmented.  This is usually the result of calling `frame.insert` many times, which has poor performance.  Consider joining all columns at once using pd.concat(axis=1) instead. To get a de-fragmented frame, use `newframe = frame.copy()`\n",
      "  df_returns[name] = np.log(df[name]).diff()\n",
      "/var/folders/6z/zfrlwktn1ls42xz760mlmp880000gn/T/ipykernel_38121/3684760641.py:2: PerformanceWarning: DataFrame is highly fragmented.  This is usually the result of calling `frame.insert` many times, which has poor performance.  Consider joining all columns at once using pd.concat(axis=1) instead. To get a de-fragmented frame, use `newframe = frame.copy()`\n",
      "  df_returns[name] = np.log(df[name]).diff()\n",
      "/var/folders/6z/zfrlwktn1ls42xz760mlmp880000gn/T/ipykernel_38121/3684760641.py:2: PerformanceWarning: DataFrame is highly fragmented.  This is usually the result of calling `frame.insert` many times, which has poor performance.  Consider joining all columns at once using pd.concat(axis=1) instead. To get a de-fragmented frame, use `newframe = frame.copy()`\n",
      "  df_returns[name] = np.log(df[name]).diff()\n",
      "/var/folders/6z/zfrlwktn1ls42xz760mlmp880000gn/T/ipykernel_38121/3684760641.py:2: PerformanceWarning: DataFrame is highly fragmented.  This is usually the result of calling `frame.insert` many times, which has poor performance.  Consider joining all columns at once using pd.concat(axis=1) instead. To get a de-fragmented frame, use `newframe = frame.copy()`\n",
      "  df_returns[name] = np.log(df[name]).diff()\n",
      "/var/folders/6z/zfrlwktn1ls42xz760mlmp880000gn/T/ipykernel_38121/3684760641.py:2: PerformanceWarning: DataFrame is highly fragmented.  This is usually the result of calling `frame.insert` many times, which has poor performance.  Consider joining all columns at once using pd.concat(axis=1) instead. To get a de-fragmented frame, use `newframe = frame.copy()`\n",
      "  df_returns[name] = np.log(df[name]).diff()\n",
      "/var/folders/6z/zfrlwktn1ls42xz760mlmp880000gn/T/ipykernel_38121/3684760641.py:2: PerformanceWarning: DataFrame is highly fragmented.  This is usually the result of calling `frame.insert` many times, which has poor performance.  Consider joining all columns at once using pd.concat(axis=1) instead. To get a de-fragmented frame, use `newframe = frame.copy()`\n",
      "  df_returns[name] = np.log(df[name]).diff()\n",
      "/var/folders/6z/zfrlwktn1ls42xz760mlmp880000gn/T/ipykernel_38121/3684760641.py:2: PerformanceWarning: DataFrame is highly fragmented.  This is usually the result of calling `frame.insert` many times, which has poor performance.  Consider joining all columns at once using pd.concat(axis=1) instead. To get a de-fragmented frame, use `newframe = frame.copy()`\n",
      "  df_returns[name] = np.log(df[name]).diff()\n",
      "/var/folders/6z/zfrlwktn1ls42xz760mlmp880000gn/T/ipykernel_38121/3684760641.py:2: PerformanceWarning: DataFrame is highly fragmented.  This is usually the result of calling `frame.insert` many times, which has poor performance.  Consider joining all columns at once using pd.concat(axis=1) instead. To get a de-fragmented frame, use `newframe = frame.copy()`\n",
      "  df_returns[name] = np.log(df[name]).diff()\n",
      "/var/folders/6z/zfrlwktn1ls42xz760mlmp880000gn/T/ipykernel_38121/3684760641.py:2: PerformanceWarning: DataFrame is highly fragmented.  This is usually the result of calling `frame.insert` many times, which has poor performance.  Consider joining all columns at once using pd.concat(axis=1) instead. To get a de-fragmented frame, use `newframe = frame.copy()`\n",
      "  df_returns[name] = np.log(df[name]).diff()\n",
      "/var/folders/6z/zfrlwktn1ls42xz760mlmp880000gn/T/ipykernel_38121/3684760641.py:2: PerformanceWarning: DataFrame is highly fragmented.  This is usually the result of calling `frame.insert` many times, which has poor performance.  Consider joining all columns at once using pd.concat(axis=1) instead. To get a de-fragmented frame, use `newframe = frame.copy()`\n",
      "  df_returns[name] = np.log(df[name]).diff()\n",
      "/var/folders/6z/zfrlwktn1ls42xz760mlmp880000gn/T/ipykernel_38121/3684760641.py:2: PerformanceWarning: DataFrame is highly fragmented.  This is usually the result of calling `frame.insert` many times, which has poor performance.  Consider joining all columns at once using pd.concat(axis=1) instead. To get a de-fragmented frame, use `newframe = frame.copy()`\n",
      "  df_returns[name] = np.log(df[name]).diff()\n",
      "/var/folders/6z/zfrlwktn1ls42xz760mlmp880000gn/T/ipykernel_38121/3684760641.py:2: PerformanceWarning: DataFrame is highly fragmented.  This is usually the result of calling `frame.insert` many times, which has poor performance.  Consider joining all columns at once using pd.concat(axis=1) instead. To get a de-fragmented frame, use `newframe = frame.copy()`\n",
      "  df_returns[name] = np.log(df[name]).diff()\n",
      "/var/folders/6z/zfrlwktn1ls42xz760mlmp880000gn/T/ipykernel_38121/3684760641.py:2: PerformanceWarning: DataFrame is highly fragmented.  This is usually the result of calling `frame.insert` many times, which has poor performance.  Consider joining all columns at once using pd.concat(axis=1) instead. To get a de-fragmented frame, use `newframe = frame.copy()`\n",
      "  df_returns[name] = np.log(df[name]).diff()\n",
      "/var/folders/6z/zfrlwktn1ls42xz760mlmp880000gn/T/ipykernel_38121/3684760641.py:2: PerformanceWarning: DataFrame is highly fragmented.  This is usually the result of calling `frame.insert` many times, which has poor performance.  Consider joining all columns at once using pd.concat(axis=1) instead. To get a de-fragmented frame, use `newframe = frame.copy()`\n",
      "  df_returns[name] = np.log(df[name]).diff()\n",
      "/var/folders/6z/zfrlwktn1ls42xz760mlmp880000gn/T/ipykernel_38121/3684760641.py:2: PerformanceWarning: DataFrame is highly fragmented.  This is usually the result of calling `frame.insert` many times, which has poor performance.  Consider joining all columns at once using pd.concat(axis=1) instead. To get a de-fragmented frame, use `newframe = frame.copy()`\n",
      "  df_returns[name] = np.log(df[name]).diff()\n",
      "/var/folders/6z/zfrlwktn1ls42xz760mlmp880000gn/T/ipykernel_38121/3684760641.py:2: PerformanceWarning: DataFrame is highly fragmented.  This is usually the result of calling `frame.insert` many times, which has poor performance.  Consider joining all columns at once using pd.concat(axis=1) instead. To get a de-fragmented frame, use `newframe = frame.copy()`\n",
      "  df_returns[name] = np.log(df[name]).diff()\n",
      "/var/folders/6z/zfrlwktn1ls42xz760mlmp880000gn/T/ipykernel_38121/3684760641.py:2: PerformanceWarning: DataFrame is highly fragmented.  This is usually the result of calling `frame.insert` many times, which has poor performance.  Consider joining all columns at once using pd.concat(axis=1) instead. To get a de-fragmented frame, use `newframe = frame.copy()`\n",
      "  df_returns[name] = np.log(df[name]).diff()\n",
      "/var/folders/6z/zfrlwktn1ls42xz760mlmp880000gn/T/ipykernel_38121/3684760641.py:2: PerformanceWarning: DataFrame is highly fragmented.  This is usually the result of calling `frame.insert` many times, which has poor performance.  Consider joining all columns at once using pd.concat(axis=1) instead. To get a de-fragmented frame, use `newframe = frame.copy()`\n",
      "  df_returns[name] = np.log(df[name]).diff()\n",
      "/var/folders/6z/zfrlwktn1ls42xz760mlmp880000gn/T/ipykernel_38121/3684760641.py:2: PerformanceWarning: DataFrame is highly fragmented.  This is usually the result of calling `frame.insert` many times, which has poor performance.  Consider joining all columns at once using pd.concat(axis=1) instead. To get a de-fragmented frame, use `newframe = frame.copy()`\n",
      "  df_returns[name] = np.log(df[name]).diff()\n",
      "/var/folders/6z/zfrlwktn1ls42xz760mlmp880000gn/T/ipykernel_38121/3684760641.py:2: PerformanceWarning: DataFrame is highly fragmented.  This is usually the result of calling `frame.insert` many times, which has poor performance.  Consider joining all columns at once using pd.concat(axis=1) instead. To get a de-fragmented frame, use `newframe = frame.copy()`\n",
      "  df_returns[name] = np.log(df[name]).diff()\n",
      "/var/folders/6z/zfrlwktn1ls42xz760mlmp880000gn/T/ipykernel_38121/3684760641.py:2: PerformanceWarning: DataFrame is highly fragmented.  This is usually the result of calling `frame.insert` many times, which has poor performance.  Consider joining all columns at once using pd.concat(axis=1) instead. To get a de-fragmented frame, use `newframe = frame.copy()`\n",
      "  df_returns[name] = np.log(df[name]).diff()\n",
      "/var/folders/6z/zfrlwktn1ls42xz760mlmp880000gn/T/ipykernel_38121/3684760641.py:2: PerformanceWarning: DataFrame is highly fragmented.  This is usually the result of calling `frame.insert` many times, which has poor performance.  Consider joining all columns at once using pd.concat(axis=1) instead. To get a de-fragmented frame, use `newframe = frame.copy()`\n",
      "  df_returns[name] = np.log(df[name]).diff()\n",
      "/var/folders/6z/zfrlwktn1ls42xz760mlmp880000gn/T/ipykernel_38121/3684760641.py:2: PerformanceWarning: DataFrame is highly fragmented.  This is usually the result of calling `frame.insert` many times, which has poor performance.  Consider joining all columns at once using pd.concat(axis=1) instead. To get a de-fragmented frame, use `newframe = frame.copy()`\n",
      "  df_returns[name] = np.log(df[name]).diff()\n",
      "/var/folders/6z/zfrlwktn1ls42xz760mlmp880000gn/T/ipykernel_38121/3684760641.py:2: PerformanceWarning: DataFrame is highly fragmented.  This is usually the result of calling `frame.insert` many times, which has poor performance.  Consider joining all columns at once using pd.concat(axis=1) instead. To get a de-fragmented frame, use `newframe = frame.copy()`\n",
      "  df_returns[name] = np.log(df[name]).diff()\n",
      "/var/folders/6z/zfrlwktn1ls42xz760mlmp880000gn/T/ipykernel_38121/3684760641.py:2: PerformanceWarning: DataFrame is highly fragmented.  This is usually the result of calling `frame.insert` many times, which has poor performance.  Consider joining all columns at once using pd.concat(axis=1) instead. To get a de-fragmented frame, use `newframe = frame.copy()`\n",
      "  df_returns[name] = np.log(df[name]).diff()\n",
      "/var/folders/6z/zfrlwktn1ls42xz760mlmp880000gn/T/ipykernel_38121/3684760641.py:2: PerformanceWarning: DataFrame is highly fragmented.  This is usually the result of calling `frame.insert` many times, which has poor performance.  Consider joining all columns at once using pd.concat(axis=1) instead. To get a de-fragmented frame, use `newframe = frame.copy()`\n",
      "  df_returns[name] = np.log(df[name]).diff()\n",
      "/var/folders/6z/zfrlwktn1ls42xz760mlmp880000gn/T/ipykernel_38121/3684760641.py:2: PerformanceWarning: DataFrame is highly fragmented.  This is usually the result of calling `frame.insert` many times, which has poor performance.  Consider joining all columns at once using pd.concat(axis=1) instead. To get a de-fragmented frame, use `newframe = frame.copy()`\n",
      "  df_returns[name] = np.log(df[name]).diff()\n",
      "/var/folders/6z/zfrlwktn1ls42xz760mlmp880000gn/T/ipykernel_38121/3684760641.py:2: PerformanceWarning: DataFrame is highly fragmented.  This is usually the result of calling `frame.insert` many times, which has poor performance.  Consider joining all columns at once using pd.concat(axis=1) instead. To get a de-fragmented frame, use `newframe = frame.copy()`\n",
      "  df_returns[name] = np.log(df[name]).diff()\n",
      "/var/folders/6z/zfrlwktn1ls42xz760mlmp880000gn/T/ipykernel_38121/3684760641.py:2: PerformanceWarning: DataFrame is highly fragmented.  This is usually the result of calling `frame.insert` many times, which has poor performance.  Consider joining all columns at once using pd.concat(axis=1) instead. To get a de-fragmented frame, use `newframe = frame.copy()`\n",
      "  df_returns[name] = np.log(df[name]).diff()\n",
      "/var/folders/6z/zfrlwktn1ls42xz760mlmp880000gn/T/ipykernel_38121/3684760641.py:2: PerformanceWarning: DataFrame is highly fragmented.  This is usually the result of calling `frame.insert` many times, which has poor performance.  Consider joining all columns at once using pd.concat(axis=1) instead. To get a de-fragmented frame, use `newframe = frame.copy()`\n",
      "  df_returns[name] = np.log(df[name]).diff()\n",
      "/var/folders/6z/zfrlwktn1ls42xz760mlmp880000gn/T/ipykernel_38121/3684760641.py:2: PerformanceWarning: DataFrame is highly fragmented.  This is usually the result of calling `frame.insert` many times, which has poor performance.  Consider joining all columns at once using pd.concat(axis=1) instead. To get a de-fragmented frame, use `newframe = frame.copy()`\n",
      "  df_returns[name] = np.log(df[name]).diff()\n",
      "/var/folders/6z/zfrlwktn1ls42xz760mlmp880000gn/T/ipykernel_38121/3684760641.py:2: PerformanceWarning: DataFrame is highly fragmented.  This is usually the result of calling `frame.insert` many times, which has poor performance.  Consider joining all columns at once using pd.concat(axis=1) instead. To get a de-fragmented frame, use `newframe = frame.copy()`\n",
      "  df_returns[name] = np.log(df[name]).diff()\n",
      "/var/folders/6z/zfrlwktn1ls42xz760mlmp880000gn/T/ipykernel_38121/3684760641.py:2: PerformanceWarning: DataFrame is highly fragmented.  This is usually the result of calling `frame.insert` many times, which has poor performance.  Consider joining all columns at once using pd.concat(axis=1) instead. To get a de-fragmented frame, use `newframe = frame.copy()`\n",
      "  df_returns[name] = np.log(df[name]).diff()\n",
      "/var/folders/6z/zfrlwktn1ls42xz760mlmp880000gn/T/ipykernel_38121/3684760641.py:2: PerformanceWarning: DataFrame is highly fragmented.  This is usually the result of calling `frame.insert` many times, which has poor performance.  Consider joining all columns at once using pd.concat(axis=1) instead. To get a de-fragmented frame, use `newframe = frame.copy()`\n",
      "  df_returns[name] = np.log(df[name]).diff()\n",
      "/var/folders/6z/zfrlwktn1ls42xz760mlmp880000gn/T/ipykernel_38121/3684760641.py:2: PerformanceWarning: DataFrame is highly fragmented.  This is usually the result of calling `frame.insert` many times, which has poor performance.  Consider joining all columns at once using pd.concat(axis=1) instead. To get a de-fragmented frame, use `newframe = frame.copy()`\n",
      "  df_returns[name] = np.log(df[name]).diff()\n",
      "/var/folders/6z/zfrlwktn1ls42xz760mlmp880000gn/T/ipykernel_38121/3684760641.py:2: PerformanceWarning: DataFrame is highly fragmented.  This is usually the result of calling `frame.insert` many times, which has poor performance.  Consider joining all columns at once using pd.concat(axis=1) instead. To get a de-fragmented frame, use `newframe = frame.copy()`\n",
      "  df_returns[name] = np.log(df[name]).diff()\n",
      "/var/folders/6z/zfrlwktn1ls42xz760mlmp880000gn/T/ipykernel_38121/3684760641.py:2: PerformanceWarning: DataFrame is highly fragmented.  This is usually the result of calling `frame.insert` many times, which has poor performance.  Consider joining all columns at once using pd.concat(axis=1) instead. To get a de-fragmented frame, use `newframe = frame.copy()`\n",
      "  df_returns[name] = np.log(df[name]).diff()\n",
      "/var/folders/6z/zfrlwktn1ls42xz760mlmp880000gn/T/ipykernel_38121/3684760641.py:2: PerformanceWarning: DataFrame is highly fragmented.  This is usually the result of calling `frame.insert` many times, which has poor performance.  Consider joining all columns at once using pd.concat(axis=1) instead. To get a de-fragmented frame, use `newframe = frame.copy()`\n",
      "  df_returns[name] = np.log(df[name]).diff()\n",
      "/var/folders/6z/zfrlwktn1ls42xz760mlmp880000gn/T/ipykernel_38121/3684760641.py:2: PerformanceWarning: DataFrame is highly fragmented.  This is usually the result of calling `frame.insert` many times, which has poor performance.  Consider joining all columns at once using pd.concat(axis=1) instead. To get a de-fragmented frame, use `newframe = frame.copy()`\n",
      "  df_returns[name] = np.log(df[name]).diff()\n",
      "/var/folders/6z/zfrlwktn1ls42xz760mlmp880000gn/T/ipykernel_38121/3684760641.py:2: PerformanceWarning: DataFrame is highly fragmented.  This is usually the result of calling `frame.insert` many times, which has poor performance.  Consider joining all columns at once using pd.concat(axis=1) instead. To get a de-fragmented frame, use `newframe = frame.copy()`\n",
      "  df_returns[name] = np.log(df[name]).diff()\n",
      "/var/folders/6z/zfrlwktn1ls42xz760mlmp880000gn/T/ipykernel_38121/3684760641.py:2: PerformanceWarning: DataFrame is highly fragmented.  This is usually the result of calling `frame.insert` many times, which has poor performance.  Consider joining all columns at once using pd.concat(axis=1) instead. To get a de-fragmented frame, use `newframe = frame.copy()`\n",
      "  df_returns[name] = np.log(df[name]).diff()\n",
      "/var/folders/6z/zfrlwktn1ls42xz760mlmp880000gn/T/ipykernel_38121/3684760641.py:2: PerformanceWarning: DataFrame is highly fragmented.  This is usually the result of calling `frame.insert` many times, which has poor performance.  Consider joining all columns at once using pd.concat(axis=1) instead. To get a de-fragmented frame, use `newframe = frame.copy()`\n",
      "  df_returns[name] = np.log(df[name]).diff()\n",
      "/var/folders/6z/zfrlwktn1ls42xz760mlmp880000gn/T/ipykernel_38121/3684760641.py:2: PerformanceWarning: DataFrame is highly fragmented.  This is usually the result of calling `frame.insert` many times, which has poor performance.  Consider joining all columns at once using pd.concat(axis=1) instead. To get a de-fragmented frame, use `newframe = frame.copy()`\n",
      "  df_returns[name] = np.log(df[name]).diff()\n",
      "/var/folders/6z/zfrlwktn1ls42xz760mlmp880000gn/T/ipykernel_38121/3684760641.py:2: PerformanceWarning: DataFrame is highly fragmented.  This is usually the result of calling `frame.insert` many times, which has poor performance.  Consider joining all columns at once using pd.concat(axis=1) instead. To get a de-fragmented frame, use `newframe = frame.copy()`\n",
      "  df_returns[name] = np.log(df[name]).diff()\n",
      "/var/folders/6z/zfrlwktn1ls42xz760mlmp880000gn/T/ipykernel_38121/3684760641.py:2: PerformanceWarning: DataFrame is highly fragmented.  This is usually the result of calling `frame.insert` many times, which has poor performance.  Consider joining all columns at once using pd.concat(axis=1) instead. To get a de-fragmented frame, use `newframe = frame.copy()`\n",
      "  df_returns[name] = np.log(df[name]).diff()\n",
      "/var/folders/6z/zfrlwktn1ls42xz760mlmp880000gn/T/ipykernel_38121/3684760641.py:2: PerformanceWarning: DataFrame is highly fragmented.  This is usually the result of calling `frame.insert` many times, which has poor performance.  Consider joining all columns at once using pd.concat(axis=1) instead. To get a de-fragmented frame, use `newframe = frame.copy()`\n",
      "  df_returns[name] = np.log(df[name]).diff()\n",
      "/var/folders/6z/zfrlwktn1ls42xz760mlmp880000gn/T/ipykernel_38121/3684760641.py:2: PerformanceWarning: DataFrame is highly fragmented.  This is usually the result of calling `frame.insert` many times, which has poor performance.  Consider joining all columns at once using pd.concat(axis=1) instead. To get a de-fragmented frame, use `newframe = frame.copy()`\n",
      "  df_returns[name] = np.log(df[name]).diff()\n",
      "/var/folders/6z/zfrlwktn1ls42xz760mlmp880000gn/T/ipykernel_38121/3684760641.py:2: PerformanceWarning: DataFrame is highly fragmented.  This is usually the result of calling `frame.insert` many times, which has poor performance.  Consider joining all columns at once using pd.concat(axis=1) instead. To get a de-fragmented frame, use `newframe = frame.copy()`\n",
      "  df_returns[name] = np.log(df[name]).diff()\n",
      "/var/folders/6z/zfrlwktn1ls42xz760mlmp880000gn/T/ipykernel_38121/3684760641.py:2: PerformanceWarning: DataFrame is highly fragmented.  This is usually the result of calling `frame.insert` many times, which has poor performance.  Consider joining all columns at once using pd.concat(axis=1) instead. To get a de-fragmented frame, use `newframe = frame.copy()`\n",
      "  df_returns[name] = np.log(df[name]).diff()\n",
      "/var/folders/6z/zfrlwktn1ls42xz760mlmp880000gn/T/ipykernel_38121/3684760641.py:2: PerformanceWarning: DataFrame is highly fragmented.  This is usually the result of calling `frame.insert` many times, which has poor performance.  Consider joining all columns at once using pd.concat(axis=1) instead. To get a de-fragmented frame, use `newframe = frame.copy()`\n",
      "  df_returns[name] = np.log(df[name]).diff()\n",
      "/var/folders/6z/zfrlwktn1ls42xz760mlmp880000gn/T/ipykernel_38121/3684760641.py:2: PerformanceWarning: DataFrame is highly fragmented.  This is usually the result of calling `frame.insert` many times, which has poor performance.  Consider joining all columns at once using pd.concat(axis=1) instead. To get a de-fragmented frame, use `newframe = frame.copy()`\n",
      "  df_returns[name] = np.log(df[name]).diff()\n",
      "/var/folders/6z/zfrlwktn1ls42xz760mlmp880000gn/T/ipykernel_38121/3684760641.py:2: PerformanceWarning: DataFrame is highly fragmented.  This is usually the result of calling `frame.insert` many times, which has poor performance.  Consider joining all columns at once using pd.concat(axis=1) instead. To get a de-fragmented frame, use `newframe = frame.copy()`\n",
      "  df_returns[name] = np.log(df[name]).diff()\n",
      "/var/folders/6z/zfrlwktn1ls42xz760mlmp880000gn/T/ipykernel_38121/3684760641.py:2: PerformanceWarning: DataFrame is highly fragmented.  This is usually the result of calling `frame.insert` many times, which has poor performance.  Consider joining all columns at once using pd.concat(axis=1) instead. To get a de-fragmented frame, use `newframe = frame.copy()`\n",
      "  df_returns[name] = np.log(df[name]).diff()\n",
      "/var/folders/6z/zfrlwktn1ls42xz760mlmp880000gn/T/ipykernel_38121/3684760641.py:2: PerformanceWarning: DataFrame is highly fragmented.  This is usually the result of calling `frame.insert` many times, which has poor performance.  Consider joining all columns at once using pd.concat(axis=1) instead. To get a de-fragmented frame, use `newframe = frame.copy()`\n",
      "  df_returns[name] = np.log(df[name]).diff()\n",
      "/var/folders/6z/zfrlwktn1ls42xz760mlmp880000gn/T/ipykernel_38121/3684760641.py:2: PerformanceWarning: DataFrame is highly fragmented.  This is usually the result of calling `frame.insert` many times, which has poor performance.  Consider joining all columns at once using pd.concat(axis=1) instead. To get a de-fragmented frame, use `newframe = frame.copy()`\n",
      "  df_returns[name] = np.log(df[name]).diff()\n",
      "/var/folders/6z/zfrlwktn1ls42xz760mlmp880000gn/T/ipykernel_38121/3684760641.py:2: PerformanceWarning: DataFrame is highly fragmented.  This is usually the result of calling `frame.insert` many times, which has poor performance.  Consider joining all columns at once using pd.concat(axis=1) instead. To get a de-fragmented frame, use `newframe = frame.copy()`\n",
      "  df_returns[name] = np.log(df[name]).diff()\n",
      "/var/folders/6z/zfrlwktn1ls42xz760mlmp880000gn/T/ipykernel_38121/3684760641.py:2: PerformanceWarning: DataFrame is highly fragmented.  This is usually the result of calling `frame.insert` many times, which has poor performance.  Consider joining all columns at once using pd.concat(axis=1) instead. To get a de-fragmented frame, use `newframe = frame.copy()`\n",
      "  df_returns[name] = np.log(df[name]).diff()\n",
      "/var/folders/6z/zfrlwktn1ls42xz760mlmp880000gn/T/ipykernel_38121/3684760641.py:2: PerformanceWarning: DataFrame is highly fragmented.  This is usually the result of calling `frame.insert` many times, which has poor performance.  Consider joining all columns at once using pd.concat(axis=1) instead. To get a de-fragmented frame, use `newframe = frame.copy()`\n",
      "  df_returns[name] = np.log(df[name]).diff()\n",
      "/var/folders/6z/zfrlwktn1ls42xz760mlmp880000gn/T/ipykernel_38121/3684760641.py:2: PerformanceWarning: DataFrame is highly fragmented.  This is usually the result of calling `frame.insert` many times, which has poor performance.  Consider joining all columns at once using pd.concat(axis=1) instead. To get a de-fragmented frame, use `newframe = frame.copy()`\n",
      "  df_returns[name] = np.log(df[name]).diff()\n",
      "/var/folders/6z/zfrlwktn1ls42xz760mlmp880000gn/T/ipykernel_38121/3684760641.py:2: PerformanceWarning: DataFrame is highly fragmented.  This is usually the result of calling `frame.insert` many times, which has poor performance.  Consider joining all columns at once using pd.concat(axis=1) instead. To get a de-fragmented frame, use `newframe = frame.copy()`\n",
      "  df_returns[name] = np.log(df[name]).diff()\n",
      "/var/folders/6z/zfrlwktn1ls42xz760mlmp880000gn/T/ipykernel_38121/3684760641.py:2: PerformanceWarning: DataFrame is highly fragmented.  This is usually the result of calling `frame.insert` many times, which has poor performance.  Consider joining all columns at once using pd.concat(axis=1) instead. To get a de-fragmented frame, use `newframe = frame.copy()`\n",
      "  df_returns[name] = np.log(df[name]).diff()\n",
      "/var/folders/6z/zfrlwktn1ls42xz760mlmp880000gn/T/ipykernel_38121/3684760641.py:2: PerformanceWarning: DataFrame is highly fragmented.  This is usually the result of calling `frame.insert` many times, which has poor performance.  Consider joining all columns at once using pd.concat(axis=1) instead. To get a de-fragmented frame, use `newframe = frame.copy()`\n",
      "  df_returns[name] = np.log(df[name]).diff()\n",
      "/var/folders/6z/zfrlwktn1ls42xz760mlmp880000gn/T/ipykernel_38121/3684760641.py:2: PerformanceWarning: DataFrame is highly fragmented.  This is usually the result of calling `frame.insert` many times, which has poor performance.  Consider joining all columns at once using pd.concat(axis=1) instead. To get a de-fragmented frame, use `newframe = frame.copy()`\n",
      "  df_returns[name] = np.log(df[name]).diff()\n",
      "/var/folders/6z/zfrlwktn1ls42xz760mlmp880000gn/T/ipykernel_38121/3684760641.py:2: PerformanceWarning: DataFrame is highly fragmented.  This is usually the result of calling `frame.insert` many times, which has poor performance.  Consider joining all columns at once using pd.concat(axis=1) instead. To get a de-fragmented frame, use `newframe = frame.copy()`\n",
      "  df_returns[name] = np.log(df[name]).diff()\n",
      "/var/folders/6z/zfrlwktn1ls42xz760mlmp880000gn/T/ipykernel_38121/3684760641.py:2: PerformanceWarning: DataFrame is highly fragmented.  This is usually the result of calling `frame.insert` many times, which has poor performance.  Consider joining all columns at once using pd.concat(axis=1) instead. To get a de-fragmented frame, use `newframe = frame.copy()`\n",
      "  df_returns[name] = np.log(df[name]).diff()\n",
      "/var/folders/6z/zfrlwktn1ls42xz760mlmp880000gn/T/ipykernel_38121/3684760641.py:2: PerformanceWarning: DataFrame is highly fragmented.  This is usually the result of calling `frame.insert` many times, which has poor performance.  Consider joining all columns at once using pd.concat(axis=1) instead. To get a de-fragmented frame, use `newframe = frame.copy()`\n",
      "  df_returns[name] = np.log(df[name]).diff()\n",
      "/var/folders/6z/zfrlwktn1ls42xz760mlmp880000gn/T/ipykernel_38121/3684760641.py:2: PerformanceWarning: DataFrame is highly fragmented.  This is usually the result of calling `frame.insert` many times, which has poor performance.  Consider joining all columns at once using pd.concat(axis=1) instead. To get a de-fragmented frame, use `newframe = frame.copy()`\n",
      "  df_returns[name] = np.log(df[name]).diff()\n",
      "/var/folders/6z/zfrlwktn1ls42xz760mlmp880000gn/T/ipykernel_38121/3684760641.py:2: PerformanceWarning: DataFrame is highly fragmented.  This is usually the result of calling `frame.insert` many times, which has poor performance.  Consider joining all columns at once using pd.concat(axis=1) instead. To get a de-fragmented frame, use `newframe = frame.copy()`\n",
      "  df_returns[name] = np.log(df[name]).diff()\n",
      "/var/folders/6z/zfrlwktn1ls42xz760mlmp880000gn/T/ipykernel_38121/3684760641.py:2: PerformanceWarning: DataFrame is highly fragmented.  This is usually the result of calling `frame.insert` many times, which has poor performance.  Consider joining all columns at once using pd.concat(axis=1) instead. To get a de-fragmented frame, use `newframe = frame.copy()`\n",
      "  df_returns[name] = np.log(df[name]).diff()\n",
      "/var/folders/6z/zfrlwktn1ls42xz760mlmp880000gn/T/ipykernel_38121/3684760641.py:2: PerformanceWarning: DataFrame is highly fragmented.  This is usually the result of calling `frame.insert` many times, which has poor performance.  Consider joining all columns at once using pd.concat(axis=1) instead. To get a de-fragmented frame, use `newframe = frame.copy()`\n",
      "  df_returns[name] = np.log(df[name]).diff()\n",
      "/var/folders/6z/zfrlwktn1ls42xz760mlmp880000gn/T/ipykernel_38121/3684760641.py:2: PerformanceWarning: DataFrame is highly fragmented.  This is usually the result of calling `frame.insert` many times, which has poor performance.  Consider joining all columns at once using pd.concat(axis=1) instead. To get a de-fragmented frame, use `newframe = frame.copy()`\n",
      "  df_returns[name] = np.log(df[name]).diff()\n",
      "/var/folders/6z/zfrlwktn1ls42xz760mlmp880000gn/T/ipykernel_38121/3684760641.py:2: PerformanceWarning: DataFrame is highly fragmented.  This is usually the result of calling `frame.insert` many times, which has poor performance.  Consider joining all columns at once using pd.concat(axis=1) instead. To get a de-fragmented frame, use `newframe = frame.copy()`\n",
      "  df_returns[name] = np.log(df[name]).diff()\n",
      "/var/folders/6z/zfrlwktn1ls42xz760mlmp880000gn/T/ipykernel_38121/3684760641.py:2: PerformanceWarning: DataFrame is highly fragmented.  This is usually the result of calling `frame.insert` many times, which has poor performance.  Consider joining all columns at once using pd.concat(axis=1) instead. To get a de-fragmented frame, use `newframe = frame.copy()`\n",
      "  df_returns[name] = np.log(df[name]).diff()\n",
      "/var/folders/6z/zfrlwktn1ls42xz760mlmp880000gn/T/ipykernel_38121/3684760641.py:2: PerformanceWarning: DataFrame is highly fragmented.  This is usually the result of calling `frame.insert` many times, which has poor performance.  Consider joining all columns at once using pd.concat(axis=1) instead. To get a de-fragmented frame, use `newframe = frame.copy()`\n",
      "  df_returns[name] = np.log(df[name]).diff()\n",
      "/var/folders/6z/zfrlwktn1ls42xz760mlmp880000gn/T/ipykernel_38121/3684760641.py:2: PerformanceWarning: DataFrame is highly fragmented.  This is usually the result of calling `frame.insert` many times, which has poor performance.  Consider joining all columns at once using pd.concat(axis=1) instead. To get a de-fragmented frame, use `newframe = frame.copy()`\n",
      "  df_returns[name] = np.log(df[name]).diff()\n",
      "/var/folders/6z/zfrlwktn1ls42xz760mlmp880000gn/T/ipykernel_38121/3684760641.py:2: PerformanceWarning: DataFrame is highly fragmented.  This is usually the result of calling `frame.insert` many times, which has poor performance.  Consider joining all columns at once using pd.concat(axis=1) instead. To get a de-fragmented frame, use `newframe = frame.copy()`\n",
      "  df_returns[name] = np.log(df[name]).diff()\n",
      "/var/folders/6z/zfrlwktn1ls42xz760mlmp880000gn/T/ipykernel_38121/3684760641.py:2: PerformanceWarning: DataFrame is highly fragmented.  This is usually the result of calling `frame.insert` many times, which has poor performance.  Consider joining all columns at once using pd.concat(axis=1) instead. To get a de-fragmented frame, use `newframe = frame.copy()`\n",
      "  df_returns[name] = np.log(df[name]).diff()\n",
      "/var/folders/6z/zfrlwktn1ls42xz760mlmp880000gn/T/ipykernel_38121/3684760641.py:2: PerformanceWarning: DataFrame is highly fragmented.  This is usually the result of calling `frame.insert` many times, which has poor performance.  Consider joining all columns at once using pd.concat(axis=1) instead. To get a de-fragmented frame, use `newframe = frame.copy()`\n",
      "  df_returns[name] = np.log(df[name]).diff()\n",
      "/var/folders/6z/zfrlwktn1ls42xz760mlmp880000gn/T/ipykernel_38121/3684760641.py:2: PerformanceWarning: DataFrame is highly fragmented.  This is usually the result of calling `frame.insert` many times, which has poor performance.  Consider joining all columns at once using pd.concat(axis=1) instead. To get a de-fragmented frame, use `newframe = frame.copy()`\n",
      "  df_returns[name] = np.log(df[name]).diff()\n",
      "/var/folders/6z/zfrlwktn1ls42xz760mlmp880000gn/T/ipykernel_38121/3684760641.py:2: PerformanceWarning: DataFrame is highly fragmented.  This is usually the result of calling `frame.insert` many times, which has poor performance.  Consider joining all columns at once using pd.concat(axis=1) instead. To get a de-fragmented frame, use `newframe = frame.copy()`\n",
      "  df_returns[name] = np.log(df[name]).diff()\n",
      "/var/folders/6z/zfrlwktn1ls42xz760mlmp880000gn/T/ipykernel_38121/3684760641.py:2: PerformanceWarning: DataFrame is highly fragmented.  This is usually the result of calling `frame.insert` many times, which has poor performance.  Consider joining all columns at once using pd.concat(axis=1) instead. To get a de-fragmented frame, use `newframe = frame.copy()`\n",
      "  df_returns[name] = np.log(df[name]).diff()\n",
      "/var/folders/6z/zfrlwktn1ls42xz760mlmp880000gn/T/ipykernel_38121/3684760641.py:2: PerformanceWarning: DataFrame is highly fragmented.  This is usually the result of calling `frame.insert` many times, which has poor performance.  Consider joining all columns at once using pd.concat(axis=1) instead. To get a de-fragmented frame, use `newframe = frame.copy()`\n",
      "  df_returns[name] = np.log(df[name]).diff()\n",
      "/var/folders/6z/zfrlwktn1ls42xz760mlmp880000gn/T/ipykernel_38121/3684760641.py:2: PerformanceWarning: DataFrame is highly fragmented.  This is usually the result of calling `frame.insert` many times, which has poor performance.  Consider joining all columns at once using pd.concat(axis=1) instead. To get a de-fragmented frame, use `newframe = frame.copy()`\n",
      "  df_returns[name] = np.log(df[name]).diff()\n",
      "/var/folders/6z/zfrlwktn1ls42xz760mlmp880000gn/T/ipykernel_38121/3684760641.py:2: PerformanceWarning: DataFrame is highly fragmented.  This is usually the result of calling `frame.insert` many times, which has poor performance.  Consider joining all columns at once using pd.concat(axis=1) instead. To get a de-fragmented frame, use `newframe = frame.copy()`\n",
      "  df_returns[name] = np.log(df[name]).diff()\n",
      "/var/folders/6z/zfrlwktn1ls42xz760mlmp880000gn/T/ipykernel_38121/3684760641.py:2: PerformanceWarning: DataFrame is highly fragmented.  This is usually the result of calling `frame.insert` many times, which has poor performance.  Consider joining all columns at once using pd.concat(axis=1) instead. To get a de-fragmented frame, use `newframe = frame.copy()`\n",
      "  df_returns[name] = np.log(df[name]).diff()\n",
      "/var/folders/6z/zfrlwktn1ls42xz760mlmp880000gn/T/ipykernel_38121/3684760641.py:2: PerformanceWarning: DataFrame is highly fragmented.  This is usually the result of calling `frame.insert` many times, which has poor performance.  Consider joining all columns at once using pd.concat(axis=1) instead. To get a de-fragmented frame, use `newframe = frame.copy()`\n",
      "  df_returns[name] = np.log(df[name]).diff()\n",
      "/var/folders/6z/zfrlwktn1ls42xz760mlmp880000gn/T/ipykernel_38121/3684760641.py:2: PerformanceWarning: DataFrame is highly fragmented.  This is usually the result of calling `frame.insert` many times, which has poor performance.  Consider joining all columns at once using pd.concat(axis=1) instead. To get a de-fragmented frame, use `newframe = frame.copy()`\n",
      "  df_returns[name] = np.log(df[name]).diff()\n",
      "/var/folders/6z/zfrlwktn1ls42xz760mlmp880000gn/T/ipykernel_38121/3684760641.py:2: PerformanceWarning: DataFrame is highly fragmented.  This is usually the result of calling `frame.insert` many times, which has poor performance.  Consider joining all columns at once using pd.concat(axis=1) instead. To get a de-fragmented frame, use `newframe = frame.copy()`\n",
      "  df_returns[name] = np.log(df[name]).diff()\n",
      "/var/folders/6z/zfrlwktn1ls42xz760mlmp880000gn/T/ipykernel_38121/3684760641.py:2: PerformanceWarning: DataFrame is highly fragmented.  This is usually the result of calling `frame.insert` many times, which has poor performance.  Consider joining all columns at once using pd.concat(axis=1) instead. To get a de-fragmented frame, use `newframe = frame.copy()`\n",
      "  df_returns[name] = np.log(df[name]).diff()\n",
      "/var/folders/6z/zfrlwktn1ls42xz760mlmp880000gn/T/ipykernel_38121/3684760641.py:2: PerformanceWarning: DataFrame is highly fragmented.  This is usually the result of calling `frame.insert` many times, which has poor performance.  Consider joining all columns at once using pd.concat(axis=1) instead. To get a de-fragmented frame, use `newframe = frame.copy()`\n",
      "  df_returns[name] = np.log(df[name]).diff()\n",
      "/var/folders/6z/zfrlwktn1ls42xz760mlmp880000gn/T/ipykernel_38121/3684760641.py:2: PerformanceWarning: DataFrame is highly fragmented.  This is usually the result of calling `frame.insert` many times, which has poor performance.  Consider joining all columns at once using pd.concat(axis=1) instead. To get a de-fragmented frame, use `newframe = frame.copy()`\n",
      "  df_returns[name] = np.log(df[name]).diff()\n",
      "/var/folders/6z/zfrlwktn1ls42xz760mlmp880000gn/T/ipykernel_38121/3684760641.py:2: PerformanceWarning: DataFrame is highly fragmented.  This is usually the result of calling `frame.insert` many times, which has poor performance.  Consider joining all columns at once using pd.concat(axis=1) instead. To get a de-fragmented frame, use `newframe = frame.copy()`\n",
      "  df_returns[name] = np.log(df[name]).diff()\n",
      "/var/folders/6z/zfrlwktn1ls42xz760mlmp880000gn/T/ipykernel_38121/3684760641.py:2: PerformanceWarning: DataFrame is highly fragmented.  This is usually the result of calling `frame.insert` many times, which has poor performance.  Consider joining all columns at once using pd.concat(axis=1) instead. To get a de-fragmented frame, use `newframe = frame.copy()`\n",
      "  df_returns[name] = np.log(df[name]).diff()\n",
      "/var/folders/6z/zfrlwktn1ls42xz760mlmp880000gn/T/ipykernel_38121/3684760641.py:2: PerformanceWarning: DataFrame is highly fragmented.  This is usually the result of calling `frame.insert` many times, which has poor performance.  Consider joining all columns at once using pd.concat(axis=1) instead. To get a de-fragmented frame, use `newframe = frame.copy()`\n",
      "  df_returns[name] = np.log(df[name]).diff()\n",
      "/var/folders/6z/zfrlwktn1ls42xz760mlmp880000gn/T/ipykernel_38121/3684760641.py:2: PerformanceWarning: DataFrame is highly fragmented.  This is usually the result of calling `frame.insert` many times, which has poor performance.  Consider joining all columns at once using pd.concat(axis=1) instead. To get a de-fragmented frame, use `newframe = frame.copy()`\n",
      "  df_returns[name] = np.log(df[name]).diff()\n",
      "/var/folders/6z/zfrlwktn1ls42xz760mlmp880000gn/T/ipykernel_38121/3684760641.py:2: PerformanceWarning: DataFrame is highly fragmented.  This is usually the result of calling `frame.insert` many times, which has poor performance.  Consider joining all columns at once using pd.concat(axis=1) instead. To get a de-fragmented frame, use `newframe = frame.copy()`\n",
      "  df_returns[name] = np.log(df[name]).diff()\n",
      "/var/folders/6z/zfrlwktn1ls42xz760mlmp880000gn/T/ipykernel_38121/3684760641.py:2: PerformanceWarning: DataFrame is highly fragmented.  This is usually the result of calling `frame.insert` many times, which has poor performance.  Consider joining all columns at once using pd.concat(axis=1) instead. To get a de-fragmented frame, use `newframe = frame.copy()`\n",
      "  df_returns[name] = np.log(df[name]).diff()\n",
      "/var/folders/6z/zfrlwktn1ls42xz760mlmp880000gn/T/ipykernel_38121/3684760641.py:2: PerformanceWarning: DataFrame is highly fragmented.  This is usually the result of calling `frame.insert` many times, which has poor performance.  Consider joining all columns at once using pd.concat(axis=1) instead. To get a de-fragmented frame, use `newframe = frame.copy()`\n",
      "  df_returns[name] = np.log(df[name]).diff()\n",
      "/var/folders/6z/zfrlwktn1ls42xz760mlmp880000gn/T/ipykernel_38121/3684760641.py:2: PerformanceWarning: DataFrame is highly fragmented.  This is usually the result of calling `frame.insert` many times, which has poor performance.  Consider joining all columns at once using pd.concat(axis=1) instead. To get a de-fragmented frame, use `newframe = frame.copy()`\n",
      "  df_returns[name] = np.log(df[name]).diff()\n",
      "/var/folders/6z/zfrlwktn1ls42xz760mlmp880000gn/T/ipykernel_38121/3684760641.py:2: PerformanceWarning: DataFrame is highly fragmented.  This is usually the result of calling `frame.insert` many times, which has poor performance.  Consider joining all columns at once using pd.concat(axis=1) instead. To get a de-fragmented frame, use `newframe = frame.copy()`\n",
      "  df_returns[name] = np.log(df[name]).diff()\n",
      "/var/folders/6z/zfrlwktn1ls42xz760mlmp880000gn/T/ipykernel_38121/3684760641.py:2: PerformanceWarning: DataFrame is highly fragmented.  This is usually the result of calling `frame.insert` many times, which has poor performance.  Consider joining all columns at once using pd.concat(axis=1) instead. To get a de-fragmented frame, use `newframe = frame.copy()`\n",
      "  df_returns[name] = np.log(df[name]).diff()\n",
      "/var/folders/6z/zfrlwktn1ls42xz760mlmp880000gn/T/ipykernel_38121/3684760641.py:2: PerformanceWarning: DataFrame is highly fragmented.  This is usually the result of calling `frame.insert` many times, which has poor performance.  Consider joining all columns at once using pd.concat(axis=1) instead. To get a de-fragmented frame, use `newframe = frame.copy()`\n",
      "  df_returns[name] = np.log(df[name]).diff()\n",
      "/var/folders/6z/zfrlwktn1ls42xz760mlmp880000gn/T/ipykernel_38121/3684760641.py:2: PerformanceWarning: DataFrame is highly fragmented.  This is usually the result of calling `frame.insert` many times, which has poor performance.  Consider joining all columns at once using pd.concat(axis=1) instead. To get a de-fragmented frame, use `newframe = frame.copy()`\n",
      "  df_returns[name] = np.log(df[name]).diff()\n",
      "/var/folders/6z/zfrlwktn1ls42xz760mlmp880000gn/T/ipykernel_38121/3684760641.py:2: PerformanceWarning: DataFrame is highly fragmented.  This is usually the result of calling `frame.insert` many times, which has poor performance.  Consider joining all columns at once using pd.concat(axis=1) instead. To get a de-fragmented frame, use `newframe = frame.copy()`\n",
      "  df_returns[name] = np.log(df[name]).diff()\n",
      "/var/folders/6z/zfrlwktn1ls42xz760mlmp880000gn/T/ipykernel_38121/3684760641.py:2: PerformanceWarning: DataFrame is highly fragmented.  This is usually the result of calling `frame.insert` many times, which has poor performance.  Consider joining all columns at once using pd.concat(axis=1) instead. To get a de-fragmented frame, use `newframe = frame.copy()`\n",
      "  df_returns[name] = np.log(df[name]).diff()\n",
      "/var/folders/6z/zfrlwktn1ls42xz760mlmp880000gn/T/ipykernel_38121/3684760641.py:2: PerformanceWarning: DataFrame is highly fragmented.  This is usually the result of calling `frame.insert` many times, which has poor performance.  Consider joining all columns at once using pd.concat(axis=1) instead. To get a de-fragmented frame, use `newframe = frame.copy()`\n",
      "  df_returns[name] = np.log(df[name]).diff()\n",
      "/var/folders/6z/zfrlwktn1ls42xz760mlmp880000gn/T/ipykernel_38121/3684760641.py:2: PerformanceWarning: DataFrame is highly fragmented.  This is usually the result of calling `frame.insert` many times, which has poor performance.  Consider joining all columns at once using pd.concat(axis=1) instead. To get a de-fragmented frame, use `newframe = frame.copy()`\n",
      "  df_returns[name] = np.log(df[name]).diff()\n",
      "/var/folders/6z/zfrlwktn1ls42xz760mlmp880000gn/T/ipykernel_38121/3684760641.py:2: PerformanceWarning: DataFrame is highly fragmented.  This is usually the result of calling `frame.insert` many times, which has poor performance.  Consider joining all columns at once using pd.concat(axis=1) instead. To get a de-fragmented frame, use `newframe = frame.copy()`\n",
      "  df_returns[name] = np.log(df[name]).diff()\n",
      "/var/folders/6z/zfrlwktn1ls42xz760mlmp880000gn/T/ipykernel_38121/3684760641.py:2: PerformanceWarning: DataFrame is highly fragmented.  This is usually the result of calling `frame.insert` many times, which has poor performance.  Consider joining all columns at once using pd.concat(axis=1) instead. To get a de-fragmented frame, use `newframe = frame.copy()`\n",
      "  df_returns[name] = np.log(df[name]).diff()\n",
      "/var/folders/6z/zfrlwktn1ls42xz760mlmp880000gn/T/ipykernel_38121/3684760641.py:2: PerformanceWarning: DataFrame is highly fragmented.  This is usually the result of calling `frame.insert` many times, which has poor performance.  Consider joining all columns at once using pd.concat(axis=1) instead. To get a de-fragmented frame, use `newframe = frame.copy()`\n",
      "  df_returns[name] = np.log(df[name]).diff()\n"
     ]
    }
   ],
   "source": [
    "for name in df.columns:\n",
    "    df_returns[name] = np.log(df[name]).diff()"
   ]
  },
  {
   "cell_type": "code",
   "execution_count": 137,
   "metadata": {},
   "outputs": [
    {
     "data": {
      "text/html": [
       "<div>\n",
       "<style scoped>\n",
       "    .dataframe tbody tr th:only-of-type {\n",
       "        vertical-align: middle;\n",
       "    }\n",
       "\n",
       "    .dataframe tbody tr th {\n",
       "        vertical-align: top;\n",
       "    }\n",
       "\n",
       "    .dataframe thead th {\n",
       "        text-align: right;\n",
       "    }\n",
       "</style>\n",
       "<table border=\"1\" class=\"dataframe\">\n",
       "  <thead>\n",
       "    <tr style=\"text-align: right;\">\n",
       "      <th></th>\n",
       "      <th>CSCO</th>\n",
       "      <th>UAL</th>\n",
       "      <th>TROW</th>\n",
       "      <th>ISRG</th>\n",
       "      <th>PRGO</th>\n",
       "      <th>TPR</th>\n",
       "      <th>DVN</th>\n",
       "      <th>MRO</th>\n",
       "      <th>BA</th>\n",
       "      <th>VRTX</th>\n",
       "      <th>...</th>\n",
       "      <th>M</th>\n",
       "      <th>CRM</th>\n",
       "      <th>PGR</th>\n",
       "      <th>WAT</th>\n",
       "      <th>BWA</th>\n",
       "      <th>LRCX</th>\n",
       "      <th>NWL</th>\n",
       "      <th>UAA</th>\n",
       "      <th>BLK</th>\n",
       "      <th>PPL</th>\n",
       "    </tr>\n",
       "    <tr>\n",
       "      <th>Date</th>\n",
       "      <th></th>\n",
       "      <th></th>\n",
       "      <th></th>\n",
       "      <th></th>\n",
       "      <th></th>\n",
       "      <th></th>\n",
       "      <th></th>\n",
       "      <th></th>\n",
       "      <th></th>\n",
       "      <th></th>\n",
       "      <th></th>\n",
       "      <th></th>\n",
       "      <th></th>\n",
       "      <th></th>\n",
       "      <th></th>\n",
       "      <th></th>\n",
       "      <th></th>\n",
       "      <th></th>\n",
       "      <th></th>\n",
       "      <th></th>\n",
       "      <th></th>\n",
       "    </tr>\n",
       "  </thead>\n",
       "  <tbody>\n",
       "    <tr>\n",
       "      <th>2010-01-04</th>\n",
       "      <td>NaN</td>\n",
       "      <td>NaN</td>\n",
       "      <td>NaN</td>\n",
       "      <td>NaN</td>\n",
       "      <td>NaN</td>\n",
       "      <td>NaN</td>\n",
       "      <td>NaN</td>\n",
       "      <td>NaN</td>\n",
       "      <td>NaN</td>\n",
       "      <td>NaN</td>\n",
       "      <td>...</td>\n",
       "      <td>NaN</td>\n",
       "      <td>NaN</td>\n",
       "      <td>NaN</td>\n",
       "      <td>NaN</td>\n",
       "      <td>NaN</td>\n",
       "      <td>NaN</td>\n",
       "      <td>NaN</td>\n",
       "      <td>NaN</td>\n",
       "      <td>NaN</td>\n",
       "      <td>NaN</td>\n",
       "    </tr>\n",
       "    <tr>\n",
       "      <th>2010-01-05</th>\n",
       "      <td>-0.004465</td>\n",
       "      <td>0.083163</td>\n",
       "      <td>0.011151</td>\n",
       "      <td>-0.004512</td>\n",
       "      <td>-0.039429</td>\n",
       "      <td>0.012045</td>\n",
       "      <td>0.001044</td>\n",
       "      <td>0.000934</td>\n",
       "      <td>0.032227</td>\n",
       "      <td>-0.033559</td>\n",
       "      <td>...</td>\n",
       "      <td>-0.011793</td>\n",
       "      <td>-0.004286</td>\n",
       "      <td>-0.003333</td>\n",
       "      <td>-0.013723</td>\n",
       "      <td>0.046560</td>\n",
       "      <td>-0.006793</td>\n",
       "      <td>-0.005939</td>\n",
       "      <td>0.029476</td>\n",
       "      <td>0.004308</td>\n",
       "      <td>-0.013019</td>\n",
       "    </tr>\n",
       "    <tr>\n",
       "      <th>2010-01-06</th>\n",
       "      <td>-0.006531</td>\n",
       "      <td>-0.047102</td>\n",
       "      <td>-0.015757</td>\n",
       "      <td>0.014405</td>\n",
       "      <td>-0.012713</td>\n",
       "      <td>0.019402</td>\n",
       "      <td>-0.003005</td>\n",
       "      <td>0.021850</td>\n",
       "      <td>0.029883</td>\n",
       "      <td>-0.017687</td>\n",
       "      <td>...</td>\n",
       "      <td>0.014134</td>\n",
       "      <td>-0.001746</td>\n",
       "      <td>-0.010067</td>\n",
       "      <td>0.001808</td>\n",
       "      <td>0.036075</td>\n",
       "      <td>-0.004555</td>\n",
       "      <td>0.017711</td>\n",
       "      <td>0.021889</td>\n",
       "      <td>-0.020832</td>\n",
       "      <td>0.002182</td>\n",
       "    </tr>\n",
       "    <tr>\n",
       "      <th>2010-01-07</th>\n",
       "      <td>0.004494</td>\n",
       "      <td>0.020881</td>\n",
       "      <td>-0.000739</td>\n",
       "      <td>-0.003759</td>\n",
       "      <td>-0.008127</td>\n",
       "      <td>0.000534</td>\n",
       "      <td>-0.005906</td>\n",
       "      <td>-0.006107</td>\n",
       "      <td>0.039684</td>\n",
       "      <td>-0.012690</td>\n",
       "      <td>...</td>\n",
       "      <td>0.022551</td>\n",
       "      <td>-0.004447</td>\n",
       "      <td>-0.013583</td>\n",
       "      <td>0.004260</td>\n",
       "      <td>0.013536</td>\n",
       "      <td>-0.001777</td>\n",
       "      <td>0.028207</td>\n",
       "      <td>-0.011911</td>\n",
       "      <td>0.010934</td>\n",
       "      <td>-0.009698</td>\n",
       "    </tr>\n",
       "    <tr>\n",
       "      <th>2010-01-08</th>\n",
       "      <td>0.005286</td>\n",
       "      <td>-0.016369</td>\n",
       "      <td>-0.003889</td>\n",
       "      <td>-0.005519</td>\n",
       "      <td>-0.005543</td>\n",
       "      <td>-0.005886</td>\n",
       "      <td>0.001973</td>\n",
       "      <td>0.001530</td>\n",
       "      <td>-0.009693</td>\n",
       "      <td>-0.020203</td>\n",
       "      <td>...</td>\n",
       "      <td>-0.033133</td>\n",
       "      <td>0.001485</td>\n",
       "      <td>0.009075</td>\n",
       "      <td>0.000817</td>\n",
       "      <td>-0.018454</td>\n",
       "      <td>0.024841</td>\n",
       "      <td>-0.003166</td>\n",
       "      <td>-0.002056</td>\n",
       "      <td>0.007014</td>\n",
       "      <td>-0.003149</td>\n",
       "    </tr>\n",
       "  </tbody>\n",
       "</table>\n",
       "<p>5 rows × 429 columns</p>\n",
       "</div>"
      ],
      "text/plain": [
       "                CSCO       UAL      TROW      ISRG      PRGO       TPR  \\\n",
       "Date                                                                     \n",
       "2010-01-04       NaN       NaN       NaN       NaN       NaN       NaN   \n",
       "2010-01-05 -0.004465  0.083163  0.011151 -0.004512 -0.039429  0.012045   \n",
       "2010-01-06 -0.006531 -0.047102 -0.015757  0.014405 -0.012713  0.019402   \n",
       "2010-01-07  0.004494  0.020881 -0.000739 -0.003759 -0.008127  0.000534   \n",
       "2010-01-08  0.005286 -0.016369 -0.003889 -0.005519 -0.005543 -0.005886   \n",
       "\n",
       "                 DVN       MRO        BA      VRTX  ...         M       CRM  \\\n",
       "Date                                                ...                       \n",
       "2010-01-04       NaN       NaN       NaN       NaN  ...       NaN       NaN   \n",
       "2010-01-05  0.001044  0.000934  0.032227 -0.033559  ... -0.011793 -0.004286   \n",
       "2010-01-06 -0.003005  0.021850  0.029883 -0.017687  ...  0.014134 -0.001746   \n",
       "2010-01-07 -0.005906 -0.006107  0.039684 -0.012690  ...  0.022551 -0.004447   \n",
       "2010-01-08  0.001973  0.001530 -0.009693 -0.020203  ... -0.033133  0.001485   \n",
       "\n",
       "                 PGR       WAT       BWA      LRCX       NWL       UAA  \\\n",
       "Date                                                                     \n",
       "2010-01-04       NaN       NaN       NaN       NaN       NaN       NaN   \n",
       "2010-01-05 -0.003333 -0.013723  0.046560 -0.006793 -0.005939  0.029476   \n",
       "2010-01-06 -0.010067  0.001808  0.036075 -0.004555  0.017711  0.021889   \n",
       "2010-01-07 -0.013583  0.004260  0.013536 -0.001777  0.028207 -0.011911   \n",
       "2010-01-08  0.009075  0.000817 -0.018454  0.024841 -0.003166 -0.002056   \n",
       "\n",
       "                 BLK       PPL  \n",
       "Date                            \n",
       "2010-01-04       NaN       NaN  \n",
       "2010-01-05  0.004308 -0.013019  \n",
       "2010-01-06 -0.020832  0.002182  \n",
       "2010-01-07  0.010934 -0.009698  \n",
       "2010-01-08  0.007014 -0.003149  \n",
       "\n",
       "[5 rows x 429 columns]"
      ]
     },
     "execution_count": 137,
     "metadata": {},
     "output_type": "execute_result"
    }
   ],
   "source": [
    "df_returns.head()"
   ]
  },
  {
   "cell_type": "code",
   "execution_count": 206,
   "metadata": {},
   "outputs": [
    {
     "data": {
      "text/html": [
       "<div>\n",
       "<style scoped>\n",
       "    .dataframe tbody tr th:only-of-type {\n",
       "        vertical-align: middle;\n",
       "    }\n",
       "\n",
       "    .dataframe tbody tr th {\n",
       "        vertical-align: top;\n",
       "    }\n",
       "\n",
       "    .dataframe thead th {\n",
       "        text-align: right;\n",
       "    }\n",
       "</style>\n",
       "<table border=\"1\" class=\"dataframe\">\n",
       "  <thead>\n",
       "    <tr style=\"text-align: right;\">\n",
       "      <th></th>\n",
       "      <th>MSFT_Log_Return</th>\n",
       "      <th>AAPL_Log_Return</th>\n",
       "      <th>BTC-USD_Log_Return</th>\n",
       "      <th>ETH-USD_Log_Return</th>\n",
       "      <th>GOOG_Log_Return</th>\n",
       "    </tr>\n",
       "    <tr>\n",
       "      <th>date</th>\n",
       "      <th></th>\n",
       "      <th></th>\n",
       "      <th></th>\n",
       "      <th></th>\n",
       "      <th></th>\n",
       "    </tr>\n",
       "  </thead>\n",
       "  <tbody>\n",
       "    <tr>\n",
       "      <th>2022-03-22 13:30:00</th>\n",
       "      <td>NaN</td>\n",
       "      <td>NaN</td>\n",
       "      <td>NaN</td>\n",
       "      <td>NaN</td>\n",
       "      <td>NaN</td>\n",
       "    </tr>\n",
       "    <tr>\n",
       "      <th>2022-03-22 13:35:00</th>\n",
       "      <td>0.000325</td>\n",
       "      <td>0.003697</td>\n",
       "      <td>0.000414</td>\n",
       "      <td>0.000956</td>\n",
       "      <td>0.010706</td>\n",
       "    </tr>\n",
       "    <tr>\n",
       "      <th>2022-03-22 13:40:00</th>\n",
       "      <td>0.001097</td>\n",
       "      <td>0.000265</td>\n",
       "      <td>0.001641</td>\n",
       "      <td>0.000378</td>\n",
       "      <td>-0.001853</td>\n",
       "    </tr>\n",
       "    <tr>\n",
       "      <th>2022-03-22 13:45:00</th>\n",
       "      <td>-0.003561</td>\n",
       "      <td>-0.002578</td>\n",
       "      <td>-0.002763</td>\n",
       "      <td>-0.002981</td>\n",
       "      <td>-0.002183</td>\n",
       "    </tr>\n",
       "    <tr>\n",
       "      <th>2022-03-22 13:50:00</th>\n",
       "      <td>-0.001903</td>\n",
       "      <td>-0.001444</td>\n",
       "      <td>-0.001386</td>\n",
       "      <td>-0.001958</td>\n",
       "      <td>-0.000072</td>\n",
       "    </tr>\n",
       "  </tbody>\n",
       "</table>\n",
       "</div>"
      ],
      "text/plain": [
       "                     MSFT_Log_Return  AAPL_Log_Return  BTC-USD_Log_Return  \\\n",
       "date                                                                        \n",
       "2022-03-22 13:30:00              NaN              NaN                 NaN   \n",
       "2022-03-22 13:35:00         0.000325         0.003697            0.000414   \n",
       "2022-03-22 13:40:00         0.001097         0.000265            0.001641   \n",
       "2022-03-22 13:45:00        -0.003561        -0.002578           -0.002763   \n",
       "2022-03-22 13:50:00        -0.001903        -0.001444           -0.001386   \n",
       "\n",
       "                     ETH-USD_Log_Return  GOOG_Log_Return  \n",
       "date                                                      \n",
       "2022-03-22 13:30:00                 NaN              NaN  \n",
       "2022-03-22 13:35:00            0.000956         0.010706  \n",
       "2022-03-22 13:40:00            0.000378        -0.001853  \n",
       "2022-03-22 13:45:00           -0.002981        -0.002183  \n",
       "2022-03-22 13:50:00           -0.001958        -0.000072  "
      ]
     },
     "execution_count": 206,
     "metadata": {},
     "output_type": "execute_result"
    }
   ],
   "source": [
    "df.head()"
   ]
  },
  {
   "cell_type": "code",
   "execution_count": 237,
   "metadata": {},
   "outputs": [
    {
     "ename": "KeyError",
     "evalue": "'GOOG_Log_Return'",
     "output_type": "error",
     "traceback": [
      "\u001b[0;31m---------------------------------------------------------------------------\u001b[0m",
      "\u001b[0;31mKeyError\u001b[0m                                  Traceback (most recent call last)",
      "File \u001b[0;32m~/Desktop/projects/senioryrproject/src/venv/lib/python3.9/site-packages/pandas/core/indexes/base.py:3621\u001b[0m, in \u001b[0;36mIndex.get_loc\u001b[0;34m(self, key, method, tolerance)\u001b[0m\n\u001b[1;32m   <a href='file:///~/Desktop/projects/senioryrproject/src/venv/lib/python3.9/site-packages/pandas/core/indexes/base.py?line=3619'>3620</a>\u001b[0m \u001b[39mtry\u001b[39;00m:\n\u001b[0;32m-> <a href='file:///~/Desktop/projects/senioryrproject/src/venv/lib/python3.9/site-packages/pandas/core/indexes/base.py?line=3620'>3621</a>\u001b[0m     \u001b[39mreturn\u001b[39;00m \u001b[39mself\u001b[39;49m\u001b[39m.\u001b[39;49m_engine\u001b[39m.\u001b[39;49mget_loc(casted_key)\n\u001b[1;32m   <a href='file:///~/Desktop/projects/senioryrproject/src/venv/lib/python3.9/site-packages/pandas/core/indexes/base.py?line=3621'>3622</a>\u001b[0m \u001b[39mexcept\u001b[39;00m \u001b[39mKeyError\u001b[39;00m \u001b[39mas\u001b[39;00m err:\n",
      "File \u001b[0;32mpandas/_libs/index.pyx:136\u001b[0m, in \u001b[0;36mpandas._libs.index.IndexEngine.get_loc\u001b[0;34m()\u001b[0m\n",
      "File \u001b[0;32mpandas/_libs/index.pyx:163\u001b[0m, in \u001b[0;36mpandas._libs.index.IndexEngine.get_loc\u001b[0;34m()\u001b[0m\n",
      "File \u001b[0;32mpandas/_libs/hashtable_class_helper.pxi:5198\u001b[0m, in \u001b[0;36mpandas._libs.hashtable.PyObjectHashTable.get_item\u001b[0;34m()\u001b[0m\n",
      "File \u001b[0;32mpandas/_libs/hashtable_class_helper.pxi:5206\u001b[0m, in \u001b[0;36mpandas._libs.hashtable.PyObjectHashTable.get_item\u001b[0;34m()\u001b[0m\n",
      "\u001b[0;31mKeyError\u001b[0m: 'GOOG_Log_Return'",
      "\nThe above exception was the direct cause of the following exception:\n",
      "\u001b[0;31mKeyError\u001b[0m                                  Traceback (most recent call last)",
      "\u001b[1;32m/Users/utkusaglam/Desktop/projects/senioryrproject/src/ml.ipynb Cell 19'\u001b[0m in \u001b[0;36m<cell line: 1>\u001b[0;34m()\u001b[0m\n\u001b[0;32m----> <a href='vscode-notebook-cell:/Users/utkusaglam/Desktop/projects/senioryrproject/src/ml.ipynb#ch0000072?line=0'>1</a>\u001b[0m df[\u001b[39m'\u001b[39m\u001b[39mGOOG_Log_Return\u001b[39m\u001b[39m'\u001b[39m]\u001b[39m=\u001b[39mdf[\u001b[39m'\u001b[39;49m\u001b[39mGOOG_Log_Return\u001b[39;49m\u001b[39m'\u001b[39;49m]\u001b[39m.\u001b[39mshift(\u001b[39m-\u001b[39m\u001b[39m1\u001b[39m)\n\u001b[1;32m      <a href='vscode-notebook-cell:/Users/utkusaglam/Desktop/projects/senioryrproject/src/ml.ipynb#ch0000072?line=1'>2</a>\u001b[0m df[\u001b[39m'\u001b[39m\u001b[39mGOOG_Log_Return\u001b[39m\u001b[39m'\u001b[39m]\u001b[39m.\u001b[39mtail()\n\u001b[1;32m      <a href='vscode-notebook-cell:/Users/utkusaglam/Desktop/projects/senioryrproject/src/ml.ipynb#ch0000072?line=3'>4</a>\u001b[0m Ntest\u001b[39m=\u001b[39m\u001b[39m1000\u001b[39m\n",
      "File \u001b[0;32m~/Desktop/projects/senioryrproject/src/venv/lib/python3.9/site-packages/pandas/core/frame.py:3505\u001b[0m, in \u001b[0;36mDataFrame.__getitem__\u001b[0;34m(self, key)\u001b[0m\n\u001b[1;32m   <a href='file:///~/Desktop/projects/senioryrproject/src/venv/lib/python3.9/site-packages/pandas/core/frame.py?line=3502'>3503</a>\u001b[0m \u001b[39mif\u001b[39;00m \u001b[39mself\u001b[39m\u001b[39m.\u001b[39mcolumns\u001b[39m.\u001b[39mnlevels \u001b[39m>\u001b[39m \u001b[39m1\u001b[39m:\n\u001b[1;32m   <a href='file:///~/Desktop/projects/senioryrproject/src/venv/lib/python3.9/site-packages/pandas/core/frame.py?line=3503'>3504</a>\u001b[0m     \u001b[39mreturn\u001b[39;00m \u001b[39mself\u001b[39m\u001b[39m.\u001b[39m_getitem_multilevel(key)\n\u001b[0;32m-> <a href='file:///~/Desktop/projects/senioryrproject/src/venv/lib/python3.9/site-packages/pandas/core/frame.py?line=3504'>3505</a>\u001b[0m indexer \u001b[39m=\u001b[39m \u001b[39mself\u001b[39;49m\u001b[39m.\u001b[39;49mcolumns\u001b[39m.\u001b[39;49mget_loc(key)\n\u001b[1;32m   <a href='file:///~/Desktop/projects/senioryrproject/src/venv/lib/python3.9/site-packages/pandas/core/frame.py?line=3505'>3506</a>\u001b[0m \u001b[39mif\u001b[39;00m is_integer(indexer):\n\u001b[1;32m   <a href='file:///~/Desktop/projects/senioryrproject/src/venv/lib/python3.9/site-packages/pandas/core/frame.py?line=3506'>3507</a>\u001b[0m     indexer \u001b[39m=\u001b[39m [indexer]\n",
      "File \u001b[0;32m~/Desktop/projects/senioryrproject/src/venv/lib/python3.9/site-packages/pandas/core/indexes/base.py:3623\u001b[0m, in \u001b[0;36mIndex.get_loc\u001b[0;34m(self, key, method, tolerance)\u001b[0m\n\u001b[1;32m   <a href='file:///~/Desktop/projects/senioryrproject/src/venv/lib/python3.9/site-packages/pandas/core/indexes/base.py?line=3620'>3621</a>\u001b[0m     \u001b[39mreturn\u001b[39;00m \u001b[39mself\u001b[39m\u001b[39m.\u001b[39m_engine\u001b[39m.\u001b[39mget_loc(casted_key)\n\u001b[1;32m   <a href='file:///~/Desktop/projects/senioryrproject/src/venv/lib/python3.9/site-packages/pandas/core/indexes/base.py?line=3621'>3622</a>\u001b[0m \u001b[39mexcept\u001b[39;00m \u001b[39mKeyError\u001b[39;00m \u001b[39mas\u001b[39;00m err:\n\u001b[0;32m-> <a href='file:///~/Desktop/projects/senioryrproject/src/venv/lib/python3.9/site-packages/pandas/core/indexes/base.py?line=3622'>3623</a>\u001b[0m     \u001b[39mraise\u001b[39;00m \u001b[39mKeyError\u001b[39;00m(key) \u001b[39mfrom\u001b[39;00m \u001b[39merr\u001b[39;00m\n\u001b[1;32m   <a href='file:///~/Desktop/projects/senioryrproject/src/venv/lib/python3.9/site-packages/pandas/core/indexes/base.py?line=3623'>3624</a>\u001b[0m \u001b[39mexcept\u001b[39;00m \u001b[39mTypeError\u001b[39;00m:\n\u001b[1;32m   <a href='file:///~/Desktop/projects/senioryrproject/src/venv/lib/python3.9/site-packages/pandas/core/indexes/base.py?line=3624'>3625</a>\u001b[0m     \u001b[39m# If we have a listlike key, _check_indexing_error will raise\u001b[39;00m\n\u001b[1;32m   <a href='file:///~/Desktop/projects/senioryrproject/src/venv/lib/python3.9/site-packages/pandas/core/indexes/base.py?line=3625'>3626</a>\u001b[0m     \u001b[39m#  InvalidIndexError. Otherwise we fall through and re-raise\u001b[39;00m\n\u001b[1;32m   <a href='file:///~/Desktop/projects/senioryrproject/src/venv/lib/python3.9/site-packages/pandas/core/indexes/base.py?line=3626'>3627</a>\u001b[0m     \u001b[39m#  the TypeError.\u001b[39;00m\n\u001b[1;32m   <a href='file:///~/Desktop/projects/senioryrproject/src/venv/lib/python3.9/site-packages/pandas/core/indexes/base.py?line=3627'>3628</a>\u001b[0m     \u001b[39mself\u001b[39m\u001b[39m.\u001b[39m_check_indexing_error(key)\n",
      "\u001b[0;31mKeyError\u001b[0m: 'GOOG_Log_Return'"
     ]
    }
   ],
   "source": [
    "df['GOOG_Log_Return']=df['GOOG_Log_Return'].shift(-1)\n",
    "df['GOOG_Log_Return'].tail()\n",
    "\n",
    "Ntest=1000\n",
    "train =df.iloc[1:-Ntest]\n",
    "test =df.iloc[-Ntest:-1]\n",
    "\n",
    "Xtrain =train[log_return_list]\n",
    "Ytrain =train['GOOG_Log_Return']\n",
    "Xtest = test[log_return_list]\n",
    "Ytest = test['GOOG_Log_Return']\n",
    "\n",
    "from sklearn.linear_model import LinearRegression\n",
    "model =LinearRegression()\n",
    "model.fit(Xtrain, Ytrain)\n",
    "model.score(Xtrain, Ytrain), model.score(Xtest,Ytest)\n",
    "\n",
    "#Direction\n",
    "Ptrain =model.predict(Xtrain)\n",
    "Ptest =model.predict(Xtest)\n",
    "np.mean( np.sign(Ptrain) == np.sign(Ytrain)), np.mean(np.sign(Ptest) == np.sign(Ytest))\n",
    "\n",
    "from sklearn.linear_model import LogisticRegression\n",
    "#reg penality, prevent the weight fro becoming too large\n",
    "model =LogisticRegression(C=10)\n",
    "Ctrain = (Ytrain>0)\n",
    "Ctest = (Ytest>0)\n",
    "model.fit(Xtrain, Ctrain)\n",
    "model.score(Xtrain, Ctrain) , model.score(Xtest, Ctest)\n",
    "\n",
    "Ptrain =model.predict(Xtrain)\n",
    "Ptest =model.predict(Xtest)\n",
    "set(Ptrain), set(Ptest)\n",
    "\n",
    "y_test_pp = model.predict_proba(Xtest)\n",
    "print('roc_auc_score:', roc_auc_score(Ptest, y_test_pp[:,1]))\n",
    "fpr, tpr, thres = roc_curve(Ptest, y_test_pp[:,1])\n",
    "print(fpr)\n",
    "print(tpr)\n",
    "print(thres)\n",
    "ax = plt.plot(fpr, tpr)\n",
    "plt.show()\n",
    "\n"
   ]
  },
  {
   "cell_type": "code",
   "execution_count": 138,
   "metadata": {},
   "outputs": [
    {
     "data": {
      "text/plain": [
       "Date\n",
       "2018-12-21   -0.026778\n",
       "2018-12-24    0.049290\n",
       "2018-12-26    0.007648\n",
       "2018-12-27   -0.001291\n",
       "2018-12-28         NaN\n",
       "Name: SPY, dtype: float64"
      ]
     },
     "execution_count": 138,
     "metadata": {},
     "output_type": "execute_result"
    }
   ],
   "source": [
    "df_returns['SPY']=df_returns['SPY'].shift(-1)\n",
    "df_returns['SPY'].tail()"
   ]
  },
  {
   "cell_type": "code",
   "execution_count": 139,
   "metadata": {},
   "outputs": [],
   "source": [
    "Ntest=1000\n",
    "train =df_returns.iloc[1:-Ntest]\n",
    "test =df_returns.iloc[-Ntest:-1]"
   ]
  },
  {
   "cell_type": "code",
   "execution_count": 140,
   "metadata": {},
   "outputs": [
    {
     "data": {
      "text/plain": [
       "[range(1, -1000)]"
      ]
     },
     "execution_count": 140,
     "metadata": {},
     "output_type": "execute_result"
    }
   ],
   "source": [
    "[range(1,-Ntest)]"
   ]
  },
  {
   "cell_type": "code",
   "execution_count": 141,
   "metadata": {},
   "outputs": [
    {
     "data": {
      "text/plain": [
       "Index(['CSCO', 'UAL', 'TROW', 'ISRG', 'PRGO', 'TPR', 'DVN', 'MRO', 'BA',\n",
       "       'VRTX',\n",
       "       ...\n",
       "       'M', 'CRM', 'PGR', 'WAT', 'BWA', 'LRCX', 'NWL', 'UAA', 'BLK', 'PPL'],\n",
       "      dtype='object', length=429)"
      ]
     },
     "execution_count": 141,
     "metadata": {},
     "output_type": "execute_result"
    }
   ],
   "source": [
    "df_returns.columns"
   ]
  },
  {
   "cell_type": "code",
   "execution_count": 142,
   "metadata": {},
   "outputs": [
    {
     "data": {
      "text/plain": [
       "['AAPL', 'MSFT', 'AMZN', 'JNJ', 'V', 'PG', 'JPM']"
      ]
     },
     "execution_count": 142,
     "metadata": {},
     "output_type": "execute_result"
    }
   ],
   "source": [
    "x_cols = ['AAPL','MSFT','AMZN','JNJ','V','PG','JPM']\n",
    "x_cols"
   ]
  },
  {
   "cell_type": "code",
   "execution_count": 143,
   "metadata": {},
   "outputs": [],
   "source": [
    "Xtrain =train[x_cols]\n",
    "Ytrain =train['SPY']\n",
    "Xtest = test[x_cols]\n",
    "Ytest = test['SPY']"
   ]
  },
  {
   "cell_type": "code",
   "execution_count": 144,
   "metadata": {},
   "outputs": [
    {
     "data": {
      "text/html": [
       "<div>\n",
       "<style scoped>\n",
       "    .dataframe tbody tr th:only-of-type {\n",
       "        vertical-align: middle;\n",
       "    }\n",
       "\n",
       "    .dataframe tbody tr th {\n",
       "        vertical-align: top;\n",
       "    }\n",
       "\n",
       "    .dataframe thead th {\n",
       "        text-align: right;\n",
       "    }\n",
       "</style>\n",
       "<table border=\"1\" class=\"dataframe\">\n",
       "  <thead>\n",
       "    <tr style=\"text-align: right;\">\n",
       "      <th></th>\n",
       "      <th>AAPL</th>\n",
       "      <th>MSFT</th>\n",
       "      <th>AMZN</th>\n",
       "      <th>JNJ</th>\n",
       "      <th>V</th>\n",
       "      <th>PG</th>\n",
       "      <th>JPM</th>\n",
       "    </tr>\n",
       "    <tr>\n",
       "      <th>Date</th>\n",
       "      <th></th>\n",
       "      <th></th>\n",
       "      <th></th>\n",
       "      <th></th>\n",
       "      <th></th>\n",
       "      <th></th>\n",
       "      <th></th>\n",
       "    </tr>\n",
       "  </thead>\n",
       "  <tbody>\n",
       "    <tr>\n",
       "      <th>2010-01-05</th>\n",
       "      <td>0.001727</td>\n",
       "      <td>0.000323</td>\n",
       "      <td>0.005883</td>\n",
       "      <td>-0.011663</td>\n",
       "      <td>-0.011525</td>\n",
       "      <td>0.000327</td>\n",
       "      <td>0.019185</td>\n",
       "    </tr>\n",
       "    <tr>\n",
       "      <th>2010-01-06</th>\n",
       "      <td>-0.016034</td>\n",
       "      <td>-0.006156</td>\n",
       "      <td>-0.018282</td>\n",
       "      <td>0.008101</td>\n",
       "      <td>-0.013519</td>\n",
       "      <td>-0.004755</td>\n",
       "      <td>0.005479</td>\n",
       "    </tr>\n",
       "    <tr>\n",
       "      <th>2010-01-07</th>\n",
       "      <td>-0.001850</td>\n",
       "      <td>-0.010454</td>\n",
       "      <td>-0.017160</td>\n",
       "      <td>-0.007163</td>\n",
       "      <td>0.009264</td>\n",
       "      <td>-0.005438</td>\n",
       "      <td>0.019615</td>\n",
       "    </tr>\n",
       "    <tr>\n",
       "      <th>2010-01-08</th>\n",
       "      <td>0.006626</td>\n",
       "      <td>0.006873</td>\n",
       "      <td>0.026717</td>\n",
       "      <td>0.003432</td>\n",
       "      <td>0.002762</td>\n",
       "      <td>-0.001323</td>\n",
       "      <td>-0.002459</td>\n",
       "    </tr>\n",
       "    <tr>\n",
       "      <th>2010-01-11</th>\n",
       "      <td>-0.008861</td>\n",
       "      <td>-0.012802</td>\n",
       "      <td>-0.024335</td>\n",
       "      <td>0.000156</td>\n",
       "      <td>-0.002878</td>\n",
       "      <td>-0.003979</td>\n",
       "      <td>-0.003363</td>\n",
       "    </tr>\n",
       "  </tbody>\n",
       "</table>\n",
       "</div>"
      ],
      "text/plain": [
       "                AAPL      MSFT      AMZN       JNJ         V        PG  \\\n",
       "Date                                                                     \n",
       "2010-01-05  0.001727  0.000323  0.005883 -0.011663 -0.011525  0.000327   \n",
       "2010-01-06 -0.016034 -0.006156 -0.018282  0.008101 -0.013519 -0.004755   \n",
       "2010-01-07 -0.001850 -0.010454 -0.017160 -0.007163  0.009264 -0.005438   \n",
       "2010-01-08  0.006626  0.006873  0.026717  0.003432  0.002762 -0.001323   \n",
       "2010-01-11 -0.008861 -0.012802 -0.024335  0.000156 -0.002878 -0.003979   \n",
       "\n",
       "                 JPM  \n",
       "Date                  \n",
       "2010-01-05  0.019185  \n",
       "2010-01-06  0.005479  \n",
       "2010-01-07  0.019615  \n",
       "2010-01-08 -0.002459  \n",
       "2010-01-11 -0.003363  "
      ]
     },
     "execution_count": 144,
     "metadata": {},
     "output_type": "execute_result"
    }
   ],
   "source": [
    "Xtrain.head()"
   ]
  },
  {
   "cell_type": "code",
   "execution_count": 145,
   "metadata": {},
   "outputs": [
    {
     "data": {
      "text/plain": [
       "Date\n",
       "2010-01-05    0.000704\n",
       "2010-01-06    0.004212\n",
       "2010-01-07    0.003322\n",
       "2010-01-08    0.001396\n",
       "2010-01-11   -0.009370\n",
       "Name: SPY, dtype: float64"
      ]
     },
     "execution_count": 145,
     "metadata": {},
     "output_type": "execute_result"
    }
   ],
   "source": [
    "Ytrain.head()"
   ]
  },
  {
   "cell_type": "code",
   "execution_count": 146,
   "metadata": {},
   "outputs": [
    {
     "data": {
      "text/plain": [
       "(0.008271754178782564, -0.011369618185063324)"
      ]
     },
     "execution_count": 146,
     "metadata": {},
     "output_type": "execute_result"
    }
   ],
   "source": [
    "from sklearn.linear_model import LinearRegression\n",
    "model =LinearRegression()\n",
    "model.fit(Xtrain, Ytrain)\n",
    "model.score(Xtrain, Ytrain), model.score(Xtest,Ytest)"
   ]
  },
  {
   "cell_type": "code",
   "execution_count": 147,
   "metadata": {},
   "outputs": [
    {
     "data": {
      "text/plain": [
       "(0.528526148969889, 0.5285285285285285)"
      ]
     },
     "execution_count": 147,
     "metadata": {},
     "output_type": "execute_result"
    }
   ],
   "source": [
    "#Direction\n",
    "Ptrain =model.predict(Xtrain)\n",
    "Ptest =model.predict(Xtest)\n",
    "np.mean( np.sign(Ptrain) == np.sign(Ytrain)), np.mean(np.sign(Ptest) == np.sign(Ytest))"
   ]
  },
  {
   "cell_type": "code",
   "execution_count": 148,
   "metadata": {},
   "outputs": [],
   "source": [
    "# y_test_pp = model.predict_proba(Xtest)\n",
    "# print('roc_auc_score:', roc_auc_score(Ptest, y_test_pp[:,1]))\n",
    "# fpr, tpr, thres = roc_curve(Ptest, y_test_pp[:,1])\n",
    "# ax = plt.plot(fpr, tpr)\n",
    "# plt.show()"
   ]
  },
  {
   "cell_type": "code",
   "execution_count": 149,
   "metadata": {},
   "outputs": [
    {
     "data": {
      "text/plain": [
       "({-1.0, 1.0}, {-1.0, 1.0})"
      ]
     },
     "execution_count": 149,
     "metadata": {},
     "output_type": "execute_result"
    }
   ],
   "source": [
    "set(np.sign(Ptrain)), set(np.sign(Ptest))"
   ]
  },
  {
   "cell_type": "code",
   "execution_count": 150,
   "metadata": {},
   "outputs": [
    {
     "name": "stderr",
     "output_type": "stream",
     "text": [
      "/var/folders/6z/zfrlwktn1ls42xz760mlmp880000gn/T/ipykernel_38121/312600863.py:1: PerformanceWarning: DataFrame is highly fragmented.  This is usually the result of calling `frame.insert` many times, which has poor performance.  Consider joining all columns at once using pd.concat(axis=1) instead. To get a de-fragmented frame, use `newframe = frame.copy()`\n",
      "  df_returns['Position'] =0\n",
      "/var/folders/6z/zfrlwktn1ls42xz760mlmp880000gn/T/ipykernel_38121/312600863.py:2: FutureWarning: Slicing a positional slice with .loc is not supported, and will raise TypeError in a future version.  Use .loc with labels or .iloc with positions instead.\n",
      "  df_returns.loc[1:-Ntest,'Position'] = (Ptrain > 0)\n",
      "/var/folders/6z/zfrlwktn1ls42xz760mlmp880000gn/T/ipykernel_38121/312600863.py:3: FutureWarning: Slicing a positional slice with .loc is not supported, and will raise TypeError in a future version.  Use .loc with labels or .iloc with positions instead.\n",
      "  df_returns.loc[-Ntest:-1,'Position'] = (Ptest > 0)\n"
     ]
    }
   ],
   "source": [
    "df_returns['Position'] =0\n",
    "df_returns.loc[1:-Ntest,'Position'] = (Ptrain > 0)\n",
    "df_returns.loc[-Ntest:-1,'Position'] = (Ptest > 0)"
   ]
  },
  {
   "cell_type": "code",
   "execution_count": 151,
   "metadata": {},
   "outputs": [
    {
     "name": "stderr",
     "output_type": "stream",
     "text": [
      "/var/folders/6z/zfrlwktn1ls42xz760mlmp880000gn/T/ipykernel_38121/3654636993.py:1: PerformanceWarning: DataFrame is highly fragmented.  This is usually the result of calling `frame.insert` many times, which has poor performance.  Consider joining all columns at once using pd.concat(axis=1) instead. To get a de-fragmented frame, use `newframe = frame.copy()`\n",
      "  df_returns['AlgoReturn'] = df_returns['Position'] *  df_returns['SPY']\n"
     ]
    }
   ],
   "source": [
    "df_returns['AlgoReturn'] = df_returns['Position'] *  df_returns['SPY']"
   ]
  },
  {
   "cell_type": "code",
   "execution_count": 152,
   "metadata": {},
   "outputs": [
    {
     "data": {
      "text/plain": [
       "0.5477174926058392"
      ]
     },
     "execution_count": 152,
     "metadata": {},
     "output_type": "execute_result"
    }
   ],
   "source": [
    "#Total algo log return train\n",
    "df_returns.iloc[1:-Ntest]['AlgoReturn'].sum()"
   ]
  },
  {
   "cell_type": "code",
   "execution_count": 153,
   "metadata": {},
   "outputs": [
    {
     "data": {
      "text/plain": [
       "0.3037759916491991"
      ]
     },
     "execution_count": 153,
     "metadata": {},
     "output_type": "execute_result"
    }
   ],
   "source": [
    "#Total algo log return test\n",
    "df_returns.iloc[-Ntest:-1]['AlgoReturn'].sum()"
   ]
  },
  {
   "cell_type": "code",
   "execution_count": 154,
   "metadata": {},
   "outputs": [
    {
     "data": {
      "text/plain": [
       "0.5863972019814705"
      ]
     },
     "execution_count": 154,
     "metadata": {},
     "output_type": "execute_result"
    }
   ],
   "source": [
    "#Total return buy-and-hold train\n",
    "Ytrain.sum()"
   ]
  },
  {
   "cell_type": "code",
   "execution_count": 155,
   "metadata": {},
   "outputs": [
    {
     "data": {
      "text/plain": [
       "0.19307543946998518"
      ]
     },
     "execution_count": 155,
     "metadata": {},
     "output_type": "execute_result"
    }
   ],
   "source": [
    "#Total return buy-and-hold test\n",
    "Ytest.sum()"
   ]
  },
  {
   "cell_type": "code",
   "execution_count": 156,
   "metadata": {},
   "outputs": [
    {
     "data": {
      "text/plain": [
       "(0.5586370839936609, 0.5285285285285285)"
      ]
     },
     "execution_count": 156,
     "metadata": {},
     "output_type": "execute_result"
    }
   ],
   "source": [
    "from sklearn.linear_model import LogisticRegression\n",
    "#reg penality, prevent the weight fro becoming too large\n",
    "model =LogisticRegression(C=10)\n",
    "Ctrain = (Ytrain>0)\n",
    "Ctest = (Ytest>0)\n",
    "model.fit(Xtrain, Ctrain)\n",
    "model.score(Xtrain, Ctrain) , model.score(Xtest, Ctest)"
   ]
  },
  {
   "cell_type": "code",
   "execution_count": 157,
   "metadata": {},
   "outputs": [
    {
     "data": {
      "text/plain": [
       "({False, True}, {False, True})"
      ]
     },
     "execution_count": 157,
     "metadata": {},
     "output_type": "execute_result"
    }
   ],
   "source": [
    "Ptrain =model.predict(Xtrain)\n",
    "Ptest =model.predict(Xtest)\n",
    "set(Ptrain), set(Ptest)"
   ]
  },
  {
   "cell_type": "code",
   "execution_count": 158,
   "metadata": {},
   "outputs": [
    {
     "name": "stdout",
     "output_type": "stream",
     "text": [
      "roc_auc_score: 1.0\n",
      "[0. 0. 0. 1.]\n",
      "[0.       0.001002 1.       1.      ]\n",
      "[1.60948021 0.60948021 0.50148104 0.49705477]\n"
     ]
    },
    {
     "data": {
      "image/png": "[encoded data removed]",
      "text/plain": [
       "<Figure size 432x288 with 1 Axes>"
      ]
     },
     "metadata": {
      "needs_background": "light"
     },
     "output_type": "display_data"
    }
   ],
   "source": [
    "y_test_pp = model.predict_proba(Xtest)\n",
    "print('roc_auc_score:', roc_auc_score(Ptest, y_test_pp[:,1]))\n",
    "fpr, tpr, thres = roc_curve(Ptest, y_test_pp[:,1])\n",
    "print(fpr)\n",
    "print(tpr)\n",
    "print(thres)\n",
    "ax = plt.plot(fpr, tpr)\n",
    "plt.show()"
   ]
  },
  {
   "cell_type": "code",
   "execution_count": 159,
   "metadata": {},
   "outputs": [
    {
     "name": "stderr",
     "output_type": "stream",
     "text": [
      "/var/folders/6z/zfrlwktn1ls42xz760mlmp880000gn/T/ipykernel_38121/3617963604.py:1: FutureWarning: Slicing a positional slice with .loc is not supported, and will raise TypeError in a future version.  Use .loc with labels or .iloc with positions instead.\n",
      "  df_returns.loc[1:-Ntest,'Position'] = Ptrain\n",
      "/var/folders/6z/zfrlwktn1ls42xz760mlmp880000gn/T/ipykernel_38121/3617963604.py:2: FutureWarning: Slicing a positional slice with .loc is not supported, and will raise TypeError in a future version.  Use .loc with labels or .iloc with positions instead.\n",
      "  df_returns.loc[-Ntest:-1,'Position'] = Ptest\n"
     ]
    }
   ],
   "source": [
    "df_returns.loc[1:-Ntest,'Position'] = Ptrain\n",
    "df_returns.loc[-Ntest:-1,'Position'] = Ptest \n",
    "df_returns['AlgoReturn'] = df_returns['Position'] *  df_returns['SPY']"
   ]
  },
  {
   "cell_type": "code",
   "execution_count": 160,
   "metadata": {},
   "outputs": [
    {
     "data": {
      "text/plain": [
       "0.19680747922142316"
      ]
     },
     "execution_count": 160,
     "metadata": {},
     "output_type": "execute_result"
    }
   ],
   "source": [
    "#Total algo log return test\n",
    "df_returns.iloc[-Ntest:-1]['AlgoReturn'].sum()"
   ]
  },
  {
   "cell_type": "code",
   "execution_count": 161,
   "metadata": {},
   "outputs": [
    {
     "data": {
      "text/plain": [
       "0"
      ]
     },
     "execution_count": 161,
     "metadata": {},
     "output_type": "execute_result"
    }
   ],
   "source": [
    "#Total algo log return test\n",
    "df_returns.iloc[-1:-Ntest]['AlgoReturn'].sum()"
   ]
  },
  {
   "cell_type": "code",
   "execution_count": 162,
   "metadata": {},
   "outputs": [
    {
     "data": {
      "text/plain": [
       "(0.5863972019814705, 0.19307543946998518)"
      ]
     },
     "execution_count": 162,
     "metadata": {},
     "output_type": "execute_result"
    }
   ],
   "source": [
    "#Total return buy-and-hold train\n",
    "Ytrain.sum(), Ytest.sum()"
   ]
  },
  {
   "cell_type": "code",
   "execution_count": 163,
   "metadata": {},
   "outputs": [
    {
     "data": {
      "text/plain": [
       "0.19307543946998518"
      ]
     },
     "execution_count": 163,
     "metadata": {},
     "output_type": "execute_result"
    }
   ],
   "source": [
    "#Total return buy-and-hold test\n",
    "Ytest.sum()"
   ]
  },
  {
   "cell_type": "code",
   "execution_count": 164,
   "metadata": {},
   "outputs": [
    {
     "data": {
      "text/plain": [
       "(1.0, 0.5195195195195195)"
      ]
     },
     "execution_count": 164,
     "metadata": {},
     "output_type": "execute_result"
    }
   ],
   "source": [
    "# combines expressiveness of decision trees alon with the variance reduction. random state can be chanfed\n",
    "from sklearn.ensemble import RandomForestClassifier\n",
    "model = RandomForestClassifier(random_state=0)\n",
    "model.fit(Xtrain,Ctrain)\n",
    "model.score(Xtrain,Ctrain), model.score(Xtest,Ctest) \n"
   ]
  },
  {
   "cell_type": "code",
   "execution_count": 165,
   "metadata": {},
   "outputs": [],
   "source": [
    "Ptrain = model.predict(Xtrain)\n",
    "Ptest = model.predict(Xtest)"
   ]
  },
  {
   "cell_type": "code",
   "execution_count": 166,
   "metadata": {},
   "outputs": [
    {
     "name": "stdout",
     "output_type": "stream",
     "text": [
      "roc_auc_score: 1.0\n"
     ]
    },
    {
     "data": {
      "image/png": "[encoded data removed]",
      "text/plain": [
       "<Figure size 432x288 with 1 Axes>"
      ]
     },
     "metadata": {
      "needs_background": "light"
     },
     "output_type": "display_data"
    }
   ],
   "source": [
    "y_test_pp = model.predict_proba(Xtest)\n",
    "print('roc_auc_score:', roc_auc_score(Ptest, y_test_pp[:,1]))\n",
    "fpr, tpr, thres = roc_curve(Ptest, y_test_pp[:,1])\n",
    "ax = plt.plot(fpr, tpr)\n",
    "plt.show()"
   ]
  },
  {
   "cell_type": "code",
   "execution_count": 167,
   "metadata": {},
   "outputs": [
    {
     "name": "stderr",
     "output_type": "stream",
     "text": [
      "/var/folders/6z/zfrlwktn1ls42xz760mlmp880000gn/T/ipykernel_38121/343600564.py:1: FutureWarning: Slicing a positional slice with .loc is not supported, and will raise TypeError in a future version.  Use .loc with labels or .iloc with positions instead.\n",
      "  df_returns.loc[1:-Ntest,'Position'] = Ptrain\n",
      "/var/folders/6z/zfrlwktn1ls42xz760mlmp880000gn/T/ipykernel_38121/343600564.py:2: FutureWarning: Slicing a positional slice with .loc is not supported, and will raise TypeError in a future version.  Use .loc with labels or .iloc with positions instead.\n",
      "  df_returns.loc[-Ntest:-1,'Position'] = Ptest\n"
     ]
    }
   ],
   "source": [
    "df_returns.loc[1:-Ntest,'Position'] = Ptrain\n",
    "df_returns.loc[-Ntest:-1,'Position'] = Ptest"
   ]
  },
  {
   "cell_type": "code",
   "execution_count": 168,
   "metadata": {},
   "outputs": [],
   "source": [
    "df_returns['AlgoReturn'] = df_returns['Position'] *  df_returns['SPY']"
   ]
  },
  {
   "cell_type": "code",
   "execution_count": 169,
   "metadata": {},
   "outputs": [
    {
     "data": {
      "text/plain": [
       "4.706503557502187"
      ]
     },
     "execution_count": 169,
     "metadata": {},
     "output_type": "execute_result"
    }
   ],
   "source": [
    "#Total algo log return train\n",
    "df_returns.iloc[1:-Ntest]['AlgoReturn'].sum()"
   ]
  },
  {
   "cell_type": "code",
   "execution_count": 170,
   "metadata": {},
   "outputs": [
    {
     "data": {
      "text/plain": [
       "0.3273909023793813"
      ]
     },
     "execution_count": 170,
     "metadata": {},
     "output_type": "execute_result"
    }
   ],
   "source": [
    "#Total algo log return test\n",
    "df_returns.iloc[-Ntest:-1]['AlgoReturn'].sum()"
   ]
  },
  {
   "cell_type": "code",
   "execution_count": 171,
   "metadata": {},
   "outputs": [
    {
     "data": {
      "text/plain": [
       "(0.5863972019814705, 0.19307543946998518)"
      ]
     },
     "execution_count": 171,
     "metadata": {},
     "output_type": "execute_result"
    }
   ],
   "source": [
    "Ytrain.sum(), Ytest.sum()"
   ]
  },
  {
   "cell_type": "code",
   "execution_count": 172,
   "metadata": {},
   "outputs": [],
   "source": [
    "# !data matters\n",
    "# multiple lags --> vector auto regressive model \n",
    "# do not assume cnn/rnn are work tba liner\n",
    "# european asian market\n",
    "# twitter news\n",
    "#"
   ]
  }
 ],
 "metadata": {
  "interpreter": {
   "hash": "98118ddd61f7a6802961398b1191dbb61641adafe3032adf6c32df1b58912416"
  },
  "kernelspec": {
   "display_name": "Python 3.9.10 ('venv': venv)",
   "language": "python",
   "name": "python3"
  },
  "language_info": {
   "codemirror_mode": {
    "name": "ipython",
    "version": 3
   },
   "file_extension": ".py",
   "mimetype": "text/x-python",
   "name": "python",
   "nbconvert_exporter": "python",
   "pygments_lexer": "ipython3",
   "version": "3.9.10"
  },
  "orig_nbformat": 4
 },
 "nbformat": 4,
 "nbformat_minor": 2
}
